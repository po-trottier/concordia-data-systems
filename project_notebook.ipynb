{
    "metadata": {
        "kernelspec": {
            "name": "SQL",
            "display_name": "SQL",
            "language": "sql"
        },
        "language_info": {
            "name": "sql",
            "version": ""
        }
    },
    "nbformat_minor": 2,
    "nbformat": 4,
    "cells": [
        {
            "cell_type": "markdown",
            "source": [
                "# SOEN363 Project"
            ],
            "metadata": {
                "azdata_cell_guid": "7ab61aee-16ab-45d8-8e39-d3c92c0c30fe"
            }
        }
    ]
}