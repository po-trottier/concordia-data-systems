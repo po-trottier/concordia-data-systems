{
    "metadata": {
        "kernelspec": {
            "name": "SQL",
            "display_name": "SQL",
            "language": "sql"
        },
        "language_info": {
            "name": "sql",
            "version": ""
        }
    },
    "nbformat_minor": 2,
    "nbformat": 4,
    "cells": [
        {
            "cell_type": "markdown",
            "source": [
                "# SOEN363 Project"
            ],
            "metadata": {
                "azdata_cell_guid": "7ab61aee-16ab-45d8-8e39-d3c92c0c30fe"
            }
        },
        {
            "cell_type": "markdown",
            "source": [
                "## Create the required tables"
            ],
            "metadata": {
                "azdata_cell_guid": "5f40476d-4c86-4d47-973d-e77741c0360b"
            }
        },
        {
            "cell_type": "code",
            "source": [
                "CREATE TABLE movies (\r\n",
                "    mid             INTEGER UNIQUE, \r\n",
                "    title           VARCHAR, \r\n",
                "    year            INTEGER, \r\n",
                "    rating          REAL CHECK (rating BETWEEN 0.0 AND 5.0), \r\n",
                "    num_ratings     INTEGER,\r\n",
                "    PRIMARY KEY     (mid, title, year)\r\n",
                ");\r\n",
                "\r\n",
                "CREATE TABLE actors (\r\n",
                "    mid             INTEGER REFERENCES movies(mid), \r\n",
                "    name            VARCHAR, \r\n",
                "    cast_position   INTEGER,\r\n",
                "    PRIMARY KEY     (mid, name)\r\n",
                ");\r\n",
                "\r\n",
                "CREATE TABLE genres (\r\n",
                "    mid             INTEGER REFERENCES movies(mid), \r\n",
                "    genre           VARCHAR,\r\n",
                "    PRIMARY KEY     (mid, genre)\r\n",
                ");\r\n",
                "\r\n",
                "CREATE TABLE tag_names (\r\n",
                "    tid             INTEGER, \r\n",
                "    tag             VARCHAR,\r\n",
                "    PRIMARY KEY     (tid)\r\n",
                ");\r\n",
                "\r\n",
                "CREATE TABLE tags (\r\n",
                "    mid             INTEGER REFERENCES movies(mid), \r\n",
                "    tid             INTEGER,\r\n",
                "    PRIMARY KEY     (mid, tid),\r\n",
                "    FOREIGN KEY     (tid) REFERENCES tag_names(tid)\r\n",
                ");"
            ],
            "metadata": {
                "azdata_cell_guid": "dbf4f54e-041e-4a34-99f9-5eca1dc15d8f",
                "tags": []
            },
            "outputs": [
{
    "output_type": "display_data",
    "data": {
        "text/html": "Commands completed successfully"
    },
    "metadata": {}
}, {
    "output_type": "display_data",
    "data": {
        "text/html": "Commands completed successfully"
    },
    "metadata": {}
}, {
    "output_type": "display_data",
    "data": {
        "text/html": "Commands completed successfully"
    },
    "metadata": {}
}, {
    "output_type": "display_data",
    "data": {
        "text/html": "Commands completed successfully"
    },
    "metadata": {}
}, {
    "output_type": "display_data",
    "data": {
        "text/html": "Commands completed successfully"
    },
    "metadata": {}
}, {
    "output_type": "display_data",
    "data": {
        "text/html": "Total execution time: 00:00:00.056"
    },
    "metadata": {}
}
],
            "execution_count": null
        },
        {
            "cell_type": "markdown",
            "source": [
                "## Drop the required tables **(Only for Debugging Purposes)**"
            ],
            "metadata": {
                "azdata_cell_guid": "c8445578-4997-4cd0-a0fc-771a4b723ab1"
            }
        },
        {
            "cell_type": "code",
            "source": [
                "DROP TABLE actors;\r\n",
                "\r\n",
                "DROP TABLE genres;\r\n",
                "\r\n",
                "DROP TABLE tags;\r\n",
                "\r\n",
                "DROP TABLE tag_names;\r\n",
                "\r\n",
                "DROP TABLE movies;"
            ],
            "metadata": {
                "azdata_cell_guid": "39caf518-f5f8-46d3-8fdb-222357281cca"
            },
            "outputs": [
{
    "output_type": "display_data",
    "data": {
        "text/html": "Commands completed successfully"
    },
    "metadata": {}
}, {
    "output_type": "display_data",
    "data": {
        "text/html": "Commands completed successfully"
    },
    "metadata": {}
}, {
    "output_type": "display_data",
    "data": {
        "text/html": "Commands completed successfully"
    },
    "metadata": {}
}, {
    "output_type": "display_data",
    "data": {
        "text/html": "Commands completed successfully"
    },
    "metadata": {}
}, {
    "output_type": "display_data",
    "data": {
        "text/html": "Commands completed successfully"
    },
    "metadata": {}
}, {
    "output_type": "display_data",
    "data": {
        "text/html": "Total execution time: 00:00:00.016"
    },
    "metadata": {}
}
],
            "execution_count": null
        },
        {
            "cell_type": "markdown",
            "source": [
                "## Import Project Dataset"
            ],
            "metadata": {
                "azdata_cell_guid": "30efe4ab-cef0-43db-af2e-0231ceca9a29"
            }
        },
        {
            "cell_type": "code",
            "source": [
                "COPY movies FROM '/srv/soen363/phase1/movies.dat';\n",
                "\n",
                "COPY tag_names FROM '/srv/soen363/phase1/tag_names.dat';\n",
                "\n",
                "COPY actors FROM '/srv/soen363/phase1/actors.dat';\n",
                "\n",
                "COPY genres FROM '/srv/soen363/phase1/genres.dat';\n",
                "\n",
                "COPY tags FROM '/srv/soen363/phase1/tags.dat';"
            ],
            "metadata": {
                "azdata_cell_guid": "d65fc13c-ea7a-4079-aff8-7e0f78db9810"
            },
            "outputs": [
{
    "output_type": "display_data",
    "data": {
        "text/html": "Commands completed successfully"
    },
    "metadata": {}
}, {
    "output_type": "display_data",
    "data": {
        "text/html": "Commands completed successfully"
    },
    "metadata": {}
}, {
    "output_type": "display_data",
    "data": {
        "text/html": "Commands completed successfully"
    },
    "metadata": {}
}, {
    "output_type": "display_data",
    "data": {
        "text/html": "Commands completed successfully"
    },
    "metadata": {}
}, {
    "output_type": "display_data",
    "data": {
        "text/html": "Commands completed successfully"
    },
    "metadata": {}
}, {
    "output_type": "display_data",
    "data": {
        "text/html": "Total execution time: 00:00:02.694"
    },
    "metadata": {}
}
],
            "execution_count": null
        }
    ]
}