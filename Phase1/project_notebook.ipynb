{
    "metadata": {
        "kernelspec": {
            "name": "SQL",
            "display_name": "SQL",
            "language": "sql"
        },
        "language_info": {
            "name": "sql",
            "version": ""
        }
    },
    "nbformat_minor": 2,
    "nbformat": 4,
    "cells": [
        {
            "cell_type": "markdown",
            "source": [
                "# SOEN363 Project"
            ],
            "metadata": {
                "azdata_cell_guid": "7ab61aee-16ab-45d8-8e39-d3c92c0c30fe"
            }
        },
        {
            "cell_type": "markdown",
            "source": [
                "## Drop the DB Indecies **(Only for Debugging Purposes)**"
            ],
            "metadata": {
                "azdata_cell_guid": "0c56553e-1854-479d-ad1c-38111412cee0"
            }
        },
        {
            "cell_type": "code",
            "source": [
                "DROP INDEX actors_index;\r\n",
                "DROP INDEX actors_id_index;\r\n",
                "DROP INDEX movies_index;\r\n",
                "DROP INDEX movies_id_index;\r\n",
                "DROP INDEX movies_count_index;\r\n",
                "DROP INDEX movies_rating_index;\r\n",
                "DROP INDEX genres_index;\r\n",
                "DROP INDEX tag_names_index;"
            ],
            "metadata": {
                "azdata_cell_guid": "f9d10561-a849-4b20-9781-1cf61bd7df2d"
            },
            "outputs": [
{
    "output_type": "display_data",
    "data": {
        "text/html": "Commands completed successfully"
    },
    "metadata": {}
}, {
    "output_type": "display_data",
    "data": {
        "text/html": "Commands completed successfully"
    },
    "metadata": {}
}, {
    "output_type": "display_data",
    "data": {
        "text/html": "Commands completed successfully"
    },
    "metadata": {}
}, {
    "output_type": "display_data",
    "data": {
        "text/html": "Commands completed successfully"
    },
    "metadata": {}
}, {
    "output_type": "display_data",
    "data": {
        "text/html": "Commands completed successfully"
    },
    "metadata": {}
}, {
    "output_type": "display_data",
    "data": {
        "text/html": "Commands completed successfully"
    },
    "metadata": {}
}, {
    "output_type": "display_data",
    "data": {
        "text/html": "Commands completed successfully"
    },
    "metadata": {}
}, {
    "output_type": "display_data",
    "data": {
        "text/html": "Commands completed successfully"
    },
    "metadata": {}
}, {
    "output_type": "display_data",
    "data": {
        "text/html": "Total execution time: 00:00:00.018"
    },
    "metadata": {}
}
],
            "execution_count": null
        },
        {
            "cell_type": "markdown",
            "source": [
                "## Drop the DB Views **(Only for Debugging Purposes)**"
            ],
            "metadata": {
                "azdata_cell_guid": "4e3e0fb2-9340-4e31-8c04-fea08f2ba4af"
            }
        },
        {
            "cell_type": "code",
            "source": [
                "DROP VIEW high_ratings;\r\n",
                "\r\n",
                "DROP VIEW low_ratings;"
            ],
            "metadata": {
                "azdata_cell_guid": "b76174de-3581-4b3d-ae01-217b06409440"
            },
            "outputs": [],
            "execution_count": null
        },
        {
            "cell_type": "markdown",
            "source": [
                "## Drop the DB tables **(Only for Debugging Purposes)**"
            ],
            "metadata": {
                "azdata_cell_guid": "c8445578-4997-4cd0-a0fc-771a4b723ab1"
            }
        },
        {
            "cell_type": "code",
            "source": [
                "DROP TABLE actors;\r\n",
                "\r\n",
                "DROP TABLE genres;\r\n",
                "\r\n",
                "DROP TABLE tags;\r\n",
                "\r\n",
                "DROP TABLE tag_names;\r\n",
                "\r\n",
                "DROP TABLE movies;"
            ],
            "metadata": {
                "azdata_cell_guid": "39caf518-f5f8-46d3-8fdb-222357281cca"
            },
            "outputs": [],
            "execution_count": null
        },
        {
            "cell_type": "markdown",
            "source": [
                "# Assignment Questions\n",
                "## 2a"
            ],
            "metadata": {
                "azdata_cell_guid": "1d9b61ee-dff7-49c5-8307-b5eba63d7fef"
            }
        },
        {
            "cell_type": "code",
            "source": [
                "CREATE TABLE movies (\r\n",
                "    mid             INTEGER UNIQUE, \r\n",
                "    title           VARCHAR, \r\n",
                "    year            INTEGER, \r\n",
                "    rating          REAL CHECK (rating BETWEEN 0.0 AND 5.0), \r\n",
                "    num_ratings     INTEGER,\r\n",
                "    PRIMARY KEY     (mid, title, year)\r\n",
                ");\r\n",
                "\r\n",
                "CREATE TABLE actors (\r\n",
                "    mid             INTEGER REFERENCES movies(mid), \r\n",
                "    name            VARCHAR, \r\n",
                "    cast_position   INTEGER,\r\n",
                "    PRIMARY KEY     (mid, name)\r\n",
                ");\r\n",
                "\r\n",
                "CREATE TABLE genres (\r\n",
                "    mid             INTEGER REFERENCES movies(mid), \r\n",
                "    genre           VARCHAR,\r\n",
                "    PRIMARY KEY     (mid, genre)\r\n",
                ");\r\n",
                "\r\n",
                "CREATE TABLE tag_names (\r\n",
                "    tid             INTEGER, \r\n",
                "    tag             VARCHAR,\r\n",
                "    PRIMARY KEY     (tid)\r\n",
                ");\r\n",
                "\r\n",
                "CREATE TABLE tags (\r\n",
                "    mid             INTEGER REFERENCES movies(mid), \r\n",
                "    tid             INTEGER,\r\n",
                "    PRIMARY KEY     (mid, tid),\r\n",
                "    FOREIGN KEY     (tid) REFERENCES tag_names(tid)\r\n",
                ");\r\n",
                "\r\n",
                "COPY movies FROM '/srv/soen363/phase1/movies.dat';\r\n",
                "\r\n",
                "COPY actors FROM '/srv/soen363/phase1/actors.dat';\r\n",
                "\r\n",
                "COPY genres FROM '/srv/soen363/phase1/genres.dat';\r\n",
                "\r\n",
                "COPY tag_names FROM '/srv/soen363/phase1/tag_names.dat';\r\n",
                "\r\n",
                "COPY tags FROM '/srv/soen363/phase1/tags.dat';"
            ],
            "metadata": {
                "azdata_cell_guid": "dbf4f54e-041e-4a34-99f9-5eca1dc15d8f",
                "tags": []
            },
            "outputs": [],
            "execution_count": null
        },
        {
            "cell_type": "markdown",
            "source": [
                "## 3a"
            ],
            "metadata": {
                "azdata_cell_guid": "b58fc898-d4d4-4f32-85b6-fdd01a323c87"
            }
        },
        {
            "cell_type": "code",
            "source": [
                "-- Get the movie titles starring \"Daniel Craig\", sorted in an ascending alphabetical order\r\n",
                "SELECT DISTINCT M.title AS \"Movie Titles\"\r\n",
                "FROM actors A, movies M\r\n",
                "WHERE\r\n",
                "    M.mid = A.mid AND\r\n",
                "    A.name = 'Daniel Craig'\r\n",
                "ORDER BY M.title ASC;"
            ],
            "metadata": {
                "azdata_cell_guid": "fbf5426d-0854-4f50-b4a8-5c95d314ab53",
                "tags": []
            },
            "outputs": [],
            "execution_count": null
        },
        {
            "cell_type": "markdown",
            "source": [
                "## 3b"
            ],
            "metadata": {
                "azdata_cell_guid": "e9ea10e1-39a2-43c1-adf7-924341c1b682"
            }
        },
        {
            "cell_type": "code",
            "source": [
                "-- Get the cast of the movie titled \"The Dark Knight\", sorted in ascending alphabetical order\r\n",
                "SELECT DISTINCT A.name AS \"Cast\"\r\n",
                "FROM actors A, movies M\r\n",
                "WHERE\r\n",
                "    M.mid = A.mid AND\r\n",
                "    M.title = 'The Dark Knight'\r\n",
                "ORDER BY A.name ASC;"
            ],
            "metadata": {
                "azdata_cell_guid": "b33f4d04-bf33-4a44-9f1e-3aeb235534f8",
                "tags": []
            },
            "outputs": [],
            "execution_count": null
        },
        {
            "cell_type": "markdown",
            "source": [
                "## 3c"
            ],
            "metadata": {
                "azdata_cell_guid": "9decec30-82cc-4bd2-b175-bd40858b502d"
            }
        },
        {
            "cell_type": "code",
            "source": [
                "-- Get the distinct genres in the database, alongside their number of occurrences (only for 1000+ occurrences), sorted ascending numerically in occurrences\r\n",
                "SELECT DISTINCT G.genre, COUNT(M.*) AS number_of_movies_in_genre\r\n",
                "FROM genres G, movies M\r\n",
                "WHERE G.mid = M.mid\r\n",
                "GROUP BY G.genre\r\n",
                "HAVING COUNT(M.*) > 1000\r\n",
                "ORDER BY COUNT(M.*) ASC;"
            ],
            "metadata": {
                "azdata_cell_guid": "c5f006a8-8101-464b-b06a-02311f44bce2"
            },
            "outputs": [],
            "execution_count": null
        },
        {
            "cell_type": "markdown",
            "source": [
                "## 3d"
            ],
            "metadata": {
                "azdata_cell_guid": "670fb4cf-a70a-4fdf-bf1a-3434c29c0be3"
            }
        },
        {
            "cell_type": "code",
            "source": [
                "-- For each year, print the movie title, year, and rating, sorted in the ascending order of year and the descending order of movie rating\r\n",
                "SELECT M.title, M.year, M.rating\r\n",
                "FROM movies M\r\n",
                "WHERE M.num_ratings > 0\r\n",
                "ORDER BY M.year ASC, M.rating DESC;"
            ],
            "metadata": {
                "azdata_cell_guid": "cc6b3192-8083-42f0-8816-29e9a28be3c8",
                "tags": []
            },
            "outputs": [],
            "execution_count": null
        },
        {
            "cell_type": "markdown",
            "source": [
                "## 3e"
            ],
            "metadata": {
                "azdata_cell_guid": "3416f197-4164-4005-97fc-9caaf7710228"
            }
        },
        {
            "cell_type": "code",
            "source": [
                "-- Get the titles of movies whose tags include at least one occurrence of the word \"bad\" and another of \"good\"\r\n",
                "SELECT M.title\r\n",
                "FROM movies M, tags T, tag_names TN\r\n",
                "WHERE \r\n",
                "    M.mid = T.mid AND T.tid = TN.tid AND\r\n",
                "    TN.tag IN (\r\n",
                "        SELECT TN.tag \r\n",
                "        FROM tag_names TN\r\n",
                "        WHERE TN.tag LIKE 'good%'\r\n",
                "        UNION\r\n",
                "        SELECT TN.tag \r\n",
                "        FROM tag_names TN\r\n",
                "        WHERE TN.tag LIKE 'bad%'\r\n",
                "    );"
            ],
            "metadata": {
                "azdata_cell_guid": "29526ee9-60b7-48a3-b8cd-922e1787de7c",
                "tags": []
            },
            "outputs": [],
            "execution_count": null
        },
        {
            "cell_type": "markdown",
            "source": [
                "## 3f"
            ],
            "metadata": {
                "azdata_cell_guid": "637a0ac8-e7fd-4b60-abc3-d6c6991da592"
            }
        },
        {
            "cell_type": "code",
            "source": [
                "-- i. Get the information for the movies with the highest number of ratings, sorted ascending by movie ID\r\n",
                "SELECT M.mid, M.title, M.year, M.rating, M.num_ratings\r\n",
                "FROM movies M\r\n",
                "WHERE M.num_ratings IN (\r\n",
                "    SELECT MAX(M.num_ratings)\r\n",
                "    FROM movies M\r\n",
                ")\r\n",
                "ORDER BY M.mid;"
            ],
            "metadata": {
                "azdata_cell_guid": "11d8dfb3-223e-462b-a22b-32a89aa49fe7",
                "tags": []
            },
            "outputs": [],
            "execution_count": null
        },
        {
            "cell_type": "code",
            "source": [
                "-- ii. Get the information for the movies with the highest rating, sorted ascending by movie ID\r\n",
                "SELECT M.mid, M.title, M.year, M.rating, M.num_ratings\r\n",
                "FROM movies M\r\n",
                "WHERE M.rating IN (\r\n",
                "    SELECT MAX(M.rating)\r\n",
                "    FROM movies M\r\n",
                ")\r\n",
                "ORDER BY M.mid;"
            ],
            "metadata": {
                "azdata_cell_guid": "a1ca2f62-ecde-46b7-b0c0-583bf15995d1",
                "tags": []
            },
            "outputs": [],
            "execution_count": null
        },
        {
            "cell_type": "code",
            "source": [
                "-- iii. Get the information for the movies with BOTH the highest rating AND the highest number of ratings (if it exists)"
            ],
            "metadata": {
                "azdata_cell_guid": "41fd2356-8a3d-4a32-b510-a80c991b7a8e"
            },
            "outputs": [],
            "execution_count": null
        },
        {
            "cell_type": "markdown",
            "source": [
                "From the data returned from the last two queries, we know that this isn't the case; the movie with the highest rating isn't among the movies with the highest number of ratings.\n",
                "\n",
                "Highest number of ratings: mid 4201/53125, title Pirates of the Caribbean: At World's End\n",
                "\n",
                "Highest rating: mid 4311, title 1732 Høtten"
            ],
            "metadata": {
                "azdata_cell_guid": "64eee3b5-5b17-4d57-8745-93afdc8f6ed8"
            }
        },
        {
            "cell_type": "code",
            "source": [
                "-- iv. Get the information for the movies with the lowest rating, sorted by ascending movie ID\r\n",
                "SELECT M.mid, M.title, M.year, M.rating, M.num_ratings\r\n",
                "FROM movies M\r\n",
                "WHERE M.rating IN (\r\n",
                "    SELECT MIN(M.rating)\r\n",
                "    FROM movies M\r\n",
                "    WHERE M.num_ratings > 0\r\n",
                ")\r\n",
                "ORDER BY M.mid;"
            ],
            "metadata": {
                "azdata_cell_guid": "8d04c80e-de87-442f-9f59-d632a1c37111"
            },
            "outputs": [],
            "execution_count": null
        },
        {
            "cell_type": "code",
            "source": [
                "-- v. Get the information for the movies with BOTH the lowest AND the highest number of ratings (if it exists)"
            ],
            "metadata": {
                "azdata_cell_guid": "d5ac33ec-91b2-4c23-85ec-97a5c3c11e07"
            },
            "outputs": [],
            "execution_count": null
        },
        {
            "cell_type": "markdown",
            "source": [
                "From the data returned from the last query, we know that the lowest rating (for a movie which has been rated more than 0 times) is 1.5\n",
                "This means that it is not the case for the movie with the highest number of ratings (currently 1'768'593 ratings at 3.8) to be the movie with the lowest rating (currently 3 ratings at 1.5)."
            ],
            "metadata": {
                "azdata_cell_guid": "65ed8f4f-443d-4c27-a204-bba2e47980ab"
            }
        },
        {
            "cell_type": "code",
            "source": [
                "-- vi. Present your findings on the hypothesis: are popular movies (the most ratings) among the best/worst movies (lowest or highest rating score)?"
            ],
            "metadata": {
                "azdata_cell_guid": "1adf7def-6327-4069-840a-46c8c3b07f99"
            },
            "outputs": [],
            "execution_count": null
        },
        {
            "cell_type": "markdown",
            "source": [
                "According to the results from the previous queries, it can be safely said that the hypothesis is false for this database."
            ],
            "metadata": {
                "azdata_cell_guid": "11bb8b7d-0166-4599-a1e4-f1d29847219b"
            }
        },
        {
            "cell_type": "markdown",
            "source": [
                "## 3g"
            ],
            "metadata": {
                "azdata_cell_guid": "2c400d84-966a-4f38-a35d-3bb0e30c42df"
            }
        },
        {
            "cell_type": "code",
            "source": [
                "-- Get the year, title and rating of the lowest-rated and highest-rated movies for each year, between 2005 and 2011 inclusively. If tied, use ascending title\r\n",
                "\r\n",
                "SELECT M2.year, M2.title, M2.rating\r\n",
                "FROM movies M2\r\n",
                "INNER JOIN (\r\n",
                "    SELECT M1.year, MAX(M1.rating) as highest_rating\r\n",
                "    FROM movies M1\r\n",
                "    WHERE M1.year BETWEEN 2005 AND 2011 AND M1.num_ratings > 0\r\n",
                "    GROUP BY M1.year\r\n",
                "    ORDER BY M1.year ASC\r\n",
                ") highest ON (highest.year = M2.year AND highest.highest_rating = M2.rating)\r\n",
                "\r\n",
                "UNION\r\n",
                "\r\n",
                "SELECT M4.year, M4.title, M4.rating\r\n",
                "FROM movies M4\r\n",
                "INNER JOIN (\r\n",
                "    SELECT M3.year, MIN(M3.rating) as lowest_rating\r\n",
                "    FROM movies M3\r\n",
                "    WHERE M3.year BETWEEN 2005 AND 2011 AND M3.num_ratings > 0\r\n",
                "    GROUP BY M3.year\r\n",
                "    ORDER BY M3.year ASC\r\n",
                ") lowest ON (lowest.year = M4.year AND lowest.lowest_rating = M4.rating)\r\n",
                "\r\n",
                "ORDER BY year ASC, rating ASC, title ASC"
            ],
            "metadata": {
                "azdata_cell_guid": "d3c40567-2a44-4153-9b3d-1f54cd2544be",
                "tags": []
            },
            "outputs": [],
            "execution_count": null
        },
        {
            "cell_type": "markdown",
            "source": [
                "Only movies with more than 0 ratings were considered in this query. As no ratings were given to movies in 2010 and 2011, no movies from those years appear in the results. Removing the constraint will make the results appear, albeit with their ratings being 0.0."
            ],
            "metadata": {
                "azdata_cell_guid": "2ad35cc2-7420-40ee-925e-0930dec3d6df"
            }
        },
        {
            "cell_type": "markdown",
            "source": [
                "## 3h"
            ],
            "metadata": {
                "azdata_cell_guid": "a48b3344-d387-4ab5-9c47-83b45e078c23"
            }
        },
        {
            "cell_type": "code",
            "source": [
                "-- High Ratings view to get actors that have participated in a movie with a rating >= 4\r\n",
                "CREATE OR REPLACE VIEW high_ratings AS\r\n",
                "    SELECT DISTINCT A.name \r\n",
                "    FROM actors A, movies M\r\n",
                "    WHERE A.mid = m.mid AND m.rating >= 4; \r\n",
                "\r\n",
                "-- Low Ratings view to get actors that have participated in a movie with a rating < 4\r\n",
                "CREATE OR REPLACE VIEW low_ratings AS\r\n",
                "    SELECT DISTINCT A.name \r\n",
                "    FROM actors A, movies M\r\n",
                "    WHERE A.mid = m.mid AND m.rating < 4;\r\n",
                "\r\n",
                "-- Get the actors count coming from High Ratings \r\n",
                "SELECT COUNT(*) as result_count\r\n",
                "FROM high_ratings;\r\n",
                "\r\n",
                "-- Get the actors count coming from Low Ratings\r\n",
                "SELECT COUNT(*) as result_count\r\n",
                "FROM low_ratings;"
            ],
            "metadata": {
                "azdata_cell_guid": "0e4c4076-6483-4442-8467-a0517bfa0d82",
                "tags": []
            },
            "outputs": [],
            "execution_count": null
        },
        {
            "cell_type": "code",
            "source": [
                "-- Get the number of No Flop actors in the database\r\n",
                "SELECT COUNT(*)\r\n",
                "FROM high_ratings\r\n",
                "WHERE name NOT IN (\r\n",
                "    SELECT name\r\n",
                "    FROM low_ratings\r\n",
                ");"
            ],
            "metadata": {
                "azdata_cell_guid": "a5cf124e-5c24-4c12-8c15-e114d3c4991f"
            },
            "outputs": [],
            "execution_count": null
        },
        {
            "cell_type": "code",
            "source": [
                "-- Get the name and movie count of the Top 10 No Flop actors\r\n",
                "SELECT R.name, COUNT(A.*) as movie_count\r\n",
                "FROM high_ratings R, actors A\r\n",
                "WHERE \r\n",
                "    R.name NOT IN (\r\n",
                "        SELECT name\r\n",
                "        FROM low_ratings\r\n",
                "    ) AND \r\n",
                "    A.name = R.NAME\r\n",
                "GROUP BY R.name\r\n",
                "ORDER BY COUNT(A.*) DESC\r\n",
                "LIMIT 10;"
            ],
            "metadata": {
                "azdata_cell_guid": "f853a76f-4a31-4a29-ad89-c23c84b9cac6",
                "tags": []
            },
            "outputs": [],
            "execution_count": null
        },
        {
            "cell_type": "markdown",
            "source": [
                "## 3i"
            ],
            "metadata": {
                "azdata_cell_guid": "f8e4b73c-ad44-4b83-bc19-4bc2d42fe1a1"
            }
        },
        {
            "cell_type": "code",
            "source": [
                "-- Find the actor with the longest longevity\r\n",
                "SELECT \r\n",
                "    A.name, \r\n",
                "    MIN(M.year) as start, \r\n",
                "    MAX(M.year) as end, \r\n",
                "    MAX(M.year) - MIN(M.year) as longevity\r\n",
                "FROM actors A, movies M\r\n",
                "WHERE A.mid = M.mid\r\n",
                "GROUP BY A.name \r\n",
                "ORDER BY MAX(M.year) - MIN(M.year) DESC\r\n",
                "LIMIT 1;"
            ],
            "metadata": {
                "azdata_cell_guid": "6d9b71fe-c363-4dcf-b5ff-ad5b5932149e"
            },
            "outputs": [],
            "execution_count": null
        },
        {
            "cell_type": "markdown",
            "source": [
                "## 3j"
            ],
            "metadata": {
                "azdata_cell_guid": "735c7aa4-f2f7-4584-a42e-df4074a697d8"
            }
        },
        {
            "cell_type": "code",
            "source": [
                "-- Returns the distinct names of actors who played in at least one movie with Annette Nicole.\n",
                "CREATE OR REPLACE VIEW co_actors AS\n",
                "SELECT DISTINCT name\n",
                "FROM actors \n",
                "WHERE mid IN (\n",
                "    SELECT mid \n",
                "    FROM actors\n",
                "    WHERE name = 'Annette Nicole'\n",
                ");\n",
                "\n",
                "-- Print the number of rows in this view. \n",
                "SELECT COUNT(name)\n",
                "FROM co_actors;"
            ],
            "metadata": {
                "azdata_cell_guid": "3d78a34c-2aa8-46bd-a69b-53efd512234d",
                "tags": []
            },
            "outputs": [],
            "execution_count": null
        },
        {
            "cell_type": "code",
            "source": [
                "-- Returns all possible combinations of co_actors and the movie ids in which Annette Nicole played.\n",
                "CREATE OR REPLACE VIEW all_combinations AS\n",
                "SELECT DISTINCT co_actors.name, actors.mid\n",
                "FROM co_actors, actors\n",
                "WHERE actors.mid IN (\n",
                "    SELECT mid \n",
                "    FROM actors\n",
                "    WHERE name = 'Annette Nicole'\n",
                ")\n",
                "ORDER BY co_actors.name;\n",
                "\n",
                "-- Print the number of rows in this view. \n",
                "SELECT COUNT(name)\n",
                "FROM all_combinations;"
            ],
            "metadata": {
                "azdata_cell_guid": "9b218a81-900d-4233-aade-bb7794318747",
                "tags": []
            },
            "outputs": [],
            "execution_count": null
        },
        {
            "cell_type": "code",
            "source": [
                "-- Remove all legitimate pairs from all_combinations.\n",
                "CREATE OR REPLACE VIEW non_existent AS\n",
                "SELECT * FROM all_combinations\n",
                "WHERE NOT EXISTS (\n",
                "    SELECT * \n",
                "    FROM actors\n",
                "    WHERE \n",
                "        all_combinations.name = actors.name AND \n",
                "        all_combinations.mid = actors.mid\n",
                ");\n",
                "\n",
                "-- Print the number of rows in this view.\n",
                "SELECT COUNT(name)\n",
                "FROM non_existent;"
            ],
            "metadata": {
                "azdata_cell_guid": "0a76b47f-ee8f-481c-8bb7-6aace6d624a5",
                "tags": []
            },
            "outputs": [
                {
                    "output_type": "display_data",
                    "data": {
                        "text/html": "Commands completed successfully"
                    },
                    "metadata": {}
                },
                {
                    "output_type": "display_data",
                    "data": {
                        "text/html": "(1 row(s) affected)"
                    },
                    "metadata": {}
                },
                {
                    "output_type": "display_data",
                    "data": {
                        "text/html": "Total execution time: 00:00:00.102"
                    },
                    "metadata": {}
                },
                {
                    "output_type": "execute_result",
                    "metadata": {},
                    "execution_count": 52,
                    "data": {
                        "application/vnd.dataresource+json": {
                            "schema": {
                                "fields": [
                                    {
                                        "name": "count"
                                    }
                                ]
                            },
                            "data": [
                                {
                                    "0": "239"
                                }
                            ]
                        },
                        "text/html": [
                            "<table>",
                            "<tr><th>count</th></tr>",
                            "<tr><td>239</td></tr>",
                            "</table>"
                        ]
                    }
                }
            ],
            "execution_count": 52
        },
        {
            "cell_type": "code",
            "source": [
                "-- Eliminate the distinct actors from co_actors that appear in the view non_existent.\n",
                "-- Print the names of all co_actors except Annette Nicole.\n",
                "\n",
                "SELECT * FROM co_actors\n",
                "WHERE NOT EXISTS (\n",
                "    SELECT * \n",
                "    FROM non_existent\n",
                "    WHERE non_existent.name = co_actors.name\n",
                ") AND \n",
                "NOT co_actors.name = 'Annette Nicole';"
            ],
            "metadata": {
                "azdata_cell_guid": "7e5d6f1e-4c92-4857-bcd2-2341f1f21c3c",
                "tags": []
            },
            "outputs": [
{
    "output_type": "display_data",
    "data": {
        "text/html": "(2 row(s) affected)"
    },
    "metadata": {}
}, {
    "output_type": "display_data",
    "data": {
        "text/html": "Total execution time: 00:00:00.144"
    },
    "metadata": {}
}, {
    "output_type": "execute_result",
    "metadata": {},
    "execution_count": 60,
    "data": {
        "application/vnd.dataresource+json": {
            "schema": {
                "fields": [
                    {
                        "name": "name"
                    }
                ]
            },
            "data": [
                {
                    "0": "Christian Perry"
                },
                {
                    "0": "Kristen Connolly"
                }
            ]
        },
        "text/html": [
            "<table>",
            "<tr><th>name</th></tr>",
            "<tr><td>Christian Perry</td></tr>",
            "<tr><td>Kristen Connolly</td></tr>",
            "</table>"
        ]
    }
}
],
            "execution_count": 53
        },
        {
            "cell_type": "markdown",
            "source": [
                "## 3k"
            ],
            "metadata": {
                "azdata_cell_guid": "c070df48-d96c-42f9-a282-6356d626d6f1"
            }
        },
        {
            "cell_type": "code",
            "source": [
                ""
            ],
            "metadata": {
                "azdata_cell_guid": "e5f3658e-81a7-4b58-b16d-251f968b94ff"
            },
            "outputs": [],
            "execution_count": null
        },
        {
            "cell_type": "markdown",
            "source": [
                "## 3l"
            ],
            "metadata": {
                "azdata_cell_guid": "0a5225b7-d263-4297-b910-f784954cd7fb"
            }
        },
        {
            "cell_type": "code",
            "source": [
                ""
            ],
            "metadata": {
                "azdata_cell_guid": "9471b6de-9ca3-4b0b-b7c1-78b7513d2080"
            },
            "outputs": [],
            "execution_count": null
        },
        {
            "cell_type": "markdown",
            "source": [
                "## 3m"
            ],
            "metadata": {
                "azdata_cell_guid": "9e4297ae-3f47-4c32-ba55-054cf34bb757"
            }
        },
        {
            "cell_type": "code",
            "source": [
                "-- Detecting duplicates\n",
                "SELECT title, year, rating, num_ratings, COUNT(*) occurrences\n",
                "FROM movies\n",
                "GROUP BY title, year, rating, num_ratings\n",
                "HAVING COUNT(*) > 1;"
            ],
            "metadata": {
                "azdata_cell_guid": "06d98912-0d98-4d08-83bd-e9970673ef4d",
                "tags": []
            },
            "outputs": [
                {
                    "output_type": "display_data",
                    "data": {
                        "text/html": "(681 row(s) affected)"
                    },
                    "metadata": {}
                },
                {
                    "output_type": "display_data",
                    "data": {
                        "text/html": "Total execution time: 00:00:00.024"
                    },
                    "metadata": {}
                },
                {
                    "output_type": "execute_result",
                    "metadata": {},
                    "execution_count": 54,
                    "data": {
                        "application/vnd.dataresource+json": {
                            "schema": {
                                "fields": [
                                    {
                                        "name": "title"
                                    },
                                    {
                                        "name": "year"
                                    },
                                    {
                                        "name": "rating"
                                    },
                                    {
                                        "name": "num_ratings"
                                    },
                                    {
                                        "name": "occurrences"
                                    }
                                ]
                            },
                            "data": [
                                {
                                    "0": "11'09''01 - September 11",
                                    "1": "2002",
                                    "2": "3.5",
                                    "3": "303",
                                    "4": "2"
                                },
                                {
                                    "0": "12 Angry Men",
                                    "1": "1957",
                                    "2": "4.1",
                                    "3": "22784",
                                    "4": "2"
                                },
                                {
                                    "0": "20 Million Miles to Earth",
                                    "1": "1957",
                                    "2": "0.0",
                                    "3": "0",
                                    "4": "2"
                                },
                                {
                                    "0": "24 Hour Party People",
                                    "1": "2002",
                                    "2": "0.0",
                                    "3": "0",
                                    "4": "2"
                                },
                                {
                                    "0": "28 Days Later...",
                                    "1": "2002",
                                    "2": "3.6",
                                    "3": "107149",
                                    "4": "2"
                                },
                                {
                                    "0": "2 Days in Paris",
                                    "1": "2007",
                                    "2": "3.6",
                                    "3": "27100",
                                    "4": "2"
                                },
                                {
                                    "0": "30 Days of Night",
                                    "1": "2007",
                                    "2": "3.3",
                                    "3": "146766",
                                    "4": "2"
                                },
                                {
                                    "0": "3:10 to Yuma",
                                    "1": "2007",
                                    "2": "3.9",
                                    "3": "139372",
                                    "4": "2"
                                },
                                {
                                    "0": "48 Hrs.",
                                    "1": "1982",
                                    "2": "3.2",
                                    "3": "10471",
                                    "4": "2"
                                },
                                {
                                    "0": "4: Rise of the Silver Surfer",
                                    "1": "2007",
                                    "2": "3.2",
                                    "3": "470350",
                                    "4": "2"
                                },
                                {
                                    "0": "Abandon",
                                    "1": "2002",
                                    "2": "2.7",
                                    "3": "2670",
                                    "4": "2"
                                },
                                {
                                    "0": "A Beautiful Mind",
                                    "1": "2001",
                                    "2": "3.9",
                                    "3": "103150",
                                    "4": "2"
                                },
                                {
                                    "0": "À bout de souffle",
                                    "1": "1960",
                                    "2": "4.2",
                                    "3": "10327",
                                    "4": "2"
                                },
                                {
                                    "0": "Ae Fond Kiss...",
                                    "1": "2004",
                                    "2": "3.7",
                                    "3": "1269",
                                    "4": "2"
                                },
                                {
                                    "0": "A Foreign Affair",
                                    "1": "1948",
                                    "2": "3.7",
                                    "3": "504",
                                    "4": "2"
                                },
                                {
                                    "0": "A Kiss Before Dying",
                                    "1": "1956",
                                    "2": "0.0",
                                    "3": "0",
                                    "4": "2"
                                },
                                {
                                    "0": "Albino Alligator",
                                    "1": "1996",
                                    "2": "3.0",
                                    "3": "1198",
                                    "4": "2"
                                },
                                {
                                    "0": "Alexander",
                                    "1": "2004",
                                    "2": "2.7",
                                    "3": "29540",
                                    "4": "2"
                                },
                                {
                                    "0": "Alfie",
                                    "1": "2004",
                                    "2": "2.9",
                                    "3": "15367",
                                    "4": "2"
                                },
                                {
                                    "0": "Alien³",
                                    "1": "1992",
                                    "2": "3.1",
                                    "3": "30526",
                                    "4": "2"
                                },
                                {
                                    "0": "A Little Princess",
                                    "1": "1995",
                                    "2": "3.4",
                                    "3": "13643",
                                    "4": "2"
                                },
                                {
                                    "0": "All Quiet on the Western Front",
                                    "1": "1930",
                                    "2": "3.8",
                                    "3": "3797",
                                    "4": "2"
                                },
                                {
                                    "0": "All the King's Men",
                                    "1": "2006",
                                    "2": "0.0",
                                    "3": "0",
                                    "4": "2"
                                },
                                {
                                    "0": "Alone in the Dark",
                                    "1": "2005",
                                    "2": "2.1",
                                    "3": "8641",
                                    "4": "3"
                                },
                                {
                                    "0": "American Pie",
                                    "1": "1999",
                                    "2": "3.4",
                                    "3": "203348",
                                    "4": "2"
                                },
                                {
                                    "0": "American Splendor",
                                    "1": "2003",
                                    "2": "3.7",
                                    "3": "9157",
                                    "4": "2"
                                },
                                {
                                    "0": "A Midsummer Night's Dream",
                                    "1": "1999",
                                    "2": "0.0",
                                    "3": "0",
                                    "4": "2"
                                },
                                {
                                    "0": "Anastasia",
                                    "1": "1997",
                                    "2": "3.2",
                                    "3": "33076",
                                    "4": "2"
                                },
                                {
                                    "0": "Angela's Ashes",
                                    "1": "1999",
                                    "2": "3.6",
                                    "3": "4588",
                                    "4": "2"
                                },
                                {
                                    "0": "Angus, Thongs and Perfect Snogging",
                                    "1": "2008",
                                    "2": "3.9",
                                    "3": "6295",
                                    "4": "2"
                                },
                                {
                                    "0": "A Nightmare on Elm Street: The Dream Child",
                                    "1": "1989",
                                    "2": "2.9",
                                    "3": "17837",
                                    "4": "2"
                                },
                                {
                                    "0": "Animal House",
                                    "1": "1978",
                                    "2": "3.7",
                                    "3": "25149",
                                    "4": "2"
                                },
                                {
                                    "0": "Anna Karenina",
                                    "1": "1935",
                                    "2": "0.0",
                                    "3": "0",
                                    "4": "2"
                                },
                                {
                                    "0": "A Perfect Getaway",
                                    "1": "2009",
                                    "2": "3.2",
                                    "3": "102622",
                                    "4": "3"
                                },
                                {
                                    "0": "A Perfect Murder",
                                    "1": "1998",
                                    "2": "3.1",
                                    "3": "9130",
                                    "4": "2"
                                },
                                {
                                    "0": "Appaloosa",
                                    "1": "2008",
                                    "2": "3.2",
                                    "3": "19629",
                                    "4": "2"
                                },
                                {
                                    "0": "Around the World in 80 Days",
                                    "1": "2004",
                                    "2": "2.7",
                                    "3": "14038",
                                    "4": "2"
                                },
                                {
                                    "0": "Ask the Dust",
                                    "1": "2006",
                                    "2": "2.8",
                                    "3": "14077",
                                    "4": "2"
                                },
                                {
                                    "0": "Assault on Precinct 13",
                                    "1": "2005",
                                    "2": "3.1",
                                    "3": "12635",
                                    "4": "2"
                                },
                                {
                                    "0": "A Star Is Born",
                                    "1": "1937",
                                    "2": "0.0",
                                    "3": "0",
                                    "4": "2"
                                },
                                {
                                    "0": "Asylum",
                                    "1": "2008",
                                    "2": "2.2",
                                    "3": "1071",
                                    "4": "2"
                                },
                                {
                                    "0": "A Tale of Two Cities",
                                    "1": "1958",
                                    "2": "0.0",
                                    "3": "0",
                                    "4": "2"
                                },
                                {
                                    "0": "August Rush",
                                    "1": "2007",
                                    "2": "4.0",
                                    "3": "105941",
                                    "4": "4"
                                },
                                {
                                    "0": "Auto Focus",
                                    "1": "2002",
                                    "2": "3.2",
                                    "3": "1283",
                                    "4": "2"
                                },
                                {
                                    "0": "Babe",
                                    "1": "1995",
                                    "2": "3.0",
                                    "3": "22954",
                                    "4": "2"
                                },
                                {
                                    "0": "Babes in Toyland",
                                    "1": "1934",
                                    "2": "3.6",
                                    "3": "865",
                                    "4": "2"
                                },
                                {
                                    "0": "Back to the Future",
                                    "1": "1985",
                                    "2": "3.8",
                                    "3": "126816",
                                    "4": "2"
                                },
                                {
                                    "0": "Bad Boys",
                                    "1": "1995",
                                    "2": "3.5",
                                    "3": "67658",
                                    "4": "2"
                                },
                                {
                                    "0": "Bad Company",
                                    "1": "2002",
                                    "2": "2.8",
                                    "3": "6415",
                                    "4": "3"
                                },
                                {
                                    "0": "Bad Day at Black Rock",
                                    "1": "1955",
                                    "2": "3.9",
                                    "3": "1420",
                                    "4": "2"
                                },
                                {
                                    "0": "Balls of Fury",
                                    "1": "2007",
                                    "2": "2.8",
                                    "3": "85682",
                                    "4": "3"
                                },
                                {
                                    "0": "Bandits",
                                    "1": "2001",
                                    "2": "3.1",
                                    "3": "9238",
                                    "4": "2"
                                },
                                {
                                    "0": "Bangkok Dangerous",
                                    "1": "2008",
                                    "2": "2.8",
                                    "3": "23793",
                                    "4": "2"
                                },
                                {
                                    "0": "Barbershop 2: Back in Business",
                                    "1": "2004",
                                    "2": "3.1",
                                    "3": "7601",
                                    "4": "2"
                                },
                                {
                                    "0": "Basic Instinct 2",
                                    "1": "2006",
                                    "2": "2.5",
                                    "3": "28208",
                                    "4": "2"
                                },
                                {
                                    "0": "Batman",
                                    "1": "1966",
                                    "2": "3.0",
                                    "3": "13951",
                                    "4": "2"
                                },
                                {
                                    "0": "Beautiful Boxer",
                                    "1": "2003",
                                    "2": "3.9",
                                    "3": "879",
                                    "4": "2"
                                },
                                {
                                    "0": "Bedazzled",
                                    "1": "2000",
                                    "2": "2.7",
                                    "3": "15017",
                                    "4": "2"
                                },
                                {
                                    "0": "Before Sunset",
                                    "1": "2004",
                                    "2": "4.0",
                                    "3": "20750",
                                    "4": "2"
                                },
                                {
                                    "0": "Being Julia",
                                    "1": "2004",
                                    "2": "3.5",
                                    "3": "1947",
                                    "4": "2"
                                },
                                {
                                    "0": "Believers",
                                    "1": "2007",
                                    "2": "0.0",
                                    "3": "0",
                                    "4": "2"
                                },
                                {
                                    "0": "Ben-Hur",
                                    "1": "1959",
                                    "2": "3.7",
                                    "3": "25817",
                                    "4": "2"
                                },
                                {
                                    "0": "Benji the Hunted",
                                    "1": "1987",
                                    "2": "0.0",
                                    "3": "0",
                                    "4": "2"
                                },
                                {
                                    "0": "Best of the Best 3: No Turning Back",
                                    "1": "1995",
                                    "2": "0.0",
                                    "3": "0",
                                    "4": "2"
                                },
                                {
                                    "0": "Beyond the Valley of the Dolls",
                                    "1": "1970",
                                    "2": "0.0",
                                    "3": "0",
                                    "4": "2"
                                },
                                {
                                    "0": "Big",
                                    "1": "1988",
                                    "2": "3.4",
                                    "3": "33658",
                                    "4": "2"
                                },
                                {
                                    "0": "Bill & Ted's Bogus Journey",
                                    "1": "1991",
                                    "2": "3.0",
                                    "3": "17201",
                                    "4": "2"
                                },
                                {
                                    "0": "Black Beauty",
                                    "1": "1994",
                                    "2": "0.0",
                                    "3": "0",
                                    "4": "2"
                                },
                                {
                                    "0": "Black Christmas",
                                    "1": "2006",
                                    "2": "0.0",
                                    "3": "0",
                                    "4": "2"
                                },
                                {
                                    "0": "Black Moon Rising",
                                    "1": "1986",
                                    "2": "2.8",
                                    "3": "1020",
                                    "4": "2"
                                },
                                {
                                    "0": "Black Robe",
                                    "1": "1991",
                                    "2": "3.3",
                                    "3": "1641",
                                    "4": "2"
                                },
                                {
                                    "0": "Black Sheep",
                                    "1": "2006",
                                    "2": "3.2",
                                    "3": "19454",
                                    "4": "2"
                                },
                                {
                                    "0": "Blade",
                                    "1": "1998",
                                    "2": "3.6",
                                    "3": "87683",
                                    "4": "2"
                                },
                                {
                                    "0": "Blind Date",
                                    "1": "1987",
                                    "2": "2.9",
                                    "3": "2983",
                                    "4": "2"
                                },
                                {
                                    "0": "Blindness",
                                    "1": "2008",
                                    "2": "3.1",
                                    "3": "17761",
                                    "4": "2"
                                },
                                {
                                    "0": "Bloody Sunday",
                                    "1": "2002",
                                    "2": "4.0",
                                    "3": "2812",
                                    "4": "2"
                                },
                                {
                                    "0": "Blueberry",
                                    "1": "2004",
                                    "2": "0.0",
                                    "3": "0",
                                    "4": "2"
                                },
                                {
                                    "0": "Blue Collar Comedy Tour: The Movie",
                                    "1": "2003",
                                    "2": "3.6",
                                    "3": "6829",
                                    "4": "2"
                                },
                                {
                                    "0": "Body of Lies",
                                    "1": "2008",
                                    "2": "3.5",
                                    "3": "38376",
                                    "4": "2"
                                },
                                {
                                    "0": "Boogeyman",
                                    "1": "2005",
                                    "2": "2.5",
                                    "3": "13866",
                                    "4": "2"
                                },
                                {
                                    "0": "Boomerang",
                                    "1": "1992",
                                    "2": "2.8",
                                    "3": "4751",
                                    "4": "2"
                                },
                                {
                                    "0": "Borat: Cultural Learnings of America for Make Benefit Glorious Nation of Kazakhstan",
                                    "1": "2006",
                                    "2": "3.4",
                                    "3": "141091",
                                    "4": "2"
                                },
                                {
                                    "0": "Born Yesterday",
                                    "1": "1950",
                                    "2": "3.9",
                                    "3": "1132",
                                    "4": "2"
                                },
                                {
                                    "0": "Bottle Shock",
                                    "1": "2008",
                                    "2": "3.3",
                                    "3": "4827",
                                    "4": "2"
                                },
                                {
                                    "0": "Boy A",
                                    "1": "2007",
                                    "2": "3.5",
                                    "3": "5895",
                                    "4": "3"
                                },
                                {
                                    "0": "Boy Meets Girl",
                                    "1": "1984",
                                    "2": "0.0",
                                    "3": "0",
                                    "4": "2"
                                },
                                {
                                    "0": "Bride of Chucky",
                                    "1": "1998",
                                    "2": "2.6",
                                    "3": "20874",
                                    "4": "2"
                                },
                                {
                                    "0": "Britannia Hospital",
                                    "1": "1982",
                                    "2": "0.0",
                                    "3": "0",
                                    "4": "2"
                                },
                                {
                                    "0": "Broken English",
                                    "1": "2007",
                                    "2": "3.4",
                                    "3": "14630",
                                    "4": "2"
                                },
                                {
                                    "0": "Buddy",
                                    "1": "1997",
                                    "2": "2.8",
                                    "3": "1106",
                                    "4": "2"
                                },
                                {
                                    "0": "Bug",
                                    "1": "2006",
                                    "2": "2.5",
                                    "3": "168834",
                                    "4": "2"
                                },
                                {
                                    "0": "Bulletproof Monk",
                                    "1": "2003",
                                    "2": "2.9",
                                    "3": "13789",
                                    "4": "2"
                                },
                                {
                                    "0": "Burn After Reading",
                                    "1": "2008",
                                    "2": "3.4",
                                    "3": "71248",
                                    "4": "2"
                                },
                                {
                                    "0": "Cabin Fever",
                                    "1": "2002",
                                    "2": "2.6",
                                    "3": "15690",
                                    "4": "2"
                                },
                                {
                                    "0": "Caché",
                                    "1": "2005",
                                    "2": "3.5",
                                    "3": "16387",
                                    "4": "2"
                                },
                                {
                                    "0": "Calendar Girls",
                                    "1": "2003",
                                    "2": "3.1",
                                    "3": "8453",
                                    "4": "3"
                                },
                                {
                                    "0": "Candy",
                                    "1": "2006",
                                    "2": "3.8",
                                    "3": "9542",
                                    "4": "2"
                                },
                                {
                                    "0": "Cape Fear",
                                    "1": "1991",
                                    "2": "3.4",
                                    "3": "13943",
                                    "4": "3"
                                },
                                {
                                    "0": "Carrie",
                                    "1": "1976",
                                    "2": "3.3",
                                    "3": "23161",
                                    "4": "2"
                                },
                                {
                                    "0": "Casino Royale",
                                    "1": "2006",
                                    "2": "3.9",
                                    "3": "155430",
                                    "4": "2"
                                },
                                {
                                    "0": "Cat People",
                                    "1": "1982",
                                    "2": "3.0",
                                    "3": "2400",
                                    "4": "2"
                                },
                                {
                                    "0": "Changeling",
                                    "1": "2008",
                                    "2": "3.8",
                                    "3": "63438",
                                    "4": "2"
                                },
                                {
                                    "0": "Chaos",
                                    "1": "2005",
                                    "2": "0.0",
                                    "3": "0",
                                    "4": "2"
                                },
                                {
                                    "0": "Charlie and the Chocolate Factory",
                                    "1": "2005",
                                    "2": "0.0",
                                    "3": "0",
                                    "4": "3"
                                },
                                {
                                    "0": "Charlie's Angels: Full Throttle",
                                    "1": "2003",
                                    "2": "3.0",
                                    "3": "33126",
                                    "4": "2"
                                },
                                {
                                    "0": "Charlotte's Web",
                                    "1": "2006",
                                    "2": "3.3",
                                    "3": "39179",
                                    "4": "2"
                                },
                                {
                                    "0": "Cheaper by the Dozen",
                                    "1": "2003",
                                    "2": "3.1",
                                    "3": "62198",
                                    "4": "2"
                                },
                                {
                                    "0": "Children of Men",
                                    "1": "2006",
                                    "2": "3.7",
                                    "3": "127695",
                                    "4": "2"
                                },
                                {
                                    "0": "Chocolat",
                                    "1": "2000",
                                    "2": "3.6",
                                    "3": "62492",
                                    "4": "2"
                                },
                                {
                                    "0": "Chun gwong cha sit",
                                    "1": "1997",
                                    "2": "4.1",
                                    "3": "4907",
                                    "4": "2"
                                },
                                {
                                    "0": "Cinderella",
                                    "1": "1950",
                                    "2": "3.5",
                                    "3": "63946",
                                    "4": "2"
                                },
                                {
                                    "0": "City Lights",
                                    "1": "1931",
                                    "2": "4.3",
                                    "3": "7937",
                                    "4": "2"
                                },
                                {
                                    "0": "Clifford's Really Big Movie",
                                    "1": "2004",
                                    "2": "3.0",
                                    "3": "524",
                                    "4": "2"
                                },
                                {
                                    "0": "Cloak & Dagger",
                                    "1": "1984",
                                    "2": "0.0",
                                    "3": "0",
                                    "4": "2"
                                },
                                {
                                    "0": "Cobra",
                                    "1": "1986",
                                    "2": "2.7",
                                    "3": "5821",
                                    "4": "2"
                                },
                                {
                                    "0": "College",
                                    "1": "2008",
                                    "2": "2.8",
                                    "3": "10667",
                                    "4": "2"
                                },
                                {
                                    "0": "Communion",
                                    "1": "1976",
                                    "2": "0.0",
                                    "3": "0",
                                    "4": "2"
                                },
                                {
                                    "0": "Conspiracy",
                                    "1": "2008",
                                    "2": "2.5",
                                    "3": "968",
                                    "4": "2"
                                },
                                {
                                    "0": "Contact",
                                    "1": "1997",
                                    "2": "3.1",
                                    "3": "19572",
                                    "4": "2"
                                },
                                {
                                    "0": "Cookie's Fortune",
                                    "1": "1999",
                                    "2": "3.2",
                                    "3": "1364",
                                    "4": "2"
                                },
                                {
                                    "0": "Cool Hand Luke",
                                    "1": "1967",
                                    "2": "4.1",
                                    "3": "17521",
                                    "4": "2"
                                },
                                {
                                    "0": "Courage Under Fire",
                                    "1": "1996",
                                    "2": "3.2",
                                    "3": "6918",
                                    "4": "2"
                                },
                                {
                                    "0": "Cousins",
                                    "1": "1989",
                                    "2": "3.1",
                                    "3": "644",
                                    "4": "2"
                                },
                                {
                                    "0": "Coyote Ugly",
                                    "1": "2000",
                                    "2": "3.2",
                                    "3": "65988",
                                    "4": "2"
                                },
                                {
                                    "0": "Crash",
                                    "1": "2004",
                                    "2": "4.0",
                                    "3": "98746",
                                    "4": "3"
                                },
                                {
                                    "0": "Crazy Love",
                                    "1": "2007",
                                    "2": "3.6",
                                    "3": "2624",
                                    "4": "2"
                                },
                                {
                                    "0": "CrissCross",
                                    "1": "1992",
                                    "2": "0.0",
                                    "3": "0",
                                    "4": "2"
                                },
                                {
                                    "0": "Crossroads",
                                    "1": "2002",
                                    "2": "2.2",
                                    "3": "15071",
                                    "4": "2"
                                },
                                {
                                    "0": "Crush",
                                    "1": "2001",
                                    "2": "NULL",
                                    "3": "NULL",
                                    "4": "3"
                                },
                                {
                                    "0": "Cursed",
                                    "1": "2005",
                                    "2": "0.0",
                                    "3": "0",
                                    "4": "2"
                                },
                                {
                                    "0": "Dances with Wolves",
                                    "1": "1990",
                                    "2": "3.6",
                                    "3": "28000",
                                    "4": "2"
                                },
                                {
                                    "0": "Dangerous Liaisons",
                                    "1": "1988",
                                    "2": "3.7",
                                    "3": "11359",
                                    "4": "2"
                                },
                                {
                                    "0": "Dan in Real Life",
                                    "1": "2007",
                                    "2": "3.5",
                                    "3": "112489",
                                    "4": "2"
                                },
                                {
                                    "0": "Darkness Falls",
                                    "1": "2003",
                                    "2": "2.8",
                                    "3": "11135",
                                    "4": "2"
                                },
                                {
                                    "0": "Da wan",
                                    "1": "2001",
                                    "2": "3.6",
                                    "3": "201",
                                    "4": "2"
                                },
                                {
                                    "0": "Dawn of the Dead",
                                    "1": "2004",
                                    "2": "3.4",
                                    "3": "49706",
                                    "4": "3"
                                },
                                {
                                    "0": "Dead End",
                                    "1": "2003",
                                    "2": "0.0",
                                    "3": "0",
                                    "4": "2"
                                },
                                {
                                    "0": "Dead Poets Society",
                                    "1": "1989",
                                    "2": "3.8",
                                    "3": "56733",
                                    "4": "2"
                                },
                                {
                                    "0": "Dead Ringers",
                                    "1": "1988",
                                    "2": "3.6",
                                    "3": "4690",
                                    "4": "2"
                                },
                                {
                                    "0": "Death Race",
                                    "1": "2008",
                                    "2": "3.5",
                                    "3": "50505",
                                    "4": "2"
                                },
                                {
                                    "0": "Death Wish",
                                    "1": "1974",
                                    "2": "3.3",
                                    "3": "4245",
                                    "4": "2"
                                },
                                {
                                    "0": "Deep Blue Sea",
                                    "1": "1999",
                                    "2": "2.8",
                                    "3": "26286",
                                    "4": "2"
                                },
                                {
                                    "0": "Deep Impact",
                                    "1": "1998",
                                    "2": "2.9",
                                    "3": "28624",
                                    "4": "2"
                                },
                                {
                                    "0": "Deja Vu",
                                    "1": "2006",
                                    "2": "0.0",
                                    "3": "0",
                                    "4": "2"
                                },
                                {
                                    "0": "Delta Force 2: The Colombian Connection",
                                    "1": "1990",
                                    "2": "2.9",
                                    "3": "1781",
                                    "4": "2"
                                },
                                {
                                    "0": "Der Himmel über Berlin",
                                    "1": "1987",
                                    "2": "4.4",
                                    "3": "9110",
                                    "4": "2"
                                },
                                {
                                    "0": "Die Büchse der Pandora",
                                    "1": "1929",
                                    "2": "4.1",
                                    "3": "1316",
                                    "4": "2"
                                },
                                {
                                    "0": "Die Hard",
                                    "1": "1988",
                                    "2": "3.9",
                                    "3": "99625",
                                    "4": "2"
                                },
                                {
                                    "0": "DOA: Dead or Alive",
                                    "1": "2006",
                                    "2": "2.7",
                                    "3": "71044",
                                    "4": "4"
                                },
                                {
                                    "0": "Doctor Dolittle",
                                    "1": "1998",
                                    "2": "2.8",
                                    "3": "23847",
                                    "4": "2"
                                },
                                {
                                    "0": "Dolls",
                                    "1": "2002",
                                    "2": "4.2",
                                    "3": "3709",
                                    "4": "2"
                                },
                                {
                                    "0": "Don't Be a Menace to South Central While Drinking Your Juice in the Hood",
                                    "1": "1996",
                                    "2": "0.0",
                                    "3": "0",
                                    "4": "2"
                                },
                                {
                                    "0": "Dracula",
                                    "1": "1931",
                                    "2": "3.6",
                                    "3": "8598",
                                    "4": "3"
                                },
                                {
                                    "0": "Dreamer: Inspired by a True Story",
                                    "1": "2005",
                                    "2": "3.6",
                                    "3": "21404",
                                    "4": "2"
                                },
                                {
                                    "0": "Dressed to Kill",
                                    "1": "1946",
                                    "2": "0.0",
                                    "3": "0",
                                    "4": "2"
                                },
                                {
                                    "0": "Dr. Jekyll and Mr. Hyde",
                                    "1": "2008",
                                    "2": "0.0",
                                    "3": "0",
                                    "4": "3"
                                },
                                {
                                    "0": "Dr. Mabuse, der Spieler - Ein Bild der Zeit",
                                    "1": "1922",
                                    "2": "4.1",
                                    "3": "721",
                                    "4": "2"
                                },
                                {
                                    "0": "Dr. Strangelove or: How I Learned to Stop Worrying and Love the Bomb",
                                    "1": "1964",
                                    "2": "4.2",
                                    "3": "33662",
                                    "4": "2"
                                },
                                {
                                    "0": "Dune",
                                    "1": "1984",
                                    "2": "3.4",
                                    "3": "17715",
                                    "4": "2"
                                },
                                {
                                    "0": "Duo luo tian shi",
                                    "1": "1995",
                                    "2": "4.0",
                                    "3": "4014",
                                    "4": "2"
                                },
                                {
                                    "0": "\"Earth: Final Conflict\"",
                                    "1": "1997",
                                    "2": "NULL",
                                    "3": "NULL",
                                    "4": "2"
                                },
                                {
                                    "0": "Eastern Promises",
                                    "1": "2007",
                                    "2": "3.8",
                                    "3": "66267",
                                    "4": "2"
                                },
                                {
                                    "0": "East of Eden",
                                    "1": "1955",
                                    "2": "4.0",
                                    "3": "5957",
                                    "4": "2"
                                },
                                {
                                    "0": "Eight Below",
                                    "1": "2006",
                                    "2": "3.4",
                                    "3": "27593",
                                    "4": "2"
                                },
                                {
                                    "0": "Elizabeth: The Golden Age",
                                    "1": "2007",
                                    "2": "3.3",
                                    "3": "74366",
                                    "4": "2"
                                },
                                {
                                    "0": "Employee of the Month",
                                    "1": "2006",
                                    "2": "3.2",
                                    "3": "54090",
                                    "4": "2"
                                },
                                {
                                    "0": "Enchanted",
                                    "1": "2007",
                                    "2": "3.8",
                                    "3": "188655",
                                    "4": "3"
                                },
                                {
                                    "0": "Enigma",
                                    "1": "2001",
                                    "2": "3.2",
                                    "3": "2061",
                                    "4": "2"
                                },
                                {
                                    "0": "Et Dieu... créa la femme",
                                    "1": "1956",
                                    "2": "3.0",
                                    "3": "1435",
                                    "4": "2"
                                },
                                {
                                    "0": "Evan Almighty",
                                    "1": "2007",
                                    "2": "3.2",
                                    "3": "369422",
                                    "4": "2"
                                },
                                {
                                    "0": "Evil Angels",
                                    "1": "1988",
                                    "2": "3.3",
                                    "3": "1554",
                                    "4": "2"
                                },
                                {
                                    "0": "Eye for an Eye",
                                    "1": "1996",
                                    "2": "0.0",
                                    "3": "0",
                                    "4": "2"
                                },
                                {
                                    "0": "Face/Off",
                                    "1": "1997",
                                    "2": "3.5",
                                    "3": "62348",
                                    "4": "3"
                                },
                                {
                                    "0": "Fail-Safe",
                                    "1": "1964",
                                    "2": "0.0",
                                    "3": "0",
                                    "4": "2"
                                },
                                {
                                    "0": "Failure to Launch",
                                    "1": "2006",
                                    "2": "3.2",
                                    "3": "86609",
                                    "4": "2"
                                },
                                {
                                    "0": "Father of the Bride",
                                    "1": "1991",
                                    "2": "3.2",
                                    "3": "22336",
                                    "4": "2"
                                },
                                {
                                    "0": "Faust: Love of the Damned",
                                    "1": "2000",
                                    "2": "0.0",
                                    "3": "0",
                                    "4": "2"
                                },
                                {
                                    "0": "Fever Pitch",
                                    "1": "2005",
                                    "2": "3.0",
                                    "3": "14004",
                                    "4": "2"
                                },
                                {
                                    "0": "Filth and Wisdom",
                                    "1": "2008",
                                    "2": "3.0",
                                    "3": "1070",
                                    "4": "2"
                                },
                                {
                                    "0": "Fire Down Below",
                                    "1": "1997",
                                    "2": "2.6",
                                    "3": "3327",
                                    "4": "2"
                                },
                                {
                                    "0": "Five Easy Pieces",
                                    "1": "1970",
                                    "2": "3.9",
                                    "3": "4148",
                                    "4": "3"
                                },
                                {
                                    "0": "Flash Gordon",
                                    "1": "1980",
                                    "2": "3.1",
                                    "3": "6492",
                                    "4": "2"
                                },
                                {
                                    "0": "Flawless",
                                    "1": "2007",
                                    "2": "3.3",
                                    "3": "5982",
                                    "4": "2"
                                },
                                {
                                    "0": "Flicka",
                                    "1": "2006",
                                    "2": "3.7",
                                    "3": "22360",
                                    "4": "2"
                                },
                                {
                                    "0": "Flight of the Navigator",
                                    "1": "1986",
                                    "2": "0.0",
                                    "3": "0",
                                    "4": "2"
                                },
                                {
                                    "0": "Flight of the Phoenix",
                                    "1": "2004",
                                    "2": "3.0",
                                    "3": "7566",
                                    "4": "2"
                                },
                                {
                                    "0": "Flipper",
                                    "1": "1996",
                                    "2": "2.6",
                                    "3": "6086",
                                    "4": "2"
                                },
                                {
                                    "0": "Flirting with Disaster",
                                    "1": "1996",
                                    "2": "3.3",
                                    "3": "2127",
                                    "4": "2"
                                },
                                {
                                    "0": "Foolish Wives",
                                    "1": "1922",
                                    "2": "0.0",
                                    "3": "0",
                                    "4": "2"
                                },
                                {
                                    "0": "For the Bible Tells Me So",
                                    "1": "2007",
                                    "2": "4.1",
                                    "3": "1345",
                                    "4": "2"
                                },
                                {
                                    "0": "Frankenstein",
                                    "1": "1931",
                                    "2": "3.6",
                                    "3": "7211",
                                    "4": "2"
                                },
                                {
                                    "0": "Frankie and Johnny",
                                    "1": "1991",
                                    "2": "3.2",
                                    "3": "4527",
                                    "4": "2"
                                },
                                {
                                    "0": "Freaky Friday",
                                    "1": "2003",
                                    "2": "2.9",
                                    "3": "73112",
                                    "4": "2"
                                },
                                {
                                    "0": "From Dusk Till Dawn",
                                    "1": "1996",
                                    "2": "3.4",
                                    "3": "36073",
                                    "4": "2"
                                },
                                {
                                    "0": "Frozen River",
                                    "1": "2008",
                                    "2": "3.2",
                                    "3": "9338",
                                    "4": "3"
                                },
                                {
                                    "0": "Funny Games U.S.",
                                    "1": "2007",
                                    "2": "3.2",
                                    "3": "16153",
                                    "4": "2"
                                },
                                {
                                    "0": "Fun with Dick and Jane",
                                    "1": "2005",
                                    "2": "3.2",
                                    "3": "80127",
                                    "4": "2"
                                },
                                {
                                    "0": "F/X2",
                                    "1": "1991",
                                    "2": "2.8",
                                    "3": "1000",
                                    "4": "2"
                                },
                                {
                                    "0": "Galaxy Quest",
                                    "1": "1999",
                                    "2": "3.0",
                                    "3": "19804",
                                    "4": "2"
                                },
                                {
                                    "0": "Gangs of New York",
                                    "1": "2002",
                                    "2": "3.5",
                                    "3": "35768",
                                    "4": "2"
                                },
                                {
                                    "0": "Gegen die Wand",
                                    "1": "2004",
                                    "2": "0.0",
                                    "3": "0",
                                    "4": "2"
                                },
                                {
                                    "0": "Georgia Rule",
                                    "1": "2007",
                                    "2": "3.0",
                                    "3": "64056",
                                    "4": "2"
                                },
                                {
                                    "0": "Get Carter",
                                    "1": "2000",
                                    "2": "2.5",
                                    "3": "4003",
                                    "4": "2"
                                },
                                {
                                    "0": "Get Over It",
                                    "1": "2001",
                                    "2": "2.9",
                                    "3": "9761",
                                    "4": "2"
                                },
                                {
                                    "0": "Getting Even with Dad",
                                    "1": "1994",
                                    "2": "2.4",
                                    "3": "2200",
                                    "4": "2"
                                },
                                {
                                    "0": "Gladiator",
                                    "1": "2000",
                                    "2": "3.8",
                                    "3": "248672",
                                    "4": "2"
                                },
                                {
                                    "0": "Gloria",
                                    "1": "1999",
                                    "2": "2.7",
                                    "3": "660",
                                    "4": "2"
                                },
                                {
                                    "0": "Godzilla",
                                    "1": "1998",
                                    "2": "2.6",
                                    "3": "17658",
                                    "4": "2"
                                },
                                {
                                    "0": "Goldfinger",
                                    "1": "1964",
                                    "2": "3.6",
                                    "3": "22155",
                                    "4": "2"
                                },
                                {
                                    "0": "Gone Baby Gone",
                                    "1": "2007",
                                    "2": "3.8",
                                    "3": "95109",
                                    "4": "2"
                                },
                                {
                                    "0": "Gone in Sixty Seconds",
                                    "1": "2000",
                                    "2": "3.5",
                                    "3": "92563",
                                    "4": "2"
                                },
                                {
                                    "0": "Go West",
                                    "1": "1940",
                                    "2": "0.0",
                                    "3": "0",
                                    "4": "2"
                                },
                                {
                                    "0": "Grease",
                                    "1": "1978",
                                    "2": "3.7",
                                    "3": "176349",
                                    "4": "2"
                                },
                                {
                                    "0": "Great Expectations",
                                    "1": "1998",
                                    "2": "3.4",
                                    "3": "10607",
                                    "4": "2"
                                },
                                {
                                    "0": "\"Grey's Anatomy\"",
                                    "1": "2005",
                                    "2": "NULL",
                                    "3": "NULL",
                                    "4": "2"
                                },
                                {
                                    "0": "Grosse Pointe Blank",
                                    "1": "1997",
                                    "2": "3.7",
                                    "3": "17815",
                                    "4": "2"
                                },
                                {
                                    "0": "Grumpy Old Men",
                                    "1": "1993",
                                    "2": "3.2",
                                    "3": "10489",
                                    "4": "2"
                                },
                                {
                                    "0": "Gypsy",
                                    "1": "1962",
                                    "2": "0.0",
                                    "3": "0",
                                    "4": "2"
                                },
                                {
                                    "0": "Hairspray",
                                    "1": "2007",
                                    "2": "3.9",
                                    "3": "382832",
                                    "4": "2"
                                },
                                {
                                    "0": "Halloween",
                                    "1": "2007",
                                    "2": "3.3",
                                    "3": "79946",
                                    "4": "2"
                                },
                                {
                                    "0": "Hamlet",
                                    "1": "1996",
                                    "2": "3.8",
                                    "3": "5816",
                                    "4": "6"
                                },
                                {
                                    "0": "Händler der vier Jahreszeiten",
                                    "1": "1971",
                                    "2": "0.0",
                                    "3": "0",
                                    "4": "2"
                                },
                                {
                                    "0": "Hard Target",
                                    "1": "1993",
                                    "2": "0.0",
                                    "3": "0",
                                    "4": "2"
                                },
                                {
                                    "0": "Harold & Kumar Go to White Castle",
                                    "1": "2004",
                                    "2": "3.5",
                                    "3": "61100",
                                    "4": "2"
                                },
                                {
                                    "0": "Heaven Can Wait",
                                    "1": "1943",
                                    "2": "0.0",
                                    "3": "0",
                                    "4": "2"
                                },
                                {
                                    "0": "Heavenly Creatures",
                                    "1": "1994",
                                    "2": "3.7",
                                    "3": "8208",
                                    "4": "2"
                                },
                                {
                                    "0": "Henry V",
                                    "1": "1989",
                                    "2": "4.0",
                                    "3": "3619",
                                    "4": "2"
                                },
                                {
                                    "0": "High School Musical",
                                    "1": "2006",
                                    "2": "0.0",
                                    "3": "0",
                                    "4": "2"
                                },
                                {
                                    "0": "High School Musical 3: Senior Year",
                                    "1": "2008",
                                    "2": "3.6",
                                    "3": "80210",
                                    "4": "2"
                                },
                                {
                                    "0": "Homeward Bound: The Incredible Journey",
                                    "1": "1993",
                                    "2": "3.2",
                                    "3": "15019",
                                    "4": "2"
                                },
                                {
                                    "0": "Hot Fuzz",
                                    "1": "2007",
                                    "2": "4.0",
                                    "3": "177532",
                                    "4": "2"
                                },
                                {
                                    "0": "House of Wax",
                                    "1": "2005",
                                    "2": "2.8",
                                    "3": "39495",
                                    "4": "2"
                                },
                                {
                                    "0": "House on Haunted Hill",
                                    "1": "1999",
                                    "2": "2.9",
                                    "3": "13288",
                                    "4": "2"
                                },
                                {
                                    "0": "How Stella Got Her Groove Back",
                                    "1": "1998",
                                    "2": "3.1",
                                    "3": "4439",
                                    "4": "2"
                                },
                                {
                                    "0": "How the Grinch Stole Christmas",
                                    "1": "2000",
                                    "2": "3.1",
                                    "3": "34926",
                                    "4": "2"
                                },
                                {
                                    "0": "Huo Yuan Jia",
                                    "1": "2006",
                                    "2": "0.0",
                                    "3": "0",
                                    "4": "2"
                                },
                                {
                                    "0": "Hush",
                                    "1": "1998",
                                    "2": "2.9",
                                    "3": "1448",
                                    "4": "2"
                                },
                                {
                                    "0": "I Confess",
                                    "1": "1953",
                                    "2": "3.6",
                                    "3": "2474",
                                    "4": "2"
                                },
                                {
                                    "0": "Il mio viaggio in Italia",
                                    "1": "1999",
                                    "2": "3.9",
                                    "3": "769",
                                    "4": "2"
                                },
                                {
                                    "0": "I, Madman",
                                    "1": "1989",
                                    "2": "3.0",
                                    "3": "387",
                                    "4": "2"
                                },
                                {
                                    "0": "Impostor",
                                    "1": "2001",
                                    "2": "3.0",
                                    "3": "1418",
                                    "4": "2"
                                },
                                {
                                    "0": "Impulse",
                                    "1": "2008",
                                    "2": "0.0",
                                    "3": "0",
                                    "4": "2"
                                },
                                {
                                    "0": "In Cold Blood",
                                    "1": "1967",
                                    "2": "3.8",
                                    "3": "2614",
                                    "4": "2"
                                },
                                {
                                    "0": "Incubo sulla città contaminata",
                                    "1": "1980",
                                    "2": "0.0",
                                    "3": "0",
                                    "4": "2"
                                },
                                {
                                    "0": "Indagine su un cittadino al di sopra di ogni sospetto",
                                    "1": "1970",
                                    "2": "4.4",
                                    "3": "483",
                                    "4": "2"
                                },
                                {
                                    "0": "Indiana Jones and the Kingdom of the Crystal Skull",
                                    "1": "2008",
                                    "2": "3.4",
                                    "3": "252104",
                                    "4": "2"
                                },
                                {
                                    "0": "Indiana Jones and the Last Crusade",
                                    "1": "1989",
                                    "2": "3.9",
                                    "3": "103952",
                                    "4": "2"
                                },
                                {
                                    "0": "Indian Summer",
                                    "1": "1996",
                                    "2": "3.2",
                                    "3": "492",
                                    "4": "2"
                                },
                                {
                                    "0": "Innocence",
                                    "1": "2004",
                                    "2": "3.7",
                                    "3": "1170",
                                    "4": "2"
                                },
                                {
                                    "0": "Inside Man",
                                    "1": "2006",
                                    "2": "3.7",
                                    "3": "84980",
                                    "4": "2"
                                },
                                {
                                    "0": "Insomnia",
                                    "1": "2002",
                                    "2": "3.2",
                                    "3": "18085",
                                    "4": "2"
                                },
                                {
                                    "0": "Interview",
                                    "1": "2007",
                                    "2": "3.2",
                                    "3": "14637",
                                    "4": "2"
                                },
                                {
                                    "0": "Interview with the Vampire: The Vampire Chronicles",
                                    "1": "1994",
                                    "2": "3.7",
                                    "3": "77706",
                                    "4": "4"
                                },
                                {
                                    "0": "Into the West",
                                    "1": "1992",
                                    "2": "3.6",
                                    "3": "744",
                                    "4": "2"
                                },
                                {
                                    "0": "Into the Wild",
                                    "1": "2007",
                                    "2": "4.2",
                                    "3": "82515",
                                    "4": "2"
                                },
                                {
                                    "0": "Invasion of the Body Snatchers",
                                    "1": "1956",
                                    "2": "3.6",
                                    "3": "3820",
                                    "4": "4"
                                },
                                {
                                    "0": "Invincible",
                                    "1": "2006",
                                    "2": "3.6",
                                    "3": "34698",
                                    "4": "2"
                                },
                                {
                                    "0": "I, Robot",
                                    "1": "2004",
                                    "2": "0.0",
                                    "3": "0",
                                    "4": "2"
                                },
                                {
                                    "0": "Jane Eyre",
                                    "1": "2006",
                                    "2": "NULL",
                                    "3": "NULL",
                                    "4": "3"
                                },
                                {
                                    "0": "Jaws",
                                    "1": "1975",
                                    "2": "3.5",
                                    "3": "63534",
                                    "4": "2"
                                },
                                {
                                    "0": "Jeder für sich und Gott gegen alle",
                                    "1": "1974",
                                    "2": "0.0",
                                    "3": "0",
                                    "4": "2"
                                },
                                {
                                    "0": "Jerry Maguire",
                                    "1": "1996",
                                    "2": "3.3",
                                    "3": "32601",
                                    "4": "2"
                                },
                                {
                                    "0": "Jersey Girl",
                                    "1": "2004",
                                    "2": "2.9",
                                    "3": "16772",
                                    "4": "2"
                                },
                                {
                                    "0": "Joan of Arc",
                                    "1": "1999",
                                    "2": "3.1",
                                    "3": "8110",
                                    "4": "2"
                                },
                                {
                                    "0": "Joe Dirt",
                                    "1": "2001",
                                    "2": "2.8",
                                    "3": "16165",
                                    "4": "2"
                                },
                                {
                                    "0": "Joshua",
                                    "1": "2007",
                                    "2": "2.9",
                                    "3": "13913",
                                    "4": "2"
                                },
                                {
                                    "0": "Journey to the Center of the Earth",
                                    "1": "2008",
                                    "2": "3.2",
                                    "3": "38002",
                                    "4": "2"
                                },
                                {
                                    "0": "Joy Ride",
                                    "1": "2001",
                                    "2": "3.1",
                                    "3": "9370",
                                    "4": "2"
                                },
                                {
                                    "0": "Jui kuen II",
                                    "1": "1994",
                                    "2": "3.6",
                                    "3": "7905",
                                    "4": "2"
                                },
                                {
                                    "0": "Kagemusha",
                                    "1": "1980",
                                    "2": "4.2",
                                    "3": "4005",
                                    "4": "2"
                                },
                                {
                                    "0": "Kakushi-toride no san-akunin",
                                    "1": "1958",
                                    "2": "4.1",
                                    "3": "6021",
                                    "4": "2"
                                },
                                {
                                    "0": "Kansas City",
                                    "1": "1996",
                                    "2": "3.0",
                                    "3": "608",
                                    "4": "2"
                                },
                                {
                                    "0": "Kicking & Screaming",
                                    "1": "2005",
                                    "2": "3.0",
                                    "3": "14260",
                                    "4": "2"
                                },
                                {
                                    "0": "Kill Bill: Vol. 2",
                                    "1": "2004",
                                    "2": "3.8",
                                    "3": "162324",
                                    "4": "2"
                                },
                                {
                                    "0": "Killer Movie",
                                    "1": "2008",
                                    "2": "0.0",
                                    "3": "0",
                                    "4": "2"
                                },
                                {
                                    "0": "King Arthur",
                                    "1": "2004",
                                    "2": "3.2",
                                    "3": "57867",
                                    "4": "2"
                                },
                                {
                                    "0": "King Kong",
                                    "1": "2005",
                                    "2": "2.8",
                                    "3": "207337",
                                    "4": "4"
                                },
                                {
                                    "0": "King of Kings",
                                    "1": "1961",
                                    "2": "3.7",
                                    "3": "879",
                                    "4": "2"
                                },
                                {
                                    "0": "King of New York",
                                    "1": "1990",
                                    "2": "3.7",
                                    "3": "5329",
                                    "4": "2"
                                },
                                {
                                    "0": "King Solomon's Mines",
                                    "1": "1950",
                                    "2": "0.0",
                                    "3": "0",
                                    "4": "3"
                                },
                                {
                                    "0": "Kinsey",
                                    "1": "2004",
                                    "2": "3.4",
                                    "3": "6162",
                                    "4": "3"
                                },
                                {
                                    "0": "Kiss of Death",
                                    "1": "1995",
                                    "2": "2.9",
                                    "3": "2125",
                                    "4": "2"
                                },
                                {
                                    "0": "Kronos",
                                    "1": "1957",
                                    "2": "0.0",
                                    "3": "0",
                                    "4": "2"
                                },
                                {
                                    "0": "La boum",
                                    "1": "1980",
                                    "2": "NULL",
                                    "3": "NULL",
                                    "4": "2"
                                },
                                {
                                    "0": "La decima vittima",
                                    "1": "1965",
                                    "2": "0.0",
                                    "3": "0",
                                    "4": "2"
                                },
                                {
                                    "0": "La double vie de Véronique",
                                    "1": "1991",
                                    "2": "4.3",
                                    "3": "5676",
                                    "4": "2"
                                },
                                {
                                    "0": "La faute à Fidel!",
                                    "1": "2006",
                                    "2": "4.1",
                                    "3": "2344",
                                    "4": "2"
                                },
                                {
                                    "0": "La môme",
                                    "1": "2007",
                                    "2": "3.8",
                                    "3": "33",
                                    "4": "3"
                                },
                                {
                                    "0": "Last Chance Harvey",
                                    "1": "2008",
                                    "2": "3.2",
                                    "3": "14302",
                                    "4": "2"
                                },
                                {
                                    "0": "Last Days",
                                    "1": "2005",
                                    "2": "3.1",
                                    "3": "5692",
                                    "4": "2"
                                },
                                {
                                    "0": "Last Night",
                                    "1": "1998",
                                    "2": "3.8",
                                    "3": "1691",
                                    "4": "2"
                                },
                                {
                                    "0": "Lean on Me",
                                    "1": "1989",
                                    "2": "3.7",
                                    "3": "5235",
                                    "4": "2"
                                },
                                {
                                    "0": "Lemony Snicket's A Series of Unfortunate Events",
                                    "1": "2004",
                                    "2": "3.2",
                                    "3": "60437",
                                    "4": "2"
                                },
                                {
                                    "0": "Léon",
                                    "1": "1994",
                                    "2": "4.1",
                                    "3": "59011",
                                    "4": "2"
                                },
                                {
                                    "0": "Les misérables",
                                    "1": "1998",
                                    "2": "3.6",
                                    "3": "7310",
                                    "4": "2"
                                },
                                {
                                    "0": "Les poupées russes",
                                    "1": "2005",
                                    "2": "3.6",
                                    "3": "8145",
                                    "4": "2"
                                },
                                {
                                    "0": "Les triplettes de Belleville",
                                    "1": "2003",
                                    "2": "0.0",
                                    "3": "0",
                                    "4": "2"
                                },
                                {
                                    "0": "Lethal Weapon",
                                    "1": "1987",
                                    "2": "3.6",
                                    "3": "33975",
                                    "4": "2"
                                },
                                {
                                    "0": "Letters from Iwo Jima",
                                    "1": "2006",
                                    "2": "3.8",
                                    "3": "73433",
                                    "4": "2"
                                },
                                {
                                    "0": "Little Miss Marker",
                                    "1": "1934",
                                    "2": "NULL",
                                    "3": "NULL",
                                    "4": "2"
                                },
                                {
                                    "0": "Little Women",
                                    "1": "1994",
                                    "2": "0.0",
                                    "3": "0",
                                    "4": "3"
                                },
                                {
                                    "0": "Live Free or Die Hard",
                                    "1": "2007",
                                    "2": "3.9",
                                    "3": "1145097",
                                    "4": "2"
                                },
                                {
                                    "0": "Lola",
                                    "1": "1981",
                                    "2": "3.9",
                                    "3": "529",
                                    "4": "2"
                                },
                                {
                                    "0": "Lolita",
                                    "1": "1962",
                                    "2": "3.7",
                                    "3": "11593",
                                    "4": "2"
                                },
                                {
                                    "0": "Lord of the Flies",
                                    "1": "1990",
                                    "2": "3.1",
                                    "3": "6608",
                                    "4": "2"
                                },
                                {
                                    "0": "Lord of War",
                                    "1": "2005",
                                    "2": "3.6",
                                    "3": "51125",
                                    "4": "2"
                                },
                                {
                                    "0": "Loser",
                                    "1": "2000",
                                    "2": "2.6",
                                    "3": "5745",
                                    "4": "2"
                                },
                                {
                                    "0": "Love Affair",
                                    "1": "1994",
                                    "2": "3.5",
                                    "3": "1260",
                                    "4": "2"
                                },
                                {
                                    "0": "Love and a Bullet",
                                    "1": "2002",
                                    "2": "0.0",
                                    "3": "0",
                                    "4": "2"
                                },
                                {
                                    "0": "Lucky Number Slevin",
                                    "1": "2006",
                                    "2": "0.0",
                                    "3": "0",
                                    "4": "2"
                                },
                                {
                                    "0": "Mac and Me",
                                    "1": "1988",
                                    "2": "2.7",
                                    "3": "2264",
                                    "4": "2"
                                },
                                {
                                    "0": "Man of the House",
                                    "1": "2005",
                                    "2": "3.1",
                                    "3": "10877",
                                    "4": "2"
                                },
                                {
                                    "0": "Man of the Year",
                                    "1": "2006",
                                    "2": "3.0",
                                    "3": "29127",
                                    "4": "2"
                                },
                                {
                                    "0": "Man on Fire",
                                    "1": "2004",
                                    "2": "3.9",
                                    "3": "67139",
                                    "4": "2"
                                },
                                {
                                    "0": "Man on the Moon",
                                    "1": "1999",
                                    "2": "3.3",
                                    "3": "15027",
                                    "4": "2"
                                },
                                {
                                    "0": "Match Point",
                                    "1": "2005",
                                    "2": "3.4",
                                    "3": "41276",
                                    "4": "2"
                                },
                                {
                                    "0": "M. Butterfly",
                                    "1": "1993",
                                    "2": "0.0",
                                    "3": "0",
                                    "4": "2"
                                },
                                {
                                    "0": "Meet the Parents",
                                    "1": "2000",
                                    "2": "3.6",
                                    "3": "119331",
                                    "4": "2"
                                },
                                {
                                    "0": "Me, Myself & Irene",
                                    "1": "2000",
                                    "2": "3.1",
                                    "3": "39953",
                                    "4": "2"
                                },
                                {
                                    "0": "Men with Guns",
                                    "1": "1997",
                                    "2": "3.9",
                                    "3": "476",
                                    "4": "2"
                                },
                                {
                                    "0": "Metropolis",
                                    "1": "1927",
                                    "2": "4.1",
                                    "3": "17640",
                                    "4": "2"
                                },
                                {
                                    "0": "Miami Vice",
                                    "1": "2006",
                                    "2": "2.8",
                                    "3": "55637",
                                    "4": "2"
                                },
                                {
                                    "0": "Michael Clayton",
                                    "1": "2007",
                                    "2": "3.6",
                                    "3": "123924",
                                    "4": "2"
                                },
                                {
                                    "0": "Midnight Cowboy",
                                    "1": "1969",
                                    "2": "3.9",
                                    "3": "8994",
                                    "4": "3"
                                },
                                {
                                    "0": "Mighty Joe Young",
                                    "1": "1998",
                                    "2": "2.8",
                                    "3": "10755",
                                    "4": "2"
                                },
                                {
                                    "0": "Milk",
                                    "1": "2008",
                                    "2": "3.9",
                                    "3": "55245",
                                    "4": "2"
                                },
                                {
                                    "0": "Miracle at St. Anna",
                                    "1": "2008",
                                    "2": "3.3",
                                    "3": "8435",
                                    "4": "2"
                                },
                                {
                                    "0": "Miracle on 34th Street",
                                    "1": "1947",
                                    "2": "3.5",
                                    "3": "5409",
                                    "4": "2"
                                },
                                {
                                    "0": "Missing in Action 2: The Beginning",
                                    "1": "1985",
                                    "2": "0.0",
                                    "3": "0",
                                    "4": "2"
                                },
                                {
                                    "0": "Mission: Impossible III",
                                    "1": "2006",
                                    "2": "3.3",
                                    "3": "86328",
                                    "4": "2"
                                },
                                {
                                    "0": "Mixed Nuts",
                                    "1": "1994",
                                    "2": "2.9",
                                    "3": "2410",
                                    "4": "2"
                                },
                                {
                                    "0": "Modern Times",
                                    "1": "1936",
                                    "2": "4.2",
                                    "3": "9563",
                                    "4": "2"
                                },
                                {
                                    "0": "Mona Lisa Smile",
                                    "1": "2003",
                                    "2": "3.1",
                                    "3": "23577",
                                    "4": "2"
                                },
                                {
                                    "0": "Monkey Business",
                                    "1": "1931",
                                    "2": "0.0",
                                    "3": "0",
                                    "4": "2"
                                },
                                {
                                    "0": "Moulin Rouge!",
                                    "1": "2001",
                                    "2": "3.7",
                                    "3": "110817",
                                    "4": "2"
                                },
                                {
                                    "0": "Movie Crazy",
                                    "1": "1932",
                                    "2": "0.0",
                                    "3": "0",
                                    "4": "3"
                                },
                                {
                                    "0": "Mr. & Mrs. Smith",
                                    "1": "2005",
                                    "2": "3.4",
                                    "3": "230941",
                                    "4": "2"
                                },
                                {
                                    "0": "Mujeres al borde de un ataque de nervios",
                                    "1": "1988",
                                    "2": "4.0",
                                    "3": "6254",
                                    "4": "2"
                                },
                                {
                                    "0": "Mutiny on the Bounty",
                                    "1": "1935",
                                    "2": "3.7",
                                    "3": "1846",
                                    "4": "2"
                                },
                                {
                                    "0": "My Best Friend's Wedding",
                                    "1": "1997",
                                    "2": "3.3",
                                    "3": "64013",
                                    "4": "2"
                                },
                                {
                                    "0": "My Bloody Valentine",
                                    "1": "2009",
                                    "2": "3.1",
                                    "3": "111307",
                                    "4": "2"
                                },
                                {
                                    "0": "My Darling Clementine",
                                    "1": "1946",
                                    "2": "3.8",
                                    "3": "1741",
                                    "4": "2"
                                },
                                {
                                    "0": "My Girl",
                                    "1": "1991",
                                    "2": "3.5",
                                    "3": "29984",
                                    "4": "2"
                                },
                                {
                                    "0": "My Life Without Me",
                                    "1": "2003",
                                    "2": "0.0",
                                    "3": "0",
                                    "4": "2"
                                },
                                {
                                    "0": "Mystery, Alaska",
                                    "1": "1999",
                                    "2": "3.2",
                                    "3": "4196",
                                    "4": "2"
                                },
                                {
                                    "0": "National Treasure: Book of Secrets",
                                    "1": "2007",
                                    "2": "3.6",
                                    "3": "1237906",
                                    "4": "2"
                                },
                                {
                                    "0": "Natural Born Killers",
                                    "1": "1994",
                                    "2": "3.5",
                                    "3": "39062",
                                    "4": "3"
                                },
                                {
                                    "0": "Ned Kelly",
                                    "1": "2003",
                                    "2": "3.2",
                                    "3": "7741",
                                    "4": "2"
                                },
                                {
                                    "0": "Never Say Never Again",
                                    "1": "1983",
                                    "2": "3.1",
                                    "3": "7414",
                                    "4": "2"
                                },
                                {
                                    "0": "Niagara",
                                    "1": "1953",
                                    "2": "0.0",
                                    "3": "0",
                                    "4": "2"
                                },
                                {
                                    "0": "Night of the Living Dead",
                                    "1": "1968",
                                    "2": "3.7",
                                    "3": "26113",
                                    "4": "2"
                                },
                                {
                                    "0": "Night of the Zombies",
                                    "1": "1981",
                                    "2": "0.0",
                                    "3": "0",
                                    "4": "2"
                                },
                                {
                                    "0": "Nineteen Eighty-Four",
                                    "1": "1984",
                                    "2": "3.5",
                                    "3": "17133",
                                    "4": "2"
                                },
                                {
                                    "0": "Nirgendwo in Afrika",
                                    "1": "2001",
                                    "2": "4.0",
                                    "3": "1773",
                                    "4": "2"
                                },
                                {
                                    "0": "Nobody's Fool",
                                    "1": "1986",
                                    "2": "3.0",
                                    "3": "289",
                                    "4": "2"
                                },
                                {
                                    "0": "Nochnoy dozor",
                                    "1": "2004",
                                    "2": "3.3",
                                    "3": "19774",
                                    "4": "2"
                                },
                                {
                                    "0": "No Man's Land",
                                    "1": "2001",
                                    "2": "4.1",
                                    "3": "3608",
                                    "4": "2"
                                },
                                {
                                    "0": "No Mercy",
                                    "1": "1986",
                                    "2": "2.8",
                                    "3": "740",
                                    "4": "2"
                                },
                                {
                                    "0": "Nora inu",
                                    "1": "1949",
                                    "2": "0.0",
                                    "3": "0",
                                    "4": "2"
                                },
                                {
                                    "0": "North Country",
                                    "1": "2005",
                                    "2": "3.5",
                                    "3": "14739",
                                    "4": "3"
                                },
                                {
                                    "0": "Notes on a Scandal",
                                    "1": "2006",
                                    "2": "3.7",
                                    "3": "22200",
                                    "4": "2"
                                },
                                {
                                    "0": "Nothing to Lose",
                                    "1": "1997",
                                    "2": "3.1",
                                    "3": "5245",
                                    "4": "3"
                                },
                                {
                                    "0": "O Brother, Where Art Thou?",
                                    "1": "2000",
                                    "2": "3.7",
                                    "3": "35122",
                                    "4": "2"
                                },
                                {
                                    "0": "Ocean's Eleven",
                                    "1": "2001",
                                    "2": "3.6",
                                    "3": "185259",
                                    "4": "2"
                                },
                                {
                                    "0": "Ocean's Thirteen",
                                    "1": "2007",
                                    "2": "3.6",
                                    "3": "846364",
                                    "4": "2"
                                },
                                {
                                    "0": "Of Mice and Men",
                                    "1": "1992",
                                    "2": "3.5",
                                    "3": "6505",
                                    "4": "2"
                                },
                                {
                                    "0": "Oh, God! You Devil",
                                    "1": "1984",
                                    "2": "0.0",
                                    "3": "0",
                                    "4": "2"
                                },
                                {
                                    "0": "Oliver Twist",
                                    "1": "2005",
                                    "2": "0.0",
                                    "3": "0",
                                    "4": "3"
                                },
                                {
                                    "0": "One Hundred and One Dalmatians",
                                    "1": "1961",
                                    "2": "3.3",
                                    "3": "29711",
                                    "4": "2"
                                },
                                {
                                    "0": "Open Season",
                                    "1": "2006",
                                    "2": "3.4",
                                    "3": "91895",
                                    "4": "2"
                                },
                                {
                                    "0": "Othello",
                                    "1": "1995",
                                    "2": "3.3",
                                    "3": "2018",
                                    "4": "2"
                                },
                                {
                                    "0": "Out Cold",
                                    "1": "2001",
                                    "2": "3.5",
                                    "3": "7234",
                                    "4": "2"
                                },
                                {
                                    "0": "Panic Room",
                                    "1": "2002",
                                    "2": "3.0",
                                    "3": "19615",
                                    "4": "2"
                                },
                                {
                                    "0": "Paradise",
                                    "1": "1982",
                                    "2": "0.0",
                                    "3": "0",
                                    "4": "2"
                                },
                                {
                                    "0": "Peter Pan",
                                    "1": "2003",
                                    "2": "3.3",
                                    "3": "47413",
                                    "4": "2"
                                },
                                {
                                    "0": "Phenomenon",
                                    "1": "1996",
                                    "2": "3.0",
                                    "3": "9166",
                                    "4": "2"
                                },
                                {
                                    "0": "Pinocchio",
                                    "1": "1940",
                                    "2": "3.3",
                                    "3": "19102",
                                    "4": "2"
                                },
                                {
                                    "0": "Pirates of the Caribbean: At World's End",
                                    "1": "2007",
                                    "2": "3.8",
                                    "3": "1768593",
                                    "4": "2"
                                },
                                {
                                    "0": "Pirates of the Caribbean: Dead Man's Chest",
                                    "1": "2006",
                                    "2": "3.9",
                                    "3": "395865",
                                    "4": "2"
                                },
                                {
                                    "0": "Pirates of the Caribbean: The Curse of the Black Pearl",
                                    "1": "2003",
                                    "2": "3.9",
                                    "3": "297546",
                                    "4": "2"
                                },
                                {
                                    "0": "Planet of the Apes",
                                    "1": "1968",
                                    "2": "3.4",
                                    "3": "12844",
                                    "4": "3"
                                },
                                {
                                    "0": "Planet Terror",
                                    "1": "2007",
                                    "2": "0.0",
                                    "3": "0",
                                    "4": "2"
                                },
                                {
                                    "0": "Possession",
                                    "1": "2009",
                                    "2": "2.9",
                                    "3": "4231",
                                    "4": "2"
                                },
                                {
                                    "0": "Predator",
                                    "1": "1987",
                                    "2": "3.5",
                                    "3": "52908",
                                    "4": "3"
                                },
                                {
                                    "0": "Presumed Innocent",
                                    "1": "1990",
                                    "2": "3.2",
                                    "3": "3836",
                                    "4": "2"
                                },
                                {
                                    "0": "Pride & Prejudice",
                                    "1": "2005",
                                    "2": "3.8",
                                    "3": "101164",
                                    "4": "2"
                                },
                                {
                                    "0": "Prince Valiant",
                                    "1": "1954",
                                    "2": "0.0",
                                    "3": "0",
                                    "4": "2"
                                },
                                {
                                    "0": "Private Parts",
                                    "1": "1997",
                                    "2": "0.0",
                                    "3": "0",
                                    "4": "2"
                                },
                                {
                                    "0": "Problem Child 2",
                                    "1": "1991",
                                    "2": "0.0",
                                    "3": "0",
                                    "4": "2"
                                },
                                {
                                    "0": "Project Moon Base",
                                    "1": "1953",
                                    "2": "0.0",
                                    "3": "0",
                                    "4": "2"
                                },
                                {
                                    "0": "Prom Night",
                                    "1": "2008",
                                    "2": "3.0",
                                    "3": "51435",
                                    "4": "2"
                                },
                                {
                                    "0": "Proof",
                                    "1": "2005",
                                    "2": "3.2",
                                    "3": "15629",
                                    "4": "2"
                                },
                                {
                                    "0": "Psycho",
                                    "1": "1960",
                                    "2": "3.9",
                                    "3": "32475",
                                    "4": "2"
                                },
                                {
                                    "0": "Psycho Beach Party",
                                    "1": "2000",
                                    "2": "3.3",
                                    "3": "1978",
                                    "4": "2"
                                },
                                {
                                    "0": "Punch-Drunk Love",
                                    "1": "2002",
                                    "2": "3.2",
                                    "3": "24379",
                                    "4": "2"
                                },
                                {
                                    "0": "Punisher: War Zone",
                                    "1": "2008",
                                    "2": "3.0",
                                    "3": "29393",
                                    "4": "4"
                                },
                                {
                                    "0": "Q",
                                    "1": "1982",
                                    "2": "0.0",
                                    "3": "0",
                                    "4": "2"
                                },
                                {
                                    "0": "Quest for Camelot",
                                    "1": "1998",
                                    "2": "3.1",
                                    "3": "4042",
                                    "4": "2"
                                },
                                {
                                    "0": "Raising Victor Vargas",
                                    "1": "2002",
                                    "2": "3.8",
                                    "3": "1155",
                                    "4": "2"
                                },
                                {
                                    "0": "Rambo",
                                    "1": "2008",
                                    "2": "3.4",
                                    "3": "107524",
                                    "4": "2"
                                },
                                {
                                    "0": "Ransom",
                                    "1": "1996",
                                    "2": "3.1",
                                    "3": "10364",
                                    "4": "2"
                                },
                                {
                                    "0": "Ratatouille",
                                    "1": "2007",
                                    "2": "3.9",
                                    "3": "414956",
                                    "4": "2"
                                },
                                {
                                    "0": "Raw Deal",
                                    "1": "1986",
                                    "2": "2.7",
                                    "3": "3041",
                                    "4": "2"
                                },
                                {
                                    "0": "Requiem for a Dream",
                                    "1": "2000",
                                    "2": "4.1",
                                    "3": "103666",
                                    "4": "2"
                                },
                                {
                                    "0": "Resurrecting the Champ",
                                    "1": "2007",
                                    "2": "3.4",
                                    "3": "18572",
                                    "4": "2"
                                },
                                {
                                    "0": "Revolutionary Road",
                                    "1": "2008",
                                    "2": "3.5",
                                    "3": "46044",
                                    "4": "2"
                                },
                                {
                                    "0": "Richard III",
                                    "1": "1995",
                                    "2": "3.7",
                                    "3": "1552",
                                    "4": "2"
                                },
                                {
                                    "0": "Road to Morocco",
                                    "1": "1942",
                                    "2": "0.0",
                                    "3": "0",
                                    "4": "2"
                                },
                                {
                                    "0": "Road Trip",
                                    "1": "2000",
                                    "2": "3.3",
                                    "3": "57286",
                                    "4": "3"
                                },
                                {
                                    "0": "Robin Hood: Prince of Thieves",
                                    "1": "1991",
                                    "2": "3.4",
                                    "3": "30722",
                                    "4": "2"
                                },
                                {
                                    "0": "Rollerball",
                                    "1": "1975",
                                    "2": "3.2",
                                    "3": "2655",
                                    "4": "2"
                                },
                                {
                                    "0": "Romeo + Juliet",
                                    "1": "1996",
                                    "2": "0.0",
                                    "3": "0",
                                    "4": "2"
                                },
                                {
                                    "0": "Rude Boy",
                                    "1": "1980",
                                    "2": "0.0",
                                    "3": "0",
                                    "4": "2"
                                },
                                {
                                    "0": "Runaway Jury",
                                    "1": "2003",
                                    "2": "3.4",
                                    "3": "11578",
                                    "4": "2"
                                },
                                {
                                    "0": "Run Fatboy Run",
                                    "1": "2007",
                                    "2": "3.5",
                                    "3": "43462",
                                    "4": "2"
                                },
                                {
                                    "0": "Running Scared",
                                    "1": "2006",
                                    "2": "3.6",
                                    "3": "35992",
                                    "4": "3"
                                },
                                {
                                    "0": "Sabrina",
                                    "1": "1954",
                                    "2": "3.8",
                                    "3": "12812",
                                    "4": "2"
                                },
                                {
                                    "0": "Sahara",
                                    "1": "2005",
                                    "2": "3.0",
                                    "3": "24489",
                                    "4": "2"
                                },
                                {
                                    "0": "Santa Claus",
                                    "1": "1985",
                                    "2": "3.1",
                                    "3": "2513",
                                    "4": "2"
                                },
                                {
                                    "0": "Save the Last Dance",
                                    "1": "2001",
                                    "2": "0.0",
                                    "3": "0",
                                    "4": "2"
                                },
                                {
                                    "0": "Scarface",
                                    "1": "1983",
                                    "2": "4.1",
                                    "3": "121090",
                                    "4": "3"
                                },
                                {
                                    "0": "School for Scoundrels",
                                    "1": "2006",
                                    "2": "3.2",
                                    "3": "39981",
                                    "4": "2"
                                },
                                {
                                    "0": "Secret Agent",
                                    "1": "1936",
                                    "2": "0.0",
                                    "3": "0",
                                    "4": "2"
                                },
                                {
                                    "0": "See No Evil",
                                    "1": "2006",
                                    "2": "3.3",
                                    "3": "46137",
                                    "4": "2"
                                },
                                {
                                    "0": "See No Evil, Hear No Evil",
                                    "1": "1989",
                                    "2": "3.3",
                                    "3": "6015",
                                    "4": "2"
                                },
                                {
                                    "0": "Shaft",
                                    "1": "1971",
                                    "2": "3.3",
                                    "3": "2211",
                                    "4": "2"
                                },
                                {
                                    "0": "Shall We Dance",
                                    "1": "2004",
                                    "2": "3.0",
                                    "3": "26935",
                                    "4": "2"
                                },
                                {
                                    "0": "Shao Lin san shi liu fang",
                                    "1": "1978",
                                    "2": "0.0",
                                    "3": "0",
                                    "4": "2"
                                },
                                {
                                    "0": "Shattered Glass",
                                    "1": "2003",
                                    "2": "3.5",
                                    "3": "4409",
                                    "4": "2"
                                },
                                {
                                    "0": "Shichinin no samurai",
                                    "1": "1954",
                                    "2": "4.5",
                                    "3": "29509",
                                    "4": "2"
                                },
                                {
                                    "0": "Shooting Dogs",
                                    "1": "2005",
                                    "2": "3.9",
                                    "3": "11089",
                                    "4": "2"
                                },
                                {
                                    "0": "Short Circuit",
                                    "1": "1986",
                                    "2": "3.2",
                                    "3": "12589",
                                    "4": "2"
                                },
                                {
                                    "0": "Sien nui yau wan",
                                    "1": "1987",
                                    "2": "0.0",
                                    "3": "0",
                                    "4": "2"
                                },
                                {
                                    "0": "Simon",
                                    "1": "2004",
                                    "2": "4.1",
                                    "3": "338",
                                    "4": "2"
                                },
                                {
                                    "0": "Sinbad and the Eye of the Tiger",
                                    "1": "1977",
                                    "2": "0.0",
                                    "3": "0",
                                    "4": "2"
                                },
                                {
                                    "0": "Singin' in the Rain",
                                    "1": "1952",
                                    "2": "3.9",
                                    "3": "28033",
                                    "4": "3"
                                },
                                {
                                    "0": "Slackers",
                                    "1": "2002",
                                    "2": "2.8",
                                    "3": "4294",
                                    "4": "2"
                                },
                                {
                                    "0": "Slaughterhouse-Five",
                                    "1": "1972",
                                    "2": "0.0",
                                    "3": "0",
                                    "4": "3"
                                },
                                {
                                    "0": "Sleepover",
                                    "1": "2004",
                                    "2": "3.3",
                                    "3": "29842",
                                    "4": "2"
                                },
                                {
                                    "0": "Sleepwalking",
                                    "1": "2008",
                                    "2": "3.0",
                                    "3": "8038",
                                    "4": "2"
                                },
                                {
                                    "0": "Sleepy Hollow",
                                    "1": "1999",
                                    "2": "3.5",
                                    "3": "93949",
                                    "4": "2"
                                },
                                {
                                    "0": "Sleuth",
                                    "1": "2007",
                                    "2": "3.2",
                                    "3": "9724",
                                    "4": "2"
                                },
                                {
                                    "0": "Slither",
                                    "1": "2006",
                                    "2": "3.2",
                                    "3": "31835",
                                    "4": "2"
                                },
                                {
                                    "0": "Slumdog Millionaire",
                                    "1": "2008",
                                    "2": "4.0",
                                    "3": "328969",
                                    "4": "2"
                                },
                                {
                                    "0": "Smile",
                                    "1": "2005",
                                    "2": "3.5",
                                    "3": "585",
                                    "4": "2"
                                },
                                {
                                    "0": "Soldier",
                                    "1": "1998",
                                    "2": "2.8",
                                    "3": "5503",
                                    "4": "2"
                                },
                                {
                                    "0": "Solyaris",
                                    "1": "1972",
                                    "2": "4.1",
                                    "3": "7425",
                                    "4": "2"
                                },
                                {
                                    "0": "Some Girls",
                                    "1": "1988",
                                    "2": "0.0",
                                    "3": "0",
                                    "4": "2"
                                },
                                {
                                    "0": "Some Like It Hot",
                                    "1": "1959",
                                    "2": "4.1",
                                    "3": "23119",
                                    "4": "2"
                                },
                                {
                                    "0": "Soul Survivors",
                                    "1": "2001",
                                    "2": "2.6",
                                    "3": "2441",
                                    "4": "2"
                                },
                                {
                                    "0": "Soy Cuba",
                                    "1": "1964",
                                    "2": "4.2",
                                    "3": "1082",
                                    "4": "2"
                                },
                                {
                                    "0": "Spacehunter: Adventures in the Forbidden Zone",
                                    "1": "1983",
                                    "2": "0.0",
                                    "3": "0",
                                    "4": "2"
                                },
                                {
                                    "0": "Spellbound",
                                    "1": "1945",
                                    "2": "3.8",
                                    "3": "4332",
                                    "4": "2"
                                },
                                {
                                    "0": "Spider-Man",
                                    "1": "2002",
                                    "2": "0.0",
                                    "3": "0",
                                    "4": "2"
                                },
                                {
                                    "0": "Spirit: Stallion of the Cimarron",
                                    "1": "2002",
                                    "2": "3.3",
                                    "3": "8302",
                                    "4": "2"
                                },
                                {
                                    "0": "Spy Kids 2: Island of Lost Dreams",
                                    "1": "2002",
                                    "2": "2.6",
                                    "3": "12329",
                                    "4": "2"
                                },
                                {
                                    "0": "Star Wars: Episode II - Attack of the Clones",
                                    "1": "2002",
                                    "2": "3.3",
                                    "3": "108730",
                                    "4": "2"
                                },
                                {
                                    "0": "Star Wars: Episode III - Revenge of the Sith",
                                    "1": "2005",
                                    "2": "3.1",
                                    "3": "198824",
                                    "4": "2"
                                },
                                {
                                    "0": "Star Wars: Episode I - The Phantom Menace",
                                    "1": "1999",
                                    "2": "0.0",
                                    "3": "0",
                                    "4": "2"
                                },
                                {
                                    "0": "Stay Alive",
                                    "1": "2006",
                                    "2": "3.3",
                                    "3": "40388",
                                    "4": "2"
                                },
                                {
                                    "0": "Steel Magnolias",
                                    "1": "1989",
                                    "2": "3.6",
                                    "3": "26167",
                                    "4": "2"
                                },
                                {
                                    "0": "Stoked: The Rise and Fall of Gator",
                                    "1": "2002",
                                    "2": "3.8",
                                    "3": "199",
                                    "4": "2"
                                },
                                {
                                    "0": "Strangers on a Train",
                                    "1": "1951",
                                    "2": "4.0",
                                    "3": "9106",
                                    "4": "2"
                                },
                                {
                                    "0": "Stuart Little 2",
                                    "1": "2002",
                                    "2": "2.7",
                                    "3": "10893",
                                    "4": "2"
                                },
                                {
                                    "0": "SubUrbia",
                                    "1": "1996",
                                    "2": "3.3",
                                    "3": "1247",
                                    "4": "2"
                                },
                                {
                                    "0": "Sukiyaki Western Django",
                                    "1": "2007",
                                    "2": "3.4",
                                    "3": "5732",
                                    "4": "2"
                                },
                                {
                                    "0": "Sullivan's Travels",
                                    "1": "1941",
                                    "2": "4.2",
                                    "3": "2289",
                                    "4": "2"
                                },
                                {
                                    "0": "Sunset Blvd.",
                                    "1": "1950",
                                    "2": "4.3",
                                    "3": "12588",
                                    "4": "2"
                                },
                                {
                                    "0": "Sunshine",
                                    "1": "2007",
                                    "2": "0.0",
                                    "3": "0",
                                    "4": "2"
                                },
                                {
                                    "0": "Super Size Me",
                                    "1": "2004",
                                    "2": "0.0",
                                    "3": "0",
                                    "4": "2"
                                },
                                {
                                    "0": "Sweet and Lowdown",
                                    "1": "1999",
                                    "2": "3.6",
                                    "3": "3877",
                                    "4": "2"
                                },
                                {
                                    "0": "Tais-toi!",
                                    "1": "2003",
                                    "2": "0.0",
                                    "3": "0",
                                    "4": "2"
                                },
                                {
                                    "0": "Taken",
                                    "1": "2008",
                                    "2": "4.0",
                                    "3": "307912",
                                    "4": "2"
                                },
                                {
                                    "0": "Tank Girl",
                                    "1": "1995",
                                    "2": "2.8",
                                    "3": "7013",
                                    "4": "2"
                                },
                                {
                                    "0": "Taxi",
                                    "1": "2004",
                                    "2": "2.8",
                                    "3": "15669",
                                    "4": "2"
                                },
                                {
                                    "0": "Taxi Driver",
                                    "1": "1976",
                                    "2": "4.1",
                                    "3": "58145",
                                    "4": "2"
                                },
                                {
                                    "0": "Teacher's Pet",
                                    "1": "2004",
                                    "2": "2.8",
                                    "3": "370",
                                    "4": "2"
                                },
                                {
                                    "0": "That Darn Cat",
                                    "1": "1997",
                                    "2": "2.5",
                                    "3": "2029",
                                    "4": "2"
                                },
                                {
                                    "0": "The 13th Warrior",
                                    "1": "1999",
                                    "2": "3.2",
                                    "3": "24204",
                                    "4": "2"
                                },
                                {
                                    "0": "The Adventures of Huck Finn",
                                    "1": "1993",
                                    "2": "2.9",
                                    "3": "2408",
                                    "4": "2"
                                },
                                {
                                    "0": "The Adventures of Robin Hood",
                                    "1": "1938",
                                    "2": "3.7",
                                    "3": "6404",
                                    "4": "2"
                                },
                                {
                                    "0": "The Alamo",
                                    "1": "2004",
                                    "2": "0.0",
                                    "3": "0",
                                    "4": "2"
                                },
                                {
                                    "0": "The Amityville Horror",
                                    "1": "2005",
                                    "2": "3.2",
                                    "3": "31070",
                                    "4": "2"
                                },
                                {
                                    "0": "The Assassination of Jesse James by the Coward Robert Ford",
                                    "1": "2007",
                                    "2": "3.7",
                                    "3": "57534",
                                    "4": "3"
                                },
                                {
                                    "0": "The Associate",
                                    "1": "1996",
                                    "2": "2.9",
                                    "3": "1259",
                                    "4": "2"
                                },
                                {
                                    "0": "The Aviator",
                                    "1": "2004",
                                    "2": "3.4",
                                    "3": "27084",
                                    "4": "2"
                                },
                                {
                                    "0": "The Banger Sisters",
                                    "1": "2002",
                                    "2": "2.7",
                                    "3": "4139",
                                    "4": "2"
                                },
                                {
                                    "0": "The Bank Job",
                                    "1": "2008",
                                    "2": "3.5",
                                    "3": "60915",
                                    "4": "2"
                                },
                                {
                                    "0": "The Baxter",
                                    "1": "2005",
                                    "2": "3.7",
                                    "3": "1793",
                                    "4": "2"
                                },
                                {
                                    "0": "The Beach",
                                    "1": "2000",
                                    "2": "2.9",
                                    "3": "21479",
                                    "4": "4"
                                },
                                {
                                    "0": "The Bellboy",
                                    "1": "1960",
                                    "2": "0.0",
                                    "3": "0",
                                    "4": "2"
                                },
                                {
                                    "0": "The Best Man",
                                    "1": "2005",
                                    "2": "0.0",
                                    "3": "0",
                                    "4": "2"
                                },
                                {
                                    "0": "The Big Sleep",
                                    "1": "1946",
                                    "2": "4.1",
                                    "3": "7772",
                                    "4": "2"
                                },
                                {
                                    "0": "The Birds",
                                    "1": "1963",
                                    "2": "3.5",
                                    "3": "17449",
                                    "4": "2"
                                },
                                {
                                    "0": "The Blob",
                                    "1": "1988",
                                    "2": "0.0",
                                    "3": "0",
                                    "4": "2"
                                },
                                {
                                    "0": "The Bone Collector",
                                    "1": "1999",
                                    "2": "3.3",
                                    "3": "26317",
                                    "4": "2"
                                },
                                {
                                    "0": "The Bourne Identity",
                                    "1": "2002",
                                    "2": "3.9",
                                    "3": "125823",
                                    "4": "2"
                                },
                                {
                                    "0": "The Boys of Baraka",
                                    "1": "2005",
                                    "2": "4.0",
                                    "3": "627",
                                    "4": "2"
                                },
                                {
                                    "0": "The Break-Up",
                                    "1": "2006",
                                    "2": "3.1",
                                    "3": "107481",
                                    "4": "3"
                                },
                                {
                                    "0": "The Bridges of Madison County",
                                    "1": "1995",
                                    "2": "3.6",
                                    "3": "11573",
                                    "4": "2"
                                },
                                {
                                    "0": "The Business",
                                    "1": "2005",
                                    "2": "0.0",
                                    "3": "0",
                                    "4": "2"
                                },
                                {
                                    "0": "The Butterfly Effect",
                                    "1": "2004",
                                    "2": "3.6",
                                    "3": "109956",
                                    "4": "2"
                                },
                                {
                                    "0": "The Cannonball Run",
                                    "1": "1981",
                                    "2": "3.1",
                                    "3": "6545",
                                    "4": "2"
                                },
                                {
                                    "0": "The Chronicles of Narnia: Prince Caspian",
                                    "1": "2008",
                                    "2": "3.8",
                                    "3": "154104",
                                    "4": "2"
                                },
                                {
                                    "0": "The Cure",
                                    "1": "1995",
                                    "2": "3.7",
                                    "3": "2207",
                                    "4": "2"
                                },
                                {
                                    "0": "The Curse of the Jade Scorpion",
                                    "1": "2001",
                                    "2": "3.1",
                                    "3": "4108",
                                    "4": "2"
                                },
                                {
                                    "0": "The Day of the Locust",
                                    "1": "1975",
                                    "2": "3.6",
                                    "3": "582",
                                    "4": "2"
                                },
                                {
                                    "0": "The Day the Earth Stood Still",
                                    "1": "1951",
                                    "2": "3.8",
                                    "3": "8999",
                                    "4": "2"
                                },
                                {
                                    "0": "The Deer Hunter",
                                    "1": "1978",
                                    "2": "4.1",
                                    "3": "27513",
                                    "4": "2"
                                },
                                {
                                    "0": "The Desperate Hours",
                                    "1": "1955",
                                    "2": "0.0",
                                    "3": "0",
                                    "4": "2"
                                },
                                {
                                    "0": "The Devil-Doll",
                                    "1": "1936",
                                    "2": "0.0",
                                    "3": "0",
                                    "4": "2"
                                },
                                {
                                    "0": "The Devil's Advocate",
                                    "1": "1997",
                                    "2": "3.4",
                                    "3": "30966",
                                    "4": "2"
                                },
                                {
                                    "0": "The End of the Affair",
                                    "1": "1999",
                                    "2": "3.6",
                                    "3": "3227",
                                    "4": "2"
                                },
                                {
                                    "0": "The Endurance: Shackleton's Legendary Antarctic Expedition",
                                    "1": "2000",
                                    "2": "3.8",
                                    "3": "415",
                                    "4": "2"
                                },
                                {
                                    "0": "The Enforcer",
                                    "1": "1976",
                                    "2": "3.4",
                                    "3": "3350",
                                    "4": "2"
                                },
                                {
                                    "0": "The Fall",
                                    "1": "2006",
                                    "2": "3.8",
                                    "3": "23397",
                                    "4": "2"
                                },
                                {
                                    "0": "The Fan",
                                    "1": "1996",
                                    "2": "2.8",
                                    "3": "5593",
                                    "4": "2"
                                },
                                {
                                    "0": "The Final Cut",
                                    "1": "2004",
                                    "2": "3.0",
                                    "3": "4745",
                                    "4": "2"
                                },
                                {
                                    "0": "The First $20 Million Is Always the Hardest",
                                    "1": "2002",
                                    "2": "3.2",
                                    "3": "483",
                                    "4": "2"
                                },
                                {
                                    "0": "The Fly",
                                    "1": "1986",
                                    "2": "3.3",
                                    "3": "14099",
                                    "4": "2"
                                },
                                {
                                    "0": "The Fog",
                                    "1": "2005",
                                    "2": "2.5",
                                    "3": "14642",
                                    "4": "2"
                                },
                                {
                                    "0": "The Forgotten",
                                    "1": "2004",
                                    "2": "2.9",
                                    "3": "13766",
                                    "4": "2"
                                },
                                {
                                    "0": "The Fourth Protocol",
                                    "1": "1987",
                                    "2": "3.4",
                                    "3": "544",
                                    "4": "2"
                                },
                                {
                                    "0": "The Freshman",
                                    "1": "1990",
                                    "2": "3.1",
                                    "3": "2525",
                                    "4": "3"
                                },
                                {
                                    "0": "The Front Page",
                                    "1": "1974",
                                    "2": "3.6",
                                    "3": "905",
                                    "4": "2"
                                },
                                {
                                    "0": "The Fugitive",
                                    "1": "1993",
                                    "2": "3.6",
                                    "3": "28862",
                                    "4": "2"
                                },
                                {
                                    "0": "The Game",
                                    "1": "1997",
                                    "2": "3.5",
                                    "3": "23139",
                                    "4": "2"
                                },
                                {
                                    "0": "The Gay Divorcee",
                                    "1": "1934",
                                    "2": "0.0",
                                    "3": "0",
                                    "4": "2"
                                },
                                {
                                    "0": "The General",
                                    "1": "1926",
                                    "2": "4.4",
                                    "3": "3785",
                                    "4": "3"
                                },
                                {
                                    "0": "The Girl Next Door",
                                    "1": "2004",
                                    "2": "3.3",
                                    "3": "39311",
                                    "4": "3"
                                },
                                {
                                    "0": "The Godfather",
                                    "1": "1972",
                                    "2": "4.4",
                                    "3": "172072",
                                    "4": "2"
                                },
                                {
                                    "0": "The Grass Is Greener",
                                    "1": "1960",
                                    "2": "0.0",
                                    "3": "0",
                                    "4": "2"
                                },
                                {
                                    "0": "The Grateful Dead",
                                    "1": "1977",
                                    "2": "0.0",
                                    "3": "0",
                                    "4": "2"
                                },
                                {
                                    "0": "The Greatest Game Ever Played",
                                    "1": "2005",
                                    "2": "3.6",
                                    "3": "15763",
                                    "4": "2"
                                },
                                {
                                    "0": "The Guardian",
                                    "1": "2006",
                                    "2": "3.7",
                                    "3": "58919",
                                    "4": "2"
                                },
                                {
                                    "0": "The Haunting",
                                    "1": "1999",
                                    "2": "2.7",
                                    "3": "10812",
                                    "4": "2"
                                },
                                {
                                    "0": "The Heartbreak Kid",
                                    "1": "2007",
                                    "2": "2.9",
                                    "3": "91228",
                                    "4": "2"
                                },
                                {
                                    "0": "The Hills Have Eyes",
                                    "1": "2006",
                                    "2": "3.1",
                                    "3": "75042",
                                    "4": "2"
                                },
                                {
                                    "0": "The Hills Have Eyes II",
                                    "1": "2007",
                                    "2": "2.9",
                                    "3": "63799",
                                    "4": "2"
                                },
                                {
                                    "0": "The Hitcher",
                                    "1": "2007",
                                    "2": "3.1",
                                    "3": "49309",
                                    "4": "2"
                                },
                                {
                                    "0": "The Hole",
                                    "1": "2001",
                                    "2": "3.1",
                                    "3": "5670",
                                    "4": "2"
                                },
                                {
                                    "0": "The Holiday",
                                    "1": "2006",
                                    "2": "0.0",
                                    "3": "0",
                                    "4": "2"
                                },
                                {
                                    "0": "The Hound of the Baskervilles",
                                    "1": "1959",
                                    "2": "0.0",
                                    "3": "0",
                                    "4": "3"
                                },
                                {
                                    "0": "The Hunchback of Notre Dame",
                                    "1": "1939",
                                    "2": "0.0",
                                    "3": "0",
                                    "4": "3"
                                },
                                {
                                    "0": "The Hunted",
                                    "1": "2003",
                                    "2": "3.0",
                                    "3": "5362",
                                    "4": "2"
                                },
                                {
                                    "0": "The Hunting Party",
                                    "1": "2007",
                                    "2": "3.4",
                                    "3": "13820",
                                    "4": "3"
                                },
                                {
                                    "0": "The Importance of Being Earnest",
                                    "1": "2002",
                                    "2": "NULL",
                                    "3": "NULL",
                                    "4": "2"
                                },
                                {
                                    "0": "The Incredible Hulk",
                                    "1": "2008",
                                    "2": "3.6",
                                    "3": "124298",
                                    "4": "2"
                                },
                                {
                                    "0": "The In Crowd",
                                    "1": "2000",
                                    "2": "2.6",
                                    "3": "925",
                                    "4": "2"
                                },
                                {
                                    "0": "The In-Laws",
                                    "1": "2003",
                                    "2": "2.9",
                                    "3": "2546",
                                    "4": "2"
                                },
                                {
                                    "0": "The Island",
                                    "1": "2005",
                                    "2": "3.3",
                                    "3": "41199",
                                    "4": "2"
                                },
                                {
                                    "0": "The Italian Job",
                                    "1": "2003",
                                    "2": "3.6",
                                    "3": "103062",
                                    "4": "2"
                                },
                                {
                                    "0": "The Jazz Singer",
                                    "1": "1980",
                                    "2": "3.4",
                                    "3": "857",
                                    "4": "2"
                                },
                                {
                                    "0": "The Jungle Book",
                                    "1": "1967",
                                    "2": "3.5",
                                    "3": "35715",
                                    "4": "3"
                                },
                                {
                                    "0": "The Karate Kid",
                                    "1": "1984",
                                    "2": "3.3",
                                    "3": "20688",
                                    "4": "3"
                                },
                                {
                                    "0": "The King and I",
                                    "1": "1956",
                                    "2": "3.6",
                                    "3": "12939",
                                    "4": "2"
                                },
                                {
                                    "0": "The Ladies Man",
                                    "1": "2000",
                                    "2": "2.6",
                                    "3": "2790",
                                    "4": "2"
                                },
                                {
                                    "0": "The Ladykillers",
                                    "1": "2004",
                                    "2": "2.8",
                                    "3": "12107",
                                    "4": "2"
                                },
                                {
                                    "0": "The Last American Virgin",
                                    "1": "1982",
                                    "2": "3.3",
                                    "3": "3330",
                                    "4": "2"
                                },
                                {
                                    "0": "The Last Boy Scout",
                                    "1": "1991",
                                    "2": "3.3",
                                    "3": "11177",
                                    "4": "2"
                                },
                                {
                                    "0": "The Last Kiss",
                                    "1": "2006",
                                    "2": "3.2",
                                    "3": "37077",
                                    "4": "2"
                                },
                                {
                                    "0": "The Last Man on Earth",
                                    "1": "1964",
                                    "2": "3.6",
                                    "3": "4886",
                                    "4": "2"
                                },
                                {
                                    "0": "The Last of the Mohicans",
                                    "1": "1992",
                                    "2": "3.6",
                                    "3": "34073",
                                    "4": "2"
                                },
                                {
                                    "0": "The Life Aquatic with Steve Zissou",
                                    "1": "2004",
                                    "2": "3.8",
                                    "3": "65",
                                    "4": "2"
                                },
                                {
                                    "0": "The Little Shop of Horrors",
                                    "1": "1960",
                                    "2": "0.0",
                                    "3": "0",
                                    "4": "2"
                                },
                                {
                                    "0": "The Longest Yard",
                                    "1": "2005",
                                    "2": "3.3",
                                    "3": "198675",
                                    "4": "2"
                                },
                                {
                                    "0": "The Lord of the Rings: The Return of the King",
                                    "1": "2003",
                                    "2": "3.7",
                                    "3": "288649",
                                    "4": "2"
                                },
                                {
                                    "0": "The Lost Boys",
                                    "1": "1987",
                                    "2": "3.7",
                                    "3": "48695",
                                    "4": "2"
                                },
                                {
                                    "0": "The Lost World: Jurassic Park",
                                    "1": "1997",
                                    "2": "3.2",
                                    "3": "46513",
                                    "4": "2"
                                },
                                {
                                    "0": "The Maltese Falcon",
                                    "1": "1941",
                                    "2": "4.0",
                                    "3": "14452",
                                    "4": "2"
                                },
                                {
                                    "0": "The Manchurian Candidate",
                                    "1": "1962",
                                    "2": "3.9",
                                    "3": "6006",
                                    "4": "3"
                                },
                                {
                                    "0": "The Man Who Knew Too Much",
                                    "1": "1956",
                                    "2": "0.0",
                                    "3": "0",
                                    "4": "2"
                                },
                                {
                                    "0": "The Mask",
                                    "1": "1994",
                                    "2": "3.2",
                                    "3": "68419",
                                    "4": "3"
                                },
                                {
                                    "0": "The Mask of Zorro",
                                    "1": "1998",
                                    "2": "3.3",
                                    "3": "31107",
                                    "4": "2"
                                },
                                {
                                    "0": "The MatchMaker",
                                    "1": "1997",
                                    "2": "3.3",
                                    "3": "1220",
                                    "4": "2"
                                },
                                {
                                    "0": "The Mighty Ducks",
                                    "1": "1992",
                                    "2": "3.1",
                                    "3": "14328",
                                    "4": "2"
                                },
                                {
                                    "0": "The Missing",
                                    "1": "2003",
                                    "2": "3.0",
                                    "3": "6895",
                                    "4": "2"
                                },
                                {
                                    "0": "The Mission",
                                    "1": "1986",
                                    "2": "3.8",
                                    "3": "11307",
                                    "4": "2"
                                },
                                {
                                    "0": "The Mists of Avalon",
                                    "1": "2001",
                                    "2": "3.7",
                                    "3": "4639",
                                    "4": "2"
                                },
                                {
                                    "0": "The Mother",
                                    "1": "2003",
                                    "2": "3.4",
                                    "3": "862",
                                    "4": "2"
                                },
                                {
                                    "0": "The Mummy",
                                    "1": "1999",
                                    "2": "3.4",
                                    "3": "79634",
                                    "4": "3"
                                },
                                {
                                    "0": "The Mummy: Tomb of the Dragon Emperor",
                                    "1": "2008",
                                    "2": "3.0",
                                    "3": "79989",
                                    "4": "2"
                                },
                                {
                                    "0": "The Neverending Story III",
                                    "1": "1994",
                                    "2": "0.0",
                                    "3": "0",
                                    "4": "2"
                                },
                                {
                                    "0": "The Ninth Gate",
                                    "1": "1999",
                                    "2": "3.2",
                                    "3": "23993",
                                    "4": "2"
                                },
                                {
                                    "0": "The Nutty Professor",
                                    "1": "1996",
                                    "2": "2.9",
                                    "3": "25286",
                                    "4": "2"
                                },
                                {
                                    "0": "The Omen",
                                    "1": "1976",
                                    "2": "3.5",
                                    "3": "17016",
                                    "4": "2"
                                },
                                {
                                    "0": "The Out-of-Towners",
                                    "1": "1999",
                                    "2": "2.6",
                                    "3": "2186",
                                    "4": "2"
                                },
                                {
                                    "0": "The Parent Trap",
                                    "1": "1998",
                                    "2": "3.1",
                                    "3": "41455",
                                    "4": "2"
                                },
                                {
                                    "0": "The Phantom of the Opera",
                                    "1": "2004",
                                    "2": "3.7",
                                    "3": "70849",
                                    "4": "5"
                                },
                                {
                                    "0": "The Pink Panther",
                                    "1": "2006",
                                    "2": "3.0",
                                    "3": "52976",
                                    "4": "2"
                                },
                                {
                                    "0": "The Postman Always Rings Twice",
                                    "1": "1981",
                                    "2": "3.3",
                                    "3": "2610",
                                    "4": "2"
                                },
                                {
                                    "0": "The Power of Nightmares: The Rise of the Politics of Fear",
                                    "1": "2004",
                                    "2": "4.5",
                                    "3": "575",
                                    "4": "2"
                                },
                                {
                                    "0": "The Prize Winner of Defiance, Ohio",
                                    "1": "2005",
                                    "2": "3.2",
                                    "3": "7811",
                                    "4": "2"
                                },
                                {
                                    "0": "The Producers",
                                    "1": "2005",
                                    "2": "3.1",
                                    "3": "31343",
                                    "4": "2"
                                },
                                {
                                    "0": "The Proposition",
                                    "1": "2005",
                                    "2": "3.6",
                                    "3": "20228",
                                    "4": "2"
                                },
                                {
                                    "0": "The Pursuit of Happyness",
                                    "1": "2006",
                                    "2": "4.1",
                                    "3": "211913",
                                    "4": "2"
                                },
                                {
                                    "0": "The Razor's Edge",
                                    "1": "1984",
                                    "2": "3.7",
                                    "3": "879",
                                    "4": "2"
                                },
                                {
                                    "0": "The Return",
                                    "1": "2006",
                                    "2": "2.9",
                                    "3": "26258",
                                    "4": "2"
                                },
                                {
                                    "0": "The Riches",
                                    "1": "2007",
                                    "2": "NULL",
                                    "3": "NULL",
                                    "4": "2"
                                },
                                {
                                    "0": "The Ring",
                                    "1": "2002",
                                    "2": "3.0",
                                    "3": "146246",
                                    "4": "3"
                                },
                                {
                                    "0": "The Road to El Dorado",
                                    "1": "2000",
                                    "2": "3.1",
                                    "3": "9172",
                                    "4": "2"
                                },
                                {
                                    "0": "The Rookie",
                                    "1": "2002",
                                    "2": "3.3",
                                    "3": "10597",
                                    "4": "2"
                                },
                                {
                                    "0": "The Rules of Attraction",
                                    "1": "2002",
                                    "2": "3.2",
                                    "3": "10253",
                                    "4": "2"
                                },
                                {
                                    "0": "The Scarlet Letter",
                                    "1": "1995",
                                    "2": "2.9",
                                    "3": "3493",
                                    "4": "2"
                                },
                                {
                                    "0": "The School of Rock",
                                    "1": "2003",
                                    "2": "3.2",
                                    "3": "183700",
                                    "4": "2"
                                },
                                {
                                    "0": "The Sentinel",
                                    "1": "2006",
                                    "2": "3.1",
                                    "3": "26716",
                                    "4": "2"
                                },
                                {
                                    "0": "The Shaggy Dog",
                                    "1": "2006",
                                    "2": "2.9",
                                    "3": "41890",
                                    "4": "2"
                                },
                                {
                                    "0": "The Stepford Wives",
                                    "1": "2004",
                                    "2": "2.6",
                                    "3": "14476",
                                    "4": "2"
                                },
                                {
                                    "0": "The Strangers",
                                    "1": "2008",
                                    "2": "3.1",
                                    "3": "55773",
                                    "4": "3"
                                },
                                {
                                    "0": "The Ten Commandments",
                                    "1": "1956",
                                    "2": "3.6",
                                    "3": "11440",
                                    "4": "2"
                                },
                                {
                                    "0": "The Texas Chainsaw Massacre",
                                    "1": "2003",
                                    "2": "3.2",
                                    "3": "36030",
                                    "4": "2"
                                },
                                {
                                    "0": "The Thief of Bagdad",
                                    "1": "1924",
                                    "2": "3.6",
                                    "3": "655",
                                    "4": "3"
                                },
                                {
                                    "0": "The Thin Blue Line",
                                    "1": "1988",
                                    "2": "4.0",
                                    "3": "1805",
                                    "4": "2"
                                },
                                {
                                    "0": "The Thomas Crown Affair",
                                    "1": "1999",
                                    "2": "3.3",
                                    "3": "15699",
                                    "4": "2"
                                },
                                {
                                    "0": "The Three Musketeers",
                                    "1": "1993",
                                    "2": "3.2",
                                    "3": "13783",
                                    "4": "3"
                                },
                                {
                                    "0": "The Time Machine",
                                    "1": "2002",
                                    "2": "2.7",
                                    "3": "10389",
                                    "4": "3"
                                },
                                {
                                    "0": "The Time Traveler's Wife",
                                    "1": "2009",
                                    "2": "2.9",
                                    "3": "189828",
                                    "4": "2"
                                },
                                {
                                    "0": "The Truth About Cats & Dogs",
                                    "1": "1996",
                                    "2": "2.9",
                                    "3": "6120",
                                    "4": "2"
                                },
                                {
                                    "0": "The Usual Suspects",
                                    "1": "1995",
                                    "2": "4.2",
                                    "3": "109588",
                                    "4": "2"
                                },
                                {
                                    "0": "The Vampire Bat",
                                    "1": "1933",
                                    "2": "0.0",
                                    "3": "0",
                                    "4": "2"
                                },
                                {
                                    "0": "The Warriors",
                                    "1": "1979",
                                    "2": "0.0",
                                    "3": "0",
                                    "4": "2"
                                },
                                {
                                    "0": "The Watcher",
                                    "1": "2000",
                                    "2": "2.7",
                                    "3": "3820",
                                    "4": "2"
                                },
                                {
                                    "0": "The Whole Ten Yards",
                                    "1": "2004",
                                    "2": "3.0",
                                    "3": "11437",
                                    "4": "2"
                                },
                                {
                                    "0": "The Wicker Man",
                                    "1": "1973",
                                    "2": "3.6",
                                    "3": "8988",
                                    "4": "2"
                                },
                                {
                                    "0": "The Wizard",
                                    "1": "1989",
                                    "2": "3.1",
                                    "3": "3783",
                                    "4": "2"
                                },
                                {
                                    "0": "The Women",
                                    "1": "2008",
                                    "2": "3.0",
                                    "3": "20081",
                                    "4": "3"
                                },
                                {
                                    "0": "The Wood",
                                    "1": "1999",
                                    "2": "3.9",
                                    "3": "6421",
                                    "4": "2"
                                },
                                {
                                    "0": "The Wrestler",
                                    "1": "2008",
                                    "2": "3.9",
                                    "3": "57550",
                                    "4": "2"
                                },
                                {
                                    "0": "The Wrong Guy",
                                    "1": "1997",
                                    "2": "3.6",
                                    "3": "826",
                                    "4": "2"
                                },
                                {
                                    "0": "Thir13en Ghosts",
                                    "1": "2001",
                                    "2": "3.0",
                                    "3": "20700",
                                    "4": "3"
                                },
                                {
                                    "0": "This Boy's Life",
                                    "1": "1993",
                                    "2": "3.5",
                                    "3": "5072",
                                    "4": "2"
                                },
                                {
                                    "0": "This Is Spinal Tap",
                                    "1": "1984",
                                    "2": "3.9",
                                    "3": "23608",
                                    "4": "3"
                                },
                                {
                                    "0": "Titanic",
                                    "1": "1997",
                                    "2": "3.3",
                                    "3": "464576",
                                    "4": "2"
                                },
                                {
                                    "0": "To Be or Not to Be",
                                    "1": "1942",
                                    "2": "4.2",
                                    "3": "1733",
                                    "4": "2"
                                },
                                {
                                    "0": "Tough Guys Don't Dance",
                                    "1": "1987",
                                    "2": "3.3",
                                    "3": "251",
                                    "4": "2"
                                },
                                {
                                    "0": "Toy Story",
                                    "1": "1995",
                                    "2": "3.7",
                                    "3": "102338",
                                    "4": "2"
                                },
                                {
                                    "0": "Traffic",
                                    "1": "2000",
                                    "2": "3.5",
                                    "3": "26217",
                                    "4": "2"
                                },
                                {
                                    "0": "Transformers",
                                    "1": "2007",
                                    "2": "0.0",
                                    "3": "0",
                                    "4": "2"
                                },
                                {
                                    "0": "Treasure Island",
                                    "1": "1990",
                                    "2": "0.0",
                                    "3": "0",
                                    "4": "2"
                                },
                                {
                                    "0": "Trois couleurs: Rouge",
                                    "1": "1994",
                                    "2": "4.2",
                                    "3": "9557",
                                    "4": "2"
                                },
                                {
                                    "0": "True Crime",
                                    "1": "1999",
                                    "2": "3.2",
                                    "3": "2873",
                                    "4": "2"
                                },
                                {
                                    "0": "Trust the Man",
                                    "1": "2005",
                                    "2": "2.9",
                                    "3": "11451",
                                    "4": "2"
                                },
                                {
                                    "0": "Tucker: The Man and His Dream",
                                    "1": "1988",
                                    "2": "3.2",
                                    "3": "1497",
                                    "4": "2"
                                },
                                {
                                    "0": "Twelve O'Clock High",
                                    "1": "1949",
                                    "2": "0.0",
                                    "3": "0",
                                    "4": "2"
                                },
                                {
                                    "0": "Twilight",
                                    "1": "2008",
                                    "2": "4.1",
                                    "3": "256646",
                                    "4": "2"
                                },
                                {
                                    "0": "Twisted",
                                    "1": "2004",
                                    "2": "2.8",
                                    "3": "2961",
                                    "4": "2"
                                },
                                {
                                    "0": "Twister",
                                    "1": "1996",
                                    "2": "3.2",
                                    "3": "45771",
                                    "4": "2"
                                },
                                {
                                    "0": "U-Carmen e-Khayelitsha",
                                    "1": "2005",
                                    "2": "3.2",
                                    "3": "1204",
                                    "4": "2"
                                },
                                {
                                    "0": "Under Suspicion",
                                    "1": "2000",
                                    "2": "3.2",
                                    "3": "1858",
                                    "4": "2"
                                },
                                {
                                    "0": "Underworld",
                                    "1": "2003",
                                    "2": "3.6",
                                    "3": "101467",
                                    "4": "2"
                                },
                                {
                                    "0": "Underworld: Evolution",
                                    "1": "2006",
                                    "2": "3.6",
                                    "3": "111035",
                                    "4": "2"
                                },
                                {
                                    "0": "Unforgiven",
                                    "1": "1992",
                                    "2": "4.0",
                                    "3": "27203",
                                    "4": "2"
                                },
                                {
                                    "0": "Unknown",
                                    "1": "2006",
                                    "2": "3.3",
                                    "3": "6616",
                                    "4": "2"
                                },
                                {
                                    "0": "Valkyrie",
                                    "1": "2008",
                                    "2": "3.5",
                                    "3": "113378",
                                    "4": "2"
                                },
                                {
                                    "0": "Van Helsing",
                                    "1": "2004",
                                    "2": "0.0",
                                    "3": "0",
                                    "4": "2"
                                },
                                {
                                    "0": "Venom",
                                    "1": "2005",
                                    "2": "2.6",
                                    "3": "2557",
                                    "4": "2"
                                },
                                {
                                    "0": "V for Vendetta",
                                    "1": "2006",
                                    "2": "3.9",
                                    "3": "226041",
                                    "4": "2"
                                },
                                {
                                    "0": "Vicky Cristina Barcelona",
                                    "1": "2008",
                                    "2": "3.6",
                                    "3": "45494",
                                    "4": "2"
                                },
                                {
                                    "0": "Village of the Damned",
                                    "1": "1995",
                                    "2": "2.7",
                                    "3": "4194",
                                    "4": "2"
                                },
                                {
                                    "0": "Waking Life",
                                    "1": "2001",
                                    "2": "4.0",
                                    "3": "17715",
                                    "4": "2"
                                },
                                {
                                    "0": "Walk All Over Me",
                                    "1": "2007",
                                    "2": "3.0",
                                    "3": "609",
                                    "4": "2"
                                },
                                {
                                    "0": "War",
                                    "1": "2007",
                                    "2": "0.0",
                                    "3": "0",
                                    "4": "2"
                                },
                                {
                                    "0": "War of the Worlds",
                                    "1": "2005",
                                    "2": "2.9",
                                    "3": "162092",
                                    "4": "3"
                                },
                                {
                                    "0": "Wayne's World",
                                    "1": "1992",
                                    "2": "3.4",
                                    "3": "45784",
                                    "4": "2"
                                },
                                {
                                    "0": "Wedding Crashers",
                                    "1": "2005",
                                    "2": "3.5",
                                    "3": "215271",
                                    "4": "2"
                                },
                                {
                                    "0": "Weekend at Bernie's",
                                    "1": "1989",
                                    "2": "3.0",
                                    "3": "6596",
                                    "4": "2"
                                },
                                {
                                    "0": "We're No Angels",
                                    "1": "1989",
                                    "2": "2.9",
                                    "3": "2176",
                                    "4": "2"
                                },
                                {
                                    "0": "Whale Rider",
                                    "1": "2002",
                                    "2": "3.8",
                                    "3": "9564",
                                    "4": "2"
                                },
                                {
                                    "0": "What Ever Happened to Baby Jane?",
                                    "1": "1962",
                                    "2": "3.9",
                                    "3": "7128",
                                    "4": "2"
                                },
                                {
                                    "0": "When a Stranger Calls",
                                    "1": "2006",
                                    "2": "3.1",
                                    "3": "53427",
                                    "4": "2"
                                },
                                {
                                    "0": "Where in the World Is Osama Bin Laden?",
                                    "1": "2008",
                                    "2": "3.3",
                                    "3": "2558",
                                    "4": "2"
                                },
                                {
                                    "0": "Where the Heart Is",
                                    "1": "2000",
                                    "2": "3.5",
                                    "3": "12595",
                                    "4": "2"
                                },
                                {
                                    "0": "Wild Hogs",
                                    "1": "2007",
                                    "2": "3.4",
                                    "3": "86633",
                                    "4": "2"
                                },
                                {
                                    "0": "Wonderland",
                                    "1": "2003",
                                    "2": "3.3",
                                    "3": "3666",
                                    "4": "3"
                                },
                                {
                                    "0": "Wuthering Heights",
                                    "1": "1939",
                                    "2": "3.9",
                                    "3": "2525",
                                    "4": "3"
                                },
                                {
                                    "0": "X-Men",
                                    "1": "2000",
                                    "2": "3.7",
                                    "3": "133573",
                                    "4": "2"
                                },
                                {
                                    "0": "Yes Man",
                                    "1": "2008",
                                    "2": "3.7",
                                    "3": "141478",
                                    "4": "3"
                                },
                                {
                                    "0": "Young @ Heart",
                                    "1": "2007",
                                    "2": "4.2",
                                    "3": "3340",
                                    "4": "2"
                                },
                                {
                                    "0": "Your Friends & Neighbors",
                                    "1": "1998",
                                    "2": "3.3",
                                    "3": "1418",
                                    "4": "2"
                                },
                                {
                                    "0": "Yours, Mine and Ours",
                                    "1": "2005",
                                    "2": "3.2",
                                    "3": "36270",
                                    "4": "2"
                                },
                                {
                                    "0": "Zardoz",
                                    "1": "1974",
                                    "2": "3.1",
                                    "3": "2696",
                                    "4": "2"
                                }
                            ]
                        },
                        "text/html": [
                            "<table>",
                            "<tr><th>title</th><th>year</th><th>rating</th><th>num_ratings</th><th>occurrences</th></tr>",
                            "<tr><td>11'09''01 - September 11</td><td>2002</td><td>3.5</td><td>303</td><td>2</td></tr>",
                            "<tr><td>12 Angry Men</td><td>1957</td><td>4.1</td><td>22784</td><td>2</td></tr>",
                            "<tr><td>20 Million Miles to Earth</td><td>1957</td><td>0.0</td><td>0</td><td>2</td></tr>",
                            "<tr><td>24 Hour Party People</td><td>2002</td><td>0.0</td><td>0</td><td>2</td></tr>",
                            "<tr><td>28 Days Later...</td><td>2002</td><td>3.6</td><td>107149</td><td>2</td></tr>",
                            "<tr><td>2 Days in Paris</td><td>2007</td><td>3.6</td><td>27100</td><td>2</td></tr>",
                            "<tr><td>30 Days of Night</td><td>2007</td><td>3.3</td><td>146766</td><td>2</td></tr>",
                            "<tr><td>3:10 to Yuma</td><td>2007</td><td>3.9</td><td>139372</td><td>2</td></tr>",
                            "<tr><td>48 Hrs.</td><td>1982</td><td>3.2</td><td>10471</td><td>2</td></tr>",
                            "<tr><td>4: Rise of the Silver Surfer</td><td>2007</td><td>3.2</td><td>470350</td><td>2</td></tr>",
                            "<tr><td>Abandon</td><td>2002</td><td>2.7</td><td>2670</td><td>2</td></tr>",
                            "<tr><td>A Beautiful Mind</td><td>2001</td><td>3.9</td><td>103150</td><td>2</td></tr>",
                            "<tr><td>À bout de souffle</td><td>1960</td><td>4.2</td><td>10327</td><td>2</td></tr>",
                            "<tr><td>Ae Fond Kiss...</td><td>2004</td><td>3.7</td><td>1269</td><td>2</td></tr>",
                            "<tr><td>A Foreign Affair</td><td>1948</td><td>3.7</td><td>504</td><td>2</td></tr>",
                            "<tr><td>A Kiss Before Dying</td><td>1956</td><td>0.0</td><td>0</td><td>2</td></tr>",
                            "<tr><td>Albino Alligator</td><td>1996</td><td>3.0</td><td>1198</td><td>2</td></tr>",
                            "<tr><td>Alexander</td><td>2004</td><td>2.7</td><td>29540</td><td>2</td></tr>",
                            "<tr><td>Alfie</td><td>2004</td><td>2.9</td><td>15367</td><td>2</td></tr>",
                            "<tr><td>Alien³</td><td>1992</td><td>3.1</td><td>30526</td><td>2</td></tr>",
                            "<tr><td>A Little Princess</td><td>1995</td><td>3.4</td><td>13643</td><td>2</td></tr>",
                            "<tr><td>All Quiet on the Western Front</td><td>1930</td><td>3.8</td><td>3797</td><td>2</td></tr>",
                            "<tr><td>All the King's Men</td><td>2006</td><td>0.0</td><td>0</td><td>2</td></tr>",
                            "<tr><td>Alone in the Dark</td><td>2005</td><td>2.1</td><td>8641</td><td>3</td></tr>",
                            "<tr><td>American Pie</td><td>1999</td><td>3.4</td><td>203348</td><td>2</td></tr>",
                            "<tr><td>American Splendor</td><td>2003</td><td>3.7</td><td>9157</td><td>2</td></tr>",
                            "<tr><td>A Midsummer Night's Dream</td><td>1999</td><td>0.0</td><td>0</td><td>2</td></tr>",
                            "<tr><td>Anastasia</td><td>1997</td><td>3.2</td><td>33076</td><td>2</td></tr>",
                            "<tr><td>Angela's Ashes</td><td>1999</td><td>3.6</td><td>4588</td><td>2</td></tr>",
                            "<tr><td>Angus, Thongs and Perfect Snogging</td><td>2008</td><td>3.9</td><td>6295</td><td>2</td></tr>",
                            "<tr><td>A Nightmare on Elm Street: The Dream Child</td><td>1989</td><td>2.9</td><td>17837</td><td>2</td></tr>",
                            "<tr><td>Animal House</td><td>1978</td><td>3.7</td><td>25149</td><td>2</td></tr>",
                            "<tr><td>Anna Karenina</td><td>1935</td><td>0.0</td><td>0</td><td>2</td></tr>",
                            "<tr><td>A Perfect Getaway</td><td>2009</td><td>3.2</td><td>102622</td><td>3</td></tr>",
                            "<tr><td>A Perfect Murder</td><td>1998</td><td>3.1</td><td>9130</td><td>2</td></tr>",
                            "<tr><td>Appaloosa</td><td>2008</td><td>3.2</td><td>19629</td><td>2</td></tr>",
                            "<tr><td>Around the World in 80 Days</td><td>2004</td><td>2.7</td><td>14038</td><td>2</td></tr>",
                            "<tr><td>Ask the Dust</td><td>2006</td><td>2.8</td><td>14077</td><td>2</td></tr>",
                            "<tr><td>Assault on Precinct 13</td><td>2005</td><td>3.1</td><td>12635</td><td>2</td></tr>",
                            "<tr><td>A Star Is Born</td><td>1937</td><td>0.0</td><td>0</td><td>2</td></tr>",
                            "<tr><td>Asylum</td><td>2008</td><td>2.2</td><td>1071</td><td>2</td></tr>",
                            "<tr><td>A Tale of Two Cities</td><td>1958</td><td>0.0</td><td>0</td><td>2</td></tr>",
                            "<tr><td>August Rush</td><td>2007</td><td>4.0</td><td>105941</td><td>4</td></tr>",
                            "<tr><td>Auto Focus</td><td>2002</td><td>3.2</td><td>1283</td><td>2</td></tr>",
                            "<tr><td>Babe</td><td>1995</td><td>3.0</td><td>22954</td><td>2</td></tr>",
                            "<tr><td>Babes in Toyland</td><td>1934</td><td>3.6</td><td>865</td><td>2</td></tr>",
                            "<tr><td>Back to the Future</td><td>1985</td><td>3.8</td><td>126816</td><td>2</td></tr>",
                            "<tr><td>Bad Boys</td><td>1995</td><td>3.5</td><td>67658</td><td>2</td></tr>",
                            "<tr><td>Bad Company</td><td>2002</td><td>2.8</td><td>6415</td><td>3</td></tr>",
                            "<tr><td>Bad Day at Black Rock</td><td>1955</td><td>3.9</td><td>1420</td><td>2</td></tr>",
                            "<tr><td>Balls of Fury</td><td>2007</td><td>2.8</td><td>85682</td><td>3</td></tr>",
                            "<tr><td>Bandits</td><td>2001</td><td>3.1</td><td>9238</td><td>2</td></tr>",
                            "<tr><td>Bangkok Dangerous</td><td>2008</td><td>2.8</td><td>23793</td><td>2</td></tr>",
                            "<tr><td>Barbershop 2: Back in Business</td><td>2004</td><td>3.1</td><td>7601</td><td>2</td></tr>",
                            "<tr><td>Basic Instinct 2</td><td>2006</td><td>2.5</td><td>28208</td><td>2</td></tr>",
                            "<tr><td>Batman</td><td>1966</td><td>3.0</td><td>13951</td><td>2</td></tr>",
                            "<tr><td>Beautiful Boxer</td><td>2003</td><td>3.9</td><td>879</td><td>2</td></tr>",
                            "<tr><td>Bedazzled</td><td>2000</td><td>2.7</td><td>15017</td><td>2</td></tr>",
                            "<tr><td>Before Sunset</td><td>2004</td><td>4.0</td><td>20750</td><td>2</td></tr>",
                            "<tr><td>Being Julia</td><td>2004</td><td>3.5</td><td>1947</td><td>2</td></tr>",
                            "<tr><td>Believers</td><td>2007</td><td>0.0</td><td>0</td><td>2</td></tr>",
                            "<tr><td>Ben-Hur</td><td>1959</td><td>3.7</td><td>25817</td><td>2</td></tr>",
                            "<tr><td>Benji the Hunted</td><td>1987</td><td>0.0</td><td>0</td><td>2</td></tr>",
                            "<tr><td>Best of the Best 3: No Turning Back</td><td>1995</td><td>0.0</td><td>0</td><td>2</td></tr>",
                            "<tr><td>Beyond the Valley of the Dolls</td><td>1970</td><td>0.0</td><td>0</td><td>2</td></tr>",
                            "<tr><td>Big</td><td>1988</td><td>3.4</td><td>33658</td><td>2</td></tr>",
                            "<tr><td>Bill &amp; Ted's Bogus Journey</td><td>1991</td><td>3.0</td><td>17201</td><td>2</td></tr>",
                            "<tr><td>Black Beauty</td><td>1994</td><td>0.0</td><td>0</td><td>2</td></tr>",
                            "<tr><td>Black Christmas</td><td>2006</td><td>0.0</td><td>0</td><td>2</td></tr>",
                            "<tr><td>Black Moon Rising</td><td>1986</td><td>2.8</td><td>1020</td><td>2</td></tr>",
                            "<tr><td>Black Robe</td><td>1991</td><td>3.3</td><td>1641</td><td>2</td></tr>",
                            "<tr><td>Black Sheep</td><td>2006</td><td>3.2</td><td>19454</td><td>2</td></tr>",
                            "<tr><td>Blade</td><td>1998</td><td>3.6</td><td>87683</td><td>2</td></tr>",
                            "<tr><td>Blind Date</td><td>1987</td><td>2.9</td><td>2983</td><td>2</td></tr>",
                            "<tr><td>Blindness</td><td>2008</td><td>3.1</td><td>17761</td><td>2</td></tr>",
                            "<tr><td>Bloody Sunday</td><td>2002</td><td>4.0</td><td>2812</td><td>2</td></tr>",
                            "<tr><td>Blueberry</td><td>2004</td><td>0.0</td><td>0</td><td>2</td></tr>",
                            "<tr><td>Blue Collar Comedy Tour: The Movie</td><td>2003</td><td>3.6</td><td>6829</td><td>2</td></tr>",
                            "<tr><td>Body of Lies</td><td>2008</td><td>3.5</td><td>38376</td><td>2</td></tr>",
                            "<tr><td>Boogeyman</td><td>2005</td><td>2.5</td><td>13866</td><td>2</td></tr>",
                            "<tr><td>Boomerang</td><td>1992</td><td>2.8</td><td>4751</td><td>2</td></tr>",
                            "<tr><td>Borat: Cultural Learnings of America for Make Benefit Glorious Nation of Kazakhstan</td><td>2006</td><td>3.4</td><td>141091</td><td>2</td></tr>",
                            "<tr><td>Born Yesterday</td><td>1950</td><td>3.9</td><td>1132</td><td>2</td></tr>",
                            "<tr><td>Bottle Shock</td><td>2008</td><td>3.3</td><td>4827</td><td>2</td></tr>",
                            "<tr><td>Boy A</td><td>2007</td><td>3.5</td><td>5895</td><td>3</td></tr>",
                            "<tr><td>Boy Meets Girl</td><td>1984</td><td>0.0</td><td>0</td><td>2</td></tr>",
                            "<tr><td>Bride of Chucky</td><td>1998</td><td>2.6</td><td>20874</td><td>2</td></tr>",
                            "<tr><td>Britannia Hospital</td><td>1982</td><td>0.0</td><td>0</td><td>2</td></tr>",
                            "<tr><td>Broken English</td><td>2007</td><td>3.4</td><td>14630</td><td>2</td></tr>",
                            "<tr><td>Buddy</td><td>1997</td><td>2.8</td><td>1106</td><td>2</td></tr>",
                            "<tr><td>Bug</td><td>2006</td><td>2.5</td><td>168834</td><td>2</td></tr>",
                            "<tr><td>Bulletproof Monk</td><td>2003</td><td>2.9</td><td>13789</td><td>2</td></tr>",
                            "<tr><td>Burn After Reading</td><td>2008</td><td>3.4</td><td>71248</td><td>2</td></tr>",
                            "<tr><td>Cabin Fever</td><td>2002</td><td>2.6</td><td>15690</td><td>2</td></tr>",
                            "<tr><td>Caché</td><td>2005</td><td>3.5</td><td>16387</td><td>2</td></tr>",
                            "<tr><td>Calendar Girls</td><td>2003</td><td>3.1</td><td>8453</td><td>3</td></tr>",
                            "<tr><td>Candy</td><td>2006</td><td>3.8</td><td>9542</td><td>2</td></tr>",
                            "<tr><td>Cape Fear</td><td>1991</td><td>3.4</td><td>13943</td><td>3</td></tr>",
                            "<tr><td>Carrie</td><td>1976</td><td>3.3</td><td>23161</td><td>2</td></tr>",
                            "<tr><td>Casino Royale</td><td>2006</td><td>3.9</td><td>155430</td><td>2</td></tr>",
                            "<tr><td>Cat People</td><td>1982</td><td>3.0</td><td>2400</td><td>2</td></tr>",
                            "<tr><td>Changeling</td><td>2008</td><td>3.8</td><td>63438</td><td>2</td></tr>",
                            "<tr><td>Chaos</td><td>2005</td><td>0.0</td><td>0</td><td>2</td></tr>",
                            "<tr><td>Charlie and the Chocolate Factory</td><td>2005</td><td>0.0</td><td>0</td><td>3</td></tr>",
                            "<tr><td>Charlie's Angels: Full Throttle</td><td>2003</td><td>3.0</td><td>33126</td><td>2</td></tr>",
                            "<tr><td>Charlotte's Web</td><td>2006</td><td>3.3</td><td>39179</td><td>2</td></tr>",
                            "<tr><td>Cheaper by the Dozen</td><td>2003</td><td>3.1</td><td>62198</td><td>2</td></tr>",
                            "<tr><td>Children of Men</td><td>2006</td><td>3.7</td><td>127695</td><td>2</td></tr>",
                            "<tr><td>Chocolat</td><td>2000</td><td>3.6</td><td>62492</td><td>2</td></tr>",
                            "<tr><td>Chun gwong cha sit</td><td>1997</td><td>4.1</td><td>4907</td><td>2</td></tr>",
                            "<tr><td>Cinderella</td><td>1950</td><td>3.5</td><td>63946</td><td>2</td></tr>",
                            "<tr><td>City Lights</td><td>1931</td><td>4.3</td><td>7937</td><td>2</td></tr>",
                            "<tr><td>Clifford's Really Big Movie</td><td>2004</td><td>3.0</td><td>524</td><td>2</td></tr>",
                            "<tr><td>Cloak &amp; Dagger</td><td>1984</td><td>0.0</td><td>0</td><td>2</td></tr>",
                            "<tr><td>Cobra</td><td>1986</td><td>2.7</td><td>5821</td><td>2</td></tr>",
                            "<tr><td>College</td><td>2008</td><td>2.8</td><td>10667</td><td>2</td></tr>",
                            "<tr><td>Communion</td><td>1976</td><td>0.0</td><td>0</td><td>2</td></tr>",
                            "<tr><td>Conspiracy</td><td>2008</td><td>2.5</td><td>968</td><td>2</td></tr>",
                            "<tr><td>Contact</td><td>1997</td><td>3.1</td><td>19572</td><td>2</td></tr>",
                            "<tr><td>Cookie's Fortune</td><td>1999</td><td>3.2</td><td>1364</td><td>2</td></tr>",
                            "<tr><td>Cool Hand Luke</td><td>1967</td><td>4.1</td><td>17521</td><td>2</td></tr>",
                            "<tr><td>Courage Under Fire</td><td>1996</td><td>3.2</td><td>6918</td><td>2</td></tr>",
                            "<tr><td>Cousins</td><td>1989</td><td>3.1</td><td>644</td><td>2</td></tr>",
                            "<tr><td>Coyote Ugly</td><td>2000</td><td>3.2</td><td>65988</td><td>2</td></tr>",
                            "<tr><td>Crash</td><td>2004</td><td>4.0</td><td>98746</td><td>3</td></tr>",
                            "<tr><td>Crazy Love</td><td>2007</td><td>3.6</td><td>2624</td><td>2</td></tr>",
                            "<tr><td>CrissCross</td><td>1992</td><td>0.0</td><td>0</td><td>2</td></tr>",
                            "<tr><td>Crossroads</td><td>2002</td><td>2.2</td><td>15071</td><td>2</td></tr>",
                            "<tr><td>Crush</td><td>2001</td><td>NULL</td><td>NULL</td><td>3</td></tr>",
                            "<tr><td>Cursed</td><td>2005</td><td>0.0</td><td>0</td><td>2</td></tr>",
                            "<tr><td>Dances with Wolves</td><td>1990</td><td>3.6</td><td>28000</td><td>2</td></tr>",
                            "<tr><td>Dangerous Liaisons</td><td>1988</td><td>3.7</td><td>11359</td><td>2</td></tr>",
                            "<tr><td>Dan in Real Life</td><td>2007</td><td>3.5</td><td>112489</td><td>2</td></tr>",
                            "<tr><td>Darkness Falls</td><td>2003</td><td>2.8</td><td>11135</td><td>2</td></tr>",
                            "<tr><td>Da wan</td><td>2001</td><td>3.6</td><td>201</td><td>2</td></tr>",
                            "<tr><td>Dawn of the Dead</td><td>2004</td><td>3.4</td><td>49706</td><td>3</td></tr>",
                            "<tr><td>Dead End</td><td>2003</td><td>0.0</td><td>0</td><td>2</td></tr>",
                            "<tr><td>Dead Poets Society</td><td>1989</td><td>3.8</td><td>56733</td><td>2</td></tr>",
                            "<tr><td>Dead Ringers</td><td>1988</td><td>3.6</td><td>4690</td><td>2</td></tr>",
                            "<tr><td>Death Race</td><td>2008</td><td>3.5</td><td>50505</td><td>2</td></tr>",
                            "<tr><td>Death Wish</td><td>1974</td><td>3.3</td><td>4245</td><td>2</td></tr>",
                            "<tr><td>Deep Blue Sea</td><td>1999</td><td>2.8</td><td>26286</td><td>2</td></tr>",
                            "<tr><td>Deep Impact</td><td>1998</td><td>2.9</td><td>28624</td><td>2</td></tr>",
                            "<tr><td>Deja Vu</td><td>2006</td><td>0.0</td><td>0</td><td>2</td></tr>",
                            "<tr><td>Delta Force 2: The Colombian Connection</td><td>1990</td><td>2.9</td><td>1781</td><td>2</td></tr>",
                            "<tr><td>Der Himmel über Berlin</td><td>1987</td><td>4.4</td><td>9110</td><td>2</td></tr>",
                            "<tr><td>Die Büchse der Pandora</td><td>1929</td><td>4.1</td><td>1316</td><td>2</td></tr>",
                            "<tr><td>Die Hard</td><td>1988</td><td>3.9</td><td>99625</td><td>2</td></tr>",
                            "<tr><td>DOA: Dead or Alive</td><td>2006</td><td>2.7</td><td>71044</td><td>4</td></tr>",
                            "<tr><td>Doctor Dolittle</td><td>1998</td><td>2.8</td><td>23847</td><td>2</td></tr>",
                            "<tr><td>Dolls</td><td>2002</td><td>4.2</td><td>3709</td><td>2</td></tr>",
                            "<tr><td>Don't Be a Menace to South Central While Drinking Your Juice in the Hood</td><td>1996</td><td>0.0</td><td>0</td><td>2</td></tr>",
                            "<tr><td>Dracula</td><td>1931</td><td>3.6</td><td>8598</td><td>3</td></tr>",
                            "<tr><td>Dreamer: Inspired by a True Story</td><td>2005</td><td>3.6</td><td>21404</td><td>2</td></tr>",
                            "<tr><td>Dressed to Kill</td><td>1946</td><td>0.0</td><td>0</td><td>2</td></tr>",
                            "<tr><td>Dr. Jekyll and Mr. Hyde</td><td>2008</td><td>0.0</td><td>0</td><td>3</td></tr>",
                            "<tr><td>Dr. Mabuse, der Spieler - Ein Bild der Zeit</td><td>1922</td><td>4.1</td><td>721</td><td>2</td></tr>",
                            "<tr><td>Dr. Strangelove or: How I Learned to Stop Worrying and Love the Bomb</td><td>1964</td><td>4.2</td><td>33662</td><td>2</td></tr>",
                            "<tr><td>Dune</td><td>1984</td><td>3.4</td><td>17715</td><td>2</td></tr>",
                            "<tr><td>Duo luo tian shi</td><td>1995</td><td>4.0</td><td>4014</td><td>2</td></tr>",
                            "<tr><td>&quot;Earth: Final Conflict&quot;</td><td>1997</td><td>NULL</td><td>NULL</td><td>2</td></tr>",
                            "<tr><td>Eastern Promises</td><td>2007</td><td>3.8</td><td>66267</td><td>2</td></tr>",
                            "<tr><td>East of Eden</td><td>1955</td><td>4.0</td><td>5957</td><td>2</td></tr>",
                            "<tr><td>Eight Below</td><td>2006</td><td>3.4</td><td>27593</td><td>2</td></tr>",
                            "<tr><td>Elizabeth: The Golden Age</td><td>2007</td><td>3.3</td><td>74366</td><td>2</td></tr>",
                            "<tr><td>Employee of the Month</td><td>2006</td><td>3.2</td><td>54090</td><td>2</td></tr>",
                            "<tr><td>Enchanted</td><td>2007</td><td>3.8</td><td>188655</td><td>3</td></tr>",
                            "<tr><td>Enigma</td><td>2001</td><td>3.2</td><td>2061</td><td>2</td></tr>",
                            "<tr><td>Et Dieu... créa la femme</td><td>1956</td><td>3.0</td><td>1435</td><td>2</td></tr>",
                            "<tr><td>Evan Almighty</td><td>2007</td><td>3.2</td><td>369422</td><td>2</td></tr>",
                            "<tr><td>Evil Angels</td><td>1988</td><td>3.3</td><td>1554</td><td>2</td></tr>",
                            "<tr><td>Eye for an Eye</td><td>1996</td><td>0.0</td><td>0</td><td>2</td></tr>",
                            "<tr><td>Face/Off</td><td>1997</td><td>3.5</td><td>62348</td><td>3</td></tr>",
                            "<tr><td>Fail-Safe</td><td>1964</td><td>0.0</td><td>0</td><td>2</td></tr>",
                            "<tr><td>Failure to Launch</td><td>2006</td><td>3.2</td><td>86609</td><td>2</td></tr>",
                            "<tr><td>Father of the Bride</td><td>1991</td><td>3.2</td><td>22336</td><td>2</td></tr>",
                            "<tr><td>Faust: Love of the Damned</td><td>2000</td><td>0.0</td><td>0</td><td>2</td></tr>",
                            "<tr><td>Fever Pitch</td><td>2005</td><td>3.0</td><td>14004</td><td>2</td></tr>",
                            "<tr><td>Filth and Wisdom</td><td>2008</td><td>3.0</td><td>1070</td><td>2</td></tr>",
                            "<tr><td>Fire Down Below</td><td>1997</td><td>2.6</td><td>3327</td><td>2</td></tr>",
                            "<tr><td>Five Easy Pieces</td><td>1970</td><td>3.9</td><td>4148</td><td>3</td></tr>",
                            "<tr><td>Flash Gordon</td><td>1980</td><td>3.1</td><td>6492</td><td>2</td></tr>",
                            "<tr><td>Flawless</td><td>2007</td><td>3.3</td><td>5982</td><td>2</td></tr>",
                            "<tr><td>Flicka</td><td>2006</td><td>3.7</td><td>22360</td><td>2</td></tr>",
                            "<tr><td>Flight of the Navigator</td><td>1986</td><td>0.0</td><td>0</td><td>2</td></tr>",
                            "<tr><td>Flight of the Phoenix</td><td>2004</td><td>3.0</td><td>7566</td><td>2</td></tr>",
                            "<tr><td>Flipper</td><td>1996</td><td>2.6</td><td>6086</td><td>2</td></tr>",
                            "<tr><td>Flirting with Disaster</td><td>1996</td><td>3.3</td><td>2127</td><td>2</td></tr>",
                            "<tr><td>Foolish Wives</td><td>1922</td><td>0.0</td><td>0</td><td>2</td></tr>",
                            "<tr><td>For the Bible Tells Me So</td><td>2007</td><td>4.1</td><td>1345</td><td>2</td></tr>",
                            "<tr><td>Frankenstein</td><td>1931</td><td>3.6</td><td>7211</td><td>2</td></tr>",
                            "<tr><td>Frankie and Johnny</td><td>1991</td><td>3.2</td><td>4527</td><td>2</td></tr>",
                            "<tr><td>Freaky Friday</td><td>2003</td><td>2.9</td><td>73112</td><td>2</td></tr>",
                            "<tr><td>From Dusk Till Dawn</td><td>1996</td><td>3.4</td><td>36073</td><td>2</td></tr>",
                            "<tr><td>Frozen River</td><td>2008</td><td>3.2</td><td>9338</td><td>3</td></tr>",
                            "<tr><td>Funny Games U.S.</td><td>2007</td><td>3.2</td><td>16153</td><td>2</td></tr>",
                            "<tr><td>Fun with Dick and Jane</td><td>2005</td><td>3.2</td><td>80127</td><td>2</td></tr>",
                            "<tr><td>F/X2</td><td>1991</td><td>2.8</td><td>1000</td><td>2</td></tr>",
                            "<tr><td>Galaxy Quest</td><td>1999</td><td>3.0</td><td>19804</td><td>2</td></tr>",
                            "<tr><td>Gangs of New York</td><td>2002</td><td>3.5</td><td>35768</td><td>2</td></tr>",
                            "<tr><td>Gegen die Wand</td><td>2004</td><td>0.0</td><td>0</td><td>2</td></tr>",
                            "<tr><td>Georgia Rule</td><td>2007</td><td>3.0</td><td>64056</td><td>2</td></tr>",
                            "<tr><td>Get Carter</td><td>2000</td><td>2.5</td><td>4003</td><td>2</td></tr>",
                            "<tr><td>Get Over It</td><td>2001</td><td>2.9</td><td>9761</td><td>2</td></tr>",
                            "<tr><td>Getting Even with Dad</td><td>1994</td><td>2.4</td><td>2200</td><td>2</td></tr>",
                            "<tr><td>Gladiator</td><td>2000</td><td>3.8</td><td>248672</td><td>2</td></tr>",
                            "<tr><td>Gloria</td><td>1999</td><td>2.7</td><td>660</td><td>2</td></tr>",
                            "<tr><td>Godzilla</td><td>1998</td><td>2.6</td><td>17658</td><td>2</td></tr>",
                            "<tr><td>Goldfinger</td><td>1964</td><td>3.6</td><td>22155</td><td>2</td></tr>",
                            "<tr><td>Gone Baby Gone</td><td>2007</td><td>3.8</td><td>95109</td><td>2</td></tr>",
                            "<tr><td>Gone in Sixty Seconds</td><td>2000</td><td>3.5</td><td>92563</td><td>2</td></tr>",
                            "<tr><td>Go West</td><td>1940</td><td>0.0</td><td>0</td><td>2</td></tr>",
                            "<tr><td>Grease</td><td>1978</td><td>3.7</td><td>176349</td><td>2</td></tr>",
                            "<tr><td>Great Expectations</td><td>1998</td><td>3.4</td><td>10607</td><td>2</td></tr>",
                            "<tr><td>&quot;Grey's Anatomy&quot;</td><td>2005</td><td>NULL</td><td>NULL</td><td>2</td></tr>",
                            "<tr><td>Grosse Pointe Blank</td><td>1997</td><td>3.7</td><td>17815</td><td>2</td></tr>",
                            "<tr><td>Grumpy Old Men</td><td>1993</td><td>3.2</td><td>10489</td><td>2</td></tr>",
                            "<tr><td>Gypsy</td><td>1962</td><td>0.0</td><td>0</td><td>2</td></tr>",
                            "<tr><td>Hairspray</td><td>2007</td><td>3.9</td><td>382832</td><td>2</td></tr>",
                            "<tr><td>Halloween</td><td>2007</td><td>3.3</td><td>79946</td><td>2</td></tr>",
                            "<tr><td>Hamlet</td><td>1996</td><td>3.8</td><td>5816</td><td>6</td></tr>",
                            "<tr><td>Händler der vier Jahreszeiten</td><td>1971</td><td>0.0</td><td>0</td><td>2</td></tr>",
                            "<tr><td>Hard Target</td><td>1993</td><td>0.0</td><td>0</td><td>2</td></tr>",
                            "<tr><td>Harold &amp; Kumar Go to White Castle</td><td>2004</td><td>3.5</td><td>61100</td><td>2</td></tr>",
                            "<tr><td>Heaven Can Wait</td><td>1943</td><td>0.0</td><td>0</td><td>2</td></tr>",
                            "<tr><td>Heavenly Creatures</td><td>1994</td><td>3.7</td><td>8208</td><td>2</td></tr>",
                            "<tr><td>Henry V</td><td>1989</td><td>4.0</td><td>3619</td><td>2</td></tr>",
                            "<tr><td>High School Musical</td><td>2006</td><td>0.0</td><td>0</td><td>2</td></tr>",
                            "<tr><td>High School Musical 3: Senior Year</td><td>2008</td><td>3.6</td><td>80210</td><td>2</td></tr>",
                            "<tr><td>Homeward Bound: The Incredible Journey</td><td>1993</td><td>3.2</td><td>15019</td><td>2</td></tr>",
                            "<tr><td>Hot Fuzz</td><td>2007</td><td>4.0</td><td>177532</td><td>2</td></tr>",
                            "<tr><td>House of Wax</td><td>2005</td><td>2.8</td><td>39495</td><td>2</td></tr>",
                            "<tr><td>House on Haunted Hill</td><td>1999</td><td>2.9</td><td>13288</td><td>2</td></tr>",
                            "<tr><td>How Stella Got Her Groove Back</td><td>1998</td><td>3.1</td><td>4439</td><td>2</td></tr>",
                            "<tr><td>How the Grinch Stole Christmas</td><td>2000</td><td>3.1</td><td>34926</td><td>2</td></tr>",
                            "<tr><td>Huo Yuan Jia</td><td>2006</td><td>0.0</td><td>0</td><td>2</td></tr>",
                            "<tr><td>Hush</td><td>1998</td><td>2.9</td><td>1448</td><td>2</td></tr>",
                            "<tr><td>I Confess</td><td>1953</td><td>3.6</td><td>2474</td><td>2</td></tr>",
                            "<tr><td>Il mio viaggio in Italia</td><td>1999</td><td>3.9</td><td>769</td><td>2</td></tr>",
                            "<tr><td>I, Madman</td><td>1989</td><td>3.0</td><td>387</td><td>2</td></tr>",
                            "<tr><td>Impostor</td><td>2001</td><td>3.0</td><td>1418</td><td>2</td></tr>",
                            "<tr><td>Impulse</td><td>2008</td><td>0.0</td><td>0</td><td>2</td></tr>",
                            "<tr><td>In Cold Blood</td><td>1967</td><td>3.8</td><td>2614</td><td>2</td></tr>",
                            "<tr><td>Incubo sulla città contaminata</td><td>1980</td><td>0.0</td><td>0</td><td>2</td></tr>",
                            "<tr><td>Indagine su un cittadino al di sopra di ogni sospetto</td><td>1970</td><td>4.4</td><td>483</td><td>2</td></tr>",
                            "<tr><td>Indiana Jones and the Kingdom of the Crystal Skull</td><td>2008</td><td>3.4</td><td>252104</td><td>2</td></tr>",
                            "<tr><td>Indiana Jones and the Last Crusade</td><td>1989</td><td>3.9</td><td>103952</td><td>2</td></tr>",
                            "<tr><td>Indian Summer</td><td>1996</td><td>3.2</td><td>492</td><td>2</td></tr>",
                            "<tr><td>Innocence</td><td>2004</td><td>3.7</td><td>1170</td><td>2</td></tr>",
                            "<tr><td>Inside Man</td><td>2006</td><td>3.7</td><td>84980</td><td>2</td></tr>",
                            "<tr><td>Insomnia</td><td>2002</td><td>3.2</td><td>18085</td><td>2</td></tr>",
                            "<tr><td>Interview</td><td>2007</td><td>3.2</td><td>14637</td><td>2</td></tr>",
                            "<tr><td>Interview with the Vampire: The Vampire Chronicles</td><td>1994</td><td>3.7</td><td>77706</td><td>4</td></tr>",
                            "<tr><td>Into the West</td><td>1992</td><td>3.6</td><td>744</td><td>2</td></tr>",
                            "<tr><td>Into the Wild</td><td>2007</td><td>4.2</td><td>82515</td><td>2</td></tr>",
                            "<tr><td>Invasion of the Body Snatchers</td><td>1956</td><td>3.6</td><td>3820</td><td>4</td></tr>",
                            "<tr><td>Invincible</td><td>2006</td><td>3.6</td><td>34698</td><td>2</td></tr>",
                            "<tr><td>I, Robot</td><td>2004</td><td>0.0</td><td>0</td><td>2</td></tr>",
                            "<tr><td>Jane Eyre</td><td>2006</td><td>NULL</td><td>NULL</td><td>3</td></tr>",
                            "<tr><td>Jaws</td><td>1975</td><td>3.5</td><td>63534</td><td>2</td></tr>",
                            "<tr><td>Jeder für sich und Gott gegen alle</td><td>1974</td><td>0.0</td><td>0</td><td>2</td></tr>",
                            "<tr><td>Jerry Maguire</td><td>1996</td><td>3.3</td><td>32601</td><td>2</td></tr>",
                            "<tr><td>Jersey Girl</td><td>2004</td><td>2.9</td><td>16772</td><td>2</td></tr>",
                            "<tr><td>Joan of Arc</td><td>1999</td><td>3.1</td><td>8110</td><td>2</td></tr>",
                            "<tr><td>Joe Dirt</td><td>2001</td><td>2.8</td><td>16165</td><td>2</td></tr>",
                            "<tr><td>Joshua</td><td>2007</td><td>2.9</td><td>13913</td><td>2</td></tr>",
                            "<tr><td>Journey to the Center of the Earth</td><td>2008</td><td>3.2</td><td>38002</td><td>2</td></tr>",
                            "<tr><td>Joy Ride</td><td>2001</td><td>3.1</td><td>9370</td><td>2</td></tr>",
                            "<tr><td>Jui kuen II</td><td>1994</td><td>3.6</td><td>7905</td><td>2</td></tr>",
                            "<tr><td>Kagemusha</td><td>1980</td><td>4.2</td><td>4005</td><td>2</td></tr>",
                            "<tr><td>Kakushi-toride no san-akunin</td><td>1958</td><td>4.1</td><td>6021</td><td>2</td></tr>",
                            "<tr><td>Kansas City</td><td>1996</td><td>3.0</td><td>608</td><td>2</td></tr>",
                            "<tr><td>Kicking &amp; Screaming</td><td>2005</td><td>3.0</td><td>14260</td><td>2</td></tr>",
                            "<tr><td>Kill Bill: Vol. 2</td><td>2004</td><td>3.8</td><td>162324</td><td>2</td></tr>",
                            "<tr><td>Killer Movie</td><td>2008</td><td>0.0</td><td>0</td><td>2</td></tr>",
                            "<tr><td>King Arthur</td><td>2004</td><td>3.2</td><td>57867</td><td>2</td></tr>",
                            "<tr><td>King Kong</td><td>2005</td><td>2.8</td><td>207337</td><td>4</td></tr>",
                            "<tr><td>King of Kings</td><td>1961</td><td>3.7</td><td>879</td><td>2</td></tr>",
                            "<tr><td>King of New York</td><td>1990</td><td>3.7</td><td>5329</td><td>2</td></tr>",
                            "<tr><td>King Solomon's Mines</td><td>1950</td><td>0.0</td><td>0</td><td>3</td></tr>",
                            "<tr><td>Kinsey</td><td>2004</td><td>3.4</td><td>6162</td><td>3</td></tr>",
                            "<tr><td>Kiss of Death</td><td>1995</td><td>2.9</td><td>2125</td><td>2</td></tr>",
                            "<tr><td>Kronos</td><td>1957</td><td>0.0</td><td>0</td><td>2</td></tr>",
                            "<tr><td>La boum</td><td>1980</td><td>NULL</td><td>NULL</td><td>2</td></tr>",
                            "<tr><td>La decima vittima</td><td>1965</td><td>0.0</td><td>0</td><td>2</td></tr>",
                            "<tr><td>La double vie de Véronique</td><td>1991</td><td>4.3</td><td>5676</td><td>2</td></tr>",
                            "<tr><td>La faute à Fidel!</td><td>2006</td><td>4.1</td><td>2344</td><td>2</td></tr>",
                            "<tr><td>La môme</td><td>2007</td><td>3.8</td><td>33</td><td>3</td></tr>",
                            "<tr><td>Last Chance Harvey</td><td>2008</td><td>3.2</td><td>14302</td><td>2</td></tr>",
                            "<tr><td>Last Days</td><td>2005</td><td>3.1</td><td>5692</td><td>2</td></tr>",
                            "<tr><td>Last Night</td><td>1998</td><td>3.8</td><td>1691</td><td>2</td></tr>",
                            "<tr><td>Lean on Me</td><td>1989</td><td>3.7</td><td>5235</td><td>2</td></tr>",
                            "<tr><td>Lemony Snicket's A Series of Unfortunate Events</td><td>2004</td><td>3.2</td><td>60437</td><td>2</td></tr>",
                            "<tr><td>Léon</td><td>1994</td><td>4.1</td><td>59011</td><td>2</td></tr>",
                            "<tr><td>Les misérables</td><td>1998</td><td>3.6</td><td>7310</td><td>2</td></tr>",
                            "<tr><td>Les poupées russes</td><td>2005</td><td>3.6</td><td>8145</td><td>2</td></tr>",
                            "<tr><td>Les triplettes de Belleville</td><td>2003</td><td>0.0</td><td>0</td><td>2</td></tr>",
                            "<tr><td>Lethal Weapon</td><td>1987</td><td>3.6</td><td>33975</td><td>2</td></tr>",
                            "<tr><td>Letters from Iwo Jima</td><td>2006</td><td>3.8</td><td>73433</td><td>2</td></tr>",
                            "<tr><td>Little Miss Marker</td><td>1934</td><td>NULL</td><td>NULL</td><td>2</td></tr>",
                            "<tr><td>Little Women</td><td>1994</td><td>0.0</td><td>0</td><td>3</td></tr>",
                            "<tr><td>Live Free or Die Hard</td><td>2007</td><td>3.9</td><td>1145097</td><td>2</td></tr>",
                            "<tr><td>Lola</td><td>1981</td><td>3.9</td><td>529</td><td>2</td></tr>",
                            "<tr><td>Lolita</td><td>1962</td><td>3.7</td><td>11593</td><td>2</td></tr>",
                            "<tr><td>Lord of the Flies</td><td>1990</td><td>3.1</td><td>6608</td><td>2</td></tr>",
                            "<tr><td>Lord of War</td><td>2005</td><td>3.6</td><td>51125</td><td>2</td></tr>",
                            "<tr><td>Loser</td><td>2000</td><td>2.6</td><td>5745</td><td>2</td></tr>",
                            "<tr><td>Love Affair</td><td>1994</td><td>3.5</td><td>1260</td><td>2</td></tr>",
                            "<tr><td>Love and a Bullet</td><td>2002</td><td>0.0</td><td>0</td><td>2</td></tr>",
                            "<tr><td>Lucky Number Slevin</td><td>2006</td><td>0.0</td><td>0</td><td>2</td></tr>",
                            "<tr><td>Mac and Me</td><td>1988</td><td>2.7</td><td>2264</td><td>2</td></tr>",
                            "<tr><td>Man of the House</td><td>2005</td><td>3.1</td><td>10877</td><td>2</td></tr>",
                            "<tr><td>Man of the Year</td><td>2006</td><td>3.0</td><td>29127</td><td>2</td></tr>",
                            "<tr><td>Man on Fire</td><td>2004</td><td>3.9</td><td>67139</td><td>2</td></tr>",
                            "<tr><td>Man on the Moon</td><td>1999</td><td>3.3</td><td>15027</td><td>2</td></tr>",
                            "<tr><td>Match Point</td><td>2005</td><td>3.4</td><td>41276</td><td>2</td></tr>",
                            "<tr><td>M. Butterfly</td><td>1993</td><td>0.0</td><td>0</td><td>2</td></tr>",
                            "<tr><td>Meet the Parents</td><td>2000</td><td>3.6</td><td>119331</td><td>2</td></tr>",
                            "<tr><td>Me, Myself &amp; Irene</td><td>2000</td><td>3.1</td><td>39953</td><td>2</td></tr>",
                            "<tr><td>Men with Guns</td><td>1997</td><td>3.9</td><td>476</td><td>2</td></tr>",
                            "<tr><td>Metropolis</td><td>1927</td><td>4.1</td><td>17640</td><td>2</td></tr>",
                            "<tr><td>Miami Vice</td><td>2006</td><td>2.8</td><td>55637</td><td>2</td></tr>",
                            "<tr><td>Michael Clayton</td><td>2007</td><td>3.6</td><td>123924</td><td>2</td></tr>",
                            "<tr><td>Midnight Cowboy</td><td>1969</td><td>3.9</td><td>8994</td><td>3</td></tr>",
                            "<tr><td>Mighty Joe Young</td><td>1998</td><td>2.8</td><td>10755</td><td>2</td></tr>",
                            "<tr><td>Milk</td><td>2008</td><td>3.9</td><td>55245</td><td>2</td></tr>",
                            "<tr><td>Miracle at St. Anna</td><td>2008</td><td>3.3</td><td>8435</td><td>2</td></tr>",
                            "<tr><td>Miracle on 34th Street</td><td>1947</td><td>3.5</td><td>5409</td><td>2</td></tr>",
                            "<tr><td>Missing in Action 2: The Beginning</td><td>1985</td><td>0.0</td><td>0</td><td>2</td></tr>",
                            "<tr><td>Mission: Impossible III</td><td>2006</td><td>3.3</td><td>86328</td><td>2</td></tr>",
                            "<tr><td>Mixed Nuts</td><td>1994</td><td>2.9</td><td>2410</td><td>2</td></tr>",
                            "<tr><td>Modern Times</td><td>1936</td><td>4.2</td><td>9563</td><td>2</td></tr>",
                            "<tr><td>Mona Lisa Smile</td><td>2003</td><td>3.1</td><td>23577</td><td>2</td></tr>",
                            "<tr><td>Monkey Business</td><td>1931</td><td>0.0</td><td>0</td><td>2</td></tr>",
                            "<tr><td>Moulin Rouge!</td><td>2001</td><td>3.7</td><td>110817</td><td>2</td></tr>",
                            "<tr><td>Movie Crazy</td><td>1932</td><td>0.0</td><td>0</td><td>3</td></tr>",
                            "<tr><td>Mr. &amp; Mrs. Smith</td><td>2005</td><td>3.4</td><td>230941</td><td>2</td></tr>",
                            "<tr><td>Mujeres al borde de un ataque de nervios</td><td>1988</td><td>4.0</td><td>6254</td><td>2</td></tr>",
                            "<tr><td>Mutiny on the Bounty</td><td>1935</td><td>3.7</td><td>1846</td><td>2</td></tr>",
                            "<tr><td>My Best Friend's Wedding</td><td>1997</td><td>3.3</td><td>64013</td><td>2</td></tr>",
                            "<tr><td>My Bloody Valentine</td><td>2009</td><td>3.1</td><td>111307</td><td>2</td></tr>",
                            "<tr><td>My Darling Clementine</td><td>1946</td><td>3.8</td><td>1741</td><td>2</td></tr>",
                            "<tr><td>My Girl</td><td>1991</td><td>3.5</td><td>29984</td><td>2</td></tr>",
                            "<tr><td>My Life Without Me</td><td>2003</td><td>0.0</td><td>0</td><td>2</td></tr>",
                            "<tr><td>Mystery, Alaska</td><td>1999</td><td>3.2</td><td>4196</td><td>2</td></tr>",
                            "<tr><td>National Treasure: Book of Secrets</td><td>2007</td><td>3.6</td><td>1237906</td><td>2</td></tr>",
                            "<tr><td>Natural Born Killers</td><td>1994</td><td>3.5</td><td>39062</td><td>3</td></tr>",
                            "<tr><td>Ned Kelly</td><td>2003</td><td>3.2</td><td>7741</td><td>2</td></tr>",
                            "<tr><td>Never Say Never Again</td><td>1983</td><td>3.1</td><td>7414</td><td>2</td></tr>",
                            "<tr><td>Niagara</td><td>1953</td><td>0.0</td><td>0</td><td>2</td></tr>",
                            "<tr><td>Night of the Living Dead</td><td>1968</td><td>3.7</td><td>26113</td><td>2</td></tr>",
                            "<tr><td>Night of the Zombies</td><td>1981</td><td>0.0</td><td>0</td><td>2</td></tr>",
                            "<tr><td>Nineteen Eighty-Four</td><td>1984</td><td>3.5</td><td>17133</td><td>2</td></tr>",
                            "<tr><td>Nirgendwo in Afrika</td><td>2001</td><td>4.0</td><td>1773</td><td>2</td></tr>",
                            "<tr><td>Nobody's Fool</td><td>1986</td><td>3.0</td><td>289</td><td>2</td></tr>",
                            "<tr><td>Nochnoy dozor</td><td>2004</td><td>3.3</td><td>19774</td><td>2</td></tr>",
                            "<tr><td>No Man's Land</td><td>2001</td><td>4.1</td><td>3608</td><td>2</td></tr>",
                            "<tr><td>No Mercy</td><td>1986</td><td>2.8</td><td>740</td><td>2</td></tr>",
                            "<tr><td>Nora inu</td><td>1949</td><td>0.0</td><td>0</td><td>2</td></tr>",
                            "<tr><td>North Country</td><td>2005</td><td>3.5</td><td>14739</td><td>3</td></tr>",
                            "<tr><td>Notes on a Scandal</td><td>2006</td><td>3.7</td><td>22200</td><td>2</td></tr>",
                            "<tr><td>Nothing to Lose</td><td>1997</td><td>3.1</td><td>5245</td><td>3</td></tr>",
                            "<tr><td>O Brother, Where Art Thou?</td><td>2000</td><td>3.7</td><td>35122</td><td>2</td></tr>",
                            "<tr><td>Ocean's Eleven</td><td>2001</td><td>3.6</td><td>185259</td><td>2</td></tr>",
                            "<tr><td>Ocean's Thirteen</td><td>2007</td><td>3.6</td><td>846364</td><td>2</td></tr>",
                            "<tr><td>Of Mice and Men</td><td>1992</td><td>3.5</td><td>6505</td><td>2</td></tr>",
                            "<tr><td>Oh, God! You Devil</td><td>1984</td><td>0.0</td><td>0</td><td>2</td></tr>",
                            "<tr><td>Oliver Twist</td><td>2005</td><td>0.0</td><td>0</td><td>3</td></tr>",
                            "<tr><td>One Hundred and One Dalmatians</td><td>1961</td><td>3.3</td><td>29711</td><td>2</td></tr>",
                            "<tr><td>Open Season</td><td>2006</td><td>3.4</td><td>91895</td><td>2</td></tr>",
                            "<tr><td>Othello</td><td>1995</td><td>3.3</td><td>2018</td><td>2</td></tr>",
                            "<tr><td>Out Cold</td><td>2001</td><td>3.5</td><td>7234</td><td>2</td></tr>",
                            "<tr><td>Panic Room</td><td>2002</td><td>3.0</td><td>19615</td><td>2</td></tr>",
                            "<tr><td>Paradise</td><td>1982</td><td>0.0</td><td>0</td><td>2</td></tr>",
                            "<tr><td>Peter Pan</td><td>2003</td><td>3.3</td><td>47413</td><td>2</td></tr>",
                            "<tr><td>Phenomenon</td><td>1996</td><td>3.0</td><td>9166</td><td>2</td></tr>",
                            "<tr><td>Pinocchio</td><td>1940</td><td>3.3</td><td>19102</td><td>2</td></tr>",
                            "<tr><td>Pirates of the Caribbean: At World's End</td><td>2007</td><td>3.8</td><td>1768593</td><td>2</td></tr>",
                            "<tr><td>Pirates of the Caribbean: Dead Man's Chest</td><td>2006</td><td>3.9</td><td>395865</td><td>2</td></tr>",
                            "<tr><td>Pirates of the Caribbean: The Curse of the Black Pearl</td><td>2003</td><td>3.9</td><td>297546</td><td>2</td></tr>",
                            "<tr><td>Planet of the Apes</td><td>1968</td><td>3.4</td><td>12844</td><td>3</td></tr>",
                            "<tr><td>Planet Terror</td><td>2007</td><td>0.0</td><td>0</td><td>2</td></tr>",
                            "<tr><td>Possession</td><td>2009</td><td>2.9</td><td>4231</td><td>2</td></tr>",
                            "<tr><td>Predator</td><td>1987</td><td>3.5</td><td>52908</td><td>3</td></tr>",
                            "<tr><td>Presumed Innocent</td><td>1990</td><td>3.2</td><td>3836</td><td>2</td></tr>",
                            "<tr><td>Pride &amp; Prejudice</td><td>2005</td><td>3.8</td><td>101164</td><td>2</td></tr>",
                            "<tr><td>Prince Valiant</td><td>1954</td><td>0.0</td><td>0</td><td>2</td></tr>",
                            "<tr><td>Private Parts</td><td>1997</td><td>0.0</td><td>0</td><td>2</td></tr>",
                            "<tr><td>Problem Child 2</td><td>1991</td><td>0.0</td><td>0</td><td>2</td></tr>",
                            "<tr><td>Project Moon Base</td><td>1953</td><td>0.0</td><td>0</td><td>2</td></tr>",
                            "<tr><td>Prom Night</td><td>2008</td><td>3.0</td><td>51435</td><td>2</td></tr>",
                            "<tr><td>Proof</td><td>2005</td><td>3.2</td><td>15629</td><td>2</td></tr>",
                            "<tr><td>Psycho</td><td>1960</td><td>3.9</td><td>32475</td><td>2</td></tr>",
                            "<tr><td>Psycho Beach Party</td><td>2000</td><td>3.3</td><td>1978</td><td>2</td></tr>",
                            "<tr><td>Punch-Drunk Love</td><td>2002</td><td>3.2</td><td>24379</td><td>2</td></tr>",
                            "<tr><td>Punisher: War Zone</td><td>2008</td><td>3.0</td><td>29393</td><td>4</td></tr>",
                            "<tr><td>Q</td><td>1982</td><td>0.0</td><td>0</td><td>2</td></tr>",
                            "<tr><td>Quest for Camelot</td><td>1998</td><td>3.1</td><td>4042</td><td>2</td></tr>",
                            "<tr><td>Raising Victor Vargas</td><td>2002</td><td>3.8</td><td>1155</td><td>2</td></tr>",
                            "<tr><td>Rambo</td><td>2008</td><td>3.4</td><td>107524</td><td>2</td></tr>",
                            "<tr><td>Ransom</td><td>1996</td><td>3.1</td><td>10364</td><td>2</td></tr>",
                            "<tr><td>Ratatouille</td><td>2007</td><td>3.9</td><td>414956</td><td>2</td></tr>",
                            "<tr><td>Raw Deal</td><td>1986</td><td>2.7</td><td>3041</td><td>2</td></tr>",
                            "<tr><td>Requiem for a Dream</td><td>2000</td><td>4.1</td><td>103666</td><td>2</td></tr>",
                            "<tr><td>Resurrecting the Champ</td><td>2007</td><td>3.4</td><td>18572</td><td>2</td></tr>",
                            "<tr><td>Revolutionary Road</td><td>2008</td><td>3.5</td><td>46044</td><td>2</td></tr>",
                            "<tr><td>Richard III</td><td>1995</td><td>3.7</td><td>1552</td><td>2</td></tr>",
                            "<tr><td>Road to Morocco</td><td>1942</td><td>0.0</td><td>0</td><td>2</td></tr>",
                            "<tr><td>Road Trip</td><td>2000</td><td>3.3</td><td>57286</td><td>3</td></tr>",
                            "<tr><td>Robin Hood: Prince of Thieves</td><td>1991</td><td>3.4</td><td>30722</td><td>2</td></tr>",
                            "<tr><td>Rollerball</td><td>1975</td><td>3.2</td><td>2655</td><td>2</td></tr>",
                            "<tr><td>Romeo + Juliet</td><td>1996</td><td>0.0</td><td>0</td><td>2</td></tr>",
                            "<tr><td>Rude Boy</td><td>1980</td><td>0.0</td><td>0</td><td>2</td></tr>",
                            "<tr><td>Runaway Jury</td><td>2003</td><td>3.4</td><td>11578</td><td>2</td></tr>",
                            "<tr><td>Run Fatboy Run</td><td>2007</td><td>3.5</td><td>43462</td><td>2</td></tr>",
                            "<tr><td>Running Scared</td><td>2006</td><td>3.6</td><td>35992</td><td>3</td></tr>",
                            "<tr><td>Sabrina</td><td>1954</td><td>3.8</td><td>12812</td><td>2</td></tr>",
                            "<tr><td>Sahara</td><td>2005</td><td>3.0</td><td>24489</td><td>2</td></tr>",
                            "<tr><td>Santa Claus</td><td>1985</td><td>3.1</td><td>2513</td><td>2</td></tr>",
                            "<tr><td>Save the Last Dance</td><td>2001</td><td>0.0</td><td>0</td><td>2</td></tr>",
                            "<tr><td>Scarface</td><td>1983</td><td>4.1</td><td>121090</td><td>3</td></tr>",
                            "<tr><td>School for Scoundrels</td><td>2006</td><td>3.2</td><td>39981</td><td>2</td></tr>",
                            "<tr><td>Secret Agent</td><td>1936</td><td>0.0</td><td>0</td><td>2</td></tr>",
                            "<tr><td>See No Evil</td><td>2006</td><td>3.3</td><td>46137</td><td>2</td></tr>",
                            "<tr><td>See No Evil, Hear No Evil</td><td>1989</td><td>3.3</td><td>6015</td><td>2</td></tr>",
                            "<tr><td>Shaft</td><td>1971</td><td>3.3</td><td>2211</td><td>2</td></tr>",
                            "<tr><td>Shall We Dance</td><td>2004</td><td>3.0</td><td>26935</td><td>2</td></tr>",
                            "<tr><td>Shao Lin san shi liu fang</td><td>1978</td><td>0.0</td><td>0</td><td>2</td></tr>",
                            "<tr><td>Shattered Glass</td><td>2003</td><td>3.5</td><td>4409</td><td>2</td></tr>",
                            "<tr><td>Shichinin no samurai</td><td>1954</td><td>4.5</td><td>29509</td><td>2</td></tr>",
                            "<tr><td>Shooting Dogs</td><td>2005</td><td>3.9</td><td>11089</td><td>2</td></tr>",
                            "<tr><td>Short Circuit</td><td>1986</td><td>3.2</td><td>12589</td><td>2</td></tr>",
                            "<tr><td>Sien nui yau wan</td><td>1987</td><td>0.0</td><td>0</td><td>2</td></tr>",
                            "<tr><td>Simon</td><td>2004</td><td>4.1</td><td>338</td><td>2</td></tr>",
                            "<tr><td>Sinbad and the Eye of the Tiger</td><td>1977</td><td>0.0</td><td>0</td><td>2</td></tr>",
                            "<tr><td>Singin' in the Rain</td><td>1952</td><td>3.9</td><td>28033</td><td>3</td></tr>",
                            "<tr><td>Slackers</td><td>2002</td><td>2.8</td><td>4294</td><td>2</td></tr>",
                            "<tr><td>Slaughterhouse-Five</td><td>1972</td><td>0.0</td><td>0</td><td>3</td></tr>",
                            "<tr><td>Sleepover</td><td>2004</td><td>3.3</td><td>29842</td><td>2</td></tr>",
                            "<tr><td>Sleepwalking</td><td>2008</td><td>3.0</td><td>8038</td><td>2</td></tr>",
                            "<tr><td>Sleepy Hollow</td><td>1999</td><td>3.5</td><td>93949</td><td>2</td></tr>",
                            "<tr><td>Sleuth</td><td>2007</td><td>3.2</td><td>9724</td><td>2</td></tr>",
                            "<tr><td>Slither</td><td>2006</td><td>3.2</td><td>31835</td><td>2</td></tr>",
                            "<tr><td>Slumdog Millionaire</td><td>2008</td><td>4.0</td><td>328969</td><td>2</td></tr>",
                            "<tr><td>Smile</td><td>2005</td><td>3.5</td><td>585</td><td>2</td></tr>",
                            "<tr><td>Soldier</td><td>1998</td><td>2.8</td><td>5503</td><td>2</td></tr>",
                            "<tr><td>Solyaris</td><td>1972</td><td>4.1</td><td>7425</td><td>2</td></tr>",
                            "<tr><td>Some Girls</td><td>1988</td><td>0.0</td><td>0</td><td>2</td></tr>",
                            "<tr><td>Some Like It Hot</td><td>1959</td><td>4.1</td><td>23119</td><td>2</td></tr>",
                            "<tr><td>Soul Survivors</td><td>2001</td><td>2.6</td><td>2441</td><td>2</td></tr>",
                            "<tr><td>Soy Cuba</td><td>1964</td><td>4.2</td><td>1082</td><td>2</td></tr>",
                            "<tr><td>Spacehunter: Adventures in the Forbidden Zone</td><td>1983</td><td>0.0</td><td>0</td><td>2</td></tr>",
                            "<tr><td>Spellbound</td><td>1945</td><td>3.8</td><td>4332</td><td>2</td></tr>",
                            "<tr><td>Spider-Man</td><td>2002</td><td>0.0</td><td>0</td><td>2</td></tr>",
                            "<tr><td>Spirit: Stallion of the Cimarron</td><td>2002</td><td>3.3</td><td>8302</td><td>2</td></tr>",
                            "<tr><td>Spy Kids 2: Island of Lost Dreams</td><td>2002</td><td>2.6</td><td>12329</td><td>2</td></tr>",
                            "<tr><td>Star Wars: Episode II - Attack of the Clones</td><td>2002</td><td>3.3</td><td>108730</td><td>2</td></tr>",
                            "<tr><td>Star Wars: Episode III - Revenge of the Sith</td><td>2005</td><td>3.1</td><td>198824</td><td>2</td></tr>",
                            "<tr><td>Star Wars: Episode I - The Phantom Menace</td><td>1999</td><td>0.0</td><td>0</td><td>2</td></tr>",
                            "<tr><td>Stay Alive</td><td>2006</td><td>3.3</td><td>40388</td><td>2</td></tr>",
                            "<tr><td>Steel Magnolias</td><td>1989</td><td>3.6</td><td>26167</td><td>2</td></tr>",
                            "<tr><td>Stoked: The Rise and Fall of Gator</td><td>2002</td><td>3.8</td><td>199</td><td>2</td></tr>",
                            "<tr><td>Strangers on a Train</td><td>1951</td><td>4.0</td><td>9106</td><td>2</td></tr>",
                            "<tr><td>Stuart Little 2</td><td>2002</td><td>2.7</td><td>10893</td><td>2</td></tr>",
                            "<tr><td>SubUrbia</td><td>1996</td><td>3.3</td><td>1247</td><td>2</td></tr>",
                            "<tr><td>Sukiyaki Western Django</td><td>2007</td><td>3.4</td><td>5732</td><td>2</td></tr>",
                            "<tr><td>Sullivan's Travels</td><td>1941</td><td>4.2</td><td>2289</td><td>2</td></tr>",
                            "<tr><td>Sunset Blvd.</td><td>1950</td><td>4.3</td><td>12588</td><td>2</td></tr>",
                            "<tr><td>Sunshine</td><td>2007</td><td>0.0</td><td>0</td><td>2</td></tr>",
                            "<tr><td>Super Size Me</td><td>2004</td><td>0.0</td><td>0</td><td>2</td></tr>",
                            "<tr><td>Sweet and Lowdown</td><td>1999</td><td>3.6</td><td>3877</td><td>2</td></tr>",
                            "<tr><td>Tais-toi!</td><td>2003</td><td>0.0</td><td>0</td><td>2</td></tr>",
                            "<tr><td>Taken</td><td>2008</td><td>4.0</td><td>307912</td><td>2</td></tr>",
                            "<tr><td>Tank Girl</td><td>1995</td><td>2.8</td><td>7013</td><td>2</td></tr>",
                            "<tr><td>Taxi</td><td>2004</td><td>2.8</td><td>15669</td><td>2</td></tr>",
                            "<tr><td>Taxi Driver</td><td>1976</td><td>4.1</td><td>58145</td><td>2</td></tr>",
                            "<tr><td>Teacher's Pet</td><td>2004</td><td>2.8</td><td>370</td><td>2</td></tr>",
                            "<tr><td>That Darn Cat</td><td>1997</td><td>2.5</td><td>2029</td><td>2</td></tr>",
                            "<tr><td>The 13th Warrior</td><td>1999</td><td>3.2</td><td>24204</td><td>2</td></tr>",
                            "<tr><td>The Adventures of Huck Finn</td><td>1993</td><td>2.9</td><td>2408</td><td>2</td></tr>",
                            "<tr><td>The Adventures of Robin Hood</td><td>1938</td><td>3.7</td><td>6404</td><td>2</td></tr>",
                            "<tr><td>The Alamo</td><td>2004</td><td>0.0</td><td>0</td><td>2</td></tr>",
                            "<tr><td>The Amityville Horror</td><td>2005</td><td>3.2</td><td>31070</td><td>2</td></tr>",
                            "<tr><td>The Assassination of Jesse James by the Coward Robert Ford</td><td>2007</td><td>3.7</td><td>57534</td><td>3</td></tr>",
                            "<tr><td>The Associate</td><td>1996</td><td>2.9</td><td>1259</td><td>2</td></tr>",
                            "<tr><td>The Aviator</td><td>2004</td><td>3.4</td><td>27084</td><td>2</td></tr>",
                            "<tr><td>The Banger Sisters</td><td>2002</td><td>2.7</td><td>4139</td><td>2</td></tr>",
                            "<tr><td>The Bank Job</td><td>2008</td><td>3.5</td><td>60915</td><td>2</td></tr>",
                            "<tr><td>The Baxter</td><td>2005</td><td>3.7</td><td>1793</td><td>2</td></tr>",
                            "<tr><td>The Beach</td><td>2000</td><td>2.9</td><td>21479</td><td>4</td></tr>",
                            "<tr><td>The Bellboy</td><td>1960</td><td>0.0</td><td>0</td><td>2</td></tr>",
                            "<tr><td>The Best Man</td><td>2005</td><td>0.0</td><td>0</td><td>2</td></tr>",
                            "<tr><td>The Big Sleep</td><td>1946</td><td>4.1</td><td>7772</td><td>2</td></tr>",
                            "<tr><td>The Birds</td><td>1963</td><td>3.5</td><td>17449</td><td>2</td></tr>",
                            "<tr><td>The Blob</td><td>1988</td><td>0.0</td><td>0</td><td>2</td></tr>",
                            "<tr><td>The Bone Collector</td><td>1999</td><td>3.3</td><td>26317</td><td>2</td></tr>",
                            "<tr><td>The Bourne Identity</td><td>2002</td><td>3.9</td><td>125823</td><td>2</td></tr>",
                            "<tr><td>The Boys of Baraka</td><td>2005</td><td>4.0</td><td>627</td><td>2</td></tr>",
                            "<tr><td>The Break-Up</td><td>2006</td><td>3.1</td><td>107481</td><td>3</td></tr>",
                            "<tr><td>The Bridges of Madison County</td><td>1995</td><td>3.6</td><td>11573</td><td>2</td></tr>",
                            "<tr><td>The Business</td><td>2005</td><td>0.0</td><td>0</td><td>2</td></tr>",
                            "<tr><td>The Butterfly Effect</td><td>2004</td><td>3.6</td><td>109956</td><td>2</td></tr>",
                            "<tr><td>The Cannonball Run</td><td>1981</td><td>3.1</td><td>6545</td><td>2</td></tr>",
                            "<tr><td>The Chronicles of Narnia: Prince Caspian</td><td>2008</td><td>3.8</td><td>154104</td><td>2</td></tr>",
                            "<tr><td>The Cure</td><td>1995</td><td>3.7</td><td>2207</td><td>2</td></tr>",
                            "<tr><td>The Curse of the Jade Scorpion</td><td>2001</td><td>3.1</td><td>4108</td><td>2</td></tr>",
                            "<tr><td>The Day of the Locust</td><td>1975</td><td>3.6</td><td>582</td><td>2</td></tr>",
                            "<tr><td>The Day the Earth Stood Still</td><td>1951</td><td>3.8</td><td>8999</td><td>2</td></tr>",
                            "<tr><td>The Deer Hunter</td><td>1978</td><td>4.1</td><td>27513</td><td>2</td></tr>",
                            "<tr><td>The Desperate Hours</td><td>1955</td><td>0.0</td><td>0</td><td>2</td></tr>",
                            "<tr><td>The Devil-Doll</td><td>1936</td><td>0.0</td><td>0</td><td>2</td></tr>",
                            "<tr><td>The Devil's Advocate</td><td>1997</td><td>3.4</td><td>30966</td><td>2</td></tr>",
                            "<tr><td>The End of the Affair</td><td>1999</td><td>3.6</td><td>3227</td><td>2</td></tr>",
                            "<tr><td>The Endurance: Shackleton's Legendary Antarctic Expedition</td><td>2000</td><td>3.8</td><td>415</td><td>2</td></tr>",
                            "<tr><td>The Enforcer</td><td>1976</td><td>3.4</td><td>3350</td><td>2</td></tr>",
                            "<tr><td>The Fall</td><td>2006</td><td>3.8</td><td>23397</td><td>2</td></tr>",
                            "<tr><td>The Fan</td><td>1996</td><td>2.8</td><td>5593</td><td>2</td></tr>",
                            "<tr><td>The Final Cut</td><td>2004</td><td>3.0</td><td>4745</td><td>2</td></tr>",
                            "<tr><td>The First $20 Million Is Always the Hardest</td><td>2002</td><td>3.2</td><td>483</td><td>2</td></tr>",
                            "<tr><td>The Fly</td><td>1986</td><td>3.3</td><td>14099</td><td>2</td></tr>",
                            "<tr><td>The Fog</td><td>2005</td><td>2.5</td><td>14642</td><td>2</td></tr>",
                            "<tr><td>The Forgotten</td><td>2004</td><td>2.9</td><td>13766</td><td>2</td></tr>",
                            "<tr><td>The Fourth Protocol</td><td>1987</td><td>3.4</td><td>544</td><td>2</td></tr>",
                            "<tr><td>The Freshman</td><td>1990</td><td>3.1</td><td>2525</td><td>3</td></tr>",
                            "<tr><td>The Front Page</td><td>1974</td><td>3.6</td><td>905</td><td>2</td></tr>",
                            "<tr><td>The Fugitive</td><td>1993</td><td>3.6</td><td>28862</td><td>2</td></tr>",
                            "<tr><td>The Game</td><td>1997</td><td>3.5</td><td>23139</td><td>2</td></tr>",
                            "<tr><td>The Gay Divorcee</td><td>1934</td><td>0.0</td><td>0</td><td>2</td></tr>",
                            "<tr><td>The General</td><td>1926</td><td>4.4</td><td>3785</td><td>3</td></tr>",
                            "<tr><td>The Girl Next Door</td><td>2004</td><td>3.3</td><td>39311</td><td>3</td></tr>",
                            "<tr><td>The Godfather</td><td>1972</td><td>4.4</td><td>172072</td><td>2</td></tr>",
                            "<tr><td>The Grass Is Greener</td><td>1960</td><td>0.0</td><td>0</td><td>2</td></tr>",
                            "<tr><td>The Grateful Dead</td><td>1977</td><td>0.0</td><td>0</td><td>2</td></tr>",
                            "<tr><td>The Greatest Game Ever Played</td><td>2005</td><td>3.6</td><td>15763</td><td>2</td></tr>",
                            "<tr><td>The Guardian</td><td>2006</td><td>3.7</td><td>58919</td><td>2</td></tr>",
                            "<tr><td>The Haunting</td><td>1999</td><td>2.7</td><td>10812</td><td>2</td></tr>",
                            "<tr><td>The Heartbreak Kid</td><td>2007</td><td>2.9</td><td>91228</td><td>2</td></tr>",
                            "<tr><td>The Hills Have Eyes</td><td>2006</td><td>3.1</td><td>75042</td><td>2</td></tr>",
                            "<tr><td>The Hills Have Eyes II</td><td>2007</td><td>2.9</td><td>63799</td><td>2</td></tr>",
                            "<tr><td>The Hitcher</td><td>2007</td><td>3.1</td><td>49309</td><td>2</td></tr>",
                            "<tr><td>The Hole</td><td>2001</td><td>3.1</td><td>5670</td><td>2</td></tr>",
                            "<tr><td>The Holiday</td><td>2006</td><td>0.0</td><td>0</td><td>2</td></tr>",
                            "<tr><td>The Hound of the Baskervilles</td><td>1959</td><td>0.0</td><td>0</td><td>3</td></tr>",
                            "<tr><td>The Hunchback of Notre Dame</td><td>1939</td><td>0.0</td><td>0</td><td>3</td></tr>",
                            "<tr><td>The Hunted</td><td>2003</td><td>3.0</td><td>5362</td><td>2</td></tr>",
                            "<tr><td>The Hunting Party</td><td>2007</td><td>3.4</td><td>13820</td><td>3</td></tr>",
                            "<tr><td>The Importance of Being Earnest</td><td>2002</td><td>NULL</td><td>NULL</td><td>2</td></tr>",
                            "<tr><td>The Incredible Hulk</td><td>2008</td><td>3.6</td><td>124298</td><td>2</td></tr>",
                            "<tr><td>The In Crowd</td><td>2000</td><td>2.6</td><td>925</td><td>2</td></tr>",
                            "<tr><td>The In-Laws</td><td>2003</td><td>2.9</td><td>2546</td><td>2</td></tr>",
                            "<tr><td>The Island</td><td>2005</td><td>3.3</td><td>41199</td><td>2</td></tr>",
                            "<tr><td>The Italian Job</td><td>2003</td><td>3.6</td><td>103062</td><td>2</td></tr>",
                            "<tr><td>The Jazz Singer</td><td>1980</td><td>3.4</td><td>857</td><td>2</td></tr>",
                            "<tr><td>The Jungle Book</td><td>1967</td><td>3.5</td><td>35715</td><td>3</td></tr>",
                            "<tr><td>The Karate Kid</td><td>1984</td><td>3.3</td><td>20688</td><td>3</td></tr>",
                            "<tr><td>The King and I</td><td>1956</td><td>3.6</td><td>12939</td><td>2</td></tr>",
                            "<tr><td>The Ladies Man</td><td>2000</td><td>2.6</td><td>2790</td><td>2</td></tr>",
                            "<tr><td>The Ladykillers</td><td>2004</td><td>2.8</td><td>12107</td><td>2</td></tr>",
                            "<tr><td>The Last American Virgin</td><td>1982</td><td>3.3</td><td>3330</td><td>2</td></tr>",
                            "<tr><td>The Last Boy Scout</td><td>1991</td><td>3.3</td><td>11177</td><td>2</td></tr>",
                            "<tr><td>The Last Kiss</td><td>2006</td><td>3.2</td><td>37077</td><td>2</td></tr>",
                            "<tr><td>The Last Man on Earth</td><td>1964</td><td>3.6</td><td>4886</td><td>2</td></tr>",
                            "<tr><td>The Last of the Mohicans</td><td>1992</td><td>3.6</td><td>34073</td><td>2</td></tr>",
                            "<tr><td>The Life Aquatic with Steve Zissou</td><td>2004</td><td>3.8</td><td>65</td><td>2</td></tr>",
                            "<tr><td>The Little Shop of Horrors</td><td>1960</td><td>0.0</td><td>0</td><td>2</td></tr>",
                            "<tr><td>The Longest Yard</td><td>2005</td><td>3.3</td><td>198675</td><td>2</td></tr>",
                            "<tr><td>The Lord of the Rings: The Return of the King</td><td>2003</td><td>3.7</td><td>288649</td><td>2</td></tr>",
                            "<tr><td>The Lost Boys</td><td>1987</td><td>3.7</td><td>48695</td><td>2</td></tr>",
                            "<tr><td>The Lost World: Jurassic Park</td><td>1997</td><td>3.2</td><td>46513</td><td>2</td></tr>",
                            "<tr><td>The Maltese Falcon</td><td>1941</td><td>4.0</td><td>14452</td><td>2</td></tr>",
                            "<tr><td>The Manchurian Candidate</td><td>1962</td><td>3.9</td><td>6006</td><td>3</td></tr>",
                            "<tr><td>The Man Who Knew Too Much</td><td>1956</td><td>0.0</td><td>0</td><td>2</td></tr>",
                            "<tr><td>The Mask</td><td>1994</td><td>3.2</td><td>68419</td><td>3</td></tr>",
                            "<tr><td>The Mask of Zorro</td><td>1998</td><td>3.3</td><td>31107</td><td>2</td></tr>",
                            "<tr><td>The MatchMaker</td><td>1997</td><td>3.3</td><td>1220</td><td>2</td></tr>",
                            "<tr><td>The Mighty Ducks</td><td>1992</td><td>3.1</td><td>14328</td><td>2</td></tr>",
                            "<tr><td>The Missing</td><td>2003</td><td>3.0</td><td>6895</td><td>2</td></tr>",
                            "<tr><td>The Mission</td><td>1986</td><td>3.8</td><td>11307</td><td>2</td></tr>",
                            "<tr><td>The Mists of Avalon</td><td>2001</td><td>3.7</td><td>4639</td><td>2</td></tr>",
                            "<tr><td>The Mother</td><td>2003</td><td>3.4</td><td>862</td><td>2</td></tr>",
                            "<tr><td>The Mummy</td><td>1999</td><td>3.4</td><td>79634</td><td>3</td></tr>",
                            "<tr><td>The Mummy: Tomb of the Dragon Emperor</td><td>2008</td><td>3.0</td><td>79989</td><td>2</td></tr>",
                            "<tr><td>The Neverending Story III</td><td>1994</td><td>0.0</td><td>0</td><td>2</td></tr>",
                            "<tr><td>The Ninth Gate</td><td>1999</td><td>3.2</td><td>23993</td><td>2</td></tr>",
                            "<tr><td>The Nutty Professor</td><td>1996</td><td>2.9</td><td>25286</td><td>2</td></tr>",
                            "<tr><td>The Omen</td><td>1976</td><td>3.5</td><td>17016</td><td>2</td></tr>",
                            "<tr><td>The Out-of-Towners</td><td>1999</td><td>2.6</td><td>2186</td><td>2</td></tr>",
                            "<tr><td>The Parent Trap</td><td>1998</td><td>3.1</td><td>41455</td><td>2</td></tr>",
                            "<tr><td>The Phantom of the Opera</td><td>2004</td><td>3.7</td><td>70849</td><td>5</td></tr>",
                            "<tr><td>The Pink Panther</td><td>2006</td><td>3.0</td><td>52976</td><td>2</td></tr>",
                            "<tr><td>The Postman Always Rings Twice</td><td>1981</td><td>3.3</td><td>2610</td><td>2</td></tr>",
                            "<tr><td>The Power of Nightmares: The Rise of the Politics of Fear</td><td>2004</td><td>4.5</td><td>575</td><td>2</td></tr>",
                            "<tr><td>The Prize Winner of Defiance, Ohio</td><td>2005</td><td>3.2</td><td>7811</td><td>2</td></tr>",
                            "<tr><td>The Producers</td><td>2005</td><td>3.1</td><td>31343</td><td>2</td></tr>",
                            "<tr><td>The Proposition</td><td>2005</td><td>3.6</td><td>20228</td><td>2</td></tr>",
                            "<tr><td>The Pursuit of Happyness</td><td>2006</td><td>4.1</td><td>211913</td><td>2</td></tr>",
                            "<tr><td>The Razor's Edge</td><td>1984</td><td>3.7</td><td>879</td><td>2</td></tr>",
                            "<tr><td>The Return</td><td>2006</td><td>2.9</td><td>26258</td><td>2</td></tr>",
                            "<tr><td>The Riches</td><td>2007</td><td>NULL</td><td>NULL</td><td>2</td></tr>",
                            "<tr><td>The Ring</td><td>2002</td><td>3.0</td><td>146246</td><td>3</td></tr>",
                            "<tr><td>The Road to El Dorado</td><td>2000</td><td>3.1</td><td>9172</td><td>2</td></tr>",
                            "<tr><td>The Rookie</td><td>2002</td><td>3.3</td><td>10597</td><td>2</td></tr>",
                            "<tr><td>The Rules of Attraction</td><td>2002</td><td>3.2</td><td>10253</td><td>2</td></tr>",
                            "<tr><td>The Scarlet Letter</td><td>1995</td><td>2.9</td><td>3493</td><td>2</td></tr>",
                            "<tr><td>The School of Rock</td><td>2003</td><td>3.2</td><td>183700</td><td>2</td></tr>",
                            "<tr><td>The Sentinel</td><td>2006</td><td>3.1</td><td>26716</td><td>2</td></tr>",
                            "<tr><td>The Shaggy Dog</td><td>2006</td><td>2.9</td><td>41890</td><td>2</td></tr>",
                            "<tr><td>The Stepford Wives</td><td>2004</td><td>2.6</td><td>14476</td><td>2</td></tr>",
                            "<tr><td>The Strangers</td><td>2008</td><td>3.1</td><td>55773</td><td>3</td></tr>",
                            "<tr><td>The Ten Commandments</td><td>1956</td><td>3.6</td><td>11440</td><td>2</td></tr>",
                            "<tr><td>The Texas Chainsaw Massacre</td><td>2003</td><td>3.2</td><td>36030</td><td>2</td></tr>",
                            "<tr><td>The Thief of Bagdad</td><td>1924</td><td>3.6</td><td>655</td><td>3</td></tr>",
                            "<tr><td>The Thin Blue Line</td><td>1988</td><td>4.0</td><td>1805</td><td>2</td></tr>",
                            "<tr><td>The Thomas Crown Affair</td><td>1999</td><td>3.3</td><td>15699</td><td>2</td></tr>",
                            "<tr><td>The Three Musketeers</td><td>1993</td><td>3.2</td><td>13783</td><td>3</td></tr>",
                            "<tr><td>The Time Machine</td><td>2002</td><td>2.7</td><td>10389</td><td>3</td></tr>",
                            "<tr><td>The Time Traveler's Wife</td><td>2009</td><td>2.9</td><td>189828</td><td>2</td></tr>",
                            "<tr><td>The Truth About Cats &amp; Dogs</td><td>1996</td><td>2.9</td><td>6120</td><td>2</td></tr>",
                            "<tr><td>The Usual Suspects</td><td>1995</td><td>4.2</td><td>109588</td><td>2</td></tr>",
                            "<tr><td>The Vampire Bat</td><td>1933</td><td>0.0</td><td>0</td><td>2</td></tr>",
                            "<tr><td>The Warriors</td><td>1979</td><td>0.0</td><td>0</td><td>2</td></tr>",
                            "<tr><td>The Watcher</td><td>2000</td><td>2.7</td><td>3820</td><td>2</td></tr>",
                            "<tr><td>The Whole Ten Yards</td><td>2004</td><td>3.0</td><td>11437</td><td>2</td></tr>",
                            "<tr><td>The Wicker Man</td><td>1973</td><td>3.6</td><td>8988</td><td>2</td></tr>",
                            "<tr><td>The Wizard</td><td>1989</td><td>3.1</td><td>3783</td><td>2</td></tr>",
                            "<tr><td>The Women</td><td>2008</td><td>3.0</td><td>20081</td><td>3</td></tr>",
                            "<tr><td>The Wood</td><td>1999</td><td>3.9</td><td>6421</td><td>2</td></tr>",
                            "<tr><td>The Wrestler</td><td>2008</td><td>3.9</td><td>57550</td><td>2</td></tr>",
                            "<tr><td>The Wrong Guy</td><td>1997</td><td>3.6</td><td>826</td><td>2</td></tr>",
                            "<tr><td>Thir13en Ghosts</td><td>2001</td><td>3.0</td><td>20700</td><td>3</td></tr>",
                            "<tr><td>This Boy's Life</td><td>1993</td><td>3.5</td><td>5072</td><td>2</td></tr>",
                            "<tr><td>This Is Spinal Tap</td><td>1984</td><td>3.9</td><td>23608</td><td>3</td></tr>",
                            "<tr><td>Titanic</td><td>1997</td><td>3.3</td><td>464576</td><td>2</td></tr>",
                            "<tr><td>To Be or Not to Be</td><td>1942</td><td>4.2</td><td>1733</td><td>2</td></tr>",
                            "<tr><td>Tough Guys Don't Dance</td><td>1987</td><td>3.3</td><td>251</td><td>2</td></tr>",
                            "<tr><td>Toy Story</td><td>1995</td><td>3.7</td><td>102338</td><td>2</td></tr>",
                            "<tr><td>Traffic</td><td>2000</td><td>3.5</td><td>26217</td><td>2</td></tr>",
                            "<tr><td>Transformers</td><td>2007</td><td>0.0</td><td>0</td><td>2</td></tr>",
                            "<tr><td>Treasure Island</td><td>1990</td><td>0.0</td><td>0</td><td>2</td></tr>",
                            "<tr><td>Trois couleurs: Rouge</td><td>1994</td><td>4.2</td><td>9557</td><td>2</td></tr>",
                            "<tr><td>True Crime</td><td>1999</td><td>3.2</td><td>2873</td><td>2</td></tr>",
                            "<tr><td>Trust the Man</td><td>2005</td><td>2.9</td><td>11451</td><td>2</td></tr>",
                            "<tr><td>Tucker: The Man and His Dream</td><td>1988</td><td>3.2</td><td>1497</td><td>2</td></tr>",
                            "<tr><td>Twelve O'Clock High</td><td>1949</td><td>0.0</td><td>0</td><td>2</td></tr>",
                            "<tr><td>Twilight</td><td>2008</td><td>4.1</td><td>256646</td><td>2</td></tr>",
                            "<tr><td>Twisted</td><td>2004</td><td>2.8</td><td>2961</td><td>2</td></tr>",
                            "<tr><td>Twister</td><td>1996</td><td>3.2</td><td>45771</td><td>2</td></tr>",
                            "<tr><td>U-Carmen e-Khayelitsha</td><td>2005</td><td>3.2</td><td>1204</td><td>2</td></tr>",
                            "<tr><td>Under Suspicion</td><td>2000</td><td>3.2</td><td>1858</td><td>2</td></tr>",
                            "<tr><td>Underworld</td><td>2003</td><td>3.6</td><td>101467</td><td>2</td></tr>",
                            "<tr><td>Underworld: Evolution</td><td>2006</td><td>3.6</td><td>111035</td><td>2</td></tr>",
                            "<tr><td>Unforgiven</td><td>1992</td><td>4.0</td><td>27203</td><td>2</td></tr>",
                            "<tr><td>Unknown</td><td>2006</td><td>3.3</td><td>6616</td><td>2</td></tr>",
                            "<tr><td>Valkyrie</td><td>2008</td><td>3.5</td><td>113378</td><td>2</td></tr>",
                            "<tr><td>Van Helsing</td><td>2004</td><td>0.0</td><td>0</td><td>2</td></tr>",
                            "<tr><td>Venom</td><td>2005</td><td>2.6</td><td>2557</td><td>2</td></tr>",
                            "<tr><td>V for Vendetta</td><td>2006</td><td>3.9</td><td>226041</td><td>2</td></tr>",
                            "<tr><td>Vicky Cristina Barcelona</td><td>2008</td><td>3.6</td><td>45494</td><td>2</td></tr>",
                            "<tr><td>Village of the Damned</td><td>1995</td><td>2.7</td><td>4194</td><td>2</td></tr>",
                            "<tr><td>Waking Life</td><td>2001</td><td>4.0</td><td>17715</td><td>2</td></tr>",
                            "<tr><td>Walk All Over Me</td><td>2007</td><td>3.0</td><td>609</td><td>2</td></tr>",
                            "<tr><td>War</td><td>2007</td><td>0.0</td><td>0</td><td>2</td></tr>",
                            "<tr><td>War of the Worlds</td><td>2005</td><td>2.9</td><td>162092</td><td>3</td></tr>",
                            "<tr><td>Wayne's World</td><td>1992</td><td>3.4</td><td>45784</td><td>2</td></tr>",
                            "<tr><td>Wedding Crashers</td><td>2005</td><td>3.5</td><td>215271</td><td>2</td></tr>",
                            "<tr><td>Weekend at Bernie's</td><td>1989</td><td>3.0</td><td>6596</td><td>2</td></tr>",
                            "<tr><td>We're No Angels</td><td>1989</td><td>2.9</td><td>2176</td><td>2</td></tr>",
                            "<tr><td>Whale Rider</td><td>2002</td><td>3.8</td><td>9564</td><td>2</td></tr>",
                            "<tr><td>What Ever Happened to Baby Jane?</td><td>1962</td><td>3.9</td><td>7128</td><td>2</td></tr>",
                            "<tr><td>When a Stranger Calls</td><td>2006</td><td>3.1</td><td>53427</td><td>2</td></tr>",
                            "<tr><td>Where in the World Is Osama Bin Laden?</td><td>2008</td><td>3.3</td><td>2558</td><td>2</td></tr>",
                            "<tr><td>Where the Heart Is</td><td>2000</td><td>3.5</td><td>12595</td><td>2</td></tr>",
                            "<tr><td>Wild Hogs</td><td>2007</td><td>3.4</td><td>86633</td><td>2</td></tr>",
                            "<tr><td>Wonderland</td><td>2003</td><td>3.3</td><td>3666</td><td>3</td></tr>",
                            "<tr><td>Wuthering Heights</td><td>1939</td><td>3.9</td><td>2525</td><td>3</td></tr>",
                            "<tr><td>X-Men</td><td>2000</td><td>3.7</td><td>133573</td><td>2</td></tr>",
                            "<tr><td>Yes Man</td><td>2008</td><td>3.7</td><td>141478</td><td>3</td></tr>",
                            "<tr><td>Young @ Heart</td><td>2007</td><td>4.2</td><td>3340</td><td>2</td></tr>",
                            "<tr><td>Your Friends &amp; Neighbors</td><td>1998</td><td>3.3</td><td>1418</td><td>2</td></tr>",
                            "<tr><td>Yours, Mine and Ours</td><td>2005</td><td>3.2</td><td>36270</td><td>2</td></tr>",
                            "<tr><td>Zardoz</td><td>1974</td><td>3.1</td><td>2696</td><td>2</td></tr>",
                            "</table>"
                        ]
                    }
                }
            ],
            "execution_count": 54
        },
        {
            "cell_type": "code",
            "source": [
                "-- Creating a view that contains no duplicates\n",
                "CREATE OR REPLACE VIEW no_duplicates AS \n",
                "SELECT DISTINCT title, year, rating, num_ratings\n",
                "FROM movies\n",
                "GROUP BY title, year, rating, num_ratings;"
            ],
            "metadata": {
                "azdata_cell_guid": "d4512c52-c6aa-465b-8d64-f59e6168a0cc",
                "tags": []
            },
            "outputs": [
                {
                    "output_type": "display_data",
                    "data": {
                        "text/html": "Commands completed successfully"
                    },
                    "metadata": {}
                },
                {
                    "output_type": "display_data",
                    "data": {
                        "text/html": "Total execution time: 00:00:00.001"
                    },
                    "metadata": {}
                }
            ],
            "execution_count": 56
        },
        {
            "cell_type": "markdown",
            "source": [
                "## 4a"
            ],
            "metadata": {
                "azdata_cell_guid": "31a6a019-5195-43f0-89bb-4cc94a2c850b"
            }
        },
        {
            "cell_type": "code",
            "source": [
                "CREATE INDEX actors_index ON actors(name);\r\n",
                "CREATE INDEX actors_id_index ON actors(mid);\r\n",
                "CREATE INDEX movies_index ON movies(title);\r\n",
                "CREATE INDEX movies_id_index ON movies(mid);\r\n",
                "CREATE INDEX movies_count_index ON movies(num_ratings);\r\n",
                "CREATE INDEX movies_rating_index ON movies(rating);\r\n",
                "CREATE INDEX genres_index ON genres(genre);\r\n",
                "CREATE INDEX tag_names_index ON tag_names(tag);"
            ],
            "metadata": {
                "azdata_cell_guid": "e22f059f-bb9f-4021-9ce2-1e07f6a7ba5b"
            },
            "outputs": [
{
    "output_type": "display_data",
    "data": {
        "text/html": "Commands completed successfully"
    },
    "metadata": {}
}, {
    "output_type": "display_data",
    "data": {
        "text/html": "Commands completed successfully"
    },
    "metadata": {}
}, {
    "output_type": "display_data",
    "data": {
        "text/html": "Commands completed successfully"
    },
    "metadata": {}
}, {
    "output_type": "display_data",
    "data": {
        "text/html": "Commands completed successfully"
    },
    "metadata": {}
}, {
    "output_type": "display_data",
    "data": {
        "text/html": "Commands completed successfully"
    },
    "metadata": {}
}, {
    "output_type": "display_data",
    "data": {
        "text/html": "Commands completed successfully"
    },
    "metadata": {}
}, {
    "output_type": "display_data",
    "data": {
        "text/html": "Commands completed successfully"
    },
    "metadata": {}
}, {
    "output_type": "display_data",
    "data": {
        "text/html": "Commands completed successfully"
    },
    "metadata": {}
}, {
    "output_type": "display_data",
    "data": {
        "text/html": "Total execution time: 00:00:00.432"
    },
    "metadata": {}
}
],
            "execution_count": null
        },
        {
            "cell_type": "markdown",
            "source": [
                "## 4b"
            ],
            "metadata": {
                "azdata_cell_guid": "235beb2b-f2b3-483c-855b-8e5444480668"
            }
        },
        {
            "cell_type": "code",
            "source": [
                "-- Profiling Results:\n",
                "\n",
                "-- BEFORE\n",
                "-- 3A: 0.021s\n",
                "-- 3B: 0.005s\n",
                "-- 3C: 0.014s\n",
                "-- 3D: 0.085s\n",
                "-- 3E: 0.014s\n",
                "-- 3F: 0.009s | 0.008s | 0.008s\n",
                "-- 3G: 0.009s\n",
                "-- 3H: 0.101s | 0.101s | 0.171s\n",
                "-- 3I: 0.127s\n",
                "-- 3J: 0.021s | 0.051s | 0.100s | 0.063s\n",
                "-- 3K: ?s\n",
                "-- 3L: ?s\n",
                "-- 3M: 0.019s\n",
                "\n",
                "-- AFTER\n",
                "-- 3A: 0.006s\n",
                "-- 3B: 0.007s\n",
                "-- 3C: 0.014s\n",
                "-- 3D: 0.082s\n",
                "-- 3E: 0.015s\n",
                "-- 3F: 0.006s | 0.008s | 0.008s\n",
                "-- 3G: 0.009s\n",
                "-- 3H: 0.100s | 0.105s | 0.154s\n",
                "-- 3I: 0.124s\n",
                "-- 3J: 0.008s | 0.050s | 0.102s | 0.138s\n",
                "-- 3K: ?s\n",
                "-- 3L: ?s\n",
                "-- 3M: 0.024s"
            ],
            "metadata": {
                "azdata_cell_guid": "b863d975-916e-4eda-9707-7591d0e9a01f"
            },
            "outputs": [],
            "execution_count": null
        },
        {
            "cell_type": "markdown",
            "source": [
                "## 4c"
            ],
            "metadata": {
                "azdata_cell_guid": "6d8219b0-83e9-4d72-a122-161c634c0888"
            }
        },
        {
            "cell_type": "code",
            "source": [
                ""
            ],
            "metadata": {
                "azdata_cell_guid": "732c7021-5e65-4f48-b8c3-252691d11e00"
            },
            "outputs": [],
            "execution_count": null
        },
        {
            "cell_type": "markdown",
            "source": [
                "## 4d"
            ],
            "metadata": {
                "azdata_cell_guid": "a17b011e-52d3-465e-81f6-357150f5b1e9"
            }
        },
        {
            "cell_type": "code",
            "source": [
                ""
            ],
            "metadata": {
                "azdata_cell_guid": "b401be27-c2ec-431f-aee0-f822ad99cfbd"
            },
            "outputs": [],
            "execution_count": null
        }
    ]
}