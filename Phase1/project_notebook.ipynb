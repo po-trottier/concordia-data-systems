{
    "metadata": {
        "kernelspec": {
            "name": "SQL",
            "display_name": "SQL",
            "language": "sql"
        },
        "language_info": {
            "name": "sql",
            "version": ""
        }
    },
    "nbformat_minor": 2,
    "nbformat": 4,
    "cells": [
        {
            "cell_type": "markdown",
            "source": [
                "# SOEN363 Project"
            ],
            "metadata": {
                "azdata_cell_guid": "7ab61aee-16ab-45d8-8e39-d3c92c0c30fe"
            }
        },
        {
            "cell_type": "markdown",
            "source": [
                "## Drop the DB Indecies **(Only for Debugging Purposes)**"
            ],
            "metadata": {
                "azdata_cell_guid": "0c56553e-1854-479d-ad1c-38111412cee0"
            }
        },
        {
            "cell_type": "code",
            "source": [
                "DROP INDEX actors_index;\r\n",
                "DROP INDEX actors_id_index;\r\n",
                "DROP INDEX movies_index;\r\n",
                "DROP INDEX movies_count_index;\r\n",
                "DROP INDEX movies_rating_index;\r\n",
                "DROP INDEX genres_index;\r\n",
                "DROP INDEX tag_names_index;\r\n",
                "DROP INDEX co_actors_index;\r\n",
                "DROP INDEX maxim_co_actors; "
            ],
            "metadata": {
                "azdata_cell_guid": "f9d10561-a849-4b20-9781-1cf61bd7df2d"
            },
            "outputs": [],
            "execution_count": null
        },
        {
            "cell_type": "markdown",
            "source": [
                "## Drop the DB Views **(Only for Debugging Purposes)**"
            ],
            "metadata": {
                "azdata_cell_guid": "4e3e0fb2-9340-4e31-8c04-fea08f2ba4af"
            }
        },
        {
            "cell_type": "code",
            "source": [
                "DROP VIEW high_ratings;\r\n",
                "DROP VIEW low_ratings;\r\n",
                "DROP VIEW non_existent;\r\n",
                "DROP VIEW no_duplicates;\r\n",
                "DROP VIEW all_combinations;\r\n",
                "DROP VIEW co_actors;"
            ],
            "metadata": {
                "azdata_cell_guid": "b76174de-3581-4b3d-ae01-217b06409440"
            },
            "outputs": [],
            "execution_count": null
        },
        {
            "cell_type": "markdown",
            "source": [
                "## Drop the DB tables **(Only for Debugging Purposes)**"
            ],
            "metadata": {
                "azdata_cell_guid": "c8445578-4997-4cd0-a0fc-771a4b723ab1"
            }
        },
        {
            "cell_type": "code",
            "source": [
                "DROP TABLE actors;\r\n",
                "DROP TABLE genres;\r\n",
                "DROP TABLE tags;\r\n",
                "DROP TABLE tag_names;\r\n",
                "DROP TABLE movies;"
            ],
            "metadata": {
                "azdata_cell_guid": "39caf518-f5f8-46d3-8fdb-222357281cca"
            },
            "outputs": [],
            "execution_count": null
        },
        {
            "cell_type": "markdown",
            "source": [
                "# Assignment Questions\n",
                "## 2a"
            ],
            "metadata": {
                "azdata_cell_guid": "1d9b61ee-dff7-49c5-8307-b5eba63d7fef"
            }
        },
        {
            "cell_type": "code",
            "source": [
                "CREATE TABLE movies (\r\n",
                "    mid             INTEGER UNIQUE, \r\n",
                "    title           VARCHAR, \r\n",
                "    year            INTEGER, \r\n",
                "    rating          REAL CHECK (rating BETWEEN 0.0 AND 5.0), \r\n",
                "    num_ratings     INTEGER,\r\n",
                "    PRIMARY KEY     (mid)\r\n",
                ");\r\n",
                "\r\n",
                "CREATE TABLE actors (\r\n",
                "    mid             INTEGER REFERENCES movies(mid), \r\n",
                "    name            VARCHAR, \r\n",
                "    cast_position   INTEGER,\r\n",
                "    PRIMARY KEY     (mid, name)\r\n",
                ");\r\n",
                "\r\n",
                "CREATE TABLE genres (\r\n",
                "    mid             INTEGER REFERENCES movies(mid), \r\n",
                "    genre           VARCHAR,\r\n",
                "    PRIMARY KEY     (mid, genre)\r\n",
                ");\r\n",
                "\r\n",
                "CREATE TABLE tag_names (\r\n",
                "    tid             INTEGER, \r\n",
                "    tag             VARCHAR,\r\n",
                "    PRIMARY KEY     (tid)\r\n",
                ");\r\n",
                "\r\n",
                "CREATE TABLE tags (\r\n",
                "    mid             INTEGER REFERENCES movies(mid), \r\n",
                "    tid             INTEGER REFERENCES tag_names(tid),\r\n",
                "    PRIMARY KEY     (mid, tid)\r\n",
                ");\r\n",
                "\r\n",
                "COPY movies FROM '/srv/soen363/phase1/movies.dat';\r\n",
                "\r\n",
                "COPY actors FROM '/srv/soen363/phase1/actors.dat';\r\n",
                "\r\n",
                "COPY genres FROM '/srv/soen363/phase1/genres.dat';\r\n",
                "\r\n",
                "COPY tag_names FROM '/srv/soen363/phase1/tag_names.dat';\r\n",
                "\r\n",
                "COPY tags FROM '/srv/soen363/phase1/tags.dat';"
            ],
            "metadata": {
                "azdata_cell_guid": "dbf4f54e-041e-4a34-99f9-5eca1dc15d8f",
                "tags": []
            },
            "outputs": [],
            "execution_count": null
        },
        {
            "cell_type": "markdown",
            "source": [
                "## 3a"
            ],
            "metadata": {
                "azdata_cell_guid": "b58fc898-d4d4-4f32-85b6-fdd01a323c87"
            }
        },
        {
            "cell_type": "code",
            "source": [
                "-- Get the movie titles starring \"Daniel Craig\", sorted in an ascending alphabetical order\r\n",
                "SELECT DISTINCT M.title AS \"Movie Titles\"\r\n",
                "FROM actors A, movies M\r\n",
                "WHERE\r\n",
                "    M.mid = A.mid AND\r\n",
                "    A.name = 'Daniel Craig'\r\n",
                "ORDER BY M.title ASC;"
            ],
            "metadata": {
                "azdata_cell_guid": "fbf5426d-0854-4f50-b4a8-5c95d314ab53",
                "tags": []
            },
            "outputs": [],
            "execution_count": null
        },
        {
            "cell_type": "markdown",
            "source": [
                "## 3b"
            ],
            "metadata": {
                "azdata_cell_guid": "e9ea10e1-39a2-43c1-adf7-924341c1b682"
            }
        },
        {
            "cell_type": "code",
            "source": [
                "-- Get the cast of the movie titled \"The Dark Knight\", sorted in ascending alphabetical order\r\n",
                "SELECT DISTINCT A.name AS \"Cast\"\r\n",
                "FROM actors A, movies M\r\n",
                "WHERE\r\n",
                "    M.mid = A.mid AND\r\n",
                "    M.title = 'The Dark Knight'\r\n",
                "ORDER BY A.name ASC;"
            ],
            "metadata": {
                "azdata_cell_guid": "b33f4d04-bf33-4a44-9f1e-3aeb235534f8",
                "tags": []
            },
            "outputs": [],
            "execution_count": null
        },
        {
            "cell_type": "markdown",
            "source": [
                "## 3c"
            ],
            "metadata": {
                "azdata_cell_guid": "9decec30-82cc-4bd2-b175-bd40858b502d"
            }
        },
        {
            "cell_type": "code",
            "source": [
                "-- Get the distinct genres in the database, alongside their number of occurrences (only for 1000+ occurrences), sorted ascending numerically in occurrences\r\n",
                "SELECT DISTINCT G.genre, COUNT(M.*) AS number_of_movies_in_genre\r\n",
                "FROM genres G, movies M\r\n",
                "WHERE G.mid = M.mid\r\n",
                "GROUP BY G.genre\r\n",
                "HAVING COUNT(M.*) > 1000\r\n",
                "ORDER BY COUNT(M.*) ASC;"
            ],
            "metadata": {
                "azdata_cell_guid": "c5f006a8-8101-464b-b06a-02311f44bce2"
            },
            "outputs": [],
            "execution_count": null
        },
        {
            "cell_type": "markdown",
            "source": [
                "## 3d"
            ],
            "metadata": {
                "azdata_cell_guid": "670fb4cf-a70a-4fdf-bf1a-3434c29c0be3"
            }
        },
        {
            "cell_type": "code",
            "source": [
                "-- For each year, print the movie title, year, and rating, sorted in the ascending order of year and the descending order of movie rating\r\n",
                "SELECT M.title, M.year, M.rating\r\n",
                "FROM movies M\r\n",
                "WHERE M.num_ratings > 0\r\n",
                "ORDER BY M.year ASC, M.rating DESC;"
            ],
            "metadata": {
                "azdata_cell_guid": "cc6b3192-8083-42f0-8816-29e9a28be3c8",
                "tags": []
            },
            "outputs": [],
            "execution_count": null
        },
        {
            "cell_type": "markdown",
            "source": [
                "## 3e"
            ],
            "metadata": {
                "azdata_cell_guid": "3416f197-4164-4005-97fc-9caaf7710228"
            }
        },
        {
            "cell_type": "code",
            "source": [
                "-- Get the titles of movies whose tags include at least one occurrence of the word \"bad\" and another of \"good\"\r\n",
                "SELECT M.title\r\n",
                "FROM movies M, tags T, tag_names TN\r\n",
                "WHERE \r\n",
                "    M.mid = T.mid AND T.tid = TN.tid AND\r\n",
                "    TN.tag IN (\r\n",
                "        SELECT TN.tag \r\n",
                "        FROM tag_names TN\r\n",
                "        WHERE TN.tag LIKE 'good%'\r\n",
                "        UNION\r\n",
                "        SELECT TN.tag \r\n",
                "        FROM tag_names TN\r\n",
                "        WHERE TN.tag LIKE 'bad%'\r\n",
                "    );"
            ],
            "metadata": {
                "azdata_cell_guid": "29526ee9-60b7-48a3-b8cd-922e1787de7c",
                "tags": []
            },
            "outputs": [],
            "execution_count": null
        },
        {
            "cell_type": "markdown",
            "source": [
                "## 3f"
            ],
            "metadata": {
                "azdata_cell_guid": "637a0ac8-e7fd-4b60-abc3-d6c6991da592"
            }
        },
        {
            "cell_type": "code",
            "source": [
                "-- i. Get the information for the movies with the highest number of ratings, sorted ascending by movie ID\r\n",
                "SELECT M.mid, M.title, M.year, M.rating, M.num_ratings\r\n",
                "FROM movies M\r\n",
                "WHERE M.num_ratings IN (\r\n",
                "    SELECT MAX(M.num_ratings)\r\n",
                "    FROM movies M\r\n",
                ")\r\n",
                "ORDER BY M.mid;"
            ],
            "metadata": {
                "azdata_cell_guid": "11d8dfb3-223e-462b-a22b-32a89aa49fe7",
                "tags": []
            },
            "outputs": [],
            "execution_count": null
        },
        {
            "cell_type": "code",
            "source": [
                "-- ii. Get the information for the movies with the highest rating, sorted ascending by movie ID\r\n",
                "SELECT M.mid, M.title, M.year, M.rating, M.num_ratings\r\n",
                "FROM movies M\r\n",
                "WHERE M.rating IN (\r\n",
                "    SELECT MAX(M.rating)\r\n",
                "    FROM movies M\r\n",
                ")\r\n",
                "ORDER BY M.mid;"
            ],
            "metadata": {
                "azdata_cell_guid": "a1ca2f62-ecde-46b7-b0c0-583bf15995d1",
                "tags": []
            },
            "outputs": [],
            "execution_count": null
        },
        {
            "cell_type": "code",
            "source": [
                "-- iii. Get the information for the movies with BOTH the highest rating AND the highest number of ratings (if it exists)"
            ],
            "metadata": {
                "azdata_cell_guid": "41fd2356-8a3d-4a32-b510-a80c991b7a8e"
            },
            "outputs": [],
            "execution_count": null
        },
        {
            "cell_type": "markdown",
            "source": [
                "From the data returned from the last two queries, we know that this isn't the case; the movie with the highest rating isn't among the movies with the highest number of ratings.\n",
                "\n",
                "Highest number of ratings: mid 4201/53125, title Pirates of the Caribbean: At World's End\n",
                "\n",
                "Highest rating: mid 4311, title 1732 Høtten"
            ],
            "metadata": {
                "azdata_cell_guid": "64eee3b5-5b17-4d57-8745-93afdc8f6ed8"
            }
        },
        {
            "cell_type": "code",
            "source": [
                "-- iv. Get the information for the movies with the lowest rating, sorted by ascending movie ID\r\n",
                "SELECT M.mid, M.title, M.year, M.rating, M.num_ratings\r\n",
                "FROM movies M\r\n",
                "WHERE M.rating IN (\r\n",
                "    SELECT MIN(M.rating)\r\n",
                "    FROM movies M\r\n",
                "    WHERE M.num_ratings > 0\r\n",
                ")\r\n",
                "ORDER BY M.mid;"
            ],
            "metadata": {
                "azdata_cell_guid": "8d04c80e-de87-442f-9f59-d632a1c37111"
            },
            "outputs": [],
            "execution_count": null
        },
        {
            "cell_type": "code",
            "source": [
                "-- v. Get the information for the movies with BOTH the lowest AND the highest number of ratings (if it exists)"
            ],
            "metadata": {
                "azdata_cell_guid": "d5ac33ec-91b2-4c23-85ec-97a5c3c11e07"
            },
            "outputs": [],
            "execution_count": null
        },
        {
            "cell_type": "markdown",
            "source": [
                "From the data returned from the last query, we know that the lowest rating (for a movie which has been rated more than 0 times) is 1.5\n",
                "This means that it is not the case for the movie with the highest number of ratings (currently 1'768'593 ratings at 3.8) to be the movie with the lowest rating (currently 3 ratings at 1.5)."
            ],
            "metadata": {
                "azdata_cell_guid": "65ed8f4f-443d-4c27-a204-bba2e47980ab"
            }
        },
        {
            "cell_type": "code",
            "source": [
                "-- vi. Present your findings on the hypothesis: are popular movies (the most ratings) among the best/worst movies (lowest or highest rating score)?"
            ],
            "metadata": {
                "azdata_cell_guid": "1adf7def-6327-4069-840a-46c8c3b07f99"
            },
            "outputs": [],
            "execution_count": null
        },
        {
            "cell_type": "markdown",
            "source": [
                "According to the results from the previous queries, it can be safely said that the hypothesis is false for this database."
            ],
            "metadata": {
                "azdata_cell_guid": "11bb8b7d-0166-4599-a1e4-f1d29847219b"
            }
        },
        {
            "cell_type": "markdown",
            "source": [
                "## 3g"
            ],
            "metadata": {
                "azdata_cell_guid": "2c400d84-966a-4f38-a35d-3bb0e30c42df"
            }
        },
        {
            "cell_type": "code",
            "source": [
                "-- Get the year, title and rating of the lowest-rated and highest-rated movies for each year, between 2005 and 2011 inclusively. If tied, use ascending title\r\n",
                "\r\n",
                "SELECT M2.year, M2.title, M2.rating\r\n",
                "FROM movies M2\r\n",
                "INNER JOIN (\r\n",
                "    SELECT M1.year, MAX(M1.rating) as highest_rating\r\n",
                "    FROM movies M1\r\n",
                "    WHERE M1.year BETWEEN 2005 AND 2011 AND M1.num_ratings > 0\r\n",
                "    GROUP BY M1.year\r\n",
                "    ORDER BY M1.year ASC\r\n",
                ") highest ON (highest.year = M2.year AND highest.highest_rating = M2.rating)\r\n",
                "\r\n",
                "UNION\r\n",
                "\r\n",
                "SELECT M4.year, M4.title, M4.rating\r\n",
                "FROM movies M4\r\n",
                "INNER JOIN (\r\n",
                "    SELECT M3.year, MIN(M3.rating) as lowest_rating\r\n",
                "    FROM movies M3\r\n",
                "    WHERE M3.year BETWEEN 2005 AND 2011 AND M3.num_ratings > 0\r\n",
                "    GROUP BY M3.year\r\n",
                "    ORDER BY M3.year ASC\r\n",
                ") lowest ON (lowest.year = M4.year AND lowest.lowest_rating = M4.rating)\r\n",
                "\r\n",
                "ORDER BY year ASC, rating ASC, title ASC"
            ],
            "metadata": {
                "azdata_cell_guid": "d3c40567-2a44-4153-9b3d-1f54cd2544be",
                "tags": []
            },
            "outputs": [],
            "execution_count": null
        },
        {
            "cell_type": "markdown",
            "source": [
                "Only movies with more than 0 ratings were considered in this query. As no ratings were given to movies in 2010 and 2011, no movies from those years appear in the results. Removing the constraint will make the results appear, albeit with their ratings being 0.0."
            ],
            "metadata": {
                "azdata_cell_guid": "2ad35cc2-7420-40ee-925e-0930dec3d6df"
            }
        },
        {
            "cell_type": "markdown",
            "source": [
                "## 3h"
            ],
            "metadata": {
                "azdata_cell_guid": "a48b3344-d387-4ab5-9c47-83b45e078c23"
            }
        },
        {
            "cell_type": "code",
            "source": [
                "-- High Ratings view to get actors that have participated in a movie with a rating >= 4\r\n",
                "CREATE OR REPLACE VIEW high_ratings AS\r\n",
                "    SELECT DISTINCT A.name \r\n",
                "    FROM actors A, movies M\r\n",
                "    WHERE A.mid = m.mid AND m.rating >= 4; \r\n",
                "\r\n",
                "-- Low Ratings view to get actors that have participated in a movie with a rating < 4\r\n",
                "CREATE OR REPLACE VIEW low_ratings AS\r\n",
                "    SELECT DISTINCT A.name \r\n",
                "    FROM actors A, movies M\r\n",
                "    WHERE A.mid = m.mid AND m.rating < 4;\r\n",
                "\r\n",
                "-- Get the actors count coming from High Ratings \r\n",
                "SELECT COUNT(*) as result_count_high\r\n",
                "FROM high_ratings;\r\n",
                "\r\n",
                "-- Get the actors count coming from Low Ratings\r\n",
                "SELECT COUNT(*) as result_count_low\r\n",
                "FROM low_ratings;"
            ],
            "metadata": {
                "azdata_cell_guid": "0e4c4076-6483-4442-8467-a0517bfa0d82",
                "tags": []
            },
            "outputs": [],
            "execution_count": null
        },
        {
            "cell_type": "code",
            "source": [
                "-- Get the number of No Flop actors in the database\r\n",
                "SELECT COUNT(*)\r\n",
                "FROM high_ratings\r\n",
                "WHERE name NOT IN (\r\n",
                "    SELECT name\r\n",
                "    FROM low_ratings\r\n",
                ");"
            ],
            "metadata": {
                "azdata_cell_guid": "a5cf124e-5c24-4c12-8c15-e114d3c4991f"
            },
            "outputs": [],
            "execution_count": null
        },
        {
            "cell_type": "code",
            "source": [
                "-- Get the name and movie count of the Top 10 No Flop actors\r\n",
                "SELECT R.name, COUNT(A.*) as movie_count\r\n",
                "FROM high_ratings R, actors A\r\n",
                "WHERE \r\n",
                "    R.name NOT IN (\r\n",
                "        SELECT name\r\n",
                "        FROM low_ratings\r\n",
                "    ) AND \r\n",
                "    A.name = R.NAME\r\n",
                "GROUP BY R.name\r\n",
                "ORDER BY COUNT(A.*) DESC\r\n",
                "LIMIT 10;"
            ],
            "metadata": {
                "azdata_cell_guid": "f853a76f-4a31-4a29-ad89-c23c84b9cac6",
                "tags": []
            },
            "outputs": [],
            "execution_count": null
        },
        {
            "cell_type": "markdown",
            "source": [
                "## 3i"
            ],
            "metadata": {
                "azdata_cell_guid": "f8e4b73c-ad44-4b83-bc19-4bc2d42fe1a1"
            }
        },
        {
            "cell_type": "code",
            "source": [
                "-- Find the actor with the longest longevity\r\n",
                "SELECT \r\n",
                "    A.name, \r\n",
                "    MIN(M.year) as start, \r\n",
                "    MAX(M.year) as end, \r\n",
                "    MAX(M.year) - MIN(M.year) as longevity\r\n",
                "FROM actors A, movies M\r\n",
                "WHERE A.mid = M.mid\r\n",
                "GROUP BY A.name \r\n",
                "ORDER BY MAX(M.year) - MIN(M.year) DESC\r\n",
                "LIMIT 1;"
            ],
            "metadata": {
                "azdata_cell_guid": "6d9b71fe-c363-4dcf-b5ff-ad5b5932149e"
            },
            "outputs": [],
            "execution_count": null
        },
        {
            "cell_type": "markdown",
            "source": [
                "## 3j"
            ],
            "metadata": {
                "azdata_cell_guid": "735c7aa4-f2f7-4584-a42e-df4074a697d8"
            }
        },
        {
            "cell_type": "code",
            "source": [
                "-- Returns the distinct names of actors who played in at least one movie with Annette Nicole.\n",
                "CREATE OR REPLACE VIEW co_actors AS\n",
                "SELECT DISTINCT name\n",
                "FROM actors \n",
                "WHERE mid IN (\n",
                "    SELECT mid \n",
                "    FROM actors\n",
                "    WHERE name = 'Annette Nicole'\n",
                ");\n",
                "\n",
                "-- Print the number of rows in this view. \n",
                "SELECT COUNT(name)\n",
                "FROM co_actors;"
            ],
            "metadata": {
                "azdata_cell_guid": "3d78a34c-2aa8-46bd-a69b-53efd512234d",
                "tags": []
            },
            "outputs": [],
            "execution_count": null
        },
        {
            "cell_type": "code",
            "source": [
                "-- Returns all possible combinations of co_actors and the movie ids in which Annette Nicole played.\n",
                "CREATE OR REPLACE VIEW all_combinations AS\n",
                "SELECT DISTINCT co_actors.name, actors.mid\n",
                "FROM co_actors, actors\n",
                "WHERE actors.mid IN (\n",
                "    SELECT mid \n",
                "    FROM actors\n",
                "    WHERE name = 'Annette Nicole'\n",
                ")\n",
                "ORDER BY co_actors.name;\n",
                "\n",
                "-- Print the number of rows in this view. \n",
                "SELECT COUNT(name)\n",
                "FROM all_combinations;"
            ],
            "metadata": {
                "azdata_cell_guid": "9b218a81-900d-4233-aade-bb7794318747",
                "tags": []
            },
            "outputs": [],
            "execution_count": null
        },
        {
            "cell_type": "code",
            "source": [
                "-- Remove all legitimate pairs from all_combinations.\n",
                "CREATE OR REPLACE VIEW non_existent AS\n",
                "SELECT * FROM all_combinations\n",
                "WHERE NOT EXISTS (\n",
                "    SELECT * \n",
                "    FROM actors\n",
                "    WHERE \n",
                "        all_combinations.name = actors.name AND \n",
                "        all_combinations.mid = actors.mid\n",
                ");\n",
                "\n",
                "-- Print the number of rows in this view.\n",
                "SELECT COUNT(name)\n",
                "FROM non_existent;"
            ],
            "metadata": {
                "azdata_cell_guid": "0a76b47f-ee8f-481c-8bb7-6aace6d624a5",
                "tags": []
            },
            "outputs": [],
            "execution_count": null
        },
        {
            "cell_type": "code",
            "source": [
                "-- Eliminate the distinct actors from co_actors that appear in the view non_existent.\n",
                "-- Print the names of all co_actors except Annette Nicole.\n",
                "\n",
                "SELECT * FROM co_actors\n",
                "WHERE NOT EXISTS (\n",
                "    SELECT * \n",
                "    FROM non_existent\n",
                "    WHERE non_existent.name = co_actors.name\n",
                ") AND \n",
                "NOT co_actors.name = 'Annette Nicole';"
            ],
            "metadata": {
                "azdata_cell_guid": "7e5d6f1e-4c92-4857-bcd2-2341f1f21c3c",
                "tags": []
            },
            "outputs": [],
            "execution_count": null
        },
        {
            "cell_type": "markdown",
            "source": [
                "## 3k"
            ],
            "metadata": {
                "azdata_cell_guid": "c070df48-d96c-42f9-a282-6356d626d6f1"
            }
        },
        {
            "cell_type": "code",
            "source": [
                "-- Find all co-acrtors of Tom Cruise \n",
                "SELECT A2.name, COUNT (DISTINCT A1.name) AS \"Tom Cruise Co-Actors\"\n",
                "FROM actors A1, actors A2, movies M\n",
                "WHERE \n",
                "    M.mid = A2.mid AND\n",
                "    A2.name = 'Tom Cruise' AND\n",
                "    M.mid = A1.mid AND NOT\n",
                "    A1.name = 'Tom Cruise'\n",
                "GROUP BY A2.name;"
            ],
            "metadata": {
                "azdata_cell_guid": "e5f3658e-81a7-4b58-b16d-251f968b94ff"
            },
            "outputs": [],
            "execution_count": null
        },
        {
            "cell_type": "code",
            "source": [
                "-- Find actor with most co-actors\n",
                "CREATE OR REPLACE VIEW max_co_actors AS\n",
                "SELECT A2.name, COUNT (DISTINCT A1.name) AS most_co_actors\n",
                "FROM actors A1, actors A2, movies M\n",
                "WHERE \n",
                "    M.mid = A2.mid AND\n",
                "    M.mid = A1.mid\n",
                "GROUP BY A2.name;\n",
                "\n",
                "\n",
                "-- Print the actor with the most co-actors\n",
                "\n",
                "SELECT name, most_co_actors\n",
                "FROM max_co_actors\n",
                "ORDER BY most_co_actors DESC\n",
                "LIMIT 1;"
            ],
            "metadata": {
                "azdata_cell_guid": "08d80ea8-1919-464c-a2f8-1ee902d696af"
            },
            "outputs": [],
            "execution_count": null
        },
        {
            "cell_type": "markdown",
            "source": [
                "## 3l"
            ],
            "metadata": {
                "azdata_cell_guid": "0a5225b7-d263-4297-b910-f784954cd7fb"
            }
        },
        {
            "cell_type": "code",
            "source": [
                "CREATE OR REPLACE VIEW tags_in_common AS\r\n",
                "    WITH tags_count AS (\r\n",
                "        SELECT COUNT(tid) \r\n",
                "        FROM tags\r\n",
                "    )\r\n",
                "    SELECT M2.mid, T2.title, T2.count::REAL / C.count::REAL AS tags_similarity\r\n",
                "    FROM tags_count C, movies M2 RIGHT JOIN (\r\n",
                "        SELECT M1.mid, M1.title, COUNT(T1.tid)\r\n",
                "        FROM tags T1, movies M1\r\n",
                "        WHERE \r\n",
                "            T1.tid IN (\r\n",
                "                SELECT T.tid\r\n",
                "                FROM tags T, movies M\r\n",
                "                WHERE \r\n",
                "                    M.title = 'Mr. & Mrs. Smith' AND\r\n",
                "                    T.mid = M.mid\r\n",
                "            ) AND \r\n",
                "            M1.title != 'Mr. & Mrs. Smith' AND\r\n",
                "            T1.mid = M1.mid\r\n",
                "        GROUP BY M1.mid, M1.title\r\n",
                "        ORDER BY COUNT(T1.tid) DESC\r\n",
                "    ) T2\r\n",
                "    ON T2.mid = M2.mid\r\n",
                "    ORDER BY tags_similarity DESC;\r\n",
                "\r\n",
                "SELECT * FROM tags_in_common;"
            ],
            "metadata": {
                "azdata_cell_guid": "9471b6de-9ca3-4b0b-b7c1-78b7513d2080",
                "tags": []
            },
            "outputs": [
                {
                    "output_type": "display_data",
                    "data": {
                        "text/html": "Commands completed successfully"
                    },
                    "metadata": {}
                },
                {
                    "output_type": "display_data",
                    "data": {
                        "text/html": "(504 row(s) affected)"
                    },
                    "metadata": {}
                },
                {
                    "output_type": "display_data",
                    "data": {
                        "text/html": "Total execution time: 00:00:00.038"
                    },
                    "metadata": {}
                },
                {
                    "output_type": "execute_result",
                    "metadata": {},
                    "execution_count": 98,
                    "data": {
                        "application/vnd.dataresource+json": {
                            "schema": {
                                "fields": [
                                    {
                                        "name": "mid"
                                    },
                                    {
                                        "name": "title"
                                    },
                                    {
                                        "name": "tags_similarity"
                                    }
                                ]
                            },
                            "data": [
                                {
                                    "0": "2959",
                                    "1": "Fight Club",
                                    "2": "7.722753e-05"
                                },
                                {
                                    "0": "2571",
                                    "1": "The Matrix",
                                    "2": "7.722753e-05"
                                },
                                {
                                    "0": "589",
                                    "1": "Terminator 2: Judgment Day",
                                    "2": "7.722753e-05"
                                },
                                {
                                    "0": "4226",
                                    "1": "Memento",
                                    "2": "7.722753e-05"
                                },
                                {
                                    "0": "4262",
                                    "1": "Scarface",
                                    "2": "7.722753e-05"
                                },
                                {
                                    "0": "8644",
                                    "1": "I, Robot",
                                    "2": "5.792065e-05"
                                },
                                {
                                    "0": "7438",
                                    "1": "Kill Bill: Vol. 2",
                                    "2": "5.792065e-05"
                                },
                                {
                                    "0": "6874",
                                    "1": "Kill Bill: Vol. 2",
                                    "2": "5.792065e-05"
                                },
                                {
                                    "0": "380",
                                    "1": "True Lies",
                                    "2": "5.792065e-05"
                                },
                                {
                                    "0": "32",
                                    "1": "Twelve Monkeys",
                                    "2": "5.792065e-05"
                                },
                                {
                                    "0": "648",
                                    "1": "Mission: Impossible III",
                                    "2": "5.792065e-05"
                                },
                                {
                                    "0": "34162",
                                    "1": "Wedding Crashers",
                                    "2": "5.792065e-05"
                                },
                                {
                                    "0": "260",
                                    "1": "Star Wars",
                                    "2": "5.792065e-05"
                                },
                                {
                                    "0": "4963",
                                    "1": "Ocean's Eleven",
                                    "2": "5.792065e-05"
                                },
                                {
                                    "0": "3527",
                                    "1": "Predator",
                                    "2": "5.792065e-05"
                                },
                                {
                                    "0": "6365",
                                    "1": "The Matrix Reloaded",
                                    "2": "5.792065e-05"
                                },
                                {
                                    "0": "7458",
                                    "1": "Troy",
                                    "2": "5.792065e-05"
                                },
                                {
                                    "0": "8665",
                                    "1": "The Bourne Supremacy",
                                    "2": "5.792065e-05"
                                },
                                {
                                    "0": "8810",
                                    "1": "AVP: Alien vs. Predator",
                                    "2": "5.792065e-05"
                                },
                                {
                                    "0": "33004",
                                    "1": "The Hitch Hikers Guide to the Galaxy",
                                    "2": "5.792065e-05"
                                },
                                {
                                    "0": "296",
                                    "1": "Pulp Fiction",
                                    "2": "5.792065e-05"
                                },
                                {
                                    "0": "4161",
                                    "1": "The Mexican",
                                    "2": "5.792065e-05"
                                },
                                {
                                    "0": "37382",
                                    "1": "Domino",
                                    "2": "5.792065e-05"
                                },
                                {
                                    "0": "7090",
                                    "1": "Ying xiong",
                                    "2": "5.792065e-05"
                                },
                                {
                                    "0": "6934",
                                    "1": "The Matrix Revolutions",
                                    "2": "5.792065e-05"
                                },
                                {
                                    "0": "1210",
                                    "1": "Star Wars: Episode VI - Return of the Jedi",
                                    "2": "5.792065e-05"
                                },
                                {
                                    "0": "1196",
                                    "1": "Star Wars: Episode V - The Empire Strikes Back",
                                    "2": "5.792065e-05"
                                },
                                {
                                    "0": "7346",
                                    "1": "The Girl Next Door",
                                    "2": "3.8613765e-05"
                                },
                                {
                                    "0": "5254",
                                    "1": "Blade II",
                                    "2": "3.8613765e-05"
                                },
                                {
                                    "0": "6541",
                                    "1": "The League of Extraordinary Gentlemen",
                                    "2": "3.8613765e-05"
                                },
                                {
                                    "0": "8983",
                                    "1": "Shi mian mai fu",
                                    "2": "3.8613765e-05"
                                },
                                {
                                    "0": "2167",
                                    "1": "Blade",
                                    "2": "3.8613765e-05"
                                },
                                {
                                    "0": "3578",
                                    "1": "Gladiator",
                                    "2": "3.8613765e-05"
                                },
                                {
                                    "0": "8984",
                                    "1": "Ocean's Twelve",
                                    "2": "3.8613765e-05"
                                },
                                {
                                    "0": "40959",
                                    "1": "The Ice Harvest",
                                    "2": "3.8613765e-05"
                                },
                                {
                                    "0": "288",
                                    "1": "Natural Born Killers",
                                    "2": "3.8613765e-05"
                                },
                                {
                                    "0": "49272",
                                    "1": "Casino Royale",
                                    "2": "3.8613765e-05"
                                },
                                {
                                    "0": "8798",
                                    "1": "Collateral",
                                    "2": "3.8613765e-05"
                                },
                                {
                                    "0": "27808",
                                    "1": "Spanglish",
                                    "2": "3.8613765e-05"
                                },
                                {
                                    "0": "3996",
                                    "1": "Wo hu cang long",
                                    "2": "3.8613765e-05"
                                },
                                {
                                    "0": "8622",
                                    "1": "Fahrenheit 9/11",
                                    "2": "3.8613765e-05"
                                },
                                {
                                    "0": "8865",
                                    "1": "Sky Captain and the World of Tomorrow",
                                    "2": "3.8613765e-05"
                                },
                                {
                                    "0": "7153",
                                    "1": "The Lord of the Rings: The Return of the King",
                                    "2": "3.8613765e-05"
                                },
                                {
                                    "0": "1923",
                                    "1": "There's Something About Mary",
                                    "2": "3.8613765e-05"
                                },
                                {
                                    "0": "1091",
                                    "1": "Weekend at Bernie's",
                                    "2": "3.8613765e-05"
                                },
                                {
                                    "0": "6957",
                                    "1": "Bad Santa",
                                    "2": "3.8613765e-05"
                                },
                                {
                                    "0": "32596",
                                    "1": "Sahara",
                                    "2": "3.8613765e-05"
                                },
                                {
                                    "0": "6539",
                                    "1": "Pirates of the Caribbean: The Curse of the Black Pearl",
                                    "2": "3.8613765e-05"
                                },
                                {
                                    "0": "16",
                                    "1": "Casino",
                                    "2": "3.8613765e-05"
                                },
                                {
                                    "0": "1466",
                                    "1": "Donnie Brasco",
                                    "2": "3.8613765e-05"
                                },
                                {
                                    "0": "54286",
                                    "1": "The Bourne Ultimatum",
                                    "2": "3.8613765e-05"
                                },
                                {
                                    "0": "7318",
                                    "1": "The Passion of the Christ",
                                    "2": "3.8613765e-05"
                                },
                                {
                                    "0": "1089",
                                    "1": "Reservoir Dogs",
                                    "2": "3.8613765e-05"
                                },
                                {
                                    "0": "2018",
                                    "1": "Bambi",
                                    "2": "3.8613765e-05"
                                },
                                {
                                    "0": "8835",
                                    "1": "Paparazzi",
                                    "2": "3.8613765e-05"
                                },
                                {
                                    "0": "2180",
                                    "1": "Torn Curtain",
                                    "2": "3.8613765e-05"
                                },
                                {
                                    "0": "163",
                                    "1": "Desperado",
                                    "2": "3.8613765e-05"
                                },
                                {
                                    "0": "8636",
                                    "1": "Spider-Man",
                                    "2": "3.8613765e-05"
                                },
                                {
                                    "0": "5952",
                                    "1": "The Lord of the Rings: The Two Towers",
                                    "2": "3.8613765e-05"
                                },
                                {
                                    "0": "5669",
                                    "1": "Bowling for Columbine",
                                    "2": "3.8613765e-05"
                                },
                                {
                                    "0": "31696",
                                    "1": "Constantine",
                                    "2": "3.8613765e-05"
                                },
                                {
                                    "0": "588",
                                    "1": "Aladdin",
                                    "2": "3.8613765e-05"
                                },
                                {
                                    "0": "364",
                                    "1": "The Lion King",
                                    "2": "3.8613765e-05"
                                },
                                {
                                    "0": "33166",
                                    "1": "Crash",
                                    "2": "3.8613765e-05"
                                },
                                {
                                    "0": "4011",
                                    "1": "Snatch.",
                                    "2": "3.8613765e-05"
                                },
                                {
                                    "0": "27788",
                                    "1": "The Jacket",
                                    "2": "3.8613765e-05"
                                },
                                {
                                    "0": "1921",
                                    "1": "Pi",
                                    "2": "3.8613765e-05"
                                },
                                {
                                    "0": "36529",
                                    "1": "Lord of War",
                                    "2": "3.8613765e-05"
                                },
                                {
                                    "0": "1214",
                                    "1": "Alien",
                                    "2": "3.8613765e-05"
                                },
                                {
                                    "0": "4367",
                                    "1": "Lara Croft: Tomb Raider",
                                    "2": "3.8613765e-05"
                                },
                                {
                                    "0": "5033",
                                    "1": "The Russia House",
                                    "2": "3.8613765e-05"
                                },
                                {
                                    "0": "6185",
                                    "1": "Dark Blue",
                                    "2": "3.8613765e-05"
                                },
                                {
                                    "0": "1036",
                                    "1": "Die Hard",
                                    "2": "3.8613765e-05"
                                },
                                {
                                    "0": "5418",
                                    "1": "The Bourne Identity",
                                    "2": "3.8613765e-05"
                                },
                                {
                                    "0": "8961",
                                    "1": "The Incredibles",
                                    "2": "3.8613765e-05"
                                },
                                {
                                    "0": "2183",
                                    "1": "The Man Who Knew Too Much",
                                    "2": "3.8613765e-05"
                                },
                                {
                                    "0": "10",
                                    "1": "GoldenEye",
                                    "2": "3.8613765e-05"
                                },
                                {
                                    "0": "30825",
                                    "1": "Meet the Fockers",
                                    "2": "3.8613765e-05"
                                },
                                {
                                    "0": "31685",
                                    "1": "Hitch",
                                    "2": "3.8613765e-05"
                                },
                                {
                                    "0": "1201",
                                    "1": "Il buono, il brutto, il cattivo.",
                                    "2": "3.8613765e-05"
                                },
                                {
                                    "0": "7482",
                                    "1": "Enter the Dragon",
                                    "2": "3.8613765e-05"
                                },
                                {
                                    "0": "48780",
                                    "1": "The Prestige",
                                    "2": "3.8613765e-05"
                                },
                                {
                                    "0": "49822",
                                    "1": "The Good Shepherd",
                                    "2": "3.8613765e-05"
                                },
                                {
                                    "0": "3793",
                                    "1": "X-Men",
                                    "2": "3.8613765e-05"
                                },
                                {
                                    "0": "5445",
                                    "1": "Minority Report",
                                    "2": "3.8613765e-05"
                                },
                                {
                                    "0": "8772",
                                    "1": "The Spy Who Came in from the Cold",
                                    "2": "3.8613765e-05"
                                },
                                {
                                    "0": "858",
                                    "1": "The Godfather",
                                    "2": "3.8613765e-05"
                                },
                                {
                                    "0": "3623",
                                    "1": "Mission: Impossible",
                                    "2": "3.8613765e-05"
                                },
                                {
                                    "0": "5010",
                                    "1": "Black Hawk Down",
                                    "2": "3.8613765e-05"
                                },
                                {
                                    "0": "4995",
                                    "1": "A Beautiful Mind",
                                    "2": "3.8613765e-05"
                                },
                                {
                                    "0": "4901",
                                    "1": "Spy Game",
                                    "2": "3.8613765e-05"
                                },
                                {
                                    "0": "33794",
                                    "1": "Batman Begins",
                                    "2": "3.8613765e-05"
                                },
                                {
                                    "0": "48412",
                                    "1": "The Guardian",
                                    "2": "3.8613765e-05"
                                },
                                {
                                    "0": "4896",
                                    "1": "Harry Potter and the Sorcerer's Stone",
                                    "2": "3.8613765e-05"
                                },
                                {
                                    "0": "6537",
                                    "1": "Terminator 3: Rise of the Machines",
                                    "2": "3.8613765e-05"
                                },
                                {
                                    "0": "1240",
                                    "1": "Terminator Salvation",
                                    "2": "3.8613765e-05"
                                },
                                {
                                    "0": "1573",
                                    "1": "Face/Off",
                                    "2": "3.8613765e-05"
                                },
                                {
                                    "0": "3981",
                                    "1": "Red Planet",
                                    "2": "3.8613765e-05"
                                },
                                {
                                    "0": "44195",
                                    "1": "Thank You for Smoking",
                                    "2": "1.9306883e-05"
                                },
                                {
                                    "0": "4489",
                                    "1": "Coming to America",
                                    "2": "1.9306883e-05"
                                },
                                {
                                    "0": "2176",
                                    "1": "Rope",
                                    "2": "1.9306883e-05"
                                },
                                {
                                    "0": "7924",
                                    "1": "Nora inu",
                                    "2": "1.9306883e-05"
                                },
                                {
                                    "0": "253",
                                    "1": "Interview with the Vampire: The Vampire Chronicles",
                                    "2": "1.9306883e-05"
                                },
                                {
                                    "0": "345",
                                    "1": "The Adventures of Priscilla, Queen of the Desert",
                                    "2": "1.9306883e-05"
                                },
                                {
                                    "0": "2490",
                                    "1": "Payback",
                                    "2": "1.9306883e-05"
                                },
                                {
                                    "0": "912",
                                    "1": "Casablanca",
                                    "2": "1.9306883e-05"
                                },
                                {
                                    "0": "8958",
                                    "1": "Ray",
                                    "2": "1.9306883e-05"
                                },
                                {
                                    "0": "2414",
                                    "1": "Young Sherlock Holmes",
                                    "2": "1.9306883e-05"
                                },
                                {
                                    "0": "55995",
                                    "1": "Beowulf",
                                    "2": "1.9306883e-05"
                                },
                                {
                                    "0": "46972",
                                    "1": "Night at the Museum",
                                    "2": "1.9306883e-05"
                                },
                                {
                                    "0": "8917",
                                    "1": "Team America: World Police",
                                    "2": "1.9306883e-05"
                                },
                                {
                                    "0": "2204",
                                    "1": "Saboteur",
                                    "2": "1.9306883e-05"
                                },
                                {
                                    "0": "50",
                                    "1": "The Usual Suspects",
                                    "2": "1.9306883e-05"
                                },
                                {
                                    "0": "1073",
                                    "1": "Willy Wonka & the Chocolate Factory",
                                    "2": "1.9306883e-05"
                                },
                                {
                                    "0": "232",
                                    "1": "Yin shi nan nu",
                                    "2": "1.9306883e-05"
                                },
                                {
                                    "0": "1517",
                                    "1": "Austin Powers: International Man of Mystery",
                                    "2": "1.9306883e-05"
                                },
                                {
                                    "0": "3505",
                                    "1": "No Way Out",
                                    "2": "1.9306883e-05"
                                },
                                {
                                    "0": "2114",
                                    "1": "The Outsiders",
                                    "2": "1.9306883e-05"
                                },
                                {
                                    "0": "595",
                                    "1": "Beauty and the Beast",
                                    "2": "1.9306883e-05"
                                },
                                {
                                    "0": "42007",
                                    "1": "Rumor Has It...",
                                    "2": "1.9306883e-05"
                                },
                                {
                                    "0": "6708",
                                    "1": "Matchstick Men",
                                    "2": "1.9306883e-05"
                                },
                                {
                                    "0": "1060",
                                    "1": "Swingers",
                                    "2": "1.9306883e-05"
                                },
                                {
                                    "0": "49651",
                                    "1": "Rocky Balboa",
                                    "2": "1.9306883e-05"
                                },
                                {
                                    "0": "41571",
                                    "1": "Memoirs of a Geisha",
                                    "2": "1.9306883e-05"
                                },
                                {
                                    "0": "1027",
                                    "1": "Robin Hood: Prince of Thieves",
                                    "2": "1.9306883e-05"
                                },
                                {
                                    "0": "4234",
                                    "1": "The Tailor of Panama",
                                    "2": "1.9306883e-05"
                                },
                                {
                                    "0": "318",
                                    "1": "The Shawshank Redemption",
                                    "2": "1.9306883e-05"
                                },
                                {
                                    "0": "46723",
                                    "1": "Babel",
                                    "2": "1.9306883e-05"
                                },
                                {
                                    "0": "36401",
                                    "1": "The Brothers Grimm",
                                    "2": "1.9306883e-05"
                                },
                                {
                                    "0": "1061",
                                    "1": "Sleepers",
                                    "2": "1.9306883e-05"
                                },
                                {
                                    "0": "2860",
                                    "1": "Blue Streak",
                                    "2": "1.9306883e-05"
                                },
                                {
                                    "0": "60072",
                                    "1": "Wanted",
                                    "2": "1.9306883e-05"
                                },
                                {
                                    "0": "3868",
                                    "1": "The Naked Gun: From the Files of Police Squad!",
                                    "2": "1.9306883e-05"
                                },
                                {
                                    "0": "2937",
                                    "1": "The Palm Beach Story",
                                    "2": "1.9306883e-05"
                                },
                                {
                                    "0": "5954",
                                    "1": "25th Hour",
                                    "2": "1.9306883e-05"
                                },
                                {
                                    "0": "5339",
                                    "1": "Husbands and Wives",
                                    "2": "1.9306883e-05"
                                },
                                {
                                    "0": "5378",
                                    "1": "Star Wars: Episode II - Attack of the Clones",
                                    "2": "1.9306883e-05"
                                },
                                {
                                    "0": "8604",
                                    "1": "Taxi",
                                    "2": "1.9306883e-05"
                                },
                                {
                                    "0": "4224",
                                    "1": "Exit Wounds",
                                    "2": "1.9306883e-05"
                                },
                                {
                                    "0": "2700",
                                    "1": "South Park: Bigger Longer & Uncut",
                                    "2": "1.9306883e-05"
                                },
                                {
                                    "0": "2206",
                                    "1": "Guilty by Suspicion",
                                    "2": "1.9306883e-05"
                                },
                                {
                                    "0": "6721",
                                    "1": "Wong Fei Hung",
                                    "2": "1.9306883e-05"
                                },
                                {
                                    "0": "1333",
                                    "1": "The Birds",
                                    "2": "1.9306883e-05"
                                },
                                {
                                    "0": "1221",
                                    "1": "The Godfather: Part II",
                                    "2": "1.9306883e-05"
                                },
                                {
                                    "0": "34319",
                                    "1": "The Island",
                                    "2": "1.9306883e-05"
                                },
                                {
                                    "0": "54272",
                                    "1": "The Simpsons Movie",
                                    "2": "1.9306883e-05"
                                },
                                {
                                    "0": "5509",
                                    "1": "Biggie and Tupac",
                                    "2": "1.9306883e-05"
                                },
                                {
                                    "0": "3994",
                                    "1": "Unbreakable",
                                    "2": "1.9306883e-05"
                                },
                                {
                                    "0": "1274",
                                    "1": "Akira",
                                    "2": "1.9306883e-05"
                                },
                                {
                                    "0": "6624",
                                    "1": "Agent Cody Banks",
                                    "2": "1.9306883e-05"
                                },
                                {
                                    "0": "30707",
                                    "1": "Million Dollar Baby",
                                    "2": "1.9306883e-05"
                                },
                                {
                                    "0": "2202",
                                    "1": "Lifeboat",
                                    "2": "1.9306883e-05"
                                },
                                {
                                    "0": "49278",
                                    "1": "Deja Vu",
                                    "2": "1.9306883e-05"
                                },
                                {
                                    "0": "8970",
                                    "1": "Finding Neverland",
                                    "2": "1.9306883e-05"
                                },
                                {
                                    "0": "7143",
                                    "1": "The Last Samurai",
                                    "2": "1.9306883e-05"
                                },
                                {
                                    "0": "6016",
                                    "1": "Cidade de Deus",
                                    "2": "1.9306883e-05"
                                },
                                {
                                    "0": "2281",
                                    "1": "Snitch",
                                    "2": "1.9306883e-05"
                                },
                                {
                                    "0": "170",
                                    "1": "Hackers",
                                    "2": "1.9306883e-05"
                                },
                                {
                                    "0": "35836",
                                    "1": "The 40 Year Old Virgin",
                                    "2": "1.9306883e-05"
                                },
                                {
                                    "0": "3745",
                                    "1": "Titan A.E.",
                                    "2": "1.9306883e-05"
                                },
                                {
                                    "0": "1320",
                                    "1": "Alien³",
                                    "2": "1.9306883e-05"
                                },
                                {
                                    "0": "2178",
                                    "1": "Frenzy",
                                    "2": "1.9306883e-05"
                                },
                                {
                                    "0": "6273",
                                    "1": "In a Lonely Place",
                                    "2": "1.9306883e-05"
                                },
                                {
                                    "0": "31878",
                                    "1": "Kung fu",
                                    "2": "1.9306883e-05"
                                },
                                {
                                    "0": "8360",
                                    "1": "Shrek 2",
                                    "2": "1.9306883e-05"
                                },
                                {
                                    "0": "3791",
                                    "1": "Footloose",
                                    "2": "1.9306883e-05"
                                },
                                {
                                    "0": "6550",
                                    "1": "Johnny English",
                                    "2": "1.9306883e-05"
                                },
                                {
                                    "0": "5015",
                                    "1": "Monster's Ball",
                                    "2": "1.9306883e-05"
                                },
                                {
                                    "0": "45447",
                                    "1": "The Da Vinci Code",
                                    "2": "1.9306883e-05"
                                },
                                {
                                    "0": "1219",
                                    "1": "Psycho",
                                    "2": "1.9306883e-05"
                                },
                                {
                                    "0": "3698",
                                    "1": "The Running Man",
                                    "2": "1.9306883e-05"
                                },
                                {
                                    "0": "41569",
                                    "1": "King Kong",
                                    "2": "1.9306883e-05"
                                },
                                {
                                    "0": "6743",
                                    "1": "The Jungle Book",
                                    "2": "1.9306883e-05"
                                },
                                {
                                    "0": "52328",
                                    "1": "Sunshine",
                                    "2": "1.9306883e-05"
                                },
                                {
                                    "0": "5502",
                                    "1": "Signs",
                                    "2": "1.9306883e-05"
                                },
                                {
                                    "0": "1729",
                                    "1": "Jackie Brown",
                                    "2": "1.9306883e-05"
                                },
                                {
                                    "0": "7155",
                                    "1": "Calendar Girls",
                                    "2": "1.9306883e-05"
                                },
                                {
                                    "0": "1785",
                                    "1": "King of New York",
                                    "2": "1.9306883e-05"
                                },
                                {
                                    "0": "1917",
                                    "1": "Armageddon",
                                    "2": "1.9306883e-05"
                                },
                                {
                                    "0": "45672",
                                    "1": "Click",
                                    "2": "1.9306883e-05"
                                },
                                {
                                    "0": "8361",
                                    "1": "The Day After Tomorrow",
                                    "2": "1.9306883e-05"
                                },
                                {
                                    "0": "1625",
                                    "1": "The Game",
                                    "2": "1.9306883e-05"
                                },
                                {
                                    "0": "2122",
                                    "1": "Children of the Corn",
                                    "2": "1.9306883e-05"
                                },
                                {
                                    "0": "8784",
                                    "1": "Garden State",
                                    "2": "1.9306883e-05"
                                },
                                {
                                    "0": "41997",
                                    "1": "Munich",
                                    "2": "1.9306883e-05"
                                },
                                {
                                    "0": "33437",
                                    "1": "Danny the Dog",
                                    "2": "1.9306883e-05"
                                },
                                {
                                    "0": "4701",
                                    "1": "Rush Hour 2",
                                    "2": "1.9306883e-05"
                                },
                                {
                                    "0": "903",
                                    "1": "Vertigo",
                                    "2": "1.9306883e-05"
                                },
                                {
                                    "0": "2827",
                                    "1": "The Astronaut's Wife",
                                    "2": "1.9306883e-05"
                                },
                                {
                                    "0": "2528",
                                    "1": "Logan's Run",
                                    "2": "1.9306883e-05"
                                },
                                {
                                    "0": "2019",
                                    "1": "Shichinin no samurai",
                                    "2": "1.9306883e-05"
                                },
                                {
                                    "0": "308",
                                    "1": "Trzy kolory: Bialy",
                                    "2": "1.9306883e-05"
                                },
                                {
                                    "0": "6979",
                                    "1": "WarGames",
                                    "2": "1.9306883e-05"
                                },
                                {
                                    "0": "3686",
                                    "1": "Flatliners",
                                    "2": "1.9306883e-05"
                                },
                                {
                                    "0": "1619",
                                    "1": "Seven Years in Tibet",
                                    "2": "1.9306883e-05"
                                },
                                {
                                    "0": "43917",
                                    "1": "Eight Below",
                                    "2": "1.9306883e-05"
                                },
                                {
                                    "0": "5572",
                                    "1": "Barbershop 2: Back in Business",
                                    "2": "1.9306883e-05"
                                },
                                {
                                    "0": "6218",
                                    "1": "Bend It Like Beckham",
                                    "2": "1.9306883e-05"
                                },
                                {
                                    "0": "8833",
                                    "1": "Vanity Fair",
                                    "2": "1.9306883e-05"
                                },
                                {
                                    "0": "236",
                                    "1": "French Kiss",
                                    "2": "1.9306883e-05"
                                },
                                {
                                    "0": "40339",
                                    "1": "Chicken Little",
                                    "2": "1.9306883e-05"
                                },
                                {
                                    "0": "8371",
                                    "1": "The Chronicles of Riddick",
                                    "2": "1.9306883e-05"
                                },
                                {
                                    "0": "31433",
                                    "1": "The Wedding Date",
                                    "2": "1.9306883e-05"
                                },
                                {
                                    "0": "592",
                                    "1": "Batman",
                                    "2": "1.9306883e-05"
                                },
                                {
                                    "0": "1370",
                                    "1": "Die Hard",
                                    "2": "1.9306883e-05"
                                },
                                {
                                    "0": "51086",
                                    "1": "The Number 23",
                                    "2": "1.9306883e-05"
                                },
                                {
                                    "0": "2318",
                                    "1": "Happiness",
                                    "2": "1.9306883e-05"
                                },
                                {
                                    "0": "6333",
                                    "1": "X2",
                                    "2": "1.9306883e-05"
                                },
                                {
                                    "0": "3005",
                                    "1": "The Bone Collector",
                                    "2": "1.9306883e-05"
                                },
                                {
                                    "0": "51575",
                                    "1": "Wild Hogs",
                                    "2": "1.9306883e-05"
                                },
                                {
                                    "0": "780",
                                    "1": "Independence Day",
                                    "2": "1.9306883e-05"
                                },
                                {
                                    "0": "4090",
                                    "1": "The Brave Little Toaster",
                                    "2": "1.9306883e-05"
                                },
                                {
                                    "0": "5283",
                                    "1": "Van Wilder",
                                    "2": "1.9306883e-05"
                                },
                                {
                                    "0": "4866",
                                    "1": "The Last Castle",
                                    "2": "1.9306883e-05"
                                },
                                {
                                    "0": "43928",
                                    "1": "Ultraviolet",
                                    "2": "1.9306883e-05"
                                },
                                {
                                    "0": "34271",
                                    "1": "Hustle & Flow",
                                    "2": "1.9306883e-05"
                                },
                                {
                                    "0": "2772",
                                    "1": "Detroit Rock City",
                                    "2": "1.9306883e-05"
                                },
                                {
                                    "0": "55363",
                                    "1": "The Assassination of Jesse James by the Coward Robert Ford",
                                    "2": "1.9306883e-05"
                                },
                                {
                                    "0": "6564",
                                    "1": "Lara Croft Tomb Raider: The Cradle of Life",
                                    "2": "1.9306883e-05"
                                },
                                {
                                    "0": "370",
                                    "1": "Naked Gun 33 1/3: The Final Insult",
                                    "2": "1.9306883e-05"
                                },
                                {
                                    "0": "3717",
                                    "1": "Gone in Sixty Seconds",
                                    "2": "1.9306883e-05"
                                },
                                {
                                    "0": "2221",
                                    "1": "Blackmail",
                                    "2": "1.9306883e-05"
                                },
                                {
                                    "0": "8884",
                                    "1": "The Man with One Red Shoe",
                                    "2": "1.9306883e-05"
                                },
                                {
                                    "0": "45726",
                                    "1": "You, Me and Dupree",
                                    "2": "1.9306883e-05"
                                },
                                {
                                    "0": "2987",
                                    "1": "Who Framed Roger Rabbit",
                                    "2": "1.9306883e-05"
                                },
                                {
                                    "0": "6502",
                                    "1": "28 Days Later...",
                                    "2": "1.9306883e-05"
                                },
                                {
                                    "0": "30749",
                                    "1": "Hotel Rwanda",
                                    "2": "1.9306883e-05"
                                },
                                {
                                    "0": "55444",
                                    "1": "Control",
                                    "2": "1.9306883e-05"
                                },
                                {
                                    "0": "51709",
                                    "1": "Gwoemul",
                                    "2": "1.9306883e-05"
                                },
                                {
                                    "0": "7149",
                                    "1": "Something's Gotta Give",
                                    "2": "1.9306883e-05"
                                },
                                {
                                    "0": "2185",
                                    "1": "I Confess",
                                    "2": "1.9306883e-05"
                                },
                                {
                                    "0": "7069",
                                    "1": "The Tragedy of Macbeth",
                                    "2": "1.9306883e-05"
                                },
                                {
                                    "0": "5477",
                                    "1": "Lucía y el sexo",
                                    "2": "1.9306883e-05"
                                },
                                {
                                    "0": "1136",
                                    "1": "Monty Python and the Holy Grail",
                                    "2": "1.9306883e-05"
                                },
                                {
                                    "0": "6989",
                                    "1": "Gorky Park",
                                    "2": "1.9306883e-05"
                                },
                                {
                                    "0": "40614",
                                    "1": "Derailed",
                                    "2": "1.9306883e-05"
                                },
                                {
                                    "0": "1283",
                                    "1": "High Noon",
                                    "2": "1.9306883e-05"
                                },
                                {
                                    "0": "327",
                                    "1": "Tank Girl",
                                    "2": "1.9306883e-05"
                                },
                                {
                                    "0": "37380",
                                    "1": "Doom",
                                    "2": "1.9306883e-05"
                                },
                                {
                                    "0": "32031",
                                    "1": "I, Robot",
                                    "2": "1.9306883e-05"
                                },
                                {
                                    "0": "3752",
                                    "1": "Me, Myself & Irene",
                                    "2": "1.9306883e-05"
                                },
                                {
                                    "0": "2989",
                                    "1": "For Your Eyes Only",
                                    "2": "1.9306883e-05"
                                },
                                {
                                    "0": "39444",
                                    "1": "The Weather Man",
                                    "2": "1.9306883e-05"
                                },
                                {
                                    "0": "1997",
                                    "1": "The Exorcist",
                                    "2": "1.9306883e-05"
                                },
                                {
                                    "0": "5809",
                                    "1": "Femme Fatale",
                                    "2": "1.9306883e-05"
                                },
                                {
                                    "0": "8640",
                                    "1": "King Arthur",
                                    "2": "1.9306883e-05"
                                },
                                {
                                    "0": "783",
                                    "1": "The Hunchback of Notre Dame",
                                    "2": "1.9306883e-05"
                                },
                                {
                                    "0": "7762",
                                    "1": "\"Tinker, Tailor, Soldier, Spy\"",
                                    "2": "1.9306883e-05"
                                },
                                {
                                    "0": "4993",
                                    "1": "The Lord of the Rings: The Fellowship of the Ring",
                                    "2": "1.9306883e-05"
                                },
                                {
                                    "0": "3022",
                                    "1": "The General",
                                    "2": "1.9306883e-05"
                                },
                                {
                                    "0": "3265",
                                    "1": "Lat sau san taam",
                                    "2": "1.9306883e-05"
                                },
                                {
                                    "0": "5464",
                                    "1": "Road to Perdition",
                                    "2": "1.9306883e-05"
                                },
                                {
                                    "0": "7347",
                                    "1": "Secret Window",
                                    "2": "1.9306883e-05"
                                },
                                {
                                    "0": "5055",
                                    "1": "Dragon: The Bruce Lee Story",
                                    "2": "1.9306883e-05"
                                },
                                {
                                    "0": "6592",
                                    "1": "The Secret Lives of Dentists",
                                    "2": "1.9306883e-05"
                                },
                                {
                                    "0": "541",
                                    "1": "Blade Runner",
                                    "2": "1.9306883e-05"
                                },
                                {
                                    "0": "5410",
                                    "1": "Silent Running",
                                    "2": "1.9306883e-05"
                                },
                                {
                                    "0": "4616",
                                    "1": "Lean on Me",
                                    "2": "1.9306883e-05"
                                },
                                {
                                    "0": "27873",
                                    "1": "Metallica: Some Kind of Monster",
                                    "2": "1.9306883e-05"
                                },
                                {
                                    "0": "1465",
                                    "1": "Rosewood",
                                    "2": "1.9306883e-05"
                                },
                                {
                                    "0": "27020",
                                    "1": "Gia",
                                    "2": "1.9306883e-05"
                                },
                                {
                                    "0": "6709",
                                    "1": "Once Upon a Time in Mexico",
                                    "2": "1.9306883e-05"
                                },
                                {
                                    "0": "7345",
                                    "1": "Agent Cody Banks 2: Destination London",
                                    "2": "1.9306883e-05"
                                },
                                {
                                    "0": "27821",
                                    "1": "The Interpreter",
                                    "2": "1.9306883e-05"
                                },
                                {
                                    "0": "32019",
                                    "1": "Be Cool",
                                    "2": "1.9306883e-05"
                                },
                                {
                                    "0": "3869",
                                    "1": "The Naked Gun 2½: The Smell of Fear",
                                    "2": "1.9306883e-05"
                                },
                                {
                                    "0": "44974",
                                    "1": "Hard Candy",
                                    "2": "1.9306883e-05"
                                },
                                {
                                    "0": "39052",
                                    "1": "Star Wreck: In the Pirkinning",
                                    "2": "1.9306883e-05"
                                },
                                {
                                    "0": "3033",
                                    "1": "Spaceballs",
                                    "2": "1.9306883e-05"
                                },
                                {
                                    "0": "31660",
                                    "1": "Suchîmubôi",
                                    "2": "1.9306883e-05"
                                },
                                {
                                    "0": "5816",
                                    "1": "Harry Potter and the Chamber of Secrets",
                                    "2": "1.9306883e-05"
                                },
                                {
                                    "0": "3114",
                                    "1": "Toy Story",
                                    "2": "1.9306883e-05"
                                },
                                {
                                    "0": "55814",
                                    "1": "Le scaphandre et le papillon",
                                    "2": "1.9306883e-05"
                                },
                                {
                                    "0": "898",
                                    "1": "The Philadelphia Story",
                                    "2": "1.9306883e-05"
                                },
                                {
                                    "0": "7361",
                                    "1": "Eternal Sunshine of the Spotless Mind",
                                    "2": "1.9306883e-05"
                                },
                                {
                                    "0": "8207",
                                    "1": "The Day of the Jackal",
                                    "2": "1.9306883e-05"
                                },
                                {
                                    "0": "44555",
                                    "1": "Das Leben der Anderen",
                                    "2": "1.9306883e-05"
                                },
                                {
                                    "0": "1485",
                                    "1": "Liar Liar",
                                    "2": "1.9306883e-05"
                                },
                                {
                                    "0": "6265",
                                    "1": "Head of State",
                                    "2": "1.9306883e-05"
                                },
                                {
                                    "0": "919",
                                    "1": "The Wizard of Oz",
                                    "2": "1.9306883e-05"
                                },
                                {
                                    "0": "34532",
                                    "1": "The Skeleton Key",
                                    "2": "1.9306883e-05"
                                },
                                {
                                    "0": "34405",
                                    "1": "Serenity",
                                    "2": "1.9306883e-05"
                                },
                                {
                                    "0": "1748",
                                    "1": "Dark City",
                                    "2": "1.9306883e-05"
                                },
                                {
                                    "0": "104",
                                    "1": "Happy Gilmore",
                                    "2": "1.9306883e-05"
                                },
                                {
                                    "0": "27706",
                                    "1": "Lemony Snicket's A Series of Unfortunate Events",
                                    "2": "1.9306883e-05"
                                },
                                {
                                    "0": "2209",
                                    "1": "Young and Innocent",
                                    "2": "1.9306883e-05"
                                },
                                {
                                    "0": "2177",
                                    "1": "Family Plot",
                                    "2": "1.9306883e-05"
                                },
                                {
                                    "0": "35957",
                                    "1": "Red Eye",
                                    "2": "1.9306883e-05"
                                },
                                {
                                    "0": "48877",
                                    "1": "Saw III",
                                    "2": "1.9306883e-05"
                                },
                                {
                                    "0": "51662",
                                    "1": "300",
                                    "2": "1.9306883e-05"
                                },
                                {
                                    "0": "6948",
                                    "1": "Tupac: Resurrection",
                                    "2": "1.9306883e-05"
                                },
                                {
                                    "0": "46974",
                                    "1": "World Trade Center",
                                    "2": "1.9306883e-05"
                                },
                                {
                                    "0": "8875",
                                    "1": "Come Back, Little Sheba",
                                    "2": "1.9306883e-05"
                                },
                                {
                                    "0": "4643",
                                    "1": "Planet of the Apes",
                                    "2": "1.9306883e-05"
                                },
                                {
                                    "0": "904",
                                    "1": "Rear Window",
                                    "2": "1.9306883e-05"
                                },
                                {
                                    "0": "45730",
                                    "1": "Lady in the Water",
                                    "2": "1.9306883e-05"
                                },
                                {
                                    "0": "7584",
                                    "1": "The Women",
                                    "2": "1.9306883e-05"
                                },
                                {
                                    "0": "6754",
                                    "1": "Underworld",
                                    "2": "1.9306883e-05"
                                },
                                {
                                    "0": "5349",
                                    "1": "Spider-Man",
                                    "2": "1.9306883e-05"
                                },
                                {
                                    "0": "3300",
                                    "1": "Pitch Black",
                                    "2": "1.9306883e-05"
                                },
                                {
                                    "0": "1193",
                                    "1": "One Flew Over the Cuckoo's Nest",
                                    "2": "1.9306883e-05"
                                },
                                {
                                    "0": "7445",
                                    "1": "Man on Fire",
                                    "2": "1.9306883e-05"
                                },
                                {
                                    "0": "2366",
                                    "1": "King Kong",
                                    "2": "1.9306883e-05"
                                },
                                {
                                    "0": "1958",
                                    "1": "Terms of Endearment",
                                    "2": "1.9306883e-05"
                                },
                                {
                                    "0": "803",
                                    "1": "Walking and Talking",
                                    "2": "1.9306883e-05"
                                },
                                {
                                    "0": "41716",
                                    "1": "Matador",
                                    "2": "1.9306883e-05"
                                },
                                {
                                    "0": "8368",
                                    "1": "Harry Potter and the Prisoner of Azkaban",
                                    "2": "1.9306883e-05"
                                },
                                {
                                    "0": "45382",
                                    "1": "Down in the Valley",
                                    "2": "1.9306883e-05"
                                },
                                {
                                    "0": "47",
                                    "1": "Shichinin no samurai",
                                    "2": "1.9306883e-05"
                                },
                                {
                                    "0": "52668",
                                    "1": "In the Land of Women",
                                    "2": "1.9306883e-05"
                                },
                                {
                                    "0": "6951",
                                    "1": "The Cat in the Hat",
                                    "2": "1.9306883e-05"
                                },
                                {
                                    "0": "2716",
                                    "1": "Ghost Busters",
                                    "2": "1.9306883e-05"
                                },
                                {
                                    "0": "52042",
                                    "1": "Zwartboek",
                                    "2": "1.9306883e-05"
                                },
                                {
                                    "0": "908",
                                    "1": "North by Northwest",
                                    "2": "1.9306883e-05"
                                },
                                {
                                    "0": "53972",
                                    "1": "Live Free or Die Hard",
                                    "2": "1.9306883e-05"
                                },
                                {
                                    "0": "6953",
                                    "1": "21 Grams",
                                    "2": "1.9306883e-05"
                                },
                                {
                                    "0": "6378",
                                    "1": "The Italian Job",
                                    "2": "1.9306883e-05"
                                },
                                {
                                    "0": "7325",
                                    "1": "Starsky & Hutch",
                                    "2": "1.9306883e-05"
                                },
                                {
                                    "0": "1213",
                                    "1": "Goodfellas",
                                    "2": "1.9306883e-05"
                                },
                                {
                                    "0": "39446",
                                    "1": "Saw II",
                                    "2": "1.9306883e-05"
                                },
                                {
                                    "0": "8270",
                                    "1": "Le mari de la coiffeuse",
                                    "2": "1.9306883e-05"
                                },
                                {
                                    "0": "6377",
                                    "1": "Finding Nemo",
                                    "2": "1.9306883e-05"
                                },
                                {
                                    "0": "741",
                                    "1": "Kôkaku kidôtai",
                                    "2": "1.9306883e-05"
                                },
                                {
                                    "0": "175",
                                    "1": "Kids",
                                    "2": "1.9306883e-05"
                                },
                                {
                                    "0": "165",
                                    "1": "Die Hard: With a Vengeance",
                                    "2": "1.9306883e-05"
                                },
                                {
                                    "0": "50445",
                                    "1": "The Hitcher",
                                    "2": "1.9306883e-05"
                                },
                                {
                                    "0": "1086",
                                    "1": "Dial M for Murder",
                                    "2": "1.9306883e-05"
                                },
                                {
                                    "0": "2186",
                                    "1": "Strangers on a Train",
                                    "2": "1.9306883e-05"
                                },
                                {
                                    "0": "8533",
                                    "1": "The Notebook",
                                    "2": "1.9306883e-05"
                                },
                                {
                                    "0": "553",
                                    "1": "Tombstone",
                                    "2": "1.9306883e-05"
                                },
                                {
                                    "0": "2542",
                                    "1": "Lock, Stock and Two Smoking Barrels",
                                    "2": "1.9306883e-05"
                                },
                                {
                                    "0": "32587",
                                    "1": "Sin City",
                                    "2": "1.9306883e-05"
                                },
                                {
                                    "0": "1",
                                    "1": "Toy story",
                                    "2": "1.9306883e-05"
                                },
                                {
                                    "0": "6936",
                                    "1": "Elf",
                                    "2": "1.9306883e-05"
                                },
                                {
                                    "0": "2420",
                                    "1": "The Karate Kid",
                                    "2": "1.9306883e-05"
                                },
                                {
                                    "0": "38038",
                                    "1": "Wallace & Gromit in The Curse of the Were-Rabbit",
                                    "2": "1.9306883e-05"
                                },
                                {
                                    "0": "45732",
                                    "1": "My Super Ex-Girlfriend",
                                    "2": "1.9306883e-05"
                                },
                                {
                                    "0": "34048",
                                    "1": "War of the Worlds",
                                    "2": "1.9306883e-05"
                                },
                                {
                                    "0": "40815",
                                    "1": "Harry Potter and the Goblet of Fire",
                                    "2": "1.9306883e-05"
                                },
                                {
                                    "0": "33646",
                                    "1": "The Longest Yard",
                                    "2": "1.9306883e-05"
                                },
                                {
                                    "0": "1097",
                                    "1": "E.T.: The Extra-Terrestrial",
                                    "2": "1.9306883e-05"
                                },
                                {
                                    "0": "8966",
                                    "1": "Kinsey",
                                    "2": "1.9306883e-05"
                                },
                                {
                                    "0": "26002",
                                    "1": "Mr. Arkadin",
                                    "2": "1.9306883e-05"
                                },
                                {
                                    "0": "3562",
                                    "1": "Committed",
                                    "2": "1.9306883e-05"
                                },
                                {
                                    "0": "6014",
                                    "1": "National Security",
                                    "2": "1.9306883e-05"
                                },
                                {
                                    "0": "2294",
                                    "1": "Antz",
                                    "2": "1.9306883e-05"
                                },
                                {
                                    "0": "955",
                                    "1": "Bringing Up Baby",
                                    "2": "1.9306883e-05"
                                },
                                {
                                    "0": "58047",
                                    "1": "Definitely, Maybe",
                                    "2": "1.9306883e-05"
                                },
                                {
                                    "0": "5995",
                                    "1": "The Pianist",
                                    "2": "1.9306883e-05"
                                },
                                {
                                    "0": "5503",
                                    "1": "L'ultimo bacio",
                                    "2": "1.9306883e-05"
                                },
                                {
                                    "0": "2278",
                                    "1": "Ronin",
                                    "2": "1.9306883e-05"
                                },
                                {
                                    "0": "293",
                                    "1": "Léon",
                                    "2": "1.9306883e-05"
                                },
                                {
                                    "0": "2935",
                                    "1": "The Lady Eve",
                                    "2": "1.9306883e-05"
                                },
                                {
                                    "0": "1488",
                                    "1": "The Devil's Own",
                                    "2": "1.9306883e-05"
                                },
                                {
                                    "0": "4889",
                                    "1": "Heist",
                                    "2": "1.9306883e-05"
                                },
                                {
                                    "0": "6",
                                    "1": "Heat",
                                    "2": "1.9306883e-05"
                                },
                                {
                                    "0": "4699",
                                    "1": "Original Sin",
                                    "2": "1.9306883e-05"
                                },
                                {
                                    "0": "2203",
                                    "1": "Shadow of a Doubt",
                                    "2": "1.9306883e-05"
                                },
                                {
                                    "0": "8531",
                                    "1": "White Chicks",
                                    "2": "1.9306883e-05"
                                },
                                {
                                    "0": "6254",
                                    "1": "The Awful Truth",
                                    "2": "1.9306883e-05"
                                },
                                {
                                    "0": "2916",
                                    "1": "Total Recall",
                                    "2": "1.9306883e-05"
                                },
                                {
                                    "0": "3840",
                                    "1": "Pumpkinhead",
                                    "2": "1.9306883e-05"
                                },
                                {
                                    "0": "45501",
                                    "1": "The Break-Up",
                                    "2": "1.9306883e-05"
                                },
                                {
                                    "0": "356",
                                    "1": "Forrest Gump",
                                    "2": "1.9306883e-05"
                                },
                                {
                                    "0": "53921",
                                    "1": "A Mighty Heart",
                                    "2": "1.9306883e-05"
                                },
                                {
                                    "0": "428",
                                    "1": "A Bronx Tale",
                                    "2": "1.9306883e-05"
                                },
                                {
                                    "0": "1230",
                                    "1": "Annie Hall",
                                    "2": "1.9306883e-05"
                                },
                                {
                                    "0": "7449",
                                    "1": "Godsend",
                                    "2": "1.9306883e-05"
                                },
                                {
                                    "0": "7367",
                                    "1": "The Ladykillers",
                                    "2": "1.9306883e-05"
                                },
                                {
                                    "0": "6003",
                                    "1": "Confessions of a Dangerous Mind",
                                    "2": "1.9306883e-05"
                                },
                                {
                                    "0": "7254",
                                    "1": "The Butterfly Effect",
                                    "2": "1.9306883e-05"
                                },
                                {
                                    "0": "4016",
                                    "1": "The Emperor's New Groove",
                                    "2": "1.9306883e-05"
                                },
                                {
                                    "0": "1769",
                                    "1": "The Replacement Killers",
                                    "2": "1.9306883e-05"
                                },
                                {
                                    "0": "2948",
                                    "1": "From Russia with Love",
                                    "2": "1.9306883e-05"
                                },
                                {
                                    "0": "2340",
                                    "1": "Meet Joe Black",
                                    "2": "1.9306883e-05"
                                },
                                {
                                    "0": "110",
                                    "1": "Braveheart",
                                    "2": "1.9306883e-05"
                                },
                                {
                                    "0": "3275",
                                    "1": "The Boondock Saints",
                                    "2": "1.9306883e-05"
                                },
                                {
                                    "0": "7846",
                                    "1": "Tremors 3: Back to Perfection",
                                    "2": "1.9306883e-05"
                                },
                                {
                                    "0": "928",
                                    "1": "Rebecca",
                                    "2": "1.9306883e-05"
                                },
                                {
                                    "0": "48385",
                                    "1": "Borat: Cultural Learnings of America for Make Benefit Glorious Nation of Kazakhstan",
                                    "2": "1.9306883e-05"
                                },
                                {
                                    "0": "6022",
                                    "1": "American Me",
                                    "2": "1.9306883e-05"
                                },
                                {
                                    "0": "46970",
                                    "1": "Talladega Nights: The Ballad of Ricky Bobby",
                                    "2": "1.9306883e-05"
                                },
                                {
                                    "0": "953",
                                    "1": "It's a Wonderful Life",
                                    "2": "1.9306883e-05"
                                },
                                {
                                    "0": "5109",
                                    "1": "Return to Never Land",
                                    "2": "1.9306883e-05"
                                },
                                {
                                    "0": "23",
                                    "1": "Ninja Assassin",
                                    "2": "1.9306883e-05"
                                },
                                {
                                    "0": "4344",
                                    "1": "Swordfish",
                                    "2": "1.9306883e-05"
                                },
                                {
                                    "0": "3186",
                                    "1": "Girl, Interrupted",
                                    "2": "1.9306883e-05"
                                },
                                {
                                    "0": "5187",
                                    "1": "Hopscotch",
                                    "2": "1.9306883e-05"
                                },
                                {
                                    "0": "31184",
                                    "1": "Appurushîdo",
                                    "2": "1.9306883e-05"
                                },
                                {
                                    "0": "49347",
                                    "1": "Fast Food Nation",
                                    "2": "1.9306883e-05"
                                },
                                {
                                    "0": "48414",
                                    "1": "Open Season",
                                    "2": "1.9306883e-05"
                                },
                                {
                                    "0": "45499",
                                    "1": "X-Men: The Last Stand",
                                    "2": "1.9306883e-05"
                                },
                                {
                                    "0": "6155",
                                    "1": "How to Lose a Guy in 10 Days",
                                    "2": "1.9306883e-05"
                                },
                                {
                                    "0": "2194",
                                    "1": "The Untouchables",
                                    "2": "1.9306883e-05"
                                },
                                {
                                    "0": "3020",
                                    "1": "Falling Down",
                                    "2": "1.9306883e-05"
                                },
                                {
                                    "0": "49314",
                                    "1": "Harsh Times",
                                    "2": "1.9306883e-05"
                                },
                                {
                                    "0": "4776",
                                    "1": "Training Day",
                                    "2": "1.9306883e-05"
                                },
                                {
                                    "0": "5903",
                                    "1": "Equilibrium",
                                    "2": "1.9306883e-05"
                                },
                                {
                                    "0": "50794",
                                    "1": "Smokin' Aces",
                                    "2": "1.9306883e-05"
                                },
                                {
                                    "0": "8957",
                                    "1": "Saw",
                                    "2": "1.9306883e-05"
                                },
                                {
                                    "0": "2983",
                                    "1": "The Ipcress File",
                                    "2": "1.9306883e-05"
                                },
                                {
                                    "0": "3770",
                                    "1": "Dreamscape",
                                    "2": "1.9306883e-05"
                                },
                                {
                                    "0": "4005",
                                    "1": "The Living Daylights",
                                    "2": "1.9306883e-05"
                                },
                                {
                                    "0": "2181",
                                    "1": "Marnie",
                                    "2": "1.9306883e-05"
                                },
                                {
                                    "0": "6595",
                                    "1": "S.W.A.T.",
                                    "2": "1.9306883e-05"
                                },
                                {
                                    "0": "7160",
                                    "1": "Monster",
                                    "2": "1.9306883e-05"
                                },
                                {
                                    "0": "6383",
                                    "1": "2 Fast 2 Furious",
                                    "2": "1.9306883e-05"
                                },
                                {
                                    "0": "46965",
                                    "1": "Snakes on a Plane",
                                    "2": "1.9306883e-05"
                                },
                                {
                                    "0": "44022",
                                    "1": "Ice Age: The Meltdown",
                                    "2": "1.9306883e-05"
                                },
                                {
                                    "0": "50514",
                                    "1": "Efter brylluppet",
                                    "2": "1.9306883e-05"
                                },
                                {
                                    "0": "53322",
                                    "1": "Ocean's Thirteen",
                                    "2": "1.9306883e-05"
                                },
                                {
                                    "0": "31903",
                                    "1": "Zelary",
                                    "2": "1.9306883e-05"
                                },
                                {
                                    "0": "45186",
                                    "1": "Mission: Impossible III",
                                    "2": "1.9306883e-05"
                                },
                                {
                                    "0": "42723",
                                    "1": "Hostel",
                                    "2": "1.9306883e-05"
                                },
                                {
                                    "0": "3246",
                                    "1": "Malcolm X",
                                    "2": "1.9306883e-05"
                                },
                                {
                                    "0": "48738",
                                    "1": "The Last King of Scotland",
                                    "2": "1.9306883e-05"
                                },
                                {
                                    "0": "2227",
                                    "1": "The Lodger",
                                    "2": "1.9306883e-05"
                                },
                                {
                                    "0": "1544",
                                    "1": "The Lost World: Jurassic Park",
                                    "2": "1.9306883e-05"
                                },
                                {
                                    "0": "1222",
                                    "1": "Full Metal Jacket",
                                    "2": "1.9306883e-05"
                                },
                                {
                                    "0": "930",
                                    "1": "Notorious",
                                    "2": "1.9306883e-05"
                                },
                                {
                                    "0": "786",
                                    "1": "Eraser",
                                    "2": "1.9306883e-05"
                                },
                                {
                                    "0": "6548",
                                    "1": "Bad Boys II",
                                    "2": "1.9306883e-05"
                                },
                                {
                                    "0": "5528",
                                    "1": "One Hour Photo",
                                    "2": "1.9306883e-05"
                                },
                                {
                                    "0": "1617",
                                    "1": "L.A. Confidential",
                                    "2": "1.9306883e-05"
                                },
                                {
                                    "0": "951",
                                    "1": "His Girl Friday",
                                    "2": "1.9306883e-05"
                                },
                                {
                                    "0": "597",
                                    "1": "Pretty Woman",
                                    "2": "1.9306883e-05"
                                },
                                {
                                    "0": "5195",
                                    "1": "Le lac des morts vivants",
                                    "2": "1.9306883e-05"
                                },
                                {
                                    "0": "42738",
                                    "1": "Underworld: Evolution",
                                    "2": "1.9306883e-05"
                                },
                                {
                                    "0": "4930",
                                    "1": "Funeral in Berlin",
                                    "2": "1.9306883e-05"
                                },
                                {
                                    "0": "32298",
                                    "1": "Guess Who",
                                    "2": "1.9306883e-05"
                                },
                                {
                                    "0": "316",
                                    "1": "Stargate",
                                    "2": "1.9306883e-05"
                                },
                                {
                                    "0": "2329",
                                    "1": "American History X",
                                    "2": "1.9306883e-05"
                                },
                                {
                                    "0": "431",
                                    "1": "Carlito's Way",
                                    "2": "1.9306883e-05"
                                },
                                {
                                    "0": "2078",
                                    "1": "The Jungle Book",
                                    "2": "1.9306883e-05"
                                },
                                {
                                    "0": "8781",
                                    "1": "The Manchurian Candidate",
                                    "2": "1.9306883e-05"
                                },
                                {
                                    "0": "2058",
                                    "1": "The Negotiator",
                                    "2": "1.9306883e-05"
                                },
                                {
                                    "0": "33493",
                                    "1": "Star Wars: Episode III - Revenge of the Sith",
                                    "2": "1.9306883e-05"
                                },
                                {
                                    "0": "1631",
                                    "1": "The Assignment",
                                    "2": "1.9306883e-05"
                                },
                                {
                                    "0": "1387",
                                    "1": "Jaws",
                                    "2": "1.9306883e-05"
                                },
                                {
                                    "0": "3671",
                                    "1": "Blazing Saddles",
                                    "2": "1.9306883e-05"
                                },
                                {
                                    "0": "34520",
                                    "1": "The Dukes of Hazzard",
                                    "2": "1.9306883e-05"
                                },
                                {
                                    "0": "7845",
                                    "1": "Tremors II: Aftershocks",
                                    "2": "1.9306883e-05"
                                },
                                {
                                    "0": "6193",
                                    "1": "Poolhall Junkies",
                                    "2": "1.9306883e-05"
                                },
                                {
                                    "0": "1200",
                                    "1": "Aliens",
                                    "2": "1.9306883e-05"
                                },
                                {
                                    "0": "2628",
                                    "1": "Star Wars: Episode I - The Phantom Menace",
                                    "2": "1.9306883e-05"
                                },
                                {
                                    "0": "60126",
                                    "1": "Get Smart",
                                    "2": "1.9306883e-05"
                                },
                                {
                                    "0": "7381",
                                    "1": "The Whole Ten Yards",
                                    "2": "1.9306883e-05"
                                },
                                {
                                    "0": "5791",
                                    "1": "Frida",
                                    "2": "1.9306883e-05"
                                },
                                {
                                    "0": "5069",
                                    "1": "Escaflowne",
                                    "2": "1.9306883e-05"
                                },
                                {
                                    "0": "6309",
                                    "1": "Married to It",
                                    "2": "1.9306883e-05"
                                },
                                {
                                    "0": "947",
                                    "1": "My Man Godfrey",
                                    "2": "1.9306883e-05"
                                },
                                {
                                    "0": "48516",
                                    "1": "The Departed",
                                    "2": "1.9306883e-05"
                                },
                                {
                                    "0": "46578",
                                    "1": "Little Miss Sunshine",
                                    "2": "1.9306883e-05"
                                },
                                {
                                    "0": "5110",
                                    "1": "Super Troopers",
                                    "2": "1.9306883e-05"
                                },
                                {
                                    "0": "1245",
                                    "1": "Miller's Crossing",
                                    "2": "1.9306883e-05"
                                },
                                {
                                    "0": "34150",
                                    "1": "Fantastic Four",
                                    "2": "1.9306883e-05"
                                },
                                {
                                    "0": "6373",
                                    "1": "Evan Almighty",
                                    "2": "1.9306883e-05"
                                },
                                {
                                    "0": "266",
                                    "1": "Legends of the Fall",
                                    "2": "1.9306883e-05"
                                },
                                {
                                    "0": "3751",
                                    "1": "Chicken Run",
                                    "2": "1.9306883e-05"
                                },
                                {
                                    "0": "5444",
                                    "1": "Lilo & Stitch",
                                    "2": "1.9306883e-05"
                                },
                                {
                                    "0": "3418",
                                    "1": "Thelma & Louise",
                                    "2": "1.9306883e-05"
                                },
                                {
                                    "0": "2389",
                                    "1": "Psycho",
                                    "2": "1.9306883e-05"
                                },
                                {
                                    "0": "8962",
                                    "1": "Fade to Black",
                                    "2": "1.9306883e-05"
                                },
                                {
                                    "0": "36517",
                                    "1": "The Constant Gardener",
                                    "2": "1.9306883e-05"
                                },
                                {
                                    "0": "933",
                                    "1": "To Catch a Thief",
                                    "2": "1.9306883e-05"
                                },
                                {
                                    "0": "2918",
                                    "1": "Ferris Bueller's Day Off",
                                    "2": "1.9306883e-05"
                                },
                                {
                                    "0": "5127",
                                    "1": "Dragonfly",
                                    "2": "1.9306883e-05"
                                },
                                {
                                    "0": "2140",
                                    "1": "The Dark Crystal",
                                    "2": "1.9306883e-05"
                                },
                                {
                                    "0": "3948",
                                    "1": "Meet the Parents",
                                    "2": "1.9306883e-05"
                                },
                                {
                                    "0": "2273",
                                    "1": "Rush Hour",
                                    "2": "1.9306883e-05"
                                },
                                {
                                    "0": "53125",
                                    "1": "Pirates of the Caribbean: At World's End",
                                    "2": "1.9306883e-05"
                                },
                                {
                                    "0": "2028",
                                    "1": "Saving Private Ryan",
                                    "2": "1.9306883e-05"
                                },
                                {
                                    "0": "42",
                                    "1": "Dead Presidents",
                                    "2": "1.9306883e-05"
                                },
                                {
                                    "0": "2503",
                                    "1": "Sib",
                                    "2": "1.9306883e-05"
                                },
                                {
                                    "0": "8947",
                                    "1": "The Grudge",
                                    "2": "1.9306883e-05"
                                },
                                {
                                    "0": "2683",
                                    "1": "Austin Powers: The Spy Who Shagged Me",
                                    "2": "1.9306883e-05"
                                },
                                {
                                    "0": "2502",
                                    "1": "Office Space",
                                    "2": "1.9306883e-05"
                                },
                                {
                                    "0": "480",
                                    "1": "Jurassic Park",
                                    "2": "1.9306883e-05"
                                },
                                {
                                    "0": "43419",
                                    "1": "Bandidas",
                                    "2": "1.9306883e-05"
                                },
                                {
                                    "0": "53519",
                                    "1": "Death Proof",
                                    "2": "1.9306883e-05"
                                },
                                {
                                    "0": "32029",
                                    "1": "Hostage",
                                    "2": "1.9306883e-05"
                                },
                                {
                                    "0": "7439",
                                    "1": "Punisher: War Zone",
                                    "2": "1.9306883e-05"
                                },
                                {
                                    "0": "6059",
                                    "1": "The Recruit",
                                    "2": "1.9306883e-05"
                                },
                                {
                                    "0": "37720",
                                    "1": "The Exorcism of Emily Rose",
                                    "2": "1.9306883e-05"
                                },
                                {
                                    "0": "585",
                                    "1": "The Brady Bunch Movie",
                                    "2": "1.9306883e-05"
                                },
                                {
                                    "0": "32300",
                                    "1": "D.E.B.S.",
                                    "2": "1.9306883e-05"
                                },
                                {
                                    "0": "4846",
                                    "1": "Siu nin Wong Fei Hung ji: Tit Ma Lau",
                                    "2": "1.9306883e-05"
                                },
                                {
                                    "0": "1218",
                                    "1": "Dip huet seung hung",
                                    "2": "1.9306883e-05"
                                },
                                {
                                    "0": "2184",
                                    "1": "The Trouble with Harry",
                                    "2": "1.9306883e-05"
                                },
                                {
                                    "0": "6659",
                                    "1": "Tremors",
                                    "2": "1.9306883e-05"
                                },
                                {
                                    "0": "4239",
                                    "1": "Blow",
                                    "2": "1.9306883e-05"
                                },
                                {
                                    "0": "1690",
                                    "1": "Alien³",
                                    "2": "1.9306883e-05"
                                },
                                {
                                    "0": "931",
                                    "1": "Spellbound",
                                    "2": "1.9306883e-05"
                                },
                                {
                                    "0": "2355",
                                    "1": "A Bug's Life",
                                    "2": "1.9306883e-05"
                                },
                                {
                                    "0": "5107",
                                    "1": "Hart's War",
                                    "2": "1.9306883e-05"
                                },
                                {
                                    "0": "49530",
                                    "1": "Blood Diamond",
                                    "2": "1.9306883e-05"
                                },
                                {
                                    "0": "2211",
                                    "1": "Secret Agent",
                                    "2": "1.9306883e-05"
                                },
                                {
                                    "0": "3730",
                                    "1": "The Conversation",
                                    "2": "1.9306883e-05"
                                },
                                {
                                    "0": "8972",
                                    "1": "National Treasure: Book of Secrets",
                                    "2": "1.9306883e-05"
                                },
                                {
                                    "0": "965",
                                    "1": "The 39 Steps",
                                    "2": "1.9306883e-05"
                                },
                                {
                                    "0": "3328",
                                    "1": "Ghost Dog: The Way of the Samurai",
                                    "2": "1.9306883e-05"
                                },
                                {
                                    "0": "733",
                                    "1": "The Rock",
                                    "2": "1.9306883e-05"
                                },
                                {
                                    "0": "50685",
                                    "1": "Waitress",
                                    "2": "1.9306883e-05"
                                },
                                {
                                    "0": "5602",
                                    "1": "The Ladykillers",
                                    "2": "1.9306883e-05"
                                }
                            ]
                        },
                        "text/html": [
                            "<table>",
                            "<tr><th>mid</th><th>title</th><th>tags_similarity</th></tr>",
                            "<tr><td>2959</td><td>Fight Club</td><td>7.722753e-05</td></tr>",
                            "<tr><td>2571</td><td>The Matrix</td><td>7.722753e-05</td></tr>",
                            "<tr><td>589</td><td>Terminator 2: Judgment Day</td><td>7.722753e-05</td></tr>",
                            "<tr><td>4226</td><td>Memento</td><td>7.722753e-05</td></tr>",
                            "<tr><td>4262</td><td>Scarface</td><td>7.722753e-05</td></tr>",
                            "<tr><td>8644</td><td>I, Robot</td><td>5.792065e-05</td></tr>",
                            "<tr><td>7438</td><td>Kill Bill: Vol. 2</td><td>5.792065e-05</td></tr>",
                            "<tr><td>6874</td><td>Kill Bill: Vol. 2</td><td>5.792065e-05</td></tr>",
                            "<tr><td>380</td><td>True Lies</td><td>5.792065e-05</td></tr>",
                            "<tr><td>32</td><td>Twelve Monkeys</td><td>5.792065e-05</td></tr>",
                            "<tr><td>648</td><td>Mission: Impossible III</td><td>5.792065e-05</td></tr>",
                            "<tr><td>34162</td><td>Wedding Crashers</td><td>5.792065e-05</td></tr>",
                            "<tr><td>260</td><td>Star Wars</td><td>5.792065e-05</td></tr>",
                            "<tr><td>4963</td><td>Ocean's Eleven</td><td>5.792065e-05</td></tr>",
                            "<tr><td>3527</td><td>Predator</td><td>5.792065e-05</td></tr>",
                            "<tr><td>6365</td><td>The Matrix Reloaded</td><td>5.792065e-05</td></tr>",
                            "<tr><td>7458</td><td>Troy</td><td>5.792065e-05</td></tr>",
                            "<tr><td>8665</td><td>The Bourne Supremacy</td><td>5.792065e-05</td></tr>",
                            "<tr><td>8810</td><td>AVP: Alien vs. Predator</td><td>5.792065e-05</td></tr>",
                            "<tr><td>33004</td><td>The Hitch Hikers Guide to the Galaxy</td><td>5.792065e-05</td></tr>",
                            "<tr><td>296</td><td>Pulp Fiction</td><td>5.792065e-05</td></tr>",
                            "<tr><td>4161</td><td>The Mexican</td><td>5.792065e-05</td></tr>",
                            "<tr><td>37382</td><td>Domino</td><td>5.792065e-05</td></tr>",
                            "<tr><td>7090</td><td>Ying xiong</td><td>5.792065e-05</td></tr>",
                            "<tr><td>6934</td><td>The Matrix Revolutions</td><td>5.792065e-05</td></tr>",
                            "<tr><td>1210</td><td>Star Wars: Episode VI - Return of the Jedi</td><td>5.792065e-05</td></tr>",
                            "<tr><td>1196</td><td>Star Wars: Episode V - The Empire Strikes Back</td><td>5.792065e-05</td></tr>",
                            "<tr><td>7346</td><td>The Girl Next Door</td><td>3.8613765e-05</td></tr>",
                            "<tr><td>5254</td><td>Blade II</td><td>3.8613765e-05</td></tr>",
                            "<tr><td>6541</td><td>The League of Extraordinary Gentlemen</td><td>3.8613765e-05</td></tr>",
                            "<tr><td>8983</td><td>Shi mian mai fu</td><td>3.8613765e-05</td></tr>",
                            "<tr><td>2167</td><td>Blade</td><td>3.8613765e-05</td></tr>",
                            "<tr><td>3578</td><td>Gladiator</td><td>3.8613765e-05</td></tr>",
                            "<tr><td>8984</td><td>Ocean's Twelve</td><td>3.8613765e-05</td></tr>",
                            "<tr><td>40959</td><td>The Ice Harvest</td><td>3.8613765e-05</td></tr>",
                            "<tr><td>288</td><td>Natural Born Killers</td><td>3.8613765e-05</td></tr>",
                            "<tr><td>49272</td><td>Casino Royale</td><td>3.8613765e-05</td></tr>",
                            "<tr><td>8798</td><td>Collateral</td><td>3.8613765e-05</td></tr>",
                            "<tr><td>27808</td><td>Spanglish</td><td>3.8613765e-05</td></tr>",
                            "<tr><td>3996</td><td>Wo hu cang long</td><td>3.8613765e-05</td></tr>",
                            "<tr><td>8622</td><td>Fahrenheit 9/11</td><td>3.8613765e-05</td></tr>",
                            "<tr><td>8865</td><td>Sky Captain and the World of Tomorrow</td><td>3.8613765e-05</td></tr>",
                            "<tr><td>7153</td><td>The Lord of the Rings: The Return of the King</td><td>3.8613765e-05</td></tr>",
                            "<tr><td>1923</td><td>There's Something About Mary</td><td>3.8613765e-05</td></tr>",
                            "<tr><td>1091</td><td>Weekend at Bernie's</td><td>3.8613765e-05</td></tr>",
                            "<tr><td>6957</td><td>Bad Santa</td><td>3.8613765e-05</td></tr>",
                            "<tr><td>32596</td><td>Sahara</td><td>3.8613765e-05</td></tr>",
                            "<tr><td>6539</td><td>Pirates of the Caribbean: The Curse of the Black Pearl</td><td>3.8613765e-05</td></tr>",
                            "<tr><td>16</td><td>Casino</td><td>3.8613765e-05</td></tr>",
                            "<tr><td>1466</td><td>Donnie Brasco</td><td>3.8613765e-05</td></tr>",
                            "<tr><td>54286</td><td>The Bourne Ultimatum</td><td>3.8613765e-05</td></tr>",
                            "<tr><td>7318</td><td>The Passion of the Christ</td><td>3.8613765e-05</td></tr>",
                            "<tr><td>1089</td><td>Reservoir Dogs</td><td>3.8613765e-05</td></tr>",
                            "<tr><td>2018</td><td>Bambi</td><td>3.8613765e-05</td></tr>",
                            "<tr><td>8835</td><td>Paparazzi</td><td>3.8613765e-05</td></tr>",
                            "<tr><td>2180</td><td>Torn Curtain</td><td>3.8613765e-05</td></tr>",
                            "<tr><td>163</td><td>Desperado</td><td>3.8613765e-05</td></tr>",
                            "<tr><td>8636</td><td>Spider-Man</td><td>3.8613765e-05</td></tr>",
                            "<tr><td>5952</td><td>The Lord of the Rings: The Two Towers</td><td>3.8613765e-05</td></tr>",
                            "<tr><td>5669</td><td>Bowling for Columbine</td><td>3.8613765e-05</td></tr>",
                            "<tr><td>31696</td><td>Constantine</td><td>3.8613765e-05</td></tr>",
                            "<tr><td>588</td><td>Aladdin</td><td>3.8613765e-05</td></tr>",
                            "<tr><td>364</td><td>The Lion King</td><td>3.8613765e-05</td></tr>",
                            "<tr><td>33166</td><td>Crash</td><td>3.8613765e-05</td></tr>",
                            "<tr><td>4011</td><td>Snatch.</td><td>3.8613765e-05</td></tr>",
                            "<tr><td>27788</td><td>The Jacket</td><td>3.8613765e-05</td></tr>",
                            "<tr><td>1921</td><td>Pi</td><td>3.8613765e-05</td></tr>",
                            "<tr><td>36529</td><td>Lord of War</td><td>3.8613765e-05</td></tr>",
                            "<tr><td>1214</td><td>Alien</td><td>3.8613765e-05</td></tr>",
                            "<tr><td>4367</td><td>Lara Croft: Tomb Raider</td><td>3.8613765e-05</td></tr>",
                            "<tr><td>5033</td><td>The Russia House</td><td>3.8613765e-05</td></tr>",
                            "<tr><td>6185</td><td>Dark Blue</td><td>3.8613765e-05</td></tr>",
                            "<tr><td>1036</td><td>Die Hard</td><td>3.8613765e-05</td></tr>",
                            "<tr><td>5418</td><td>The Bourne Identity</td><td>3.8613765e-05</td></tr>",
                            "<tr><td>8961</td><td>The Incredibles</td><td>3.8613765e-05</td></tr>",
                            "<tr><td>2183</td><td>The Man Who Knew Too Much</td><td>3.8613765e-05</td></tr>",
                            "<tr><td>10</td><td>GoldenEye</td><td>3.8613765e-05</td></tr>",
                            "<tr><td>30825</td><td>Meet the Fockers</td><td>3.8613765e-05</td></tr>",
                            "<tr><td>31685</td><td>Hitch</td><td>3.8613765e-05</td></tr>",
                            "<tr><td>1201</td><td>Il buono, il brutto, il cattivo.</td><td>3.8613765e-05</td></tr>",
                            "<tr><td>7482</td><td>Enter the Dragon</td><td>3.8613765e-05</td></tr>",
                            "<tr><td>48780</td><td>The Prestige</td><td>3.8613765e-05</td></tr>",
                            "<tr><td>49822</td><td>The Good Shepherd</td><td>3.8613765e-05</td></tr>",
                            "<tr><td>3793</td><td>X-Men</td><td>3.8613765e-05</td></tr>",
                            "<tr><td>5445</td><td>Minority Report</td><td>3.8613765e-05</td></tr>",
                            "<tr><td>8772</td><td>The Spy Who Came in from the Cold</td><td>3.8613765e-05</td></tr>",
                            "<tr><td>858</td><td>The Godfather</td><td>3.8613765e-05</td></tr>",
                            "<tr><td>3623</td><td>Mission: Impossible</td><td>3.8613765e-05</td></tr>",
                            "<tr><td>5010</td><td>Black Hawk Down</td><td>3.8613765e-05</td></tr>",
                            "<tr><td>4995</td><td>A Beautiful Mind</td><td>3.8613765e-05</td></tr>",
                            "<tr><td>4901</td><td>Spy Game</td><td>3.8613765e-05</td></tr>",
                            "<tr><td>33794</td><td>Batman Begins</td><td>3.8613765e-05</td></tr>",
                            "<tr><td>48412</td><td>The Guardian</td><td>3.8613765e-05</td></tr>",
                            "<tr><td>4896</td><td>Harry Potter and the Sorcerer's Stone</td><td>3.8613765e-05</td></tr>",
                            "<tr><td>6537</td><td>Terminator 3: Rise of the Machines</td><td>3.8613765e-05</td></tr>",
                            "<tr><td>1240</td><td>Terminator Salvation</td><td>3.8613765e-05</td></tr>",
                            "<tr><td>1573</td><td>Face/Off</td><td>3.8613765e-05</td></tr>",
                            "<tr><td>3981</td><td>Red Planet</td><td>3.8613765e-05</td></tr>",
                            "<tr><td>44195</td><td>Thank You for Smoking</td><td>1.9306883e-05</td></tr>",
                            "<tr><td>4489</td><td>Coming to America</td><td>1.9306883e-05</td></tr>",
                            "<tr><td>2176</td><td>Rope</td><td>1.9306883e-05</td></tr>",
                            "<tr><td>7924</td><td>Nora inu</td><td>1.9306883e-05</td></tr>",
                            "<tr><td>253</td><td>Interview with the Vampire: The Vampire Chronicles</td><td>1.9306883e-05</td></tr>",
                            "<tr><td>345</td><td>The Adventures of Priscilla, Queen of the Desert</td><td>1.9306883e-05</td></tr>",
                            "<tr><td>2490</td><td>Payback</td><td>1.9306883e-05</td></tr>",
                            "<tr><td>912</td><td>Casablanca</td><td>1.9306883e-05</td></tr>",
                            "<tr><td>8958</td><td>Ray</td><td>1.9306883e-05</td></tr>",
                            "<tr><td>2414</td><td>Young Sherlock Holmes</td><td>1.9306883e-05</td></tr>",
                            "<tr><td>55995</td><td>Beowulf</td><td>1.9306883e-05</td></tr>",
                            "<tr><td>46972</td><td>Night at the Museum</td><td>1.9306883e-05</td></tr>",
                            "<tr><td>8917</td><td>Team America: World Police</td><td>1.9306883e-05</td></tr>",
                            "<tr><td>2204</td><td>Saboteur</td><td>1.9306883e-05</td></tr>",
                            "<tr><td>50</td><td>The Usual Suspects</td><td>1.9306883e-05</td></tr>",
                            "<tr><td>1073</td><td>Willy Wonka &amp; the Chocolate Factory</td><td>1.9306883e-05</td></tr>",
                            "<tr><td>232</td><td>Yin shi nan nu</td><td>1.9306883e-05</td></tr>",
                            "<tr><td>1517</td><td>Austin Powers: International Man of Mystery</td><td>1.9306883e-05</td></tr>",
                            "<tr><td>3505</td><td>No Way Out</td><td>1.9306883e-05</td></tr>",
                            "<tr><td>2114</td><td>The Outsiders</td><td>1.9306883e-05</td></tr>",
                            "<tr><td>595</td><td>Beauty and the Beast</td><td>1.9306883e-05</td></tr>",
                            "<tr><td>42007</td><td>Rumor Has It...</td><td>1.9306883e-05</td></tr>",
                            "<tr><td>6708</td><td>Matchstick Men</td><td>1.9306883e-05</td></tr>",
                            "<tr><td>1060</td><td>Swingers</td><td>1.9306883e-05</td></tr>",
                            "<tr><td>49651</td><td>Rocky Balboa</td><td>1.9306883e-05</td></tr>",
                            "<tr><td>41571</td><td>Memoirs of a Geisha</td><td>1.9306883e-05</td></tr>",
                            "<tr><td>1027</td><td>Robin Hood: Prince of Thieves</td><td>1.9306883e-05</td></tr>",
                            "<tr><td>4234</td><td>The Tailor of Panama</td><td>1.9306883e-05</td></tr>",
                            "<tr><td>318</td><td>The Shawshank Redemption</td><td>1.9306883e-05</td></tr>",
                            "<tr><td>46723</td><td>Babel</td><td>1.9306883e-05</td></tr>",
                            "<tr><td>36401</td><td>The Brothers Grimm</td><td>1.9306883e-05</td></tr>",
                            "<tr><td>1061</td><td>Sleepers</td><td>1.9306883e-05</td></tr>",
                            "<tr><td>2860</td><td>Blue Streak</td><td>1.9306883e-05</td></tr>",
                            "<tr><td>60072</td><td>Wanted</td><td>1.9306883e-05</td></tr>",
                            "<tr><td>3868</td><td>The Naked Gun: From the Files of Police Squad!</td><td>1.9306883e-05</td></tr>",
                            "<tr><td>2937</td><td>The Palm Beach Story</td><td>1.9306883e-05</td></tr>",
                            "<tr><td>5954</td><td>25th Hour</td><td>1.9306883e-05</td></tr>",
                            "<tr><td>5339</td><td>Husbands and Wives</td><td>1.9306883e-05</td></tr>",
                            "<tr><td>5378</td><td>Star Wars: Episode II - Attack of the Clones</td><td>1.9306883e-05</td></tr>",
                            "<tr><td>8604</td><td>Taxi</td><td>1.9306883e-05</td></tr>",
                            "<tr><td>4224</td><td>Exit Wounds</td><td>1.9306883e-05</td></tr>",
                            "<tr><td>2700</td><td>South Park: Bigger Longer &amp; Uncut</td><td>1.9306883e-05</td></tr>",
                            "<tr><td>2206</td><td>Guilty by Suspicion</td><td>1.9306883e-05</td></tr>",
                            "<tr><td>6721</td><td>Wong Fei Hung</td><td>1.9306883e-05</td></tr>",
                            "<tr><td>1333</td><td>The Birds</td><td>1.9306883e-05</td></tr>",
                            "<tr><td>1221</td><td>The Godfather: Part II</td><td>1.9306883e-05</td></tr>",
                            "<tr><td>34319</td><td>The Island</td><td>1.9306883e-05</td></tr>",
                            "<tr><td>54272</td><td>The Simpsons Movie</td><td>1.9306883e-05</td></tr>",
                            "<tr><td>5509</td><td>Biggie and Tupac</td><td>1.9306883e-05</td></tr>",
                            "<tr><td>3994</td><td>Unbreakable</td><td>1.9306883e-05</td></tr>",
                            "<tr><td>1274</td><td>Akira</td><td>1.9306883e-05</td></tr>",
                            "<tr><td>6624</td><td>Agent Cody Banks</td><td>1.9306883e-05</td></tr>",
                            "<tr><td>30707</td><td>Million Dollar Baby</td><td>1.9306883e-05</td></tr>",
                            "<tr><td>2202</td><td>Lifeboat</td><td>1.9306883e-05</td></tr>",
                            "<tr><td>49278</td><td>Deja Vu</td><td>1.9306883e-05</td></tr>",
                            "<tr><td>8970</td><td>Finding Neverland</td><td>1.9306883e-05</td></tr>",
                            "<tr><td>7143</td><td>The Last Samurai</td><td>1.9306883e-05</td></tr>",
                            "<tr><td>6016</td><td>Cidade de Deus</td><td>1.9306883e-05</td></tr>",
                            "<tr><td>2281</td><td>Snitch</td><td>1.9306883e-05</td></tr>",
                            "<tr><td>170</td><td>Hackers</td><td>1.9306883e-05</td></tr>",
                            "<tr><td>35836</td><td>The 40 Year Old Virgin</td><td>1.9306883e-05</td></tr>",
                            "<tr><td>3745</td><td>Titan A.E.</td><td>1.9306883e-05</td></tr>",
                            "<tr><td>1320</td><td>Alien³</td><td>1.9306883e-05</td></tr>",
                            "<tr><td>2178</td><td>Frenzy</td><td>1.9306883e-05</td></tr>",
                            "<tr><td>6273</td><td>In a Lonely Place</td><td>1.9306883e-05</td></tr>",
                            "<tr><td>31878</td><td>Kung fu</td><td>1.9306883e-05</td></tr>",
                            "<tr><td>8360</td><td>Shrek 2</td><td>1.9306883e-05</td></tr>",
                            "<tr><td>3791</td><td>Footloose</td><td>1.9306883e-05</td></tr>",
                            "<tr><td>6550</td><td>Johnny English</td><td>1.9306883e-05</td></tr>",
                            "<tr><td>5015</td><td>Monster's Ball</td><td>1.9306883e-05</td></tr>",
                            "<tr><td>45447</td><td>The Da Vinci Code</td><td>1.9306883e-05</td></tr>",
                            "<tr><td>1219</td><td>Psycho</td><td>1.9306883e-05</td></tr>",
                            "<tr><td>3698</td><td>The Running Man</td><td>1.9306883e-05</td></tr>",
                            "<tr><td>41569</td><td>King Kong</td><td>1.9306883e-05</td></tr>",
                            "<tr><td>6743</td><td>The Jungle Book</td><td>1.9306883e-05</td></tr>",
                            "<tr><td>52328</td><td>Sunshine</td><td>1.9306883e-05</td></tr>",
                            "<tr><td>5502</td><td>Signs</td><td>1.9306883e-05</td></tr>",
                            "<tr><td>1729</td><td>Jackie Brown</td><td>1.9306883e-05</td></tr>",
                            "<tr><td>7155</td><td>Calendar Girls</td><td>1.9306883e-05</td></tr>",
                            "<tr><td>1785</td><td>King of New York</td><td>1.9306883e-05</td></tr>",
                            "<tr><td>1917</td><td>Armageddon</td><td>1.9306883e-05</td></tr>",
                            "<tr><td>45672</td><td>Click</td><td>1.9306883e-05</td></tr>",
                            "<tr><td>8361</td><td>The Day After Tomorrow</td><td>1.9306883e-05</td></tr>",
                            "<tr><td>1625</td><td>The Game</td><td>1.9306883e-05</td></tr>",
                            "<tr><td>2122</td><td>Children of the Corn</td><td>1.9306883e-05</td></tr>",
                            "<tr><td>8784</td><td>Garden State</td><td>1.9306883e-05</td></tr>",
                            "<tr><td>41997</td><td>Munich</td><td>1.9306883e-05</td></tr>",
                            "<tr><td>33437</td><td>Danny the Dog</td><td>1.9306883e-05</td></tr>",
                            "<tr><td>4701</td><td>Rush Hour 2</td><td>1.9306883e-05</td></tr>",
                            "<tr><td>903</td><td>Vertigo</td><td>1.9306883e-05</td></tr>",
                            "<tr><td>2827</td><td>The Astronaut's Wife</td><td>1.9306883e-05</td></tr>",
                            "<tr><td>2528</td><td>Logan's Run</td><td>1.9306883e-05</td></tr>",
                            "<tr><td>2019</td><td>Shichinin no samurai</td><td>1.9306883e-05</td></tr>",
                            "<tr><td>308</td><td>Trzy kolory: Bialy</td><td>1.9306883e-05</td></tr>",
                            "<tr><td>6979</td><td>WarGames</td><td>1.9306883e-05</td></tr>",
                            "<tr><td>3686</td><td>Flatliners</td><td>1.9306883e-05</td></tr>",
                            "<tr><td>1619</td><td>Seven Years in Tibet</td><td>1.9306883e-05</td></tr>",
                            "<tr><td>43917</td><td>Eight Below</td><td>1.9306883e-05</td></tr>",
                            "<tr><td>5572</td><td>Barbershop 2: Back in Business</td><td>1.9306883e-05</td></tr>",
                            "<tr><td>6218</td><td>Bend It Like Beckham</td><td>1.9306883e-05</td></tr>",
                            "<tr><td>8833</td><td>Vanity Fair</td><td>1.9306883e-05</td></tr>",
                            "<tr><td>236</td><td>French Kiss</td><td>1.9306883e-05</td></tr>",
                            "<tr><td>40339</td><td>Chicken Little</td><td>1.9306883e-05</td></tr>",
                            "<tr><td>8371</td><td>The Chronicles of Riddick</td><td>1.9306883e-05</td></tr>",
                            "<tr><td>31433</td><td>The Wedding Date</td><td>1.9306883e-05</td></tr>",
                            "<tr><td>592</td><td>Batman</td><td>1.9306883e-05</td></tr>",
                            "<tr><td>1370</td><td>Die Hard</td><td>1.9306883e-05</td></tr>",
                            "<tr><td>51086</td><td>The Number 23</td><td>1.9306883e-05</td></tr>",
                            "<tr><td>2318</td><td>Happiness</td><td>1.9306883e-05</td></tr>",
                            "<tr><td>6333</td><td>X2</td><td>1.9306883e-05</td></tr>",
                            "<tr><td>3005</td><td>The Bone Collector</td><td>1.9306883e-05</td></tr>",
                            "<tr><td>51575</td><td>Wild Hogs</td><td>1.9306883e-05</td></tr>",
                            "<tr><td>780</td><td>Independence Day</td><td>1.9306883e-05</td></tr>",
                            "<tr><td>4090</td><td>The Brave Little Toaster</td><td>1.9306883e-05</td></tr>",
                            "<tr><td>5283</td><td>Van Wilder</td><td>1.9306883e-05</td></tr>",
                            "<tr><td>4866</td><td>The Last Castle</td><td>1.9306883e-05</td></tr>",
                            "<tr><td>43928</td><td>Ultraviolet</td><td>1.9306883e-05</td></tr>",
                            "<tr><td>34271</td><td>Hustle &amp; Flow</td><td>1.9306883e-05</td></tr>",
                            "<tr><td>2772</td><td>Detroit Rock City</td><td>1.9306883e-05</td></tr>",
                            "<tr><td>55363</td><td>The Assassination of Jesse James by the Coward Robert Ford</td><td>1.9306883e-05</td></tr>",
                            "<tr><td>6564</td><td>Lara Croft Tomb Raider: The Cradle of Life</td><td>1.9306883e-05</td></tr>",
                            "<tr><td>370</td><td>Naked Gun 33 1/3: The Final Insult</td><td>1.9306883e-05</td></tr>",
                            "<tr><td>3717</td><td>Gone in Sixty Seconds</td><td>1.9306883e-05</td></tr>",
                            "<tr><td>2221</td><td>Blackmail</td><td>1.9306883e-05</td></tr>",
                            "<tr><td>8884</td><td>The Man with One Red Shoe</td><td>1.9306883e-05</td></tr>",
                            "<tr><td>45726</td><td>You, Me and Dupree</td><td>1.9306883e-05</td></tr>",
                            "<tr><td>2987</td><td>Who Framed Roger Rabbit</td><td>1.9306883e-05</td></tr>",
                            "<tr><td>6502</td><td>28 Days Later...</td><td>1.9306883e-05</td></tr>",
                            "<tr><td>30749</td><td>Hotel Rwanda</td><td>1.9306883e-05</td></tr>",
                            "<tr><td>55444</td><td>Control</td><td>1.9306883e-05</td></tr>",
                            "<tr><td>51709</td><td>Gwoemul</td><td>1.9306883e-05</td></tr>",
                            "<tr><td>7149</td><td>Something's Gotta Give</td><td>1.9306883e-05</td></tr>",
                            "<tr><td>2185</td><td>I Confess</td><td>1.9306883e-05</td></tr>",
                            "<tr><td>7069</td><td>The Tragedy of Macbeth</td><td>1.9306883e-05</td></tr>",
                            "<tr><td>5477</td><td>Lucía y el sexo</td><td>1.9306883e-05</td></tr>",
                            "<tr><td>1136</td><td>Monty Python and the Holy Grail</td><td>1.9306883e-05</td></tr>",
                            "<tr><td>6989</td><td>Gorky Park</td><td>1.9306883e-05</td></tr>",
                            "<tr><td>40614</td><td>Derailed</td><td>1.9306883e-05</td></tr>",
                            "<tr><td>1283</td><td>High Noon</td><td>1.9306883e-05</td></tr>",
                            "<tr><td>327</td><td>Tank Girl</td><td>1.9306883e-05</td></tr>",
                            "<tr><td>37380</td><td>Doom</td><td>1.9306883e-05</td></tr>",
                            "<tr><td>32031</td><td>I, Robot</td><td>1.9306883e-05</td></tr>",
                            "<tr><td>3752</td><td>Me, Myself &amp; Irene</td><td>1.9306883e-05</td></tr>",
                            "<tr><td>2989</td><td>For Your Eyes Only</td><td>1.9306883e-05</td></tr>",
                            "<tr><td>39444</td><td>The Weather Man</td><td>1.9306883e-05</td></tr>",
                            "<tr><td>1997</td><td>The Exorcist</td><td>1.9306883e-05</td></tr>",
                            "<tr><td>5809</td><td>Femme Fatale</td><td>1.9306883e-05</td></tr>",
                            "<tr><td>8640</td><td>King Arthur</td><td>1.9306883e-05</td></tr>",
                            "<tr><td>783</td><td>The Hunchback of Notre Dame</td><td>1.9306883e-05</td></tr>",
                            "<tr><td>7762</td><td>&quot;Tinker, Tailor, Soldier, Spy&quot;</td><td>1.9306883e-05</td></tr>",
                            "<tr><td>4993</td><td>The Lord of the Rings: The Fellowship of the Ring</td><td>1.9306883e-05</td></tr>",
                            "<tr><td>3022</td><td>The General</td><td>1.9306883e-05</td></tr>",
                            "<tr><td>3265</td><td>Lat sau san taam</td><td>1.9306883e-05</td></tr>",
                            "<tr><td>5464</td><td>Road to Perdition</td><td>1.9306883e-05</td></tr>",
                            "<tr><td>7347</td><td>Secret Window</td><td>1.9306883e-05</td></tr>",
                            "<tr><td>5055</td><td>Dragon: The Bruce Lee Story</td><td>1.9306883e-05</td></tr>",
                            "<tr><td>6592</td><td>The Secret Lives of Dentists</td><td>1.9306883e-05</td></tr>",
                            "<tr><td>541</td><td>Blade Runner</td><td>1.9306883e-05</td></tr>",
                            "<tr><td>5410</td><td>Silent Running</td><td>1.9306883e-05</td></tr>",
                            "<tr><td>4616</td><td>Lean on Me</td><td>1.9306883e-05</td></tr>",
                            "<tr><td>27873</td><td>Metallica: Some Kind of Monster</td><td>1.9306883e-05</td></tr>",
                            "<tr><td>1465</td><td>Rosewood</td><td>1.9306883e-05</td></tr>",
                            "<tr><td>27020</td><td>Gia</td><td>1.9306883e-05</td></tr>",
                            "<tr><td>6709</td><td>Once Upon a Time in Mexico</td><td>1.9306883e-05</td></tr>",
                            "<tr><td>7345</td><td>Agent Cody Banks 2: Destination London</td><td>1.9306883e-05</td></tr>",
                            "<tr><td>27821</td><td>The Interpreter</td><td>1.9306883e-05</td></tr>",
                            "<tr><td>32019</td><td>Be Cool</td><td>1.9306883e-05</td></tr>",
                            "<tr><td>3869</td><td>The Naked Gun 2½: The Smell of Fear</td><td>1.9306883e-05</td></tr>",
                            "<tr><td>44974</td><td>Hard Candy</td><td>1.9306883e-05</td></tr>",
                            "<tr><td>39052</td><td>Star Wreck: In the Pirkinning</td><td>1.9306883e-05</td></tr>",
                            "<tr><td>3033</td><td>Spaceballs</td><td>1.9306883e-05</td></tr>",
                            "<tr><td>31660</td><td>Suchîmubôi</td><td>1.9306883e-05</td></tr>",
                            "<tr><td>5816</td><td>Harry Potter and the Chamber of Secrets</td><td>1.9306883e-05</td></tr>",
                            "<tr><td>3114</td><td>Toy Story</td><td>1.9306883e-05</td></tr>",
                            "<tr><td>55814</td><td>Le scaphandre et le papillon</td><td>1.9306883e-05</td></tr>",
                            "<tr><td>898</td><td>The Philadelphia Story</td><td>1.9306883e-05</td></tr>",
                            "<tr><td>7361</td><td>Eternal Sunshine of the Spotless Mind</td><td>1.9306883e-05</td></tr>",
                            "<tr><td>8207</td><td>The Day of the Jackal</td><td>1.9306883e-05</td></tr>",
                            "<tr><td>44555</td><td>Das Leben der Anderen</td><td>1.9306883e-05</td></tr>",
                            "<tr><td>1485</td><td>Liar Liar</td><td>1.9306883e-05</td></tr>",
                            "<tr><td>6265</td><td>Head of State</td><td>1.9306883e-05</td></tr>",
                            "<tr><td>919</td><td>The Wizard of Oz</td><td>1.9306883e-05</td></tr>",
                            "<tr><td>34532</td><td>The Skeleton Key</td><td>1.9306883e-05</td></tr>",
                            "<tr><td>34405</td><td>Serenity</td><td>1.9306883e-05</td></tr>",
                            "<tr><td>1748</td><td>Dark City</td><td>1.9306883e-05</td></tr>",
                            "<tr><td>104</td><td>Happy Gilmore</td><td>1.9306883e-05</td></tr>",
                            "<tr><td>27706</td><td>Lemony Snicket's A Series of Unfortunate Events</td><td>1.9306883e-05</td></tr>",
                            "<tr><td>2209</td><td>Young and Innocent</td><td>1.9306883e-05</td></tr>",
                            "<tr><td>2177</td><td>Family Plot</td><td>1.9306883e-05</td></tr>",
                            "<tr><td>35957</td><td>Red Eye</td><td>1.9306883e-05</td></tr>",
                            "<tr><td>48877</td><td>Saw III</td><td>1.9306883e-05</td></tr>",
                            "<tr><td>51662</td><td>300</td><td>1.9306883e-05</td></tr>",
                            "<tr><td>6948</td><td>Tupac: Resurrection</td><td>1.9306883e-05</td></tr>",
                            "<tr><td>46974</td><td>World Trade Center</td><td>1.9306883e-05</td></tr>",
                            "<tr><td>8875</td><td>Come Back, Little Sheba</td><td>1.9306883e-05</td></tr>",
                            "<tr><td>4643</td><td>Planet of the Apes</td><td>1.9306883e-05</td></tr>",
                            "<tr><td>904</td><td>Rear Window</td><td>1.9306883e-05</td></tr>",
                            "<tr><td>45730</td><td>Lady in the Water</td><td>1.9306883e-05</td></tr>",
                            "<tr><td>7584</td><td>The Women</td><td>1.9306883e-05</td></tr>",
                            "<tr><td>6754</td><td>Underworld</td><td>1.9306883e-05</td></tr>",
                            "<tr><td>5349</td><td>Spider-Man</td><td>1.9306883e-05</td></tr>",
                            "<tr><td>3300</td><td>Pitch Black</td><td>1.9306883e-05</td></tr>",
                            "<tr><td>1193</td><td>One Flew Over the Cuckoo's Nest</td><td>1.9306883e-05</td></tr>",
                            "<tr><td>7445</td><td>Man on Fire</td><td>1.9306883e-05</td></tr>",
                            "<tr><td>2366</td><td>King Kong</td><td>1.9306883e-05</td></tr>",
                            "<tr><td>1958</td><td>Terms of Endearment</td><td>1.9306883e-05</td></tr>",
                            "<tr><td>803</td><td>Walking and Talking</td><td>1.9306883e-05</td></tr>",
                            "<tr><td>41716</td><td>Matador</td><td>1.9306883e-05</td></tr>",
                            "<tr><td>8368</td><td>Harry Potter and the Prisoner of Azkaban</td><td>1.9306883e-05</td></tr>",
                            "<tr><td>45382</td><td>Down in the Valley</td><td>1.9306883e-05</td></tr>",
                            "<tr><td>47</td><td>Shichinin no samurai</td><td>1.9306883e-05</td></tr>",
                            "<tr><td>52668</td><td>In the Land of Women</td><td>1.9306883e-05</td></tr>",
                            "<tr><td>6951</td><td>The Cat in the Hat</td><td>1.9306883e-05</td></tr>",
                            "<tr><td>2716</td><td>Ghost Busters</td><td>1.9306883e-05</td></tr>",
                            "<tr><td>52042</td><td>Zwartboek</td><td>1.9306883e-05</td></tr>",
                            "<tr><td>908</td><td>North by Northwest</td><td>1.9306883e-05</td></tr>",
                            "<tr><td>53972</td><td>Live Free or Die Hard</td><td>1.9306883e-05</td></tr>",
                            "<tr><td>6953</td><td>21 Grams</td><td>1.9306883e-05</td></tr>",
                            "<tr><td>6378</td><td>The Italian Job</td><td>1.9306883e-05</td></tr>",
                            "<tr><td>7325</td><td>Starsky &amp; Hutch</td><td>1.9306883e-05</td></tr>",
                            "<tr><td>1213</td><td>Goodfellas</td><td>1.9306883e-05</td></tr>",
                            "<tr><td>39446</td><td>Saw II</td><td>1.9306883e-05</td></tr>",
                            "<tr><td>8270</td><td>Le mari de la coiffeuse</td><td>1.9306883e-05</td></tr>",
                            "<tr><td>6377</td><td>Finding Nemo</td><td>1.9306883e-05</td></tr>",
                            "<tr><td>741</td><td>Kôkaku kidôtai</td><td>1.9306883e-05</td></tr>",
                            "<tr><td>175</td><td>Kids</td><td>1.9306883e-05</td></tr>",
                            "<tr><td>165</td><td>Die Hard: With a Vengeance</td><td>1.9306883e-05</td></tr>",
                            "<tr><td>50445</td><td>The Hitcher</td><td>1.9306883e-05</td></tr>",
                            "<tr><td>1086</td><td>Dial M for Murder</td><td>1.9306883e-05</td></tr>",
                            "<tr><td>2186</td><td>Strangers on a Train</td><td>1.9306883e-05</td></tr>",
                            "<tr><td>8533</td><td>The Notebook</td><td>1.9306883e-05</td></tr>",
                            "<tr><td>553</td><td>Tombstone</td><td>1.9306883e-05</td></tr>",
                            "<tr><td>2542</td><td>Lock, Stock and Two Smoking Barrels</td><td>1.9306883e-05</td></tr>",
                            "<tr><td>32587</td><td>Sin City</td><td>1.9306883e-05</td></tr>",
                            "<tr><td>1</td><td>Toy story</td><td>1.9306883e-05</td></tr>",
                            "<tr><td>6936</td><td>Elf</td><td>1.9306883e-05</td></tr>",
                            "<tr><td>2420</td><td>The Karate Kid</td><td>1.9306883e-05</td></tr>",
                            "<tr><td>38038</td><td>Wallace &amp; Gromit in The Curse of the Were-Rabbit</td><td>1.9306883e-05</td></tr>",
                            "<tr><td>45732</td><td>My Super Ex-Girlfriend</td><td>1.9306883e-05</td></tr>",
                            "<tr><td>34048</td><td>War of the Worlds</td><td>1.9306883e-05</td></tr>",
                            "<tr><td>40815</td><td>Harry Potter and the Goblet of Fire</td><td>1.9306883e-05</td></tr>",
                            "<tr><td>33646</td><td>The Longest Yard</td><td>1.9306883e-05</td></tr>",
                            "<tr><td>1097</td><td>E.T.: The Extra-Terrestrial</td><td>1.9306883e-05</td></tr>",
                            "<tr><td>8966</td><td>Kinsey</td><td>1.9306883e-05</td></tr>",
                            "<tr><td>26002</td><td>Mr. Arkadin</td><td>1.9306883e-05</td></tr>",
                            "<tr><td>3562</td><td>Committed</td><td>1.9306883e-05</td></tr>",
                            "<tr><td>6014</td><td>National Security</td><td>1.9306883e-05</td></tr>",
                            "<tr><td>2294</td><td>Antz</td><td>1.9306883e-05</td></tr>",
                            "<tr><td>955</td><td>Bringing Up Baby</td><td>1.9306883e-05</td></tr>",
                            "<tr><td>58047</td><td>Definitely, Maybe</td><td>1.9306883e-05</td></tr>",
                            "<tr><td>5995</td><td>The Pianist</td><td>1.9306883e-05</td></tr>",
                            "<tr><td>5503</td><td>L'ultimo bacio</td><td>1.9306883e-05</td></tr>",
                            "<tr><td>2278</td><td>Ronin</td><td>1.9306883e-05</td></tr>",
                            "<tr><td>293</td><td>Léon</td><td>1.9306883e-05</td></tr>",
                            "<tr><td>2935</td><td>The Lady Eve</td><td>1.9306883e-05</td></tr>",
                            "<tr><td>1488</td><td>The Devil's Own</td><td>1.9306883e-05</td></tr>",
                            "<tr><td>4889</td><td>Heist</td><td>1.9306883e-05</td></tr>",
                            "<tr><td>6</td><td>Heat</td><td>1.9306883e-05</td></tr>",
                            "<tr><td>4699</td><td>Original Sin</td><td>1.9306883e-05</td></tr>",
                            "<tr><td>2203</td><td>Shadow of a Doubt</td><td>1.9306883e-05</td></tr>",
                            "<tr><td>8531</td><td>White Chicks</td><td>1.9306883e-05</td></tr>",
                            "<tr><td>6254</td><td>The Awful Truth</td><td>1.9306883e-05</td></tr>",
                            "<tr><td>2916</td><td>Total Recall</td><td>1.9306883e-05</td></tr>",
                            "<tr><td>3840</td><td>Pumpkinhead</td><td>1.9306883e-05</td></tr>",
                            "<tr><td>45501</td><td>The Break-Up</td><td>1.9306883e-05</td></tr>",
                            "<tr><td>356</td><td>Forrest Gump</td><td>1.9306883e-05</td></tr>",
                            "<tr><td>53921</td><td>A Mighty Heart</td><td>1.9306883e-05</td></tr>",
                            "<tr><td>428</td><td>A Bronx Tale</td><td>1.9306883e-05</td></tr>",
                            "<tr><td>1230</td><td>Annie Hall</td><td>1.9306883e-05</td></tr>",
                            "<tr><td>7449</td><td>Godsend</td><td>1.9306883e-05</td></tr>",
                            "<tr><td>7367</td><td>The Ladykillers</td><td>1.9306883e-05</td></tr>",
                            "<tr><td>6003</td><td>Confessions of a Dangerous Mind</td><td>1.9306883e-05</td></tr>",
                            "<tr><td>7254</td><td>The Butterfly Effect</td><td>1.9306883e-05</td></tr>",
                            "<tr><td>4016</td><td>The Emperor's New Groove</td><td>1.9306883e-05</td></tr>",
                            "<tr><td>1769</td><td>The Replacement Killers</td><td>1.9306883e-05</td></tr>",
                            "<tr><td>2948</td><td>From Russia with Love</td><td>1.9306883e-05</td></tr>",
                            "<tr><td>2340</td><td>Meet Joe Black</td><td>1.9306883e-05</td></tr>",
                            "<tr><td>110</td><td>Braveheart</td><td>1.9306883e-05</td></tr>",
                            "<tr><td>3275</td><td>The Boondock Saints</td><td>1.9306883e-05</td></tr>",
                            "<tr><td>7846</td><td>Tremors 3: Back to Perfection</td><td>1.9306883e-05</td></tr>",
                            "<tr><td>928</td><td>Rebecca</td><td>1.9306883e-05</td></tr>",
                            "<tr><td>48385</td><td>Borat: Cultural Learnings of America for Make Benefit Glorious Nation of Kazakhstan</td><td>1.9306883e-05</td></tr>",
                            "<tr><td>6022</td><td>American Me</td><td>1.9306883e-05</td></tr>",
                            "<tr><td>46970</td><td>Talladega Nights: The Ballad of Ricky Bobby</td><td>1.9306883e-05</td></tr>",
                            "<tr><td>953</td><td>It's a Wonderful Life</td><td>1.9306883e-05</td></tr>",
                            "<tr><td>5109</td><td>Return to Never Land</td><td>1.9306883e-05</td></tr>",
                            "<tr><td>23</td><td>Ninja Assassin</td><td>1.9306883e-05</td></tr>",
                            "<tr><td>4344</td><td>Swordfish</td><td>1.9306883e-05</td></tr>",
                            "<tr><td>3186</td><td>Girl, Interrupted</td><td>1.9306883e-05</td></tr>",
                            "<tr><td>5187</td><td>Hopscotch</td><td>1.9306883e-05</td></tr>",
                            "<tr><td>31184</td><td>Appurushîdo</td><td>1.9306883e-05</td></tr>",
                            "<tr><td>49347</td><td>Fast Food Nation</td><td>1.9306883e-05</td></tr>",
                            "<tr><td>48414</td><td>Open Season</td><td>1.9306883e-05</td></tr>",
                            "<tr><td>45499</td><td>X-Men: The Last Stand</td><td>1.9306883e-05</td></tr>",
                            "<tr><td>6155</td><td>How to Lose a Guy in 10 Days</td><td>1.9306883e-05</td></tr>",
                            "<tr><td>2194</td><td>The Untouchables</td><td>1.9306883e-05</td></tr>",
                            "<tr><td>3020</td><td>Falling Down</td><td>1.9306883e-05</td></tr>",
                            "<tr><td>49314</td><td>Harsh Times</td><td>1.9306883e-05</td></tr>",
                            "<tr><td>4776</td><td>Training Day</td><td>1.9306883e-05</td></tr>",
                            "<tr><td>5903</td><td>Equilibrium</td><td>1.9306883e-05</td></tr>",
                            "<tr><td>50794</td><td>Smokin' Aces</td><td>1.9306883e-05</td></tr>",
                            "<tr><td>8957</td><td>Saw</td><td>1.9306883e-05</td></tr>",
                            "<tr><td>2983</td><td>The Ipcress File</td><td>1.9306883e-05</td></tr>",
                            "<tr><td>3770</td><td>Dreamscape</td><td>1.9306883e-05</td></tr>",
                            "<tr><td>4005</td><td>The Living Daylights</td><td>1.9306883e-05</td></tr>",
                            "<tr><td>2181</td><td>Marnie</td><td>1.9306883e-05</td></tr>",
                            "<tr><td>6595</td><td>S.W.A.T.</td><td>1.9306883e-05</td></tr>",
                            "<tr><td>7160</td><td>Monster</td><td>1.9306883e-05</td></tr>",
                            "<tr><td>6383</td><td>2 Fast 2 Furious</td><td>1.9306883e-05</td></tr>",
                            "<tr><td>46965</td><td>Snakes on a Plane</td><td>1.9306883e-05</td></tr>",
                            "<tr><td>44022</td><td>Ice Age: The Meltdown</td><td>1.9306883e-05</td></tr>",
                            "<tr><td>50514</td><td>Efter brylluppet</td><td>1.9306883e-05</td></tr>",
                            "<tr><td>53322</td><td>Ocean's Thirteen</td><td>1.9306883e-05</td></tr>",
                            "<tr><td>31903</td><td>Zelary</td><td>1.9306883e-05</td></tr>",
                            "<tr><td>45186</td><td>Mission: Impossible III</td><td>1.9306883e-05</td></tr>",
                            "<tr><td>42723</td><td>Hostel</td><td>1.9306883e-05</td></tr>",
                            "<tr><td>3246</td><td>Malcolm X</td><td>1.9306883e-05</td></tr>",
                            "<tr><td>48738</td><td>The Last King of Scotland</td><td>1.9306883e-05</td></tr>",
                            "<tr><td>2227</td><td>The Lodger</td><td>1.9306883e-05</td></tr>",
                            "<tr><td>1544</td><td>The Lost World: Jurassic Park</td><td>1.9306883e-05</td></tr>",
                            "<tr><td>1222</td><td>Full Metal Jacket</td><td>1.9306883e-05</td></tr>",
                            "<tr><td>930</td><td>Notorious</td><td>1.9306883e-05</td></tr>",
                            "<tr><td>786</td><td>Eraser</td><td>1.9306883e-05</td></tr>",
                            "<tr><td>6548</td><td>Bad Boys II</td><td>1.9306883e-05</td></tr>",
                            "<tr><td>5528</td><td>One Hour Photo</td><td>1.9306883e-05</td></tr>",
                            "<tr><td>1617</td><td>L.A. Confidential</td><td>1.9306883e-05</td></tr>",
                            "<tr><td>951</td><td>His Girl Friday</td><td>1.9306883e-05</td></tr>",
                            "<tr><td>597</td><td>Pretty Woman</td><td>1.9306883e-05</td></tr>",
                            "<tr><td>5195</td><td>Le lac des morts vivants</td><td>1.9306883e-05</td></tr>",
                            "<tr><td>42738</td><td>Underworld: Evolution</td><td>1.9306883e-05</td></tr>",
                            "<tr><td>4930</td><td>Funeral in Berlin</td><td>1.9306883e-05</td></tr>",
                            "<tr><td>32298</td><td>Guess Who</td><td>1.9306883e-05</td></tr>",
                            "<tr><td>316</td><td>Stargate</td><td>1.9306883e-05</td></tr>",
                            "<tr><td>2329</td><td>American History X</td><td>1.9306883e-05</td></tr>",
                            "<tr><td>431</td><td>Carlito's Way</td><td>1.9306883e-05</td></tr>",
                            "<tr><td>2078</td><td>The Jungle Book</td><td>1.9306883e-05</td></tr>",
                            "<tr><td>8781</td><td>The Manchurian Candidate</td><td>1.9306883e-05</td></tr>",
                            "<tr><td>2058</td><td>The Negotiator</td><td>1.9306883e-05</td></tr>",
                            "<tr><td>33493</td><td>Star Wars: Episode III - Revenge of the Sith</td><td>1.9306883e-05</td></tr>",
                            "<tr><td>1631</td><td>The Assignment</td><td>1.9306883e-05</td></tr>",
                            "<tr><td>1387</td><td>Jaws</td><td>1.9306883e-05</td></tr>",
                            "<tr><td>3671</td><td>Blazing Saddles</td><td>1.9306883e-05</td></tr>",
                            "<tr><td>34520</td><td>The Dukes of Hazzard</td><td>1.9306883e-05</td></tr>",
                            "<tr><td>7845</td><td>Tremors II: Aftershocks</td><td>1.9306883e-05</td></tr>",
                            "<tr><td>6193</td><td>Poolhall Junkies</td><td>1.9306883e-05</td></tr>",
                            "<tr><td>1200</td><td>Aliens</td><td>1.9306883e-05</td></tr>",
                            "<tr><td>2628</td><td>Star Wars: Episode I - The Phantom Menace</td><td>1.9306883e-05</td></tr>",
                            "<tr><td>60126</td><td>Get Smart</td><td>1.9306883e-05</td></tr>",
                            "<tr><td>7381</td><td>The Whole Ten Yards</td><td>1.9306883e-05</td></tr>",
                            "<tr><td>5791</td><td>Frida</td><td>1.9306883e-05</td></tr>",
                            "<tr><td>5069</td><td>Escaflowne</td><td>1.9306883e-05</td></tr>",
                            "<tr><td>6309</td><td>Married to It</td><td>1.9306883e-05</td></tr>",
                            "<tr><td>947</td><td>My Man Godfrey</td><td>1.9306883e-05</td></tr>",
                            "<tr><td>48516</td><td>The Departed</td><td>1.9306883e-05</td></tr>",
                            "<tr><td>46578</td><td>Little Miss Sunshine</td><td>1.9306883e-05</td></tr>",
                            "<tr><td>5110</td><td>Super Troopers</td><td>1.9306883e-05</td></tr>",
                            "<tr><td>1245</td><td>Miller's Crossing</td><td>1.9306883e-05</td></tr>",
                            "<tr><td>34150</td><td>Fantastic Four</td><td>1.9306883e-05</td></tr>",
                            "<tr><td>6373</td><td>Evan Almighty</td><td>1.9306883e-05</td></tr>",
                            "<tr><td>266</td><td>Legends of the Fall</td><td>1.9306883e-05</td></tr>",
                            "<tr><td>3751</td><td>Chicken Run</td><td>1.9306883e-05</td></tr>",
                            "<tr><td>5444</td><td>Lilo &amp; Stitch</td><td>1.9306883e-05</td></tr>",
                            "<tr><td>3418</td><td>Thelma &amp; Louise</td><td>1.9306883e-05</td></tr>",
                            "<tr><td>2389</td><td>Psycho</td><td>1.9306883e-05</td></tr>",
                            "<tr><td>8962</td><td>Fade to Black</td><td>1.9306883e-05</td></tr>",
                            "<tr><td>36517</td><td>The Constant Gardener</td><td>1.9306883e-05</td></tr>",
                            "<tr><td>933</td><td>To Catch a Thief</td><td>1.9306883e-05</td></tr>",
                            "<tr><td>2918</td><td>Ferris Bueller's Day Off</td><td>1.9306883e-05</td></tr>",
                            "<tr><td>5127</td><td>Dragonfly</td><td>1.9306883e-05</td></tr>",
                            "<tr><td>2140</td><td>The Dark Crystal</td><td>1.9306883e-05</td></tr>",
                            "<tr><td>3948</td><td>Meet the Parents</td><td>1.9306883e-05</td></tr>",
                            "<tr><td>2273</td><td>Rush Hour</td><td>1.9306883e-05</td></tr>",
                            "<tr><td>53125</td><td>Pirates of the Caribbean: At World's End</td><td>1.9306883e-05</td></tr>",
                            "<tr><td>2028</td><td>Saving Private Ryan</td><td>1.9306883e-05</td></tr>",
                            "<tr><td>42</td><td>Dead Presidents</td><td>1.9306883e-05</td></tr>",
                            "<tr><td>2503</td><td>Sib</td><td>1.9306883e-05</td></tr>",
                            "<tr><td>8947</td><td>The Grudge</td><td>1.9306883e-05</td></tr>",
                            "<tr><td>2683</td><td>Austin Powers: The Spy Who Shagged Me</td><td>1.9306883e-05</td></tr>",
                            "<tr><td>2502</td><td>Office Space</td><td>1.9306883e-05</td></tr>",
                            "<tr><td>480</td><td>Jurassic Park</td><td>1.9306883e-05</td></tr>",
                            "<tr><td>43419</td><td>Bandidas</td><td>1.9306883e-05</td></tr>",
                            "<tr><td>53519</td><td>Death Proof</td><td>1.9306883e-05</td></tr>",
                            "<tr><td>32029</td><td>Hostage</td><td>1.9306883e-05</td></tr>",
                            "<tr><td>7439</td><td>Punisher: War Zone</td><td>1.9306883e-05</td></tr>",
                            "<tr><td>6059</td><td>The Recruit</td><td>1.9306883e-05</td></tr>",
                            "<tr><td>37720</td><td>The Exorcism of Emily Rose</td><td>1.9306883e-05</td></tr>",
                            "<tr><td>585</td><td>The Brady Bunch Movie</td><td>1.9306883e-05</td></tr>",
                            "<tr><td>32300</td><td>D.E.B.S.</td><td>1.9306883e-05</td></tr>",
                            "<tr><td>4846</td><td>Siu nin Wong Fei Hung ji: Tit Ma Lau</td><td>1.9306883e-05</td></tr>",
                            "<tr><td>1218</td><td>Dip huet seung hung</td><td>1.9306883e-05</td></tr>",
                            "<tr><td>2184</td><td>The Trouble with Harry</td><td>1.9306883e-05</td></tr>",
                            "<tr><td>6659</td><td>Tremors</td><td>1.9306883e-05</td></tr>",
                            "<tr><td>4239</td><td>Blow</td><td>1.9306883e-05</td></tr>",
                            "<tr><td>1690</td><td>Alien³</td><td>1.9306883e-05</td></tr>",
                            "<tr><td>931</td><td>Spellbound</td><td>1.9306883e-05</td></tr>",
                            "<tr><td>2355</td><td>A Bug's Life</td><td>1.9306883e-05</td></tr>",
                            "<tr><td>5107</td><td>Hart's War</td><td>1.9306883e-05</td></tr>",
                            "<tr><td>49530</td><td>Blood Diamond</td><td>1.9306883e-05</td></tr>",
                            "<tr><td>2211</td><td>Secret Agent</td><td>1.9306883e-05</td></tr>",
                            "<tr><td>3730</td><td>The Conversation</td><td>1.9306883e-05</td></tr>",
                            "<tr><td>8972</td><td>National Treasure: Book of Secrets</td><td>1.9306883e-05</td></tr>",
                            "<tr><td>965</td><td>The 39 Steps</td><td>1.9306883e-05</td></tr>",
                            "<tr><td>3328</td><td>Ghost Dog: The Way of the Samurai</td><td>1.9306883e-05</td></tr>",
                            "<tr><td>733</td><td>The Rock</td><td>1.9306883e-05</td></tr>",
                            "<tr><td>50685</td><td>Waitress</td><td>1.9306883e-05</td></tr>",
                            "<tr><td>5602</td><td>The Ladykillers</td><td>1.9306883e-05</td></tr>",
                            "</table>"
                        ]
                    }
                }
            ],
            "execution_count": 98
        },
        {
            "cell_type": "code",
            "source": [
                "CREATE OR REPLACE VIEW actors_in_common AS\r\n",
                "    WITH actors_count AS (\r\n",
                "        SELECT COUNT(distinct name) \r\n",
                "        FROM actors\r\n",
                "    )\r\n",
                "    SELECT M2.mid, A2.title, A2.count::REAL / C.count::REAL AS actors_similarity\r\n",
                "    FROM actors_count C, movies M2 RIGHT JOIN (\r\n",
                "        SELECT M1.mid, M1.title, COUNT(A1.name)\r\n",
                "        FROM actors A1, movies M1\r\n",
                "        WHERE \r\n",
                "            A1.name IN (\r\n",
                "                SELECT A.name\r\n",
                "                FROM actors A, movies M\r\n",
                "                WHERE \r\n",
                "                    M.title = 'Mr. & Mrs. Smith' AND\r\n",
                "                    A.mid = M.mid\r\n",
                "            ) AND \r\n",
                "            M1.title != 'Mr. & Mrs. Smith' AND\r\n",
                "            A1.mid = M1.mid\r\n",
                "        GROUP BY M1.mid, M1.title\r\n",
                "        ORDER BY COUNT(A1.name) DESC\r\n",
                "    ) A2\r\n",
                "    ON A2.mid = M2.mid\r\n",
                "    ORDER BY actors_similarity DESC;\r\n",
                "\r\n",
                "SELECT * FROM actors_in_common;"
            ],
            "metadata": {
                "azdata_cell_guid": "c8df6e1f-2b67-4208-9643-b216272615aa",
                "tags": []
            },
            "outputs": [
                {
                    "output_type": "display_data",
                    "data": {
                        "text/html": "Commands completed successfully"
                    },
                    "metadata": {}
                },
                {
                    "output_type": "display_data",
                    "data": {
                        "text/html": "(203 row(s) affected)"
                    },
                    "metadata": {}
                },
                {
                    "output_type": "display_data",
                    "data": {
                        "text/html": "Total execution time: 00:00:00.813"
                    },
                    "metadata": {}
                },
                {
                    "output_type": "execute_result",
                    "metadata": {},
                    "execution_count": 101,
                    "data": {
                        "application/vnd.dataresource+json": {
                            "schema": {
                                "fields": [
                                    {
                                        "name": "mid"
                                    },
                                    {
                                        "name": "title"
                                    },
                                    {
                                        "name": "actors_similarity"
                                    }
                                ]
                            },
                            "data": [
                                {
                                    "0": "6616",
                                    "1": "Grind",
                                    "2": "2.099914e-05"
                                },
                                {
                                    "0": "8864",
                                    "1": "Mr 3000",
                                    "2": "2.099914e-05"
                                },
                                {
                                    "0": "93",
                                    "1": "Vampire in Brooklyn",
                                    "2": "1.049957e-05"
                                },
                                {
                                    "0": "156",
                                    "1": "Blue in the Face",
                                    "2": "1.049957e-05"
                                },
                                {
                                    "0": "159",
                                    "1": "Clockers",
                                    "2": "1.049957e-05"
                                },
                                {
                                    "0": "170",
                                    "1": "Hackers",
                                    "2": "1.049957e-05"
                                },
                                {
                                    "0": "198",
                                    "1": "Strange Days",
                                    "2": "1.049957e-05"
                                },
                                {
                                    "0": "253",
                                    "1": "Interview with the Vampire: The Vampire Chronicles",
                                    "2": "1.049957e-05"
                                },
                                {
                                    "0": "303",
                                    "1": "The Quick and the Dead",
                                    "2": "1.049957e-05"
                                },
                                {
                                    "0": "372",
                                    "1": "Reality Bites",
                                    "2": "1.049957e-05"
                                },
                                {
                                    "0": "384",
                                    "1": "Bad Company",
                                    "2": "1.049957e-05"
                                },
                                {
                                    "0": "447",
                                    "1": "The Favor",
                                    "2": "1.049957e-05"
                                },
                                {
                                    "0": "477",
                                    "1": "What's Love Got to Do with It",
                                    "2": "1.049957e-05"
                                },
                                {
                                    "0": "481",
                                    "1": "Kalifornia",
                                    "2": "1.049957e-05"
                                },
                                {
                                    "0": "512",
                                    "1": "The Puppet Masters",
                                    "2": "1.049957e-05"
                                },
                                {
                                    "0": "555",
                                    "1": "True Romance",
                                    "2": "1.049957e-05"
                                },
                                {
                                    "0": "648",
                                    "1": "Mission: Impossible III",
                                    "2": "1.049957e-05"
                                },
                                {
                                    "0": "813",
                                    "1": "Larger Than Life",
                                    "2": "1.049957e-05"
                                },
                                {
                                    "0": "835",
                                    "1": "Foxfire",
                                    "2": "1.049957e-05"
                                },
                                {
                                    "0": "930",
                                    "1": "Notorious",
                                    "2": "1.049957e-05"
                                },
                                {
                                    "0": "1045",
                                    "1": "Love Is All There Is",
                                    "2": "1.049957e-05"
                                },
                                {
                                    "0": "1060",
                                    "1": "Swingers",
                                    "2": "1.049957e-05"
                                },
                                {
                                    "0": "1061",
                                    "1": "Sleepers",
                                    "2": "1.049957e-05"
                                },
                                {
                                    "0": "1090",
                                    "1": "Platoon",
                                    "2": "1.049957e-05"
                                },
                                {
                                    "0": "1187",
                                    "1": "Passion Fish",
                                    "2": "1.049957e-05"
                                },
                                {
                                    "0": "1382",
                                    "1": "Marked for Death",
                                    "2": "1.049957e-05"
                                },
                                {
                                    "0": "1483",
                                    "1": "Crash",
                                    "2": "1.049957e-05"
                                },
                                {
                                    "0": "1488",
                                    "1": "The Devil's Own",
                                    "2": "1.049957e-05"
                                },
                                {
                                    "0": "1515",
                                    "1": "Volcano",
                                    "2": "1.049957e-05"
                                },
                                {
                                    "0": "1544",
                                    "1": "The Lost World: Jurassic Park",
                                    "2": "1.049957e-05"
                                },
                                {
                                    "0": "1584",
                                    "1": "Contact",
                                    "2": "1.049957e-05"
                                },
                                {
                                    "0": "1619",
                                    "1": "Seven Years in Tibet",
                                    "2": "1.049957e-05"
                                },
                                {
                                    "0": "1647",
                                    "1": "Playing God",
                                    "2": "1.049957e-05"
                                },
                                {
                                    "0": "1714",
                                    "1": "Never Met Picasso",
                                    "2": "1.049957e-05"
                                },
                                {
                                    "0": "1807",
                                    "1": "A Cool, Dry Place",
                                    "2": "1.049957e-05"
                                },
                                {
                                    "0": "1917",
                                    "1": "Armageddon",
                                    "2": "1.049957e-05"
                                },
                                {
                                    "0": "2148",
                                    "1": "\"House M.D.\"",
                                    "2": "1.049957e-05"
                                },
                                {
                                    "0": "2154",
                                    "1": "How Stella Got Her Groove Back",
                                    "2": "1.049957e-05"
                                },
                                {
                                    "0": "2166",
                                    "1": "Return to Paradise",
                                    "2": "1.049957e-05"
                                },
                                {
                                    "0": "2226",
                                    "1": "The Ring",
                                    "2": "1.049957e-05"
                                },
                                {
                                    "0": "2246",
                                    "1": "Stars and Bars",
                                    "2": "1.049957e-05"
                                },
                                {
                                    "0": "2280",
                                    "1": "Clay Pigeons",
                                    "2": "1.049957e-05"
                                },
                                {
                                    "0": "2288",
                                    "1": "The Thing",
                                    "2": "1.049957e-05"
                                },
                                {
                                    "0": "2328",
                                    "1": "Interview with the Vampire: The Vampire Chronicles",
                                    "2": "1.049957e-05"
                                },
                                {
                                    "0": "2340",
                                    "1": "Meet Joe Black",
                                    "2": "1.049957e-05"
                                },
                                {
                                    "0": "2443",
                                    "1": "Playing by Heart",
                                    "2": "1.049957e-05"
                                },
                                {
                                    "0": "2446",
                                    "1": "Requiem for a Dream",
                                    "2": "1.049957e-05"
                                },
                                {
                                    "0": "2508",
                                    "1": "The Break-Up",
                                    "2": "1.049957e-05"
                                },
                                {
                                    "0": "2598",
                                    "1": "Pushing Tin",
                                    "2": "1.049957e-05"
                                },
                                {
                                    "0": "2737",
                                    "1": "The Assassination of Jesse James by the Coward Robert Ford",
                                    "2": "1.049957e-05"
                                },
                                {
                                    "0": "2959",
                                    "1": "Fight Club",
                                    "2": "1.049957e-05"
                                },
                                {
                                    "0": "2996",
                                    "1": "Music of the Heart",
                                    "2": "1.049957e-05"
                                },
                                {
                                    "0": "3005",
                                    "1": "The Bone Collector",
                                    "2": "1.049957e-05"
                                },
                                {
                                    "0": "3100",
                                    "1": "A River Runs Through It",
                                    "2": "1.049957e-05"
                                },
                                {
                                    "0": "3110",
                                    "1": "North Country",
                                    "2": "1.049957e-05"
                                },
                                {
                                    "0": "3186",
                                    "1": "Girl, Interrupted",
                                    "2": "1.049957e-05"
                                },
                                {
                                    "0": "3190",
                                    "1": "Supernova",
                                    "2": "1.049957e-05"
                                },
                                {
                                    "0": "3246",
                                    "1": "Malcolm X",
                                    "2": "1.049957e-05"
                                },
                                {
                                    "0": "3280",
                                    "1": "Gone Baby Gone",
                                    "2": "1.049957e-05"
                                },
                                {
                                    "0": "3300",
                                    "1": "Pitch Black",
                                    "2": "1.049957e-05"
                                },
                                {
                                    "0": "3418",
                                    "1": "Thelma & Louise",
                                    "2": "1.049957e-05"
                                },
                                {
                                    "0": "3565",
                                    "1": "Where the Heart Is",
                                    "2": "1.049957e-05"
                                },
                                {
                                    "0": "3717",
                                    "1": "Gone in Sixty Seconds",
                                    "2": "1.049957e-05"
                                },
                                {
                                    "0": "3768",
                                    "1": "Braddock: Missing in Action III",
                                    "2": "1.049957e-05"
                                },
                                {
                                    "0": "3794",
                                    "1": "Chuck & Buck",
                                    "2": "1.049957e-05"
                                },
                                {
                                    "0": "3861",
                                    "1": "The Replacements",
                                    "2": "1.049957e-05"
                                },
                                {
                                    "0": "3863",
                                    "1": "The Cell",
                                    "2": "1.049957e-05"
                                },
                                {
                                    "0": "3884",
                                    "1": "Star Trek",
                                    "2": "1.049957e-05"
                                },
                                {
                                    "0": "3908",
                                    "1": "Urban Legends: Final Cut",
                                    "2": "1.049957e-05"
                                },
                                {
                                    "0": "3914",
                                    "1": "The Broken Hearts Club: A Romantic Comedy",
                                    "2": "1.049957e-05"
                                },
                                {
                                    "0": "3949",
                                    "1": "Requiem for a Dream",
                                    "2": "1.049957e-05"
                                },
                                {
                                    "0": "4011",
                                    "1": "Snatch.",
                                    "2": "1.049957e-05"
                                },
                                {
                                    "0": "4118",
                                    "1": "Hot Pursuit",
                                    "2": "1.049957e-05"
                                },
                                {
                                    "0": "4161",
                                    "1": "The Mexican",
                                    "2": "1.049957e-05"
                                },
                                {
                                    "0": "4277",
                                    "1": "The Lost World: Jurassic Park",
                                    "2": "1.049957e-05"
                                },
                                {
                                    "0": "4314",
                                    "1": "Our Song",
                                    "2": "1.049957e-05"
                                },
                                {
                                    "0": "4367",
                                    "1": "Lara Croft: Tomb Raider",
                                    "2": "1.049957e-05"
                                },
                                {
                                    "0": "4379",
                                    "1": "South of Heaven, West of Hell",
                                    "2": "1.049957e-05"
                                },
                                {
                                    "0": "4446",
                                    "1": "Final Fantasy: The Spirits Within",
                                    "2": "1.049957e-05"
                                },
                                {
                                    "0": "4448",
                                    "1": "The Score",
                                    "2": "1.049957e-05"
                                },
                                {
                                    "0": "4452",
                                    "1": "Made",
                                    "2": "1.049957e-05"
                                },
                                {
                                    "0": "4528",
                                    "1": "Off Limits",
                                    "2": "1.049957e-05"
                                },
                                {
                                    "0": "4553",
                                    "1": "They Live",
                                    "2": "1.049957e-05"
                                },
                                {
                                    "0": "4607",
                                    "1": "North Country",
                                    "2": "1.049957e-05"
                                },
                                {
                                    "0": "4654",
                                    "1": "Road House",
                                    "2": "1.049957e-05"
                                },
                                {
                                    "0": "4699",
                                    "1": "Original Sin",
                                    "2": "1.049957e-05"
                                },
                                {
                                    "0": "4753",
                                    "1": "Interview with the Vampire: The Vampire Chronicles",
                                    "2": "1.049957e-05"
                                },
                                {
                                    "0": "4816",
                                    "1": "Zoolander",
                                    "2": "1.049957e-05"
                                },
                                {
                                    "0": "4833",
                                    "1": "Changeling",
                                    "2": "1.049957e-05"
                                },
                                {
                                    "0": "4885",
                                    "1": "Domestic Disturbance",
                                    "2": "1.049957e-05"
                                },
                                {
                                    "0": "4898",
                                    "1": "Novocaine",
                                    "2": "1.049957e-05"
                                },
                                {
                                    "0": "4901",
                                    "1": "Spy Game",
                                    "2": "1.049957e-05"
                                },
                                {
                                    "0": "4954",
                                    "1": "Ocean's Eleven",
                                    "2": "1.049957e-05"
                                },
                                {
                                    "0": "4963",
                                    "1": "Ocean's Eleven",
                                    "2": "1.049957e-05"
                                },
                                {
                                    "0": "5062",
                                    "1": "Gone in Sixty Seconds",
                                    "2": "1.049957e-05"
                                },
                                {
                                    "0": "5118",
                                    "1": "The Heartbreak Kid",
                                    "2": "1.049957e-05"
                                },
                                {
                                    "0": "5161",
                                    "1": "Intersection",
                                    "2": "1.049957e-05"
                                },
                                {
                                    "0": "5172",
                                    "1": "Full Frontal",
                                    "2": "1.049957e-05"
                                },
                                {
                                    "0": "5324",
                                    "1": "Life or Something Like It",
                                    "2": "1.049957e-05"
                                },
                                {
                                    "0": "5364",
                                    "1": "Unfaithful",
                                    "2": "1.049957e-05"
                                },
                                {
                                    "0": "5414",
                                    "1": "Bad Company",
                                    "2": "1.049957e-05"
                                },
                                {
                                    "0": "5426",
                                    "1": "Bad Company",
                                    "2": "1.049957e-05"
                                },
                                {
                                    "0": "5438",
                                    "1": "Men at Work",
                                    "2": "1.049957e-05"
                                },
                                {
                                    "0": "5447",
                                    "1": "Sunshine State",
                                    "2": "1.049957e-05"
                                },
                                {
                                    "0": "5679",
                                    "1": "The Ring",
                                    "2": "1.049957e-05"
                                },
                                {
                                    "0": "5715",
                                    "1": "Burn After Reading",
                                    "2": "1.049957e-05"
                                },
                                {
                                    "0": "5895",
                                    "1": "Contact",
                                    "2": "1.049957e-05"
                                },
                                {
                                    "0": "6024",
                                    "1": "The Break-Up",
                                    "2": "1.049957e-05"
                                },
                                {
                                    "0": "6188",
                                    "1": "Old School",
                                    "2": "1.049957e-05"
                                },
                                {
                                    "0": "6265",
                                    "1": "Head of State",
                                    "2": "1.049957e-05"
                                },
                                {
                                    "0": "6321",
                                    "1": "How Stella Got Her Groove Back",
                                    "2": "1.049957e-05"
                                },
                                {
                                    "0": "6324",
                                    "1": "It Runs in the Family",
                                    "2": "1.049957e-05"
                                },
                                {
                                    "0": "6481",
                                    "1": "Where the Heart Is",
                                    "2": "1.049957e-05"
                                },
                                {
                                    "0": "6484",
                                    "1": "Hollywood Homicide",
                                    "2": "1.049957e-05"
                                },
                                {
                                    "0": "6536",
                                    "1": "Sinbad: Legend of the Seven Seas",
                                    "2": "1.049957e-05"
                                },
                                {
                                    "0": "6563",
                                    "1": "Masked and Anonymous",
                                    "2": "1.049957e-05"
                                },
                                {
                                    "0": "6564",
                                    "1": "Lara Croft Tomb Raider: The Cradle of Life",
                                    "2": "1.049957e-05"
                                },
                                {
                                    "0": "6624",
                                    "1": "Agent Cody Banks",
                                    "2": "1.049957e-05"
                                },
                                {
                                    "0": "6796",
                                    "1": "Boyz n the Hood",
                                    "2": "1.049957e-05"
                                },
                                {
                                    "0": "6841",
                                    "1": "Article 99",
                                    "2": "1.049957e-05"
                                },
                                {
                                    "0": "6886",
                                    "1": "Beyond Borders",
                                    "2": "1.049957e-05"
                                },
                                {
                                    "0": "6927",
                                    "1": "The Human Stain",
                                    "2": "1.049957e-05"
                                },
                                {
                                    "0": "6973",
                                    "1": "Final Analysis",
                                    "2": "1.049957e-05"
                                },
                                {
                                    "0": "7004",
                                    "1": "Kindergarten Cop",
                                    "2": "1.049957e-05"
                                },
                                {
                                    "0": "7112",
                                    "1": "Crash",
                                    "2": "1.049957e-05"
                                },
                                {
                                    "0": "7114",
                                    "1": "The Bone Collector",
                                    "2": "1.049957e-05"
                                },
                                {
                                    "0": "7228",
                                    "1": "Cool World",
                                    "2": "1.049957e-05"
                                },
                                {
                                    "0": "7276",
                                    "1": "Hell's Kitchen",
                                    "2": "1.049957e-05"
                                },
                                {
                                    "0": "7285",
                                    "1": "Ocean's Thirteen",
                                    "2": "1.049957e-05"
                                },
                                {
                                    "0": "7315",
                                    "1": "Against the Ropes",
                                    "2": "1.049957e-05"
                                },
                                {
                                    "0": "7325",
                                    "1": "Starsky & Hutch",
                                    "2": "1.049957e-05"
                                },
                                {
                                    "0": "7345",
                                    "1": "Agent Cody Banks 2: Destination London",
                                    "2": "1.049957e-05"
                                },
                                {
                                    "0": "7362",
                                    "1": "Taking Lives",
                                    "2": "1.049957e-05"
                                },
                                {
                                    "0": "7377",
                                    "1": "The United States of Leland",
                                    "2": "1.049957e-05"
                                },
                                {
                                    "0": "7404",
                                    "1": "Miracle at St. Anna",
                                    "2": "1.049957e-05"
                                },
                                {
                                    "0": "7458",
                                    "1": "Troy",
                                    "2": "1.049957e-05"
                                },
                                {
                                    "0": "8241",
                                    "1": "Megamind",
                                    "2": "1.049957e-05"
                                },
                                {
                                    "0": "8371",
                                    "1": "The Chronicles of Riddick",
                                    "2": "1.049957e-05"
                                },
                                {
                                    "0": "8528",
                                    "1": "Dodgeball: A True Underdog Story",
                                    "2": "1.049957e-05"
                                },
                                {
                                    "0": "8537",
                                    "1": "Kaena: La prophétie",
                                    "2": "1.049957e-05"
                                },
                                {
                                    "0": "8665",
                                    "1": "The Bourne Supremacy",
                                    "2": "1.049957e-05"
                                },
                                {
                                    "0": "8865",
                                    "1": "Sky Captain and the World of Tomorrow",
                                    "2": "1.049957e-05"
                                },
                                {
                                    "0": "8907",
                                    "1": "Shark Tale",
                                    "2": "1.049957e-05"
                                },
                                {
                                    "0": "8946",
                                    "1": "Surviving Christmas",
                                    "2": "1.049957e-05"
                                },
                                {
                                    "0": "8958",
                                    "1": "Ray",
                                    "2": "1.049957e-05"
                                },
                                {
                                    "0": "8977",
                                    "1": "Alexander",
                                    "2": "1.049957e-05"
                                },
                                {
                                    "0": "8984",
                                    "1": "Ocean's Twelve",
                                    "2": "1.049957e-05"
                                },
                                {
                                    "0": "9002",
                                    "1": "Alexander",
                                    "2": "1.049957e-05"
                                },
                                {
                                    "0": "25793",
                                    "1": "Interview with the Vampire: The Vampire Chronicles",
                                    "2": "1.049957e-05"
                                },
                                {
                                    "0": "25999",
                                    "1": "Into the Wild",
                                    "2": "1.049957e-05"
                                },
                                {
                                    "0": "26414",
                                    "1": "Wedding Crashers",
                                    "2": "1.049957e-05"
                                },
                                {
                                    "0": "27020",
                                    "1": "Gia",
                                    "2": "1.049957e-05"
                                },
                                {
                                    "0": "27864",
                                    "1": "She Hate Me",
                                    "2": "1.049957e-05"
                                },
                                {
                                    "0": "32019",
                                    "1": "Be Cool",
                                    "2": "1.049957e-05"
                                },
                                {
                                    "0": "32128",
                                    "1": "Blackball",
                                    "2": "1.049957e-05"
                                },
                                {
                                    "0": "32602",
                                    "1": "Winter Solstice",
                                    "2": "1.049957e-05"
                                },
                                {
                                    "0": "33166",
                                    "1": "Crash",
                                    "2": "1.049957e-05"
                                },
                                {
                                    "0": "34150",
                                    "1": "Fantastic Four",
                                    "2": "1.049957e-05"
                                },
                                {
                                    "0": "34162",
                                    "1": "Wedding Crashers",
                                    "2": "1.049957e-05"
                                },
                                {
                                    "0": "36537",
                                    "1": "Thumbsucker",
                                    "2": "1.049957e-05"
                                },
                                {
                                    "0": "38061",
                                    "1": "Kiss Kiss Bang Bang",
                                    "2": "1.049957e-05"
                                },
                                {
                                    "0": "39234",
                                    "1": "North Country",
                                    "2": "1.049957e-05"
                                },
                                {
                                    "0": "40583",
                                    "1": "Syriana",
                                    "2": "1.049957e-05"
                                },
                                {
                                    "0": "42013",
                                    "1": "The Ring",
                                    "2": "1.049957e-05"
                                },
                                {
                                    "0": "44195",
                                    "1": "Thank You for Smoking",
                                    "2": "1.049957e-05"
                                },
                                {
                                    "0": "44709",
                                    "1": "Akeelah and the Bee",
                                    "2": "1.049957e-05"
                                },
                                {
                                    "0": "44815",
                                    "1": "ATL",
                                    "2": "1.049957e-05"
                                },
                                {
                                    "0": "45186",
                                    "1": "Mission: Impossible III",
                                    "2": "1.049957e-05"
                                },
                                {
                                    "0": "45501",
                                    "1": "The Break-Up",
                                    "2": "1.049957e-05"
                                },
                                {
                                    "0": "46574",
                                    "1": "The Oh in Ohio",
                                    "2": "1.049957e-05"
                                },
                                {
                                    "0": "46723",
                                    "1": "Babel",
                                    "2": "1.049957e-05"
                                },
                                {
                                    "0": "46865",
                                    "1": "Little Man",
                                    "2": "1.049957e-05"
                                },
                                {
                                    "0": "47956",
                                    "1": "The Assassination of Jesse James by the Coward Robert Ford",
                                    "2": "1.049957e-05"
                                },
                                {
                                    "0": "48738",
                                    "1": "The Last King of Scotland",
                                    "2": "1.049957e-05"
                                },
                                {
                                    "0": "49822",
                                    "1": "The Good Shepherd",
                                    "2": "1.049957e-05"
                                },
                                {
                                    "0": "52287",
                                    "1": "Meet the Robinsons",
                                    "2": "1.049957e-05"
                                },
                                {
                                    "0": "52668",
                                    "1": "In the Land of Women",
                                    "2": "1.049957e-05"
                                },
                                {
                                    "0": "53004",
                                    "1": "Delta Farce",
                                    "2": "1.049957e-05"
                                },
                                {
                                    "0": "53131",
                                    "1": "4: Rise of the Silver Surfer",
                                    "2": "1.049957e-05"
                                },
                                {
                                    "0": "53322",
                                    "1": "Ocean's Thirteen",
                                    "2": "1.049957e-05"
                                },
                                {
                                    "0": "53464",
                                    "1": "4: Rise of the Silver Surfer",
                                    "2": "1.049957e-05"
                                },
                                {
                                    "0": "53921",
                                    "1": "A Mighty Heart",
                                    "2": "1.049957e-05"
                                },
                                {
                                    "0": "55247",
                                    "1": "Into the Wild",
                                    "2": "1.049957e-05"
                                },
                                {
                                    "0": "55261",
                                    "1": "The Heartbreak Kid",
                                    "2": "1.049957e-05"
                                },
                                {
                                    "0": "55290",
                                    "1": "Gone Baby Gone",
                                    "2": "1.049957e-05"
                                },
                                {
                                    "0": "55363",
                                    "1": "The Assassination of Jesse James by the Coward Robert Ford",
                                    "2": "1.049957e-05"
                                },
                                {
                                    "0": "55603",
                                    "1": "My Mom's New Boyfriend",
                                    "2": "1.049957e-05"
                                },
                                {
                                    "0": "55955",
                                    "1": "Fred Claus",
                                    "2": "1.049957e-05"
                                },
                                {
                                    "0": "55995",
                                    "1": "Beowulf",
                                    "2": "1.049957e-05"
                                },
                                {
                                    "0": "59014",
                                    "1": "Superhero Movie",
                                    "2": "1.049957e-05"
                                },
                                {
                                    "0": "59333",
                                    "1": "Made of Honor",
                                    "2": "1.049957e-05"
                                },
                                {
                                    "0": "59784",
                                    "1": "Kung Fu Panda",
                                    "2": "1.049957e-05"
                                },
                                {
                                    "0": "60072",
                                    "1": "Wanted",
                                    "2": "1.049957e-05"
                                },
                                {
                                    "0": "61323",
                                    "1": "Burn After Reading",
                                    "2": "1.049957e-05"
                                },
                                {
                                    "0": "61705",
                                    "1": "Lakeview Terrace",
                                    "2": "1.049957e-05"
                                },
                                {
                                    "0": "61991",
                                    "1": "Miracle at St. Anna",
                                    "2": "1.049957e-05"
                                },
                                {
                                    "0": "62081",
                                    "1": "Eagle Eye",
                                    "2": "1.049957e-05"
                                },
                                {
                                    "0": "63062",
                                    "1": "Changeling",
                                    "2": "1.049957e-05"
                                },
                                {
                                    "0": "63458",
                                    "1": "Critters 4",
                                    "2": "1.049957e-05"
                                },
                                {
                                    "0": "64032",
                                    "1": "Four Christmases",
                                    "2": "1.049957e-05"
                                },
                                {
                                    "0": "4",
                                    "1": "Waiting to Exhale",
                                    "2": "1.049957e-05"
                                },
                                {
                                    "0": "64957",
                                    "1": "The Curious Case of Benjamin Button",
                                    "2": "1.049957e-05"
                                },
                                {
                                    "0": "42",
                                    "1": "Dead Presidents",
                                    "2": "1.049957e-05"
                                }
                            ]
                        },
                        "text/html": [
                            "<table>",
                            "<tr><th>mid</th><th>title</th><th>actors_similarity</th></tr>",
                            "<tr><td>6616</td><td>Grind</td><td>2.099914e-05</td></tr>",
                            "<tr><td>8864</td><td>Mr 3000</td><td>2.099914e-05</td></tr>",
                            "<tr><td>93</td><td>Vampire in Brooklyn</td><td>1.049957e-05</td></tr>",
                            "<tr><td>156</td><td>Blue in the Face</td><td>1.049957e-05</td></tr>",
                            "<tr><td>159</td><td>Clockers</td><td>1.049957e-05</td></tr>",
                            "<tr><td>170</td><td>Hackers</td><td>1.049957e-05</td></tr>",
                            "<tr><td>198</td><td>Strange Days</td><td>1.049957e-05</td></tr>",
                            "<tr><td>253</td><td>Interview with the Vampire: The Vampire Chronicles</td><td>1.049957e-05</td></tr>",
                            "<tr><td>303</td><td>The Quick and the Dead</td><td>1.049957e-05</td></tr>",
                            "<tr><td>372</td><td>Reality Bites</td><td>1.049957e-05</td></tr>",
                            "<tr><td>384</td><td>Bad Company</td><td>1.049957e-05</td></tr>",
                            "<tr><td>447</td><td>The Favor</td><td>1.049957e-05</td></tr>",
                            "<tr><td>477</td><td>What's Love Got to Do with It</td><td>1.049957e-05</td></tr>",
                            "<tr><td>481</td><td>Kalifornia</td><td>1.049957e-05</td></tr>",
                            "<tr><td>512</td><td>The Puppet Masters</td><td>1.049957e-05</td></tr>",
                            "<tr><td>555</td><td>True Romance</td><td>1.049957e-05</td></tr>",
                            "<tr><td>648</td><td>Mission: Impossible III</td><td>1.049957e-05</td></tr>",
                            "<tr><td>813</td><td>Larger Than Life</td><td>1.049957e-05</td></tr>",
                            "<tr><td>835</td><td>Foxfire</td><td>1.049957e-05</td></tr>",
                            "<tr><td>930</td><td>Notorious</td><td>1.049957e-05</td></tr>",
                            "<tr><td>1045</td><td>Love Is All There Is</td><td>1.049957e-05</td></tr>",
                            "<tr><td>1060</td><td>Swingers</td><td>1.049957e-05</td></tr>",
                            "<tr><td>1061</td><td>Sleepers</td><td>1.049957e-05</td></tr>",
                            "<tr><td>1090</td><td>Platoon</td><td>1.049957e-05</td></tr>",
                            "<tr><td>1187</td><td>Passion Fish</td><td>1.049957e-05</td></tr>",
                            "<tr><td>1382</td><td>Marked for Death</td><td>1.049957e-05</td></tr>",
                            "<tr><td>1483</td><td>Crash</td><td>1.049957e-05</td></tr>",
                            "<tr><td>1488</td><td>The Devil's Own</td><td>1.049957e-05</td></tr>",
                            "<tr><td>1515</td><td>Volcano</td><td>1.049957e-05</td></tr>",
                            "<tr><td>1544</td><td>The Lost World: Jurassic Park</td><td>1.049957e-05</td></tr>",
                            "<tr><td>1584</td><td>Contact</td><td>1.049957e-05</td></tr>",
                            "<tr><td>1619</td><td>Seven Years in Tibet</td><td>1.049957e-05</td></tr>",
                            "<tr><td>1647</td><td>Playing God</td><td>1.049957e-05</td></tr>",
                            "<tr><td>1714</td><td>Never Met Picasso</td><td>1.049957e-05</td></tr>",
                            "<tr><td>1807</td><td>A Cool, Dry Place</td><td>1.049957e-05</td></tr>",
                            "<tr><td>1917</td><td>Armageddon</td><td>1.049957e-05</td></tr>",
                            "<tr><td>2148</td><td>&quot;House M.D.&quot;</td><td>1.049957e-05</td></tr>",
                            "<tr><td>2154</td><td>How Stella Got Her Groove Back</td><td>1.049957e-05</td></tr>",
                            "<tr><td>2166</td><td>Return to Paradise</td><td>1.049957e-05</td></tr>",
                            "<tr><td>2226</td><td>The Ring</td><td>1.049957e-05</td></tr>",
                            "<tr><td>2246</td><td>Stars and Bars</td><td>1.049957e-05</td></tr>",
                            "<tr><td>2280</td><td>Clay Pigeons</td><td>1.049957e-05</td></tr>",
                            "<tr><td>2288</td><td>The Thing</td><td>1.049957e-05</td></tr>",
                            "<tr><td>2328</td><td>Interview with the Vampire: The Vampire Chronicles</td><td>1.049957e-05</td></tr>",
                            "<tr><td>2340</td><td>Meet Joe Black</td><td>1.049957e-05</td></tr>",
                            "<tr><td>2443</td><td>Playing by Heart</td><td>1.049957e-05</td></tr>",
                            "<tr><td>2446</td><td>Requiem for a Dream</td><td>1.049957e-05</td></tr>",
                            "<tr><td>2508</td><td>The Break-Up</td><td>1.049957e-05</td></tr>",
                            "<tr><td>2598</td><td>Pushing Tin</td><td>1.049957e-05</td></tr>",
                            "<tr><td>2737</td><td>The Assassination of Jesse James by the Coward Robert Ford</td><td>1.049957e-05</td></tr>",
                            "<tr><td>2959</td><td>Fight Club</td><td>1.049957e-05</td></tr>",
                            "<tr><td>2996</td><td>Music of the Heart</td><td>1.049957e-05</td></tr>",
                            "<tr><td>3005</td><td>The Bone Collector</td><td>1.049957e-05</td></tr>",
                            "<tr><td>3100</td><td>A River Runs Through It</td><td>1.049957e-05</td></tr>",
                            "<tr><td>3110</td><td>North Country</td><td>1.049957e-05</td></tr>",
                            "<tr><td>3186</td><td>Girl, Interrupted</td><td>1.049957e-05</td></tr>",
                            "<tr><td>3190</td><td>Supernova</td><td>1.049957e-05</td></tr>",
                            "<tr><td>3246</td><td>Malcolm X</td><td>1.049957e-05</td></tr>",
                            "<tr><td>3280</td><td>Gone Baby Gone</td><td>1.049957e-05</td></tr>",
                            "<tr><td>3300</td><td>Pitch Black</td><td>1.049957e-05</td></tr>",
                            "<tr><td>3418</td><td>Thelma &amp; Louise</td><td>1.049957e-05</td></tr>",
                            "<tr><td>3565</td><td>Where the Heart Is</td><td>1.049957e-05</td></tr>",
                            "<tr><td>3717</td><td>Gone in Sixty Seconds</td><td>1.049957e-05</td></tr>",
                            "<tr><td>3768</td><td>Braddock: Missing in Action III</td><td>1.049957e-05</td></tr>",
                            "<tr><td>3794</td><td>Chuck &amp; Buck</td><td>1.049957e-05</td></tr>",
                            "<tr><td>3861</td><td>The Replacements</td><td>1.049957e-05</td></tr>",
                            "<tr><td>3863</td><td>The Cell</td><td>1.049957e-05</td></tr>",
                            "<tr><td>3884</td><td>Star Trek</td><td>1.049957e-05</td></tr>",
                            "<tr><td>3908</td><td>Urban Legends: Final Cut</td><td>1.049957e-05</td></tr>",
                            "<tr><td>3914</td><td>The Broken Hearts Club: A Romantic Comedy</td><td>1.049957e-05</td></tr>",
                            "<tr><td>3949</td><td>Requiem for a Dream</td><td>1.049957e-05</td></tr>",
                            "<tr><td>4011</td><td>Snatch.</td><td>1.049957e-05</td></tr>",
                            "<tr><td>4118</td><td>Hot Pursuit</td><td>1.049957e-05</td></tr>",
                            "<tr><td>4161</td><td>The Mexican</td><td>1.049957e-05</td></tr>",
                            "<tr><td>4277</td><td>The Lost World: Jurassic Park</td><td>1.049957e-05</td></tr>",
                            "<tr><td>4314</td><td>Our Song</td><td>1.049957e-05</td></tr>",
                            "<tr><td>4367</td><td>Lara Croft: Tomb Raider</td><td>1.049957e-05</td></tr>",
                            "<tr><td>4379</td><td>South of Heaven, West of Hell</td><td>1.049957e-05</td></tr>",
                            "<tr><td>4446</td><td>Final Fantasy: The Spirits Within</td><td>1.049957e-05</td></tr>",
                            "<tr><td>4448</td><td>The Score</td><td>1.049957e-05</td></tr>",
                            "<tr><td>4452</td><td>Made</td><td>1.049957e-05</td></tr>",
                            "<tr><td>4528</td><td>Off Limits</td><td>1.049957e-05</td></tr>",
                            "<tr><td>4553</td><td>They Live</td><td>1.049957e-05</td></tr>",
                            "<tr><td>4607</td><td>North Country</td><td>1.049957e-05</td></tr>",
                            "<tr><td>4654</td><td>Road House</td><td>1.049957e-05</td></tr>",
                            "<tr><td>4699</td><td>Original Sin</td><td>1.049957e-05</td></tr>",
                            "<tr><td>4753</td><td>Interview with the Vampire: The Vampire Chronicles</td><td>1.049957e-05</td></tr>",
                            "<tr><td>4816</td><td>Zoolander</td><td>1.049957e-05</td></tr>",
                            "<tr><td>4833</td><td>Changeling</td><td>1.049957e-05</td></tr>",
                            "<tr><td>4885</td><td>Domestic Disturbance</td><td>1.049957e-05</td></tr>",
                            "<tr><td>4898</td><td>Novocaine</td><td>1.049957e-05</td></tr>",
                            "<tr><td>4901</td><td>Spy Game</td><td>1.049957e-05</td></tr>",
                            "<tr><td>4954</td><td>Ocean's Eleven</td><td>1.049957e-05</td></tr>",
                            "<tr><td>4963</td><td>Ocean's Eleven</td><td>1.049957e-05</td></tr>",
                            "<tr><td>5062</td><td>Gone in Sixty Seconds</td><td>1.049957e-05</td></tr>",
                            "<tr><td>5118</td><td>The Heartbreak Kid</td><td>1.049957e-05</td></tr>",
                            "<tr><td>5161</td><td>Intersection</td><td>1.049957e-05</td></tr>",
                            "<tr><td>5172</td><td>Full Frontal</td><td>1.049957e-05</td></tr>",
                            "<tr><td>5324</td><td>Life or Something Like It</td><td>1.049957e-05</td></tr>",
                            "<tr><td>5364</td><td>Unfaithful</td><td>1.049957e-05</td></tr>",
                            "<tr><td>5414</td><td>Bad Company</td><td>1.049957e-05</td></tr>",
                            "<tr><td>5426</td><td>Bad Company</td><td>1.049957e-05</td></tr>",
                            "<tr><td>5438</td><td>Men at Work</td><td>1.049957e-05</td></tr>",
                            "<tr><td>5447</td><td>Sunshine State</td><td>1.049957e-05</td></tr>",
                            "<tr><td>5679</td><td>The Ring</td><td>1.049957e-05</td></tr>",
                            "<tr><td>5715</td><td>Burn After Reading</td><td>1.049957e-05</td></tr>",
                            "<tr><td>5895</td><td>Contact</td><td>1.049957e-05</td></tr>",
                            "<tr><td>6024</td><td>The Break-Up</td><td>1.049957e-05</td></tr>",
                            "<tr><td>6188</td><td>Old School</td><td>1.049957e-05</td></tr>",
                            "<tr><td>6265</td><td>Head of State</td><td>1.049957e-05</td></tr>",
                            "<tr><td>6321</td><td>How Stella Got Her Groove Back</td><td>1.049957e-05</td></tr>",
                            "<tr><td>6324</td><td>It Runs in the Family</td><td>1.049957e-05</td></tr>",
                            "<tr><td>6481</td><td>Where the Heart Is</td><td>1.049957e-05</td></tr>",
                            "<tr><td>6484</td><td>Hollywood Homicide</td><td>1.049957e-05</td></tr>",
                            "<tr><td>6536</td><td>Sinbad: Legend of the Seven Seas</td><td>1.049957e-05</td></tr>",
                            "<tr><td>6563</td><td>Masked and Anonymous</td><td>1.049957e-05</td></tr>",
                            "<tr><td>6564</td><td>Lara Croft Tomb Raider: The Cradle of Life</td><td>1.049957e-05</td></tr>",
                            "<tr><td>6624</td><td>Agent Cody Banks</td><td>1.049957e-05</td></tr>",
                            "<tr><td>6796</td><td>Boyz n the Hood</td><td>1.049957e-05</td></tr>",
                            "<tr><td>6841</td><td>Article 99</td><td>1.049957e-05</td></tr>",
                            "<tr><td>6886</td><td>Beyond Borders</td><td>1.049957e-05</td></tr>",
                            "<tr><td>6927</td><td>The Human Stain</td><td>1.049957e-05</td></tr>",
                            "<tr><td>6973</td><td>Final Analysis</td><td>1.049957e-05</td></tr>",
                            "<tr><td>7004</td><td>Kindergarten Cop</td><td>1.049957e-05</td></tr>",
                            "<tr><td>7112</td><td>Crash</td><td>1.049957e-05</td></tr>",
                            "<tr><td>7114</td><td>The Bone Collector</td><td>1.049957e-05</td></tr>",
                            "<tr><td>7228</td><td>Cool World</td><td>1.049957e-05</td></tr>",
                            "<tr><td>7276</td><td>Hell's Kitchen</td><td>1.049957e-05</td></tr>",
                            "<tr><td>7285</td><td>Ocean's Thirteen</td><td>1.049957e-05</td></tr>",
                            "<tr><td>7315</td><td>Against the Ropes</td><td>1.049957e-05</td></tr>",
                            "<tr><td>7325</td><td>Starsky &amp; Hutch</td><td>1.049957e-05</td></tr>",
                            "<tr><td>7345</td><td>Agent Cody Banks 2: Destination London</td><td>1.049957e-05</td></tr>",
                            "<tr><td>7362</td><td>Taking Lives</td><td>1.049957e-05</td></tr>",
                            "<tr><td>7377</td><td>The United States of Leland</td><td>1.049957e-05</td></tr>",
                            "<tr><td>7404</td><td>Miracle at St. Anna</td><td>1.049957e-05</td></tr>",
                            "<tr><td>7458</td><td>Troy</td><td>1.049957e-05</td></tr>",
                            "<tr><td>8241</td><td>Megamind</td><td>1.049957e-05</td></tr>",
                            "<tr><td>8371</td><td>The Chronicles of Riddick</td><td>1.049957e-05</td></tr>",
                            "<tr><td>8528</td><td>Dodgeball: A True Underdog Story</td><td>1.049957e-05</td></tr>",
                            "<tr><td>8537</td><td>Kaena: La prophétie</td><td>1.049957e-05</td></tr>",
                            "<tr><td>8665</td><td>The Bourne Supremacy</td><td>1.049957e-05</td></tr>",
                            "<tr><td>8865</td><td>Sky Captain and the World of Tomorrow</td><td>1.049957e-05</td></tr>",
                            "<tr><td>8907</td><td>Shark Tale</td><td>1.049957e-05</td></tr>",
                            "<tr><td>8946</td><td>Surviving Christmas</td><td>1.049957e-05</td></tr>",
                            "<tr><td>8958</td><td>Ray</td><td>1.049957e-05</td></tr>",
                            "<tr><td>8977</td><td>Alexander</td><td>1.049957e-05</td></tr>",
                            "<tr><td>8984</td><td>Ocean's Twelve</td><td>1.049957e-05</td></tr>",
                            "<tr><td>9002</td><td>Alexander</td><td>1.049957e-05</td></tr>",
                            "<tr><td>25793</td><td>Interview with the Vampire: The Vampire Chronicles</td><td>1.049957e-05</td></tr>",
                            "<tr><td>25999</td><td>Into the Wild</td><td>1.049957e-05</td></tr>",
                            "<tr><td>26414</td><td>Wedding Crashers</td><td>1.049957e-05</td></tr>",
                            "<tr><td>27020</td><td>Gia</td><td>1.049957e-05</td></tr>",
                            "<tr><td>27864</td><td>She Hate Me</td><td>1.049957e-05</td></tr>",
                            "<tr><td>32019</td><td>Be Cool</td><td>1.049957e-05</td></tr>",
                            "<tr><td>32128</td><td>Blackball</td><td>1.049957e-05</td></tr>",
                            "<tr><td>32602</td><td>Winter Solstice</td><td>1.049957e-05</td></tr>",
                            "<tr><td>33166</td><td>Crash</td><td>1.049957e-05</td></tr>",
                            "<tr><td>34150</td><td>Fantastic Four</td><td>1.049957e-05</td></tr>",
                            "<tr><td>34162</td><td>Wedding Crashers</td><td>1.049957e-05</td></tr>",
                            "<tr><td>36537</td><td>Thumbsucker</td><td>1.049957e-05</td></tr>",
                            "<tr><td>38061</td><td>Kiss Kiss Bang Bang</td><td>1.049957e-05</td></tr>",
                            "<tr><td>39234</td><td>North Country</td><td>1.049957e-05</td></tr>",
                            "<tr><td>40583</td><td>Syriana</td><td>1.049957e-05</td></tr>",
                            "<tr><td>42013</td><td>The Ring</td><td>1.049957e-05</td></tr>",
                            "<tr><td>44195</td><td>Thank You for Smoking</td><td>1.049957e-05</td></tr>",
                            "<tr><td>44709</td><td>Akeelah and the Bee</td><td>1.049957e-05</td></tr>",
                            "<tr><td>44815</td><td>ATL</td><td>1.049957e-05</td></tr>",
                            "<tr><td>45186</td><td>Mission: Impossible III</td><td>1.049957e-05</td></tr>",
                            "<tr><td>45501</td><td>The Break-Up</td><td>1.049957e-05</td></tr>",
                            "<tr><td>46574</td><td>The Oh in Ohio</td><td>1.049957e-05</td></tr>",
                            "<tr><td>46723</td><td>Babel</td><td>1.049957e-05</td></tr>",
                            "<tr><td>46865</td><td>Little Man</td><td>1.049957e-05</td></tr>",
                            "<tr><td>47956</td><td>The Assassination of Jesse James by the Coward Robert Ford</td><td>1.049957e-05</td></tr>",
                            "<tr><td>48738</td><td>The Last King of Scotland</td><td>1.049957e-05</td></tr>",
                            "<tr><td>49822</td><td>The Good Shepherd</td><td>1.049957e-05</td></tr>",
                            "<tr><td>52287</td><td>Meet the Robinsons</td><td>1.049957e-05</td></tr>",
                            "<tr><td>52668</td><td>In the Land of Women</td><td>1.049957e-05</td></tr>",
                            "<tr><td>53004</td><td>Delta Farce</td><td>1.049957e-05</td></tr>",
                            "<tr><td>53131</td><td>4: Rise of the Silver Surfer</td><td>1.049957e-05</td></tr>",
                            "<tr><td>53322</td><td>Ocean's Thirteen</td><td>1.049957e-05</td></tr>",
                            "<tr><td>53464</td><td>4: Rise of the Silver Surfer</td><td>1.049957e-05</td></tr>",
                            "<tr><td>53921</td><td>A Mighty Heart</td><td>1.049957e-05</td></tr>",
                            "<tr><td>55247</td><td>Into the Wild</td><td>1.049957e-05</td></tr>",
                            "<tr><td>55261</td><td>The Heartbreak Kid</td><td>1.049957e-05</td></tr>",
                            "<tr><td>55290</td><td>Gone Baby Gone</td><td>1.049957e-05</td></tr>",
                            "<tr><td>55363</td><td>The Assassination of Jesse James by the Coward Robert Ford</td><td>1.049957e-05</td></tr>",
                            "<tr><td>55603</td><td>My Mom's New Boyfriend</td><td>1.049957e-05</td></tr>",
                            "<tr><td>55955</td><td>Fred Claus</td><td>1.049957e-05</td></tr>",
                            "<tr><td>55995</td><td>Beowulf</td><td>1.049957e-05</td></tr>",
                            "<tr><td>59014</td><td>Superhero Movie</td><td>1.049957e-05</td></tr>",
                            "<tr><td>59333</td><td>Made of Honor</td><td>1.049957e-05</td></tr>",
                            "<tr><td>59784</td><td>Kung Fu Panda</td><td>1.049957e-05</td></tr>",
                            "<tr><td>60072</td><td>Wanted</td><td>1.049957e-05</td></tr>",
                            "<tr><td>61323</td><td>Burn After Reading</td><td>1.049957e-05</td></tr>",
                            "<tr><td>61705</td><td>Lakeview Terrace</td><td>1.049957e-05</td></tr>",
                            "<tr><td>61991</td><td>Miracle at St. Anna</td><td>1.049957e-05</td></tr>",
                            "<tr><td>62081</td><td>Eagle Eye</td><td>1.049957e-05</td></tr>",
                            "<tr><td>63062</td><td>Changeling</td><td>1.049957e-05</td></tr>",
                            "<tr><td>63458</td><td>Critters 4</td><td>1.049957e-05</td></tr>",
                            "<tr><td>64032</td><td>Four Christmases</td><td>1.049957e-05</td></tr>",
                            "<tr><td>4</td><td>Waiting to Exhale</td><td>1.049957e-05</td></tr>",
                            "<tr><td>64957</td><td>The Curious Case of Benjamin Button</td><td>1.049957e-05</td></tr>",
                            "<tr><td>42</td><td>Dead Presidents</td><td>1.049957e-05</td></tr>",
                            "</table>"
                        ]
                    }
                }
            ],
            "execution_count": 101
        },
        {
            "cell_type": "code",
            "source": [
                "CREATE OR REPLACE VIEW genres_in_common AS\r\n",
                "    WITH genres_count AS (\r\n",
                "        SELECT COUNT(distinct genre) \r\n",
                "        FROM genres\r\n",
                "    )\r\n",
                "    SELECT M2.mid, G2.title, G2.count::REAL / C.count::REAL AS genres_similarity\r\n",
                "    FROM genres_count C, movies M2 RIGHT JOIN(\r\n",
                "        SELECT M1.mid, M1.title, COUNT(G1.genre)\r\n",
                "        FROM genres G1, movies M1\r\n",
                "        WHERE \r\n",
                "            G1.genre IN (\r\n",
                "                SELECT G.genre\r\n",
                "                FROM genres G, movies M\r\n",
                "                WHERE \r\n",
                "                    M.title = 'Mr. & Mrs. Smith' AND\r\n",
                "                    G.mid = M.mid\r\n",
                "            ) AND \r\n",
                "            M1.title != 'Mr. & Mrs. Smith' AND\r\n",
                "            G1.mid = M1.mid\r\n",
                "        GROUP BY M1.mid, M1.title\r\n",
                "        ORDER BY COUNT(G1.genre) DESC\r\n",
                "    ) G2\r\n",
                "    ON G2.mid = M2.mid\r\n",
                "    ORDER BY genres_similarity DESC;\r\n",
                "\r\n",
                "SELECT * FROM genres_in_common;"
            ],
            "metadata": {
                "azdata_cell_guid": "717d1611-1db7-4558-a952-f74c061cef23",
                "tags": []
            },
            "outputs": [],
            "execution_count": null
        },
        {
            "cell_type": "code",
            "source": [
                "CREATE OR REPLACE FUNCTION norm1(REAL) RETURNS REAL\r\n",
                "    AS \r\n",
                "        $$\r\n",
                "        DECLARE normal1 REAL;\r\n",
                "        BEGIN\r\n",
                "            SELECT (($1 - 2005) / (MAX(M.year) - MIN(M.year))) INTO normal1\r\n",
                "            FROM movies M;\r\n",
                "\r\n",
                "            RETURN normal1;\r\n",
                "        END;\r\n",
                "        $$\r\n",
                "    LANGUAGE plpgsql;\r\n",
                "\r\n",
                "CREATE OR REPLACE VIEW age_gap AS\r\n",
                "    SELECT M1.mid, M1.title, norm1(M1.year::REAL) as ageGap\r\n",
                "    FROM movies M1\r\n",
                "    GROUP BY M1.mid, M1.title, M1.year\r\n",
                "    ORDER BY ageGap ASC;\r\n",
                "\r\n",
                "SELECT * FROM age_gap;"
            ],
            "metadata": {
                "azdata_cell_guid": "5baa152c-6afd-4d92-9191-d7c449fdfb43"
            },
            "outputs": [],
            "execution_count": null
        },
        {
            "cell_type": "code",
            "source": [
                "CREATE OR REPLACE FUNCTION norm2(REAL) RETURNS REAL\n",
                "    AS \n",
                "        $$\n",
                "        DECLARE normal2 REAL;\n",
                "        BEGIN\n",
                "            SELECT (($1 - 3.4) / (MAX(M.rating) - MIN(M.rating))) INTO normal2\n",
                "            FROM movies M;\n",
                "\n",
                "            RETURN normal2;\n",
                "        END;\n",
                "        $$\n",
                "    LANGUAGE plpgsql;\n",
                "\n",
                "CREATE OR REPLACE VIEW rating_gap AS\n",
                "    SELECT M1.mid, M1.title, norm2(M1.rating::REAL) as ratingGap\n",
                "    FROM movies M1\n",
                "    GROUP BY M1.mid, M1.title, M1.rating\n",
                "    ORDER BY ratingGap ASC;\n",
                "\n",
                "SELECT * FROM rating_gap;"
            ],
            "metadata": {
                "azdata_cell_guid": "3986bd2a-0ad1-4c62-964d-6eeddc2d287f",
                "tags": []
            },
            "outputs": [],
            "execution_count": null
        },
        {
            "cell_type": "code",
            "source": [
                "SELECT M.title, ((tags_similarity + actors_similarity + genres_similarity + ageGap + ratingGap)/5)*100 AS movie_similarity\n",
                "FROM tags_in_common, actors_in_common, genres_in_common, age_gap, rating_gap, movies M\n",
                "WHERE \n",
                "    tags_in_common.mid = actors_in_common.mid AND\n",
                "    actors_in_common.mid = genres_in_common.mid AND\n",
                "    genres_in_common.mid = age_gap.mid AND\n",
                "    age_gap.mid = rating_gap.mid AND\n",
                "    rating_gap.mid = M.mid\n",
                "ORDER BY movie_similarity DESC\n",
                "LIMIT 10;"
            ],
            "metadata": {
                "azdata_cell_guid": "28cdf65b-3792-424b-959e-fc021f5b048a"
            },
            "outputs": [
{
    "output_type": "display_data",
    "data": {
        "text/html": "(10 row(s) affected)"
    },
    "metadata": {}
}, {
    "output_type": "display_data",
    "data": {
        "text/html": "Total execution time: 00:00:12.301"
    },
    "metadata": {}
}, {
    "output_type": "execute_result",
    "metadata": {},
    "execution_count": 112,
    "data": {
        "application/vnd.dataresource+json": {
            "schema": {
                "fields": [
                    {
                        "name": "title"
                    },
                    {
                        "name": "movie_similarity"
                    }
                ]
            },
            "data": [
                {
                    "0": "The Bourne Supremacy",
                    "1": "4.816184043884277"
                },
                {
                    "0": "Snatch.",
                    "1": "4.475056529045105"
                },
                {
                    "0": "Fight Club",
                    "1": "4.090642929077148"
                },
                {
                    "0": "Wanted",
                    "1": "3.7561517953872676"
                },
                {
                    "0": "Notorious",
                    "1": "3.5413363575935364"
                },
                {
                    "0": "Lara Croft Tomb Raider: The Cradle of Life",
                    "1": "3.430225253105164"
                },
                {
                    "0": "Ocean's Thirteen",
                    "1": "3.1709662079811096"
                },
                {
                    "0": "Ocean's Twelve",
                    "1": "2.8157976269721985"
                },
                {
                    "0": "Mission: Impossible III",
                    "1": "2.7865535020828247"
                },
                {
                    "0": "Mission: Impossible III",
                    "1": "2.7857810258865356"
                }
            ]
        },
        "text/html": [
            "<table>",
            "<tr><th>title</th><th>movie_similarity</th></tr>",
            "<tr><td>The Bourne Supremacy</td><td>4.816184043884277</td></tr>",
            "<tr><td>Snatch.</td><td>4.475056529045105</td></tr>",
            "<tr><td>Fight Club</td><td>4.090642929077148</td></tr>",
            "<tr><td>Wanted</td><td>3.7561517953872676</td></tr>",
            "<tr><td>Notorious</td><td>3.5413363575935364</td></tr>",
            "<tr><td>Lara Croft Tomb Raider: The Cradle of Life</td><td>3.430225253105164</td></tr>",
            "<tr><td>Ocean's Thirteen</td><td>3.1709662079811096</td></tr>",
            "<tr><td>Ocean's Twelve</td><td>2.8157976269721985</td></tr>",
            "<tr><td>Mission: Impossible III</td><td>2.7865535020828247</td></tr>",
            "<tr><td>Mission: Impossible III</td><td>2.7857810258865356</td></tr>",
            "</table>"
        ]
    }
}
],
            "execution_count": 109
        },
        {
            "cell_type": "markdown",
            "source": [
                "## 3m"
            ],
            "metadata": {
                "azdata_cell_guid": "9e4297ae-3f47-4c32-ba55-054cf34bb757"
            }
        },
        {
            "cell_type": "code",
            "source": [
                "-- Detecting duplicates\n",
                "SELECT title, year, rating, num_ratings, COUNT(*) occurrences\n",
                "FROM movies\n",
                "GROUP BY title, year, rating, num_ratings\n",
                "HAVING COUNT(*) > 1;"
            ],
            "metadata": {
                "azdata_cell_guid": "06d98912-0d98-4d08-83bd-e9970673ef4d",
                "tags": []
            },
            "outputs": [],
            "execution_count": null
        },
        {
            "cell_type": "code",
            "source": [
                "-- Creating a view that contains no duplicates\n",
                "CREATE OR REPLACE VIEW no_duplicates AS \n",
                "SELECT DISTINCT title, year, rating, num_ratings\n",
                "FROM movies\n",
                "GROUP BY title, year, rating, num_ratings;"
            ],
            "metadata": {
                "azdata_cell_guid": "d4512c52-c6aa-465b-8d64-f59e6168a0cc",
                "tags": []
            },
            "outputs": [],
            "execution_count": null
        },
        {
            "cell_type": "markdown",
            "source": [
                "## 4a"
            ],
            "metadata": {
                "azdata_cell_guid": "31a6a019-5195-43f0-89bb-4cc94a2c850b"
            }
        },
        {
            "cell_type": "code",
            "source": [
                "CREATE INDEX actors_index ON actors(name);\r\n",
                "CREATE INDEX actors_id_index ON actors(mid);\r\n",
                "CREATE INDEX movies_index ON movies(title);\r\n",
                "CREATE INDEX movies_count_index ON movies(num_ratings);\r\n",
                "CREATE INDEX movies_rating_index ON movies(rating);\r\n",
                "CREATE INDEX genres_index ON genres(genre);\r\n",
                "CREATE INDEX tag_names_index ON tag_names(tag);\r\n",
                "CREATE INDEX co_actors_index ON actors(mid);\r\n",
                "CREATE INDEX maxim_co_actors ON movies(mid); \n",
                "CREATE INDEX most_similar_movies ON tags(tid); "
            ],
            "metadata": {
                "azdata_cell_guid": "e22f059f-bb9f-4021-9ce2-1e07f6a7ba5b"
            },
            "outputs": [
{
    "output_type": "display_data",
    "data": {
        "text/html": "Commands completed successfully"
    },
    "metadata": {}
}, {
    "output_type": "display_data",
    "data": {
        "text/html": "Commands completed successfully"
    },
    "metadata": {}
}, {
    "output_type": "display_data",
    "data": {
        "text/html": "Commands completed successfully"
    },
    "metadata": {}
}, {
    "output_type": "display_data",
    "data": {
        "text/html": "Commands completed successfully"
    },
    "metadata": {}
}, {
    "output_type": "display_data",
    "data": {
        "text/html": "Commands completed successfully"
    },
    "metadata": {}
}, {
    "output_type": "display_data",
    "data": {
        "text/html": "Commands completed successfully"
    },
    "metadata": {}
}, {
    "output_type": "display_data",
    "data": {
        "text/html": "Commands completed successfully"
    },
    "metadata": {}
}, {
    "output_type": "display_data",
    "data": {
        "text/html": "Commands completed successfully"
    },
    "metadata": {}
}, {
    "output_type": "display_data",
    "data": {
        "text/html": "Commands completed successfully"
    },
    "metadata": {}
}, {
    "output_type": "display_data",
    "data": {
        "text/html": "Commands completed successfully"
    },
    "metadata": {}
}, {
    "output_type": "display_data",
    "data": {
        "text/html": "Total execution time: 00:00:01.323"
    },
    "metadata": {}
}
],
            "execution_count": null
        },
        {
            "cell_type": "markdown",
            "source": [
                "## 4b"
            ],
            "metadata": {
                "azdata_cell_guid": "235beb2b-f2b3-483c-855b-8e5444480668"
            }
        },
        {
            "cell_type": "code",
            "source": [
                "-- Profiling Results:\n",
                "\n",
                "-- BEFORE\n",
                "-- 3A: 0.021s\n",
                "-- 3B: 0.005s\n",
                "-- 3C: 0.014s\n",
                "-- 3D: 0.085s\n",
                "-- 3E: 0.014s\n",
                "-- 3F: 0.009s | 0.008s | 0.008s\n",
                "-- 3G: 0.009s\n",
                "-- 3H: 0.101s | 0.101s | 0.171s\n",
                "-- 3I: 0.127s\n",
                "-- 3J: 0.021s | 0.051s | 0.100s | 0.063s\n",
                "-- 3K: 0.016s | 0.0959s\n",
                "-- 3L: 23.666s\n",
                "-- 3M: 0.019s\n",
                "\n",
                "-- AFTER\n",
                "-- 3A: 0.006s\n",
                "-- 3B: 0.007s\n",
                "-- 3C: 0.014s\n",
                "-- 3D: 0.082s\n",
                "-- 3E: 0.015s\n",
                "-- 3F: 0.006s | 0.008s | 0.008s\n",
                "-- 3G: 0.009s\n",
                "-- 3H: 0.100s | 0.105s | 0.154s\n",
                "-- 3I: 0.124s\n",
                "-- 3J: 0.008s | 0.050s | 0.102s | 0.138s\n",
                "-- 3K: 0.014s | 12.500\n",
                "-- 3L: 12.301s\n",
                "-- 3M: 0.024s"
            ],
            "metadata": {
                "azdata_cell_guid": "b863d975-916e-4eda-9707-7591d0e9a01f"
            },
            "outputs": [],
            "execution_count": null
        },
        {
            "cell_type": "markdown",
            "source": [
                "## 4c"
            ],
            "metadata": {
                "azdata_cell_guid": "6d8219b0-83e9-4d72-a122-161c634c0888"
            }
        },
        {
            "cell_type": "code",
            "source": [
                "CREATE MATERIALIZED VIEW maximum_co_actors AS\n",
                "SELECT A2.name, COUNT (DISTINCT A1.name) AS most_co_actors\n",
                "FROM actors A1, actors A2, movies M\n",
                "WHERE \n",
                "    M.mid = A2.mid AND\n",
                "    M.mid = A1.mid\n",
                "GROUP BY A2.name;\n",
                "\n",
                "SELECT name, most_co_actors\n",
                "FROM max_co_actors\n",
                "ORDER BY most_co_actors DESC\n",
                "LIMIT 1;"
            ],
            "metadata": {
                "azdata_cell_guid": "732c7021-5e65-4f48-b8c3-252691d11e00"
            },
            "outputs": [],
            "execution_count": null
        },
        {
            "cell_type": "markdown",
            "source": [
                "## 4d"
            ],
            "metadata": {
                "azdata_cell_guid": "a17b011e-52d3-465e-81f6-357150f5b1e9"
            }
        },
        {
            "cell_type": "code",
            "source": [
                ""
            ],
            "metadata": {
                "azdata_cell_guid": "b401be27-c2ec-431f-aee0-f822ad99cfbd"
            },
            "outputs": [],
            "execution_count": null
        }
    ]
}