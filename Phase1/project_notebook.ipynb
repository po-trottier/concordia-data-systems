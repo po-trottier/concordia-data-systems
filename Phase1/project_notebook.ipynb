{
    "metadata": {
        "kernelspec": {
            "name": "SQL",
            "display_name": "SQL",
            "language": "sql"
        },
        "language_info": {
            "name": "sql",
            "version": ""
        }
    },
    "nbformat_minor": 2,
    "nbformat": 4,
    "cells": [
        {
            "cell_type": "markdown",
            "source": [
                "# SOEN363 Project"
            ],
            "metadata": {
                "azdata_cell_guid": "7ab61aee-16ab-45d8-8e39-d3c92c0c30fe"
            }
        },
        {
            "cell_type": "markdown",
            "source": [
                "## Drop the DB Indecies **(Only for Debugging Purposes)**"
            ],
            "metadata": {
                "azdata_cell_guid": "0c56553e-1854-479d-ad1c-38111412cee0"
            }
        },
        {
            "cell_type": "code",
            "source": [
                "DROP INDEX actors_index;\r\n",
                "DROP INDEX actors_id_index;\r\n",
                "DROP INDEX movies_index;\r\n",
                "DROP INDEX movies_count_index;\r\n",
                "DROP INDEX movies_rating_index;\r\n",
                "DROP INDEX genres_index;\r\n",
                "DROP INDEX tag_names_index;\r\n",
                "DROP INDEX co_actors_index;\r\n",
                "DROP INDEX maxim_co_actors; \r\n",
                "DROP INDEX most_similar_movies;"
            ],
            "metadata": {
                "azdata_cell_guid": "f9d10561-a849-4b20-9781-1cf61bd7df2d"
            },
            "outputs": [],
            "execution_count": null
        },
        {
            "cell_type": "markdown",
            "source": [
                "## Drop the DB Views **(Only for Debugging Purposes)**"
            ],
            "metadata": {
                "azdata_cell_guid": "4e3e0fb2-9340-4e31-8c04-fea08f2ba4af"
            }
        },
        {
            "cell_type": "code",
            "source": [
                "DROP VIEW high_ratings;\r\n",
                "DROP VIEW low_ratings;\r\n",
                "DROP VIEW non_existent;\r\n",
                "DROP VIEW no_duplicates;\r\n",
                "DROP VIEW all_combinations;\r\n",
                "DROP VIEW co_actors;\r\n",
                "DROP VIEW max_co_actors;\r\n",
                "DROP VIEW tags_in_common;\r\n",
                "DROP VIEW actors_in_common;\r\n",
                "DROP VIEW genres_in_common;\r\n",
                "DROP VIEW age_gap;\r\n",
                "DROP VIEW rating_gap;\r\n",
                "DROP MATERIALIZED VIEW maximum_co_actors;\r\n",
                "DROP MATERIALIZED VIEW common_tags;\r\n",
                "DROP MATERIALIZED VIEW common_actors;\r\n",
                "DROP MATERIALIZED VIEW common_genres;\r\n",
                "DROP MATERIALIZED VIEW age_diff;\r\n",
                "DROP MATERIALIZED VIEW rating_diff;"
            ],
            "metadata": {
                "azdata_cell_guid": "b76174de-3581-4b3d-ae01-217b06409440"
            },
            "outputs": [],
            "execution_count": null
        },
        {
            "cell_type": "markdown",
            "source": [
                "## Drop the DB tables **(Only for Debugging Purposes)**"
            ],
            "metadata": {
                "azdata_cell_guid": "c8445578-4997-4cd0-a0fc-771a4b723ab1"
            }
        },
        {
            "cell_type": "code",
            "source": [
                "DROP TABLE actors;\r\n",
                "DROP TABLE genres;\r\n",
                "DROP TABLE tags;\r\n",
                "DROP TABLE tag_names;\r\n",
                "DROP TABLE movies;"
            ],
            "metadata": {
                "azdata_cell_guid": "39caf518-f5f8-46d3-8fdb-222357281cca"
            },
            "outputs": [],
            "execution_count": null
        },
        {
            "cell_type": "markdown",
            "source": [
                "# Assignment Questions\n",
                "## 2a"
            ],
            "metadata": {
                "azdata_cell_guid": "1d9b61ee-dff7-49c5-8307-b5eba63d7fef"
            }
        },
        {
            "cell_type": "code",
            "source": [
                "CREATE TABLE movies (\r\n",
                "    mid             INTEGER UNIQUE, \r\n",
                "    title           VARCHAR, \r\n",
                "    year            INTEGER, \r\n",
                "    rating          REAL CHECK (rating BETWEEN 0.0 AND 5.0), \r\n",
                "    num_ratings     INTEGER,\r\n",
                "    PRIMARY KEY     (mid)\r\n",
                ");\r\n",
                "\r\n",
                "CREATE TABLE actors (\r\n",
                "    mid             INTEGER REFERENCES movies(mid), \r\n",
                "    name            VARCHAR, \r\n",
                "    cast_position   INTEGER,\r\n",
                "    PRIMARY KEY     (mid, name)\r\n",
                ");\r\n",
                "\r\n",
                "CREATE TABLE genres (\r\n",
                "    mid             INTEGER REFERENCES movies(mid), \r\n",
                "    genre           VARCHAR,\r\n",
                "    PRIMARY KEY     (mid, genre)\r\n",
                ");\r\n",
                "\r\n",
                "CREATE TABLE tag_names (\r\n",
                "    tid             INTEGER, \r\n",
                "    tag             VARCHAR,\r\n",
                "    PRIMARY KEY     (tid)\r\n",
                ");\r\n",
                "\r\n",
                "CREATE TABLE tags (\r\n",
                "    mid             INTEGER REFERENCES movies(mid), \r\n",
                "    tid             INTEGER REFERENCES tag_names(tid),\r\n",
                "    PRIMARY KEY     (mid, tid)\r\n",
                ");\r\n",
                "\r\n",
                "COPY movies FROM '/srv/soen363/phase1/movies.dat';\r\n",
                "\r\n",
                "COPY actors FROM '/srv/soen363/phase1/actors.dat';\r\n",
                "\r\n",
                "COPY genres FROM '/srv/soen363/phase1/genres.dat';\r\n",
                "\r\n",
                "COPY tag_names FROM '/srv/soen363/phase1/tag_names.dat';\r\n",
                "\r\n",
                "COPY tags FROM '/srv/soen363/phase1/tags.dat';"
            ],
            "metadata": {
                "azdata_cell_guid": "dbf4f54e-041e-4a34-99f9-5eca1dc15d8f",
                "tags": []
            },
            "outputs": [],
            "execution_count": null
        },
        {
            "cell_type": "markdown",
            "source": [
                "## 3a"
            ],
            "metadata": {
                "azdata_cell_guid": "b58fc898-d4d4-4f32-85b6-fdd01a323c87"
            }
        },
        {
            "cell_type": "code",
            "source": [
                "-- Get the movie titles starring \"Daniel Craig\", sorted in an ascending alphabetical order\r\n",
                "SELECT DISTINCT M.title AS \"Movie Titles\"\r\n",
                "FROM actors A, movies M\r\n",
                "WHERE\r\n",
                "    M.mid = A.mid AND\r\n",
                "    A.name = 'Daniel Craig'\r\n",
                "ORDER BY M.title ASC;"
            ],
            "metadata": {
                "azdata_cell_guid": "fbf5426d-0854-4f50-b4a8-5c95d314ab53",
                "tags": []
            },
            "outputs": [],
            "execution_count": null
        },
        {
            "cell_type": "markdown",
            "source": [
                "## 3b"
            ],
            "metadata": {
                "azdata_cell_guid": "e9ea10e1-39a2-43c1-adf7-924341c1b682"
            }
        },
        {
            "cell_type": "code",
            "source": [
                "-- Get the cast of the movie titled \"The Dark Knight\", sorted in ascending alphabetical order\r\n",
                "SELECT DISTINCT A.name AS \"Cast\"\r\n",
                "FROM actors A, movies M\r\n",
                "WHERE\r\n",
                "    M.mid = A.mid AND\r\n",
                "    M.title = 'The Dark Knight'\r\n",
                "ORDER BY A.name ASC;"
            ],
            "metadata": {
                "azdata_cell_guid": "b33f4d04-bf33-4a44-9f1e-3aeb235534f8",
                "tags": []
            },
            "outputs": [],
            "execution_count": null
        },
        {
            "cell_type": "markdown",
            "source": [
                "## 3c"
            ],
            "metadata": {
                "azdata_cell_guid": "9decec30-82cc-4bd2-b175-bd40858b502d"
            }
        },
        {
            "cell_type": "code",
            "source": [
                "-- Get the distinct genres in the database, alongside their number of occurrences (only for 1000+ occurrences), sorted ascending numerically in occurrences\r\n",
                "SELECT DISTINCT G.genre, COUNT(M.*) AS number_of_movies_in_genre\r\n",
                "FROM genres G, movies M\r\n",
                "WHERE G.mid = M.mid\r\n",
                "GROUP BY G.genre\r\n",
                "HAVING COUNT(M.*) > 1000\r\n",
                "ORDER BY COUNT(M.*) ASC;"
            ],
            "metadata": {
                "azdata_cell_guid": "c5f006a8-8101-464b-b06a-02311f44bce2"
            },
            "outputs": [],
            "execution_count": null
        },
        {
            "cell_type": "markdown",
            "source": [
                "## 3d"
            ],
            "metadata": {
                "azdata_cell_guid": "670fb4cf-a70a-4fdf-bf1a-3434c29c0be3"
            }
        },
        {
            "cell_type": "code",
            "source": [
                "-- For each year, print the movie title, year, and rating, sorted in the ascending order of year and the descending order of movie rating\r\n",
                "SELECT M.title, M.year, M.rating\r\n",
                "FROM movies M\r\n",
                "WHERE M.num_ratings > 0\r\n",
                "ORDER BY M.year ASC, M.rating DESC;"
            ],
            "metadata": {
                "azdata_cell_guid": "cc6b3192-8083-42f0-8816-29e9a28be3c8",
                "tags": []
            },
            "outputs": [],
            "execution_count": null
        },
        {
            "cell_type": "markdown",
            "source": [
                "## 3e"
            ],
            "metadata": {
                "azdata_cell_guid": "3416f197-4164-4005-97fc-9caaf7710228"
            }
        },
        {
            "cell_type": "code",
            "source": [
                "-- Get the titles of movies whose tags include at least one occurrence of the word \"bad\" and another of \"good\"\r\n",
                "SELECT M.title\r\n",
                "FROM movies M, tags T, tag_names TN\r\n",
                "WHERE \r\n",
                "    M.mid = T.mid AND T.tid = TN.tid AND\r\n",
                "    TN.tag IN (\r\n",
                "        SELECT TN.tag \r\n",
                "        FROM tag_names TN\r\n",
                "        WHERE TN.tag LIKE 'good%'\r\n",
                "        UNION\r\n",
                "        SELECT TN.tag \r\n",
                "        FROM tag_names TN\r\n",
                "        WHERE TN.tag LIKE 'bad%'\r\n",
                "    );"
            ],
            "metadata": {
                "azdata_cell_guid": "29526ee9-60b7-48a3-b8cd-922e1787de7c",
                "tags": []
            },
            "outputs": [],
            "execution_count": null
        },
        {
            "cell_type": "markdown",
            "source": [
                "## 3f"
            ],
            "metadata": {
                "azdata_cell_guid": "637a0ac8-e7fd-4b60-abc3-d6c6991da592"
            }
        },
        {
            "cell_type": "code",
            "source": [
                "-- i. Get the information for the movies with the highest number of ratings, sorted ascending by movie ID\r\n",
                "SELECT M.mid, M.title, M.year, M.rating, M.num_ratings\r\n",
                "FROM movies M\r\n",
                "WHERE M.num_ratings IN (\r\n",
                "    SELECT MAX(M.num_ratings)\r\n",
                "    FROM movies M\r\n",
                ")\r\n",
                "ORDER BY M.mid;"
            ],
            "metadata": {
                "azdata_cell_guid": "11d8dfb3-223e-462b-a22b-32a89aa49fe7",
                "tags": []
            },
            "outputs": [],
            "execution_count": null
        },
        {
            "cell_type": "code",
            "source": [
                "-- ii. Get the information for the movies with the highest rating, sorted ascending by movie ID\r\n",
                "SELECT M.mid, M.title, M.year, M.rating, M.num_ratings\r\n",
                "FROM movies M\r\n",
                "WHERE M.rating IN (\r\n",
                "    SELECT MAX(M.rating)\r\n",
                "    FROM movies M\r\n",
                ")\r\n",
                "ORDER BY M.mid;"
            ],
            "metadata": {
                "azdata_cell_guid": "a1ca2f62-ecde-46b7-b0c0-583bf15995d1",
                "tags": []
            },
            "outputs": [],
            "execution_count": null
        },
        {
            "cell_type": "code",
            "source": [
                "-- iii. Get the information for the movies with BOTH the highest rating AND the highest number of ratings (if it exists)"
            ],
            "metadata": {
                "azdata_cell_guid": "41fd2356-8a3d-4a32-b510-a80c991b7a8e"
            },
            "outputs": [],
            "execution_count": null
        },
        {
            "cell_type": "markdown",
            "source": [
                "From the data returned from the last two queries, we know that this isn't the case; the movie with the highest rating isn't among the movies with the highest number of ratings.\n",
                "\n",
                "Highest number of ratings: mid 4201/53125, title Pirates of the Caribbean: At World's End\n",
                "\n",
                "Highest rating: mid 4311, title 1732 Høtten"
            ],
            "metadata": {
                "azdata_cell_guid": "64eee3b5-5b17-4d57-8745-93afdc8f6ed8"
            }
        },
        {
            "cell_type": "code",
            "source": [
                "-- iv. Get the information for the movies with the lowest rating, sorted by ascending movie ID\r\n",
                "SELECT M.mid, M.title, M.year, M.rating, M.num_ratings\r\n",
                "FROM movies M\r\n",
                "WHERE M.rating IN (\r\n",
                "    SELECT MIN(M.rating)\r\n",
                "    FROM movies M\r\n",
                "    WHERE M.num_ratings > 0\r\n",
                ")\r\n",
                "ORDER BY M.mid;"
            ],
            "metadata": {
                "azdata_cell_guid": "8d04c80e-de87-442f-9f59-d632a1c37111"
            },
            "outputs": [],
            "execution_count": null
        },
        {
            "cell_type": "code",
            "source": [
                "-- v. Get the information for the movies with BOTH the lowest AND the highest number of ratings (if it exists)"
            ],
            "metadata": {
                "azdata_cell_guid": "d5ac33ec-91b2-4c23-85ec-97a5c3c11e07"
            },
            "outputs": [],
            "execution_count": null
        },
        {
            "cell_type": "markdown",
            "source": [
                "From the data returned from the last query, we know that the lowest rating (for a movie which has been rated more than 0 times) is 1.5\n",
                "This means that it is not the case for the movie with the highest number of ratings (currently 1'768'593 ratings at 3.8) to be the movie with the lowest rating (currently 3 ratings at 1.5)."
            ],
            "metadata": {
                "azdata_cell_guid": "65ed8f4f-443d-4c27-a204-bba2e47980ab"
            }
        },
        {
            "cell_type": "code",
            "source": [
                "-- vi. Present your findings on the hypothesis: are popular movies (the most ratings) among the best/worst movies (lowest or highest rating score)?"
            ],
            "metadata": {
                "azdata_cell_guid": "1adf7def-6327-4069-840a-46c8c3b07f99"
            },
            "outputs": [],
            "execution_count": null
        },
        {
            "cell_type": "markdown",
            "source": [
                "According to the results from the previous queries, it can be safely said that the hypothesis is false for this database."
            ],
            "metadata": {
                "azdata_cell_guid": "11bb8b7d-0166-4599-a1e4-f1d29847219b"
            }
        },
        {
            "cell_type": "markdown",
            "source": [
                "## 3g"
            ],
            "metadata": {
                "azdata_cell_guid": "2c400d84-966a-4f38-a35d-3bb0e30c42df"
            }
        },
        {
            "cell_type": "code",
            "source": [
                "-- Get the year, title and rating of the lowest-rated and highest-rated movies for each year, between 2005 and 2011 inclusively. If tied, use ascending title\r\n",
                "\r\n",
                "SELECT M2.year, M2.title, M2.rating\r\n",
                "FROM movies M2\r\n",
                "INNER JOIN (\r\n",
                "    SELECT M1.year, MAX(M1.rating) as highest_rating\r\n",
                "    FROM movies M1\r\n",
                "    WHERE M1.year BETWEEN 2005 AND 2011 AND M1.num_ratings > 0\r\n",
                "    GROUP BY M1.year\r\n",
                "    ORDER BY M1.year ASC\r\n",
                ") highest ON (highest.year = M2.year AND highest.highest_rating = M2.rating)\r\n",
                "\r\n",
                "UNION\r\n",
                "\r\n",
                "SELECT M4.year, M4.title, M4.rating\r\n",
                "FROM movies M4\r\n",
                "INNER JOIN (\r\n",
                "    SELECT M3.year, MIN(M3.rating) as lowest_rating\r\n",
                "    FROM movies M3\r\n",
                "    WHERE M3.year BETWEEN 2005 AND 2011 AND M3.num_ratings > 0\r\n",
                "    GROUP BY M3.year\r\n",
                "    ORDER BY M3.year ASC\r\n",
                ") lowest ON (lowest.year = M4.year AND lowest.lowest_rating = M4.rating)\r\n",
                "\r\n",
                "ORDER BY year ASC, rating ASC, title ASC"
            ],
            "metadata": {
                "azdata_cell_guid": "d3c40567-2a44-4153-9b3d-1f54cd2544be",
                "tags": []
            },
            "outputs": [],
            "execution_count": null
        },
        {
            "cell_type": "markdown",
            "source": [
                "Only movies with more than 0 ratings were considered in this query. As no ratings were given to movies in 2010 and 2011, no movies from those years appear in the results. Removing the constraint will make the results appear, albeit with their ratings being 0.0."
            ],
            "metadata": {
                "azdata_cell_guid": "2ad35cc2-7420-40ee-925e-0930dec3d6df"
            }
        },
        {
            "cell_type": "markdown",
            "source": [
                "## 3h"
            ],
            "metadata": {
                "azdata_cell_guid": "a48b3344-d387-4ab5-9c47-83b45e078c23"
            }
        },
        {
            "cell_type": "code",
            "source": [
                "-- High Ratings view to get actors that have participated in a movie with a rating >= 4\r\n",
                "CREATE OR REPLACE VIEW high_ratings AS\r\n",
                "    SELECT DISTINCT A.name \r\n",
                "    FROM actors A, movies M\r\n",
                "    WHERE A.mid = m.mid AND m.rating >= 4; \r\n",
                "\r\n",
                "-- Low Ratings view to get actors that have participated in a movie with a rating < 4\r\n",
                "CREATE OR REPLACE VIEW low_ratings AS\r\n",
                "    SELECT DISTINCT A.name \r\n",
                "    FROM actors A, movies M\r\n",
                "    WHERE A.mid = m.mid AND m.rating < 4;\r\n",
                "\r\n",
                "-- Get the actors count coming from High Ratings \r\n",
                "SELECT COUNT(*) as result_count_high\r\n",
                "FROM high_ratings;\r\n",
                "\r\n",
                "-- Get the actors count coming from Low Ratings\r\n",
                "SELECT COUNT(*) as result_count_low\r\n",
                "FROM low_ratings;"
            ],
            "metadata": {
                "azdata_cell_guid": "0e4c4076-6483-4442-8467-a0517bfa0d82",
                "tags": []
            },
            "outputs": [],
            "execution_count": null
        },
        {
            "cell_type": "code",
            "source": [
                "-- Get the number of No Flop actors in the database\r\n",
                "SELECT COUNT(*)\r\n",
                "FROM high_ratings\r\n",
                "WHERE name NOT IN (\r\n",
                "    SELECT name\r\n",
                "    FROM low_ratings\r\n",
                ");"
            ],
            "metadata": {
                "azdata_cell_guid": "a5cf124e-5c24-4c12-8c15-e114d3c4991f"
            },
            "outputs": [],
            "execution_count": null
        },
        {
            "cell_type": "code",
            "source": [
                "-- Get the name and movie count of the Top 10 No Flop actors\r\n",
                "SELECT R.name, COUNT(A.*) as movie_count\r\n",
                "FROM high_ratings R, actors A\r\n",
                "WHERE \r\n",
                "    R.name NOT IN (\r\n",
                "        SELECT name\r\n",
                "        FROM low_ratings\r\n",
                "    ) AND \r\n",
                "    A.name = R.NAME\r\n",
                "GROUP BY R.name\r\n",
                "ORDER BY COUNT(A.*) DESC\r\n",
                "LIMIT 10;"
            ],
            "metadata": {
                "azdata_cell_guid": "f853a76f-4a31-4a29-ad89-c23c84b9cac6",
                "tags": []
            },
            "outputs": [],
            "execution_count": null
        },
        {
            "cell_type": "markdown",
            "source": [
                "## 3i"
            ],
            "metadata": {
                "azdata_cell_guid": "f8e4b73c-ad44-4b83-bc19-4bc2d42fe1a1"
            }
        },
        {
            "cell_type": "code",
            "source": [
                "-- Find the actor with the longest longevity\r\n",
                "SELECT \r\n",
                "    A.name, \r\n",
                "    MIN(M.year) as start, \r\n",
                "    MAX(M.year) as end, \r\n",
                "    MAX(M.year) - MIN(M.year) as longevity\r\n",
                "FROM actors A, movies M\r\n",
                "WHERE A.mid = M.mid\r\n",
                "GROUP BY A.name \r\n",
                "ORDER BY MAX(M.year) - MIN(M.year) DESC\r\n",
                "LIMIT 1;"
            ],
            "metadata": {
                "azdata_cell_guid": "6d9b71fe-c363-4dcf-b5ff-ad5b5932149e"
            },
            "outputs": [],
            "execution_count": null
        },
        {
            "cell_type": "markdown",
            "source": [
                "## 3j"
            ],
            "metadata": {
                "azdata_cell_guid": "735c7aa4-f2f7-4584-a42e-df4074a697d8"
            }
        },
        {
            "cell_type": "code",
            "source": [
                "-- Returns the distinct names of actors who played in at least one movie with Annette Nicole.\n",
                "CREATE OR REPLACE VIEW co_actors AS\n",
                "SELECT DISTINCT name\n",
                "FROM actors \n",
                "WHERE mid IN (\n",
                "    SELECT mid \n",
                "    FROM actors\n",
                "    WHERE name = 'Annette Nicole'\n",
                ");\n",
                "\n",
                "-- Print the number of rows in this view. \n",
                "SELECT COUNT(name)\n",
                "FROM co_actors;"
            ],
            "metadata": {
                "azdata_cell_guid": "3d78a34c-2aa8-46bd-a69b-53efd512234d",
                "tags": []
            },
            "outputs": [],
            "execution_count": null
        },
        {
            "cell_type": "code",
            "source": [
                "-- Returns all possible combinations of co_actors and the movie ids in which Annette Nicole played.\n",
                "CREATE OR REPLACE VIEW all_combinations AS\n",
                "SELECT DISTINCT co_actors.name, actors.mid\n",
                "FROM co_actors, actors\n",
                "WHERE actors.mid IN (\n",
                "    SELECT mid \n",
                "    FROM actors\n",
                "    WHERE name = 'Annette Nicole'\n",
                ")\n",
                "ORDER BY co_actors.name;\n",
                "\n",
                "-- Print the number of rows in this view. \n",
                "SELECT COUNT(name)\n",
                "FROM all_combinations;"
            ],
            "metadata": {
                "azdata_cell_guid": "9b218a81-900d-4233-aade-bb7794318747",
                "tags": []
            },
            "outputs": [],
            "execution_count": null
        },
        {
            "cell_type": "code",
            "source": [
                "-- Remove all legitimate pairs from all_combinations.\n",
                "CREATE OR REPLACE VIEW non_existent AS\n",
                "SELECT * FROM all_combinations\n",
                "WHERE NOT EXISTS (\n",
                "    SELECT * \n",
                "    FROM actors\n",
                "    WHERE \n",
                "        all_combinations.name = actors.name AND \n",
                "        all_combinations.mid = actors.mid\n",
                ");\n",
                "\n",
                "-- Print the number of rows in this view.\n",
                "SELECT COUNT(name)\n",
                "FROM non_existent;"
            ],
            "metadata": {
                "azdata_cell_guid": "0a76b47f-ee8f-481c-8bb7-6aace6d624a5",
                "tags": []
            },
            "outputs": [],
            "execution_count": null
        },
        {
            "cell_type": "code",
            "source": [
                "-- Eliminate the distinct actors from co_actors that appear in the view non_existent.\n",
                "-- Print the names of all co_actors except Annette Nicole.\n",
                "\n",
                "SELECT * FROM co_actors\n",
                "WHERE NOT EXISTS (\n",
                "    SELECT * \n",
                "    FROM non_existent\n",
                "    WHERE non_existent.name = co_actors.name\n",
                ") AND \n",
                "NOT co_actors.name = 'Annette Nicole';"
            ],
            "metadata": {
                "azdata_cell_guid": "7e5d6f1e-4c92-4857-bcd2-2341f1f21c3c",
                "tags": []
            },
            "outputs": [],
            "execution_count": null
        },
        {
            "cell_type": "markdown",
            "source": [
                "## 3k"
            ],
            "metadata": {
                "azdata_cell_guid": "c070df48-d96c-42f9-a282-6356d626d6f1"
            }
        },
        {
            "cell_type": "code",
            "source": [
                "-- Find all co-acrtors of Tom Cruise \n",
                "SELECT A2.name, COUNT (DISTINCT A1.name) AS \"Tom Cruise Co-Actors\"\n",
                "FROM actors A1, actors A2, movies M\n",
                "WHERE \n",
                "    M.mid = A2.mid AND\n",
                "    A2.name = 'Tom Cruise' AND\n",
                "    M.mid = A1.mid AND NOT\n",
                "    A1.name = 'Tom Cruise'\n",
                "GROUP BY A2.name;"
            ],
            "metadata": {
                "azdata_cell_guid": "e5f3658e-81a7-4b58-b16d-251f968b94ff"
            },
            "outputs": [],
            "execution_count": null
        },
        {
            "cell_type": "code",
            "source": [
                "-- Find actor with most co-actors\n",
                "CREATE OR REPLACE VIEW max_co_actors AS\n",
                "SELECT A2.name, COUNT (DISTINCT A1.name) AS most_co_actors\n",
                "FROM actors A1, actors A2, movies M\n",
                "WHERE \n",
                "    M.mid = A2.mid AND\n",
                "    M.mid = A1.mid\n",
                "GROUP BY A2.name;\n",
                "\n",
                "\n",
                "-- Print the actor with the most co-actors\n",
                "\n",
                "SELECT name, most_co_actors\n",
                "FROM max_co_actors\n",
                "ORDER BY most_co_actors DESC\n",
                "LIMIT 1;"
            ],
            "metadata": {
                "azdata_cell_guid": "08d80ea8-1919-464c-a2f8-1ee902d696af"
            },
            "outputs": [
                {
                    "output_type": "display_data",
                    "data": {
                        "text/html": "Commands completed successfully"
                    },
                    "metadata": {}
                },
                {
                    "output_type": "display_data",
                    "data": {
                        "text/html": "(1 row(s) affected)"
                    },
                    "metadata": {}
                },
                {
                    "output_type": "display_data",
                    "data": {
                        "text/html": "Total execution time: 00:00:12.164"
                    },
                    "metadata": {}
                },
                {
                    "output_type": "execute_result",
                    "metadata": {},
                    "execution_count": 137,
                    "data": {
                        "application/vnd.dataresource+json": {
                            "schema": {
                                "fields": [
                                    {
                                        "name": "name"
                                    },
                                    {
                                        "name": "most_co_actors"
                                    }
                                ]
                            },
                            "data": [
                                {
                                    "0": "Samuel L. Jackson",
                                    "1": "1825"
                                }
                            ]
                        },
                        "text/html": [
                            "<table>",
                            "<tr><th>name</th><th>most_co_actors</th></tr>",
                            "<tr><td>Samuel L. Jackson</td><td>1825</td></tr>",
                            "</table>"
                        ]
                    }
                }
            ],
            "execution_count": 137
        },
        {
            "cell_type": "markdown",
            "source": [
                "## 3l"
            ],
            "metadata": {
                "azdata_cell_guid": "0a5225b7-d263-4297-b910-f784954cd7fb"
            }
        },
        {
            "cell_type": "code",
            "source": [
                "CREATE OR REPLACE VIEW tags_in_common AS\r\n",
                "    WITH tags_count AS (\r\n",
                "        SELECT COUNT(tid) \r\n",
                "        FROM tags\r\n",
                "    )\r\n",
                "    SELECT M2.mid, T2.title, T2.count::REAL / C.count::REAL AS tags_similarity\r\n",
                "    FROM tags_count C, movies M2 RIGHT JOIN (\r\n",
                "        SELECT M1.mid, M1.title, COUNT(T1.tid)\r\n",
                "        FROM tags T1, movies M1\r\n",
                "        WHERE \r\n",
                "            T1.tid IN (\r\n",
                "                SELECT T.tid\r\n",
                "                FROM tags T, movies M\r\n",
                "                WHERE \r\n",
                "                    M.title = 'Mr. & Mrs. Smith' AND\r\n",
                "                    T.mid = M.mid\r\n",
                "            ) AND \r\n",
                "            M1.title != 'Mr. & Mrs. Smith' AND\r\n",
                "            T1.mid = M1.mid\r\n",
                "        GROUP BY M1.mid, M1.title\r\n",
                "        ORDER BY COUNT(T1.tid) DESC\r\n",
                "    ) T2\r\n",
                "    ON T2.mid = M2.mid\r\n",
                "    ORDER BY tags_similarity DESC;\r\n",
                "\r\n",
                "SELECT * FROM tags_in_common;"
            ],
            "metadata": {
                "azdata_cell_guid": "9471b6de-9ca3-4b0b-b7c1-78b7513d2080",
                "tags": []
            },
            "outputs": [],
            "execution_count": null
        },
        {
            "cell_type": "code",
            "source": [
                "CREATE OR REPLACE VIEW actors_in_common AS\r\n",
                "    WITH actors_count AS (\r\n",
                "        SELECT COUNT(distinct name) \r\n",
                "        FROM actors\r\n",
                "    )\r\n",
                "    SELECT M2.mid, A2.title, A2.count::REAL / C.count::REAL AS actors_similarity\r\n",
                "    FROM actors_count C, movies M2 RIGHT JOIN (\r\n",
                "        SELECT M1.mid, M1.title, COUNT(A1.name)\r\n",
                "        FROM actors A1, movies M1\r\n",
                "        WHERE \r\n",
                "            A1.name IN (\r\n",
                "                SELECT A.name\r\n",
                "                FROM actors A, movies M\r\n",
                "                WHERE \r\n",
                "                    M.title = 'Mr. & Mrs. Smith' AND\r\n",
                "                    A.mid = M.mid\r\n",
                "            ) AND \r\n",
                "            M1.title != 'Mr. & Mrs. Smith' AND\r\n",
                "            A1.mid = M1.mid\r\n",
                "        GROUP BY M1.mid, M1.title\r\n",
                "        ORDER BY COUNT(A1.name) DESC\r\n",
                "    ) A2\r\n",
                "    ON A2.mid = M2.mid\r\n",
                "    ORDER BY actors_similarity DESC;\r\n",
                "\r\n",
                "SELECT * FROM actors_in_common;"
            ],
            "metadata": {
                "azdata_cell_guid": "c8df6e1f-2b67-4208-9643-b216272615aa",
                "tags": []
            },
            "outputs": [],
            "execution_count": null
        },
        {
            "cell_type": "code",
            "source": [
                "CREATE OR REPLACE VIEW genres_in_common AS\r\n",
                "    WITH genres_count AS (\r\n",
                "        SELECT COUNT(distinct genre) \r\n",
                "        FROM genres\r\n",
                "    )\r\n",
                "    SELECT M2.mid, G2.title, G2.count::REAL / C.count::REAL AS genres_similarity\r\n",
                "    FROM genres_count C, movies M2 RIGHT JOIN(\r\n",
                "        SELECT M1.mid, M1.title, COUNT(G1.genre)\r\n",
                "        FROM genres G1, movies M1\r\n",
                "        WHERE \r\n",
                "            G1.genre IN (\r\n",
                "                SELECT G.genre\r\n",
                "                FROM genres G, movies M\r\n",
                "                WHERE \r\n",
                "                    M.title = 'Mr. & Mrs. Smith' AND\r\n",
                "                    G.mid = M.mid\r\n",
                "            ) AND \r\n",
                "            M1.title != 'Mr. & Mrs. Smith' AND\r\n",
                "            G1.mid = M1.mid\r\n",
                "        GROUP BY M1.mid, M1.title\r\n",
                "        ORDER BY COUNT(G1.genre) DESC\r\n",
                "    ) G2\r\n",
                "    ON G2.mid = M2.mid\r\n",
                "    ORDER BY genres_similarity DESC;\r\n",
                "\r\n",
                "SELECT * FROM genres_in_common;"
            ],
            "metadata": {
                "azdata_cell_guid": "717d1611-1db7-4558-a952-f74c061cef23",
                "tags": []
            },
            "outputs": [],
            "execution_count": null
        },
        {
            "cell_type": "code",
            "source": [
                "CREATE OR REPLACE FUNCTION norm1(REAL) RETURNS REAL\r\n",
                "    AS \r\n",
                "        $$\r\n",
                "        DECLARE normal1 REAL;\r\n",
                "        BEGIN\r\n",
                "            SELECT (($1 - 2005) / (MAX(M.year) - MIN(M.year))) INTO normal1\r\n",
                "            FROM movies M;\r\n",
                "\r\n",
                "            RETURN normal1;\r\n",
                "        END;\r\n",
                "        $$\r\n",
                "    LANGUAGE plpgsql;\r\n",
                "\r\n",
                "CREATE OR REPLACE VIEW age_gap AS\r\n",
                "    SELECT M1.mid, M1.title, norm1(M1.year::REAL) as ageGap\r\n",
                "    FROM movies M1\r\n",
                "    GROUP BY M1.mid, M1.title, M1.year\r\n",
                "    ORDER BY ageGap ASC;\r\n",
                "\r\n",
                "SELECT * FROM age_gap;"
            ],
            "metadata": {
                "azdata_cell_guid": "5baa152c-6afd-4d92-9191-d7c449fdfb43"
            },
            "outputs": [],
            "execution_count": null
        },
        {
            "cell_type": "code",
            "source": [
                "CREATE OR REPLACE FUNCTION norm2(REAL) RETURNS REAL\n",
                "    AS \n",
                "        $$\n",
                "        DECLARE normal2 REAL;\n",
                "        BEGIN\n",
                "            SELECT (($1 - 3.4) / (MAX(M.rating) - MIN(M.rating))) INTO normal2\n",
                "            FROM movies M;\n",
                "\n",
                "            RETURN normal2;\n",
                "        END;\n",
                "        $$\n",
                "    LANGUAGE plpgsql;\n",
                "\n",
                "CREATE OR REPLACE VIEW rating_gap AS\n",
                "    SELECT M1.mid, M1.title, norm2(M1.rating::REAL) as ratingGap\n",
                "    FROM movies M1\n",
                "    GROUP BY M1.mid, M1.title, M1.rating\n",
                "    ORDER BY ratingGap ASC;\n",
                "\n",
                "SELECT * FROM rating_gap;"
            ],
            "metadata": {
                "azdata_cell_guid": "3986bd2a-0ad1-4c62-964d-6eeddc2d287f",
                "tags": []
            },
            "outputs": [],
            "execution_count": null
        },
        {
            "cell_type": "code",
            "source": [
                "SELECT M.title, ((tags_similarity + actors_similarity + genres_similarity + ageGap + ratingGap)/5)*100 AS movie_similarity\n",
                "FROM tags_in_common, actors_in_common, genres_in_common, age_gap, rating_gap, movies M\n",
                "WHERE \n",
                "    tags_in_common.mid = actors_in_common.mid AND\n",
                "    actors_in_common.mid = genres_in_common.mid AND\n",
                "    genres_in_common.mid = age_gap.mid AND\n",
                "    age_gap.mid = rating_gap.mid AND\n",
                "    rating_gap.mid = M.mid\n",
                "ORDER BY movie_similarity DESC\n",
                "LIMIT 10;"
            ],
            "metadata": {
                "azdata_cell_guid": "28cdf65b-3792-424b-959e-fc021f5b048a"
            },
            "outputs": [],
            "execution_count": null
        },
        {
            "cell_type": "markdown",
            "source": [
                "## 3m"
            ],
            "metadata": {
                "azdata_cell_guid": "9e4297ae-3f47-4c32-ba55-054cf34bb757"
            }
        },
        {
            "cell_type": "code",
            "source": [
                "-- Detecting duplicates\n",
                "SELECT title, year, rating, num_ratings, COUNT(*) occurrences\n",
                "FROM movies\n",
                "GROUP BY title, year, rating, num_ratings\n",
                "HAVING COUNT(*) > 1;"
            ],
            "metadata": {
                "azdata_cell_guid": "06d98912-0d98-4d08-83bd-e9970673ef4d",
                "tags": []
            },
            "outputs": [],
            "execution_count": null
        },
        {
            "cell_type": "code",
            "source": [
                "-- Creating a view that contains no duplicates\n",
                "CREATE OR REPLACE VIEW no_duplicates AS \n",
                "SELECT DISTINCT title, year, rating, num_ratings\n",
                "FROM movies\n",
                "GROUP BY title, year, rating, num_ratings;"
            ],
            "metadata": {
                "azdata_cell_guid": "d4512c52-c6aa-465b-8d64-f59e6168a0cc",
                "tags": []
            },
            "outputs": [],
            "execution_count": null
        },
        {
            "cell_type": "markdown",
            "source": [
                "## 4a"
            ],
            "metadata": {
                "azdata_cell_guid": "31a6a019-5195-43f0-89bb-4cc94a2c850b"
            }
        },
        {
            "cell_type": "code",
            "source": [
                "CREATE INDEX actors_index ON actors(name);\r\n",
                "CREATE INDEX actors_id_index ON actors(mid);\r\n",
                "CREATE INDEX movies_index ON movies(title);\r\n",
                "CREATE INDEX movies_count_index ON movies(num_ratings);\r\n",
                "CREATE INDEX movies_rating_index ON movies(rating);\r\n",
                "CREATE INDEX genres_index ON genres(genre);\r\n",
                "CREATE INDEX tag_names_index ON tag_names(tag);\r\n",
                "CREATE INDEX co_actors_index ON actors(mid);\r\n",
                "CREATE INDEX maxim_co_actors ON movies(mid); \r\n",
                "CREATE INDEX most_similar_movies ON tags(tid); "
            ],
            "metadata": {
                "azdata_cell_guid": "e22f059f-bb9f-4021-9ce2-1e07f6a7ba5b",
                "tags": []
            },
            "outputs": [
                {
                    "output_type": "error",
                    "evalue": "relation \"actors_index\" already exists",
                    "ename": "",
                    "traceback": []
                },
                {
                    "output_type": "display_data",
                    "data": {
                        "text/html": "Total execution time: 00:00:00.002"
                    },
                    "metadata": {}
                }
            ],
            "execution_count": 136
        },
        {
            "cell_type": "markdown",
            "source": [
                "## 4b"
            ],
            "metadata": {
                "azdata_cell_guid": "235beb2b-f2b3-483c-855b-8e5444480668"
            }
        },
        {
            "cell_type": "code",
            "source": [
                "-- Profiling Results:\n",
                "\n",
                "-- BEFORE\n",
                "-- 3A: 0.021s\n",
                "-- 3B: 0.005s\n",
                "-- 3C: 0.014s\n",
                "-- 3D: 0.085s\n",
                "-- 3E: 0.014s\n",
                "-- 3F: 0.009s | 0.008s | 0.008s\n",
                "-- 3G: 0.009s\n",
                "-- 3H: 0.101s | 0.101s | 0.171s\n",
                "-- 3I: 0.127s\n",
                "-- 3J: 0.021s | 0.051s | 0.100s | 0.063s\n",
                "-- 3K: 0.016s | 12.39s\n",
                "-- 3L: 23.666s\n",
                "-- 3M: 0.019s\n",
                "\n",
                "-- AFTER\n",
                "-- 3A: 0.006s\n",
                "-- 3B: 0.007s\n",
                "-- 3C: 0.014s\n",
                "-- 3D: 0.082s\n",
                "-- 3E: 0.015s\n",
                "-- 3F: 0.006s | 0.008s | 0.008s\n",
                "-- 3G: 0.009s\n",
                "-- 3H: 0.100s | 0.105s | 0.154s\n",
                "-- 3I: 0.124s\n",
                "-- 3J: 0.008s | 0.050s | 0.102s | 0.138s\n",
                "-- 3K: 0.014s | 11.169s\n",
                "-- 3L: 12.301s\n",
                "-- 3M: 0.024s"
            ],
            "metadata": {
                "azdata_cell_guid": "b863d975-916e-4eda-9707-7591d0e9a01f"
            },
            "outputs": [],
            "execution_count": null
        },
        {
            "cell_type": "markdown",
            "source": [
                "## 4c"
            ],
            "metadata": {
                "azdata_cell_guid": "6d8219b0-83e9-4d72-a122-161c634c0888"
            }
        },
        {
            "cell_type": "code",
            "source": [
                "CREATE MATERIALIZED VIEW maximum_co_actors AS\n",
                "SELECT A2.name, COUNT (DISTINCT A1.name) AS most_co_actors\n",
                "FROM actors A1, actors A2, movies M\n",
                "WHERE \n",
                "    M.mid = A2.mid AND\n",
                "    M.mid = A1.mid\n",
                "GROUP BY A2.name;\n",
                "\n",
                "SELECT name, most_co_actors\n",
                "FROM max_co_actors\n",
                "ORDER BY most_co_actors DESC\n",
                "LIMIT 1;"
            ],
            "metadata": {
                "azdata_cell_guid": "732c7021-5e65-4f48-b8c3-252691d11e00"
            },
            "outputs": [],
            "execution_count": null
        },
        {
            "cell_type": "markdown",
            "source": [
                "## 4d"
            ],
            "metadata": {
                "azdata_cell_guid": "a17b011e-52d3-465e-81f6-357150f5b1e9"
            }
        },
        {
            "cell_type": "code",
            "source": [
                "CREATE MATERIALIZED VIEW common_tags AS\n",
                "    WITH tags_count AS (\n",
                "        SELECT COUNT(tid) \n",
                "        FROM tags\n",
                "    )\n",
                "    SELECT M2.mid, T2.title, T2.count::REAL / C.count::REAL AS tags_similarity\n",
                "    FROM tags_count C, movies M2 RIGHT JOIN (\n",
                "        SELECT M1.mid, M1.title, COUNT(T1.tid)\n",
                "        FROM tags T1, movies M1\n",
                "        WHERE \n",
                "            T1.tid IN (\n",
                "                SELECT T.tid\n",
                "                FROM tags T, movies M\n",
                "                WHERE \n",
                "                    M.title = 'Mr. & Mrs. Smith' AND\n",
                "                    T.mid = M.mid\n",
                "            ) AND \n",
                "            M1.title != 'Mr. & Mrs. Smith' AND\n",
                "            T1.mid = M1.mid\n",
                "        GROUP BY M1.mid, M1.title\n",
                "        ORDER BY COUNT(T1.tid) DESC\n",
                "    ) T2\n",
                "    ON T2.mid = M2.mid\n",
                "    ORDER BY tags_similarity DESC;\n",
                "\n",
                "SELECT * FROM common_tags;"
            ],
            "metadata": {
                "azdata_cell_guid": "b401be27-c2ec-431f-aee0-f822ad99cfbd"
            },
            "outputs": [],
            "execution_count": null
        },
        {
            "cell_type": "code",
            "source": [
                "CREATE MATERIALIZED VIEW common_actors AS\n",
                "    WITH actors_count AS (\n",
                "        SELECT COUNT(distinct name) \n",
                "        FROM actors\n",
                "    )\n",
                "    SELECT M2.mid, A2.title, A2.count::REAL / C.count::REAL AS actors_similarity\n",
                "    FROM actors_count C, movies M2 RIGHT JOIN (\n",
                "        SELECT M1.mid, M1.title, COUNT(A1.name)\n",
                "        FROM actors A1, movies M1\n",
                "        WHERE \n",
                "            A1.name IN (\n",
                "                SELECT A.name\n",
                "                FROM actors A, movies M\n",
                "                WHERE \n",
                "                    M.title = 'Mr. & Mrs. Smith' AND\n",
                "                    A.mid = M.mid\n",
                "            ) AND \n",
                "            M1.title != 'Mr. & Mrs. Smith' AND\n",
                "            A1.mid = M1.mid\n",
                "        GROUP BY M1.mid, M1.title\n",
                "        ORDER BY COUNT(A1.name) DESC\n",
                "    ) A2\n",
                "    ON A2.mid = M2.mid\n",
                "    ORDER BY actors_similarity DESC;\n",
                "\n",
                "SELECT * FROM common_actors;"
            ],
            "metadata": {
                "azdata_cell_guid": "43d8aea7-851a-47ff-afaa-8201a096dbb0"
            },
            "outputs": [],
            "execution_count": null
        },
        {
            "cell_type": "code",
            "source": [
                "CREATE MATERIALIZED VIEW common_genres AS\n",
                "    WITH genres_count AS (\n",
                "        SELECT COUNT(distinct genre) \n",
                "        FROM genres\n",
                "    )\n",
                "    SELECT M2.mid, G2.title, G2.count::REAL / C.count::REAL AS genres_similarity\n",
                "    FROM genres_count C, movies M2 RIGHT JOIN(\n",
                "        SELECT M1.mid, M1.title, COUNT(G1.genre)\n",
                "        FROM genres G1, movies M1\n",
                "        WHERE \n",
                "            G1.genre IN (\n",
                "                SELECT G.genre\n",
                "                FROM genres G, movies M\n",
                "                WHERE \n",
                "                    M.title = 'Mr. & Mrs. Smith' AND\n",
                "                    G.mid = M.mid\n",
                "            ) AND \n",
                "            M1.title != 'Mr. & Mrs. Smith' AND\n",
                "            G1.mid = M1.mid\n",
                "        GROUP BY M1.mid, M1.title\n",
                "        ORDER BY COUNT(G1.genre) DESC\n",
                "    ) G2\n",
                "    ON G2.mid = M2.mid\n",
                "    ORDER BY genres_similarity DESC;\n",
                "\n",
                "SELECT * FROM common_genres;"
            ],
            "metadata": {
                "azdata_cell_guid": "05882968-11b2-460f-8074-15ec9b84e59e"
            },
            "outputs": [],
            "execution_count": null
        },
        {
            "cell_type": "code",
            "source": [
                "CREATE OR REPLACE FUNCTION norm1(REAL) RETURNS REAL\n",
                "    AS \n",
                "        $$\n",
                "        DECLARE normal1 REAL;\n",
                "        BEGIN\n",
                "            SELECT (($1 - 2005) / (MAX(M.year) - MIN(M.year))) INTO normal1\n",
                "            FROM movies M;\n",
                "\n",
                "            RETURN normal1;\n",
                "        END;\n",
                "        $$\n",
                "    LANGUAGE plpgsql;\n",
                "\n",
                "CREATE MATERIALIZED VIEW age_diff AS\n",
                "    SELECT M1.mid, M1.title, norm1(M1.year::REAL) as ageGap\n",
                "    FROM movies M1\n",
                "    GROUP BY M1.mid, M1.title, M1.year\n",
                "    ORDER BY ageGap ASC;\n",
                "\n",
                "SELECT * FROM age_diff;"
            ],
            "metadata": {
                "azdata_cell_guid": "c714e572-7805-4511-9d59-455f04c0c5ef"
            },
            "outputs": [],
            "execution_count": null
        },
        {
            "cell_type": "code",
            "source": [
                "CREATE OR REPLACE FUNCTION norm2(REAL) RETURNS REAL\n",
                "    AS \n",
                "        $$\n",
                "        DECLARE normal2 REAL;\n",
                "        BEGIN\n",
                "            SELECT (($1 - 3.4) / (MAX(M.rating) - MIN(M.rating))) INTO normal2\n",
                "            FROM movies M;\n",
                "\n",
                "            RETURN normal2;\n",
                "        END;\n",
                "        $$\n",
                "    LANGUAGE plpgsql;\n",
                "\n",
                "CREATE MATERIALIZED VIEW rating_diff AS\n",
                "    SELECT M1.mid, M1.title, norm2(M1.rating::REAL) as ratingGap\n",
                "    FROM movies M1\n",
                "    GROUP BY M1.mid, M1.title, M1.rating\n",
                "    ORDER BY ratingGap ASC;\n",
                "\n",
                "SELECT * FROM rating_diff;"
            ],
            "metadata": {
                "azdata_cell_guid": "bd791e62-d595-465b-b71c-acdee284ea5f"
            },
            "outputs": [],
            "execution_count": null
        },
        {
            "cell_type": "code",
            "source": [
                "SELECT M.title, ((tags_similarity + actors_similarity + genres_similarity + ageGap + ratingGap)/5)*100 AS movie_similarity\n",
                "FROM common_tags, common_actors, common_genres, age_diff, rating_diff, movies M\n",
                "WHERE \n",
                "    common_tags.mid = common_actors.mid AND\n",
                "    common_actors.mid = common_genres.mid AND\n",
                "    common_genres.mid = age_diff.mid AND\n",
                "    age_diff.mid = rating_diff.mid AND\n",
                "    rating_diff.mid = M.mid\n",
                "ORDER BY movie_similarity DESC\n",
                "LIMIT 10;"
            ],
            "metadata": {
                "azdata_cell_guid": "43914a61-9d3b-4ab7-a543-4c95f99dc1e0"
            },
            "outputs": [],
            "execution_count": null
        }
    ]
}