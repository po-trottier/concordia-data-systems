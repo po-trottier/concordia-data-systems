{
    "metadata": {
        "kernelspec": {
            "name": "SQL",
            "display_name": "SQL",
            "language": "sql"
        },
        "language_info": {
            "name": "sql",
            "version": ""
        }
    },
    "nbformat_minor": 2,
    "nbformat": 4,
    "cells": [
        {
            "cell_type": "markdown",
            "source": [
                "# SOEN363 Project"
            ],
            "metadata": {
                "azdata_cell_guid": "7ab61aee-16ab-45d8-8e39-d3c92c0c30fe"
            }
        },
        {
            "cell_type": "markdown",
            "source": [
                "## Drop the DB Indecies **(Only for Debugging Purposes)**"
            ],
            "metadata": {
                "azdata_cell_guid": "0c56553e-1854-479d-ad1c-38111412cee0"
            }
        },
        {
            "cell_type": "code",
            "source": [
                "DROP INDEX actors_index;"
            ],
            "metadata": {
                "azdata_cell_guid": "f9d10561-a849-4b20-9781-1cf61bd7df2d"
            },
            "outputs": [],
            "execution_count": null
        },
        {
            "cell_type": "markdown",
            "source": [
                "## Drop the DB Views **(Only for Debugging Purposes)**"
            ],
            "metadata": {
                "azdata_cell_guid": "4e3e0fb2-9340-4e31-8c04-fea08f2ba4af"
            }
        },
        {
            "cell_type": "code",
            "source": [
                "DROP VIEW high_ratings;\r\n",
                "\r\n",
                "DROP VIEW low_ratings;"
            ],
            "metadata": {
                "azdata_cell_guid": "b76174de-3581-4b3d-ae01-217b06409440"
            },
            "outputs": [],
            "execution_count": null
        },
        {
            "cell_type": "markdown",
            "source": [
                "## Drop the DB tables **(Only for Debugging Purposes)**"
            ],
            "metadata": {
                "azdata_cell_guid": "c8445578-4997-4cd0-a0fc-771a4b723ab1"
            }
        },
        {
            "cell_type": "code",
            "source": [
                "DROP TABLE actors;\r\n",
                "\r\n",
                "DROP TABLE genres;\r\n",
                "\r\n",
                "DROP TABLE tags;\r\n",
                "\r\n",
                "DROP TABLE tag_names;\r\n",
                "\r\n",
                "DROP TABLE movies;"
            ],
            "metadata": {
                "azdata_cell_guid": "39caf518-f5f8-46d3-8fdb-222357281cca"
            },
            "outputs": [],
            "execution_count": null
        },
        {
            "cell_type": "markdown",
            "source": [
                "# Assignment Questions\n",
                "## 2a"
            ],
            "metadata": {
                "azdata_cell_guid": "1d9b61ee-dff7-49c5-8307-b5eba63d7fef"
            }
        },
        {
            "cell_type": "code",
            "source": [
                "CREATE TABLE movies (\r\n",
                "    mid             INTEGER UNIQUE, \r\n",
                "    title           VARCHAR, \r\n",
                "    year            INTEGER, \r\n",
                "    rating          REAL CHECK (rating BETWEEN 0.0 AND 5.0), \r\n",
                "    num_ratings     INTEGER,\r\n",
                "    PRIMARY KEY     (mid, title, year)\r\n",
                ");\r\n",
                "\r\n",
                "CREATE TABLE actors (\r\n",
                "    mid             INTEGER REFERENCES movies(mid), \r\n",
                "    name            VARCHAR, \r\n",
                "    cast_position   INTEGER,\r\n",
                "    PRIMARY KEY     (mid, name)\r\n",
                ");\r\n",
                "\r\n",
                "CREATE TABLE genres (\r\n",
                "    mid             INTEGER REFERENCES movies(mid), \r\n",
                "    genre           VARCHAR,\r\n",
                "    PRIMARY KEY     (mid, genre)\r\n",
                ");\r\n",
                "\r\n",
                "CREATE TABLE tag_names (\r\n",
                "    tid             INTEGER, \r\n",
                "    tag             VARCHAR,\r\n",
                "    PRIMARY KEY     (tid)\r\n",
                ");\r\n",
                "\r\n",
                "CREATE TABLE tags (\r\n",
                "    mid             INTEGER REFERENCES movies(mid), \r\n",
                "    tid             INTEGER,\r\n",
                "    PRIMARY KEY     (mid, tid),\r\n",
                "    FOREIGN KEY     (tid) REFERENCES tag_names(tid)\r\n",
                ");\r\n",
                "\r\n",
                "COPY movies FROM '/srv/soen363/phase1/movies.dat';\r\n",
                "\r\n",
                "COPY actors FROM '/srv/soen363/phase1/actors.dat';\r\n",
                "\r\n",
                "COPY genres FROM '/srv/soen363/phase1/genres.dat';\r\n",
                "\r\n",
                "COPY tag_names FROM '/srv/soen363/phase1/tag_names.dat';\r\n",
                "\r\n",
                "COPY tags FROM '/srv/soen363/phase1/tags.dat';"
            ],
            "metadata": {
                "azdata_cell_guid": "dbf4f54e-041e-4a34-99f9-5eca1dc15d8f",
                "tags": []
            },
            "outputs": [],
            "execution_count": null
        },
        {
            "cell_type": "markdown",
            "source": [
                "## 3a"
            ],
            "metadata": {
                "azdata_cell_guid": "b58fc898-d4d4-4f32-85b6-fdd01a323c87"
            }
        },
        {
            "cell_type": "code",
            "source": [
                ""
            ],
            "metadata": {
                "azdata_cell_guid": "fbf5426d-0854-4f50-b4a8-5c95d314ab53"
            },
            "outputs": [],
            "execution_count": null
        },
        {
            "cell_type": "markdown",
            "source": [
                "## 3b"
            ],
            "metadata": {
                "azdata_cell_guid": "e9ea10e1-39a2-43c1-adf7-924341c1b682"
            }
        },
        {
            "cell_type": "code",
            "source": [
                ""
            ],
            "metadata": {
                "azdata_cell_guid": "b33f4d04-bf33-4a44-9f1e-3aeb235534f8"
            },
            "outputs": [],
            "execution_count": null
        },
        {
            "cell_type": "markdown",
            "source": [
                "## 3c"
            ],
            "metadata": {
                "azdata_cell_guid": "9decec30-82cc-4bd2-b175-bd40858b502d"
            }
        },
        {
            "cell_type": "code",
            "source": [
                ""
            ],
            "metadata": {
                "azdata_cell_guid": "c5f006a8-8101-464b-b06a-02311f44bce2"
            },
            "outputs": [],
            "execution_count": null
        },
        {
            "cell_type": "markdown",
            "source": [
                "## 3d"
            ],
            "metadata": {
                "azdata_cell_guid": "670fb4cf-a70a-4fdf-bf1a-3434c29c0be3"
            }
        },
        {
            "cell_type": "code",
            "source": [
                ""
            ],
            "metadata": {
                "azdata_cell_guid": "cc6b3192-8083-42f0-8816-29e9a28be3c8"
            },
            "outputs": [],
            "execution_count": null
        },
        {
            "cell_type": "markdown",
            "source": [
                "## 3e"
            ],
            "metadata": {
                "azdata_cell_guid": "3416f197-4164-4005-97fc-9caaf7710228"
            }
        },
        {
            "cell_type": "code",
            "source": [
                ""
            ],
            "metadata": {
                "azdata_cell_guid": "29526ee9-60b7-48a3-b8cd-922e1787de7c"
            },
            "outputs": [],
            "execution_count": null
        },
        {
            "cell_type": "markdown",
            "source": [
                "## 3f"
            ],
            "metadata": {
                "azdata_cell_guid": "637a0ac8-e7fd-4b60-abc3-d6c6991da592"
            }
        },
        {
            "cell_type": "code",
            "source": [
                ""
            ],
            "metadata": {
                "azdata_cell_guid": "11d8dfb3-223e-462b-a22b-32a89aa49fe7"
            },
            "outputs": [],
            "execution_count": null
        },
        {
            "cell_type": "markdown",
            "source": [
                "## 3g"
            ],
            "metadata": {
                "azdata_cell_guid": "2c400d84-966a-4f38-a35d-3bb0e30c42df"
            }
        },
        {
            "cell_type": "code",
            "source": [
                ""
            ],
            "metadata": {
                "azdata_cell_guid": "d3c40567-2a44-4153-9b3d-1f54cd2544be"
            },
            "outputs": [],
            "execution_count": null
        },
        {
            "cell_type": "markdown",
            "source": [
                "## 3h"
            ],
            "metadata": {
                "azdata_cell_guid": "a48b3344-d387-4ab5-9c47-83b45e078c23"
            }
        },
        {
            "cell_type": "code",
            "source": [
                "-- High Ratings view to get actors that have participated in a movie with a rating >= 4\r\n",
                "CREATE OR REPLACE VIEW high_ratings AS\r\n",
                "    SELECT DISTINCT A.name \r\n",
                "    FROM actors A, movies M\r\n",
                "    WHERE A.mid = m.mid AND m.rating >= 4; \r\n",
                "\r\n",
                "-- Low Ratings view to get actors that have participated in a movie with a rating < 4\r\n",
                "CREATE OR REPLACE VIEW low_ratings AS\r\n",
                "    SELECT DISTINCT A.name \r\n",
                "    FROM actors A, movies M\r\n",
                "    WHERE A.mid = m.mid AND m.rating < 4;\r\n",
                "\r\n",
                "-- Get the actors count coming from High Ratings \r\n",
                "SELECT COUNT(*) as result_count\r\n",
                "FROM high_ratings;\r\n",
                "\r\n",
                "-- Get the actors count coming from Low Ratings\r\n",
                "SELECT COUNT(*) as result_count\r\n",
                "FROM low_ratings;"
            ],
            "metadata": {
                "azdata_cell_guid": "0e4c4076-6483-4442-8467-a0517bfa0d82",
                "tags": []
            },
            "outputs": [],
            "execution_count": null
        },
        {
            "cell_type": "code",
            "source": [
                "-- Get the number of No Flop actors in the database\r\n",
                "SELECT COUNT(*)\r\n",
                "FROM high_ratings\r\n",
                "WHERE name NOT IN (\r\n",
                "    SELECT name\r\n",
                "    FROM low_ratings\r\n",
                ");"
            ],
            "metadata": {
                "azdata_cell_guid": "a5cf124e-5c24-4c12-8c15-e114d3c4991f"
            },
            "outputs": [],
            "execution_count": null
        },
        {
            "cell_type": "code",
            "source": [
                "-- Get the name and movie count of the Top 10 No Flop actors\r\n",
                "SELECT R.name, COUNT(A.*) as movie_count\r\n",
                "FROM high_ratings R, actors A\r\n",
                "WHERE \r\n",
                "    R.name NOT IN (\r\n",
                "        SELECT name\r\n",
                "        FROM low_ratings\r\n",
                "    ) AND \r\n",
                "    A.name = R.NAME\r\n",
                "GROUP BY R.name\r\n",
                "ORDER BY COUNT(A.*) DESC\r\n",
                "LIMIT 10;"
            ],
            "metadata": {
                "azdata_cell_guid": "f853a76f-4a31-4a29-ad89-c23c84b9cac6"
            },
            "outputs": [],
            "execution_count": null
        },
        {
            "cell_type": "markdown",
            "source": [
                "## 3i"
            ],
            "metadata": {
                "azdata_cell_guid": "f8e4b73c-ad44-4b83-bc19-4bc2d42fe1a1"
            }
        },
        {
            "cell_type": "code",
            "source": [
                "SELECT \r\n",
                "    A.name, \r\n",
                "    MIN(M.year) as start, \r\n",
                "    MAX(M.year) as end, \r\n",
                "    MAX(M.year) - MIN(M.year) as longevity\r\n",
                "FROM actors A, movies M\r\n",
                "WHERE A.mid = M.mid\r\n",
                "GROUP BY A.name \r\n",
                "ORDER BY MAX(M.year) - MIN(M.year) DESC\r\n",
                "LIMIT 1;"
            ],
            "metadata": {
                "azdata_cell_guid": "6d9b71fe-c363-4dcf-b5ff-ad5b5932149e"
            },
            "outputs": [],
            "execution_count": null
        },
        {
            "cell_type": "markdown",
            "source": [
                "## 3j"
            ],
            "metadata": {
                "azdata_cell_guid": "735c7aa4-f2f7-4584-a42e-df4074a697d8"
            }
        },
        {
            "cell_type": "code",
            "source": [
                ""
            ],
            "metadata": {
                "azdata_cell_guid": "3d78a34c-2aa8-46bd-a69b-53efd512234d"
            },
            "outputs": [],
            "execution_count": null
        },
        {
            "cell_type": "markdown",
            "source": [
                "## 3k"
            ],
            "metadata": {
                "azdata_cell_guid": "c070df48-d96c-42f9-a282-6356d626d6f1"
            }
        },
        {
            "cell_type": "code",
            "source": [
                ""
            ],
            "metadata": {
                "azdata_cell_guid": "e5f3658e-81a7-4b58-b16d-251f968b94ff"
            },
            "outputs": [],
            "execution_count": null
        },
        {
            "cell_type": "markdown",
            "source": [
                "## 3l"
            ],
            "metadata": {
                "azdata_cell_guid": "0a5225b7-d263-4297-b910-f784954cd7fb"
            }
        },
        {
            "cell_type": "code",
            "source": [
                ""
            ],
            "metadata": {
                "azdata_cell_guid": "9471b6de-9ca3-4b0b-b7c1-78b7513d2080"
            },
            "outputs": [],
            "execution_count": null
        },
        {
            "cell_type": "markdown",
            "source": [
                "## 3m"
            ],
            "metadata": {
                "azdata_cell_guid": "9e4297ae-3f47-4c32-ba55-054cf34bb757"
            }
        },
        {
            "cell_type": "code",
            "source": [
                ""
            ],
            "metadata": {
                "azdata_cell_guid": "06d98912-0d98-4d08-83bd-e9970673ef4d"
            },
            "outputs": [],
            "execution_count": null
        },
        {
            "cell_type": "markdown",
            "source": [
                "## 4a"
            ],
            "metadata": {
                "azdata_cell_guid": "31a6a019-5195-43f0-89bb-4cc94a2c850b"
            }
        },
        {
            "cell_type": "code",
            "source": [
                "CREATE INDEX actors_index ON actors(name);"
            ],
            "metadata": {
                "azdata_cell_guid": "e22f059f-bb9f-4021-9ce2-1e07f6a7ba5b"
            },
            "outputs": [],
            "execution_count": null
        },
        {
            "cell_type": "markdown",
            "source": [
                "## 4b"
            ],
            "metadata": {
                "azdata_cell_guid": "235beb2b-f2b3-483c-855b-8e5444480668"
            }
        },
        {
            "cell_type": "code",
            "source": [
                "-- Profiling Results:\n",
                "\n",
                "--  TBD"
            ],
            "metadata": {
                "azdata_cell_guid": "b863d975-916e-4eda-9707-7591d0e9a01f"
            },
            "outputs": [],
            "execution_count": null
        },
        {
            "cell_type": "markdown",
            "source": [
                "## 4c"
            ],
            "metadata": {
                "azdata_cell_guid": "6d8219b0-83e9-4d72-a122-161c634c0888"
            }
        },
        {
            "cell_type": "code",
            "source": [
                ""
            ],
            "metadata": {
                "azdata_cell_guid": "732c7021-5e65-4f48-b8c3-252691d11e00"
            },
            "outputs": [],
            "execution_count": null
        },
        {
            "cell_type": "markdown",
            "source": [
                "## 4d"
            ],
            "metadata": {
                "azdata_cell_guid": "a17b011e-52d3-465e-81f6-357150f5b1e9"
            }
        },
        {
            "cell_type": "code",
            "source": [
                ""
            ],
            "metadata": {
                "azdata_cell_guid": "b401be27-c2ec-431f-aee0-f822ad99cfbd"
            },
            "outputs": [],
            "execution_count": null
        }
    ]
}