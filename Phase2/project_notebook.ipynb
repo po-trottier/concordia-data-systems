{
    "metadata": {
        "kernelspec": {
            "name": "SQL",
            "display_name": "SQL",
            "language": "sql"
        },
        "language_info": {
            "name": "sql",
            "version": ""
        }
    },
    "nbformat_minor": 2,
    "nbformat": 4,
    "cells": [
        {
            "cell_type": "markdown",
            "source": [
                "# SOEN363 Project"
            ],
            "metadata": {
                "azdata_cell_guid": "7ab61aee-16ab-45d8-8e39-d3c92c0c30fe"
            }
        },
        {
            "cell_type": "markdown",
            "source": [
                "## Drop the DB Indecies **(Only for Debugging Purposes)**"
            ],
            "metadata": {
                "azdata_cell_guid": "0c56553e-1854-479d-ad1c-38111412cee0"
            }
        },
        {
            "cell_type": "code",
            "source": [
                "-- DROP INDEX actors_index;"
            ],
            "metadata": {
                "azdata_cell_guid": "f9d10561-a849-4b20-9781-1cf61bd7df2d"
            },
            "outputs": [],
            "execution_count": null
        },
        {
            "cell_type": "markdown",
            "source": [
                "## Drop the DB Views **(Only for Debugging Purposes)**"
            ],
            "metadata": {
                "azdata_cell_guid": "4e3e0fb2-9340-4e31-8c04-fea08f2ba4af"
            }
        },
        {
            "cell_type": "code",
            "source": [
                "-- DROP VIEW high_ratings;\r\n",
                "-- DROP MATERIALIZED VIEW maximum_co_actors;"
            ],
            "metadata": {
                "azdata_cell_guid": "b76174de-3581-4b3d-ae01-217b06409440"
            },
            "outputs": [],
            "execution_count": null
        },
        {
            "cell_type": "markdown",
            "source": [
                "## Drop the DB tables **(Only for Debugging Purposes)**"
            ],
            "metadata": {
                "azdata_cell_guid": "c8445578-4997-4cd0-a0fc-771a4b723ab1"
            }
        },
        {
            "cell_type": "code",
            "source": [
                "DROP TABLE timelines;\r\n",
                "DROP TABLE participants;\r\n",
                "DROP TABLE bans;\r\n",
                "DROP TABLE teams;\r\n",
                "DROP TABLE games;"
            ],
            "metadata": {
                "azdata_cell_guid": "39caf518-f5f8-46d3-8fdb-222357281cca",
                "tags": []
            },
            "outputs": [
                {
                    "output_type": "display_data",
                    "data": {
                        "text/html": "Commands completed successfully"
                    },
                    "metadata": {}
                },
                {
                    "output_type": "display_data",
                    "data": {
                        "text/html": "Total execution time: 00:00:00.004"
                    },
                    "metadata": {}
                }
            ],
            "execution_count": 36
        },
        {
            "cell_type": "markdown",
            "source": [
                "# Assignment Questions\n",
                "## 2a"
            ],
            "metadata": {
                "azdata_cell_guid": "1d9b61ee-dff7-49c5-8307-b5eba63d7fef"
            }
        },
        {
            "cell_type": "code",
            "source": [
                "CREATE TABLE games (\r\n",
                "    gameCreation    REAL,\r\n",
                "    gameDuration    REAL,\r\n",
                "    gameId          BIGINT NOT NULL,\r\n",
                "    gameMode        TEXT,\r\n",
                "    gameType        TEXT,\r\n",
                "    gameVersion     TEXT,\r\n",
                "    mapId           REAL,\r\n",
                "    platformId      CHAR(8),\r\n",
                "    queueId         REAL,\r\n",
                "    seasonId        REAL,\r\n",
                "    statusCode      REAL,\r\n",
                "    statusMessage   REAL,\r\n",
                "    PRIMARY KEY     (gameId)\r\n",
                ");\r\n",
                "\r\n",
                "CREATE TABLE teams (\r\n",
                "    teamId          INTEGER NOT NULL,\r\n",
                "    win             TEXT,\r\n",
                "    firstBlood      BOOLEAN,\r\n",
                "    firstTower      BOOLEAN,\r\n",
                "    firstInhibitor  BOOLEAN,\r\n",
                "    firstBaron      BOOLEAN,\r\n",
                "    firstDragon     BOOLEAN,\r\n",
                "    firstRiftHerald BOOLEAN,\r\n",
                "    towerKills      INTEGER,\r\n",
                "    inhibitorKills  INTEGER,\r\n",
                "    baronKills      INTEGER,\r\n",
                "    dragonKills     INTEGER,\r\n",
                "    vilemawKills    INTEGER,\r\n",
                "    riftHeraldKills INTEGER,\r\n",
                "    dominionVictoryScore INTEGER,\r\n",
                "    gameId          BIGINT,\r\n",
                "    PRIMARY KEY     (teamId, gameId),\r\n",
                "    FOREIGN KEY     (gameId) REFERENCES games(gameId)\r\n",
                ");\r\n",
                "\r\n",
                "CREATE TABLE bans (\r\n",
                "    championId      INTEGER,\r\n",
                "    pickTurn        INTEGER,\r\n",
                "    gameId          BIGINT,\r\n",
                "    teamId          INTEGER,\r\n",
                "    banId           INTEGER NOT NULL,\r\n",
                "    PRIMARY KEY     (banId, teamId, gameId),\r\n",
                "    FOREIGN KEY     (teamId, gameId) REFERENCES teams(teamId, gameId)\r\n",
                ");\r\n",
                "\r\n",
                "CREATE TABLE participants (\r\n",
                "    participantId   INTEGER NOT NULL,\r\n",
                "    teamId          INTEGER,\r\n",
                "    championId      INTEGER,\r\n",
                "    spell1Id        INTEGER,\r\n",
                "    spell2Id        INTEGER,\r\n",
                "    gameId          BIGINT,\r\n",
                "    PRIMARY KEY     (participantId, gameId),\r\n",
                "    FOREIGN KEY     (gameId) REFERENCES games(gameId)\r\n",
                ");\r\n",
                "\r\n",
                "CREATE TABLE timelines (\r\n",
                "    participantId       INTEGER,\r\n",
                "    creepsPerMinDeltas  TEXT,\r\n",
                "    xpPerMinDeltas      TEXT,\r\n",
                "    goldPerMinDeltas    TEXT,\r\n",
                "    damageTakenPerMinDeltas TEXT,\r\n",
                "    role                TEXT,\r\n",
                "    lane                TEXT,\r\n",
                "    gameId              BIGINT,\r\n",
                "    PRIMARY KEY         (participantId, gameId),\r\n",
                "    FOREIGN KEY         (participantId, gameId) REFERENCES participants(participantId, gameId)\r\n",
                ");\r\n",
                "\r\n",
                "COPY games FROM '/srv/soen363/phase2/games.csv' DELIMITER ',' CSV HEADER;\r\n",
                "COPY teams FROM '/srv/soen363/phase2/teams.csv' DELIMITER ',' CSV HEADER;\r\n",
                "COPY bans FROM '/srv/soen363/phase2/bans.csv' DELIMITER ',' CSV HEADER;\r\n",
                "COPY participants FROM '/srv/soen363/phase2/participants.csv' DELIMITER ',' CSV HEADER;\r\n",
                "-- COPY stats FROM '/srv/soen363/phase2/stats.csv' DELIMITER ',' CSV HEADER;\r\n",
                "COPY timelines FROM '/srv/soen363/phase2/timelines.csv' DELIMITER ',' CSV HEADER;"
            ],
            "metadata": {
                "azdata_cell_guid": "dbf4f54e-041e-4a34-99f9-5eca1dc15d8f",
                "tags": []
            },
            "outputs": [
                {
                    "output_type": "display_data",
                    "data": {
                        "text/html": "Commands completed successfully"
                    },
                    "metadata": {}
                },
                {
                    "output_type": "display_data",
                    "data": {
                        "text/html": "Commands completed successfully"
                    },
                    "metadata": {}
                },
                {
                    "output_type": "display_data",
                    "data": {
                        "text/html": "Commands completed successfully"
                    },
                    "metadata": {}
                },
                {
                    "output_type": "display_data",
                    "data": {
                        "text/html": "Commands completed successfully"
                    },
                    "metadata": {}
                },
                {
                    "output_type": "display_data",
                    "data": {
                        "text/html": "Commands completed successfully"
                    },
                    "metadata": {}
                },
                {
                    "output_type": "display_data",
                    "data": {
                        "text/html": "Commands completed successfully"
                    },
                    "metadata": {}
                },
                {
                    "output_type": "display_data",
                    "data": {
                        "text/html": "Commands completed successfully"
                    },
                    "metadata": {}
                },
                {
                    "output_type": "display_data",
                    "data": {
                        "text/html": "Commands completed successfully"
                    },
                    "metadata": {}
                },
                {
                    "output_type": "display_data",
                    "data": {
                        "text/html": "Commands completed successfully"
                    },
                    "metadata": {}
                },
                {
                    "output_type": "display_data",
                    "data": {
                        "text/html": "Commands completed successfully"
                    },
                    "metadata": {}
                },
                {
                    "output_type": "display_data",
                    "data": {
                        "text/html": "Total execution time: 00:00:00.087"
                    },
                    "metadata": {}
                }
            ],
            "execution_count": 37
        },
        {
            "cell_type": "markdown",
            "source": [
                "# Queries"
            ],
            "metadata": {
                "azdata_cell_guid": "5d542007-854e-4554-98a1-399a129e1298"
            }
        },
        {
            "cell_type": "markdown",
            "source": [
                "## <span style=\"font-size: 13pt; font-family: Lato, sans-serif; color: rgb(255, 255, 255); background-color: transparent; font-variant-numeric: normal; font-variant-east-asian: normal; vertical-align: baseline; white-space: pre-wrap;\">1 - For games which end in surrenders, which champion appeared most often on the losing team?</span>"
            ],
            "metadata": {
                "azdata_cell_guid": "e54b31e2-e5d0-4396-bafb-e312acdc826f"
            }
        },
        {
            "cell_type": "code",
            "source": [
                ""
            ],
            "metadata": {
                "azdata_cell_guid": "e08235ee-8311-48c9-b60e-5430adce2ef7"
            },
            "outputs": [],
            "execution_count": null
        },
        {
            "cell_type": "markdown",
            "source": [
                "## <span style=\"font-size: 13pt; font-family: Lato, sans-serif; color: rgb(255, 255, 255); background-color: transparent; font-variant-numeric: normal; font-variant-east-asian: normal; vertical-align: baseline; white-space: pre-wrap;\">2 - For games which end in surrenders, which champion appeared most often on the winning team?</span>"
            ],
            "metadata": {
                "azdata_cell_guid": "cdbb37cf-1712-4dc9-a336-e52e0b38c98b"
            }
        },
        {
            "cell_type": "code",
            "source": [
                ""
            ],
            "metadata": {
                "azdata_cell_guid": "c356f65d-a736-43d5-8103-36c63de890fa"
            },
            "outputs": [],
            "execution_count": null
        },
        {
            "cell_type": "markdown",
            "source": [
                "## <span style=\"font-size: 13pt; font-family: Lato, sans-serif; color: rgb(255, 255, 255); background-color: transparent; font-variant-numeric: normal; font-variant-east-asian: normal; vertical-align: baseline; white-space: pre-wrap;\">3 - Does the team with the highest total vision score win more often?</span>"
            ],
            "metadata": {
                "azdata_cell_guid": "33906b70-1e6a-45ce-8aaf-6ccee478957d"
            }
        },
        {
            "cell_type": "code",
            "source": [
                ""
            ],
            "metadata": {
                "azdata_cell_guid": "62fdf41f-60cf-4c75-929d-4578780ca0ed"
            },
            "outputs": [],
            "execution_count": null
        },
        {
            "cell_type": "markdown",
            "source": [
                "## <span style=\"font-size: 13pt; font-family: Lato, sans-serif; color: rgb(255, 255, 255); background-color: transparent; font-variant-numeric: normal; font-variant-east-asian: normal; vertical-align: baseline; white-space: pre-wrap;\">4 - Does the team that kills the first Rift Herald win more often?</span>"
            ],
            "metadata": {
                "azdata_cell_guid": "f619cc85-e1ba-4d6e-9fa8-0c99588d73b4"
            }
        },
        {
            "cell_type": "code",
            "source": [
                ""
            ],
            "metadata": {
                "azdata_cell_guid": "0f830272-5c3b-49f0-b702-03872f352cdb"
            },
            "outputs": [],
            "execution_count": null
        },
        {
            "cell_type": "markdown",
            "source": [
                "## <span style=\"font-size: 13pt; font-family: Lato, sans-serif; color: rgb(255, 255, 255); background-color: transparent; font-variant-numeric: normal; font-variant-east-asian: normal; vertical-align: baseline; white-space: pre-wrap;\">5 - Which lane gets the most multikills on average?</span>"
            ],
            "metadata": {
                "azdata_cell_guid": "9f152d6f-774b-4494-9e1e-a1db4d8dcf3b"
            }
        },
        {
            "cell_type": "code",
            "source": [
                ""
            ],
            "metadata": {
                "azdata_cell_guid": "823207a4-74a3-4533-80ea-8613897ba60e"
            },
            "outputs": [],
            "execution_count": null
        },
        {
            "cell_type": "markdown",
            "source": [
                "## 6 - Which champion (championId) gets the most kills in a game on average?"
            ],
            "metadata": {
                "azdata_cell_guid": "b700cd4b-0230-4980-918b-22158565ccc3"
            }
        },
        {
            "cell_type": "code",
            "source": [
                ""
            ],
            "metadata": {
                "azdata_cell_guid": "131871e9-0459-4f3f-ae44-435859599b21"
            },
            "outputs": [
                {
                    "output_type": "display_data",
                    "data": {
                        "text/html": "Total execution time: 00:00:00"
                    },
                    "metadata": {}
                }
            ],
            "execution_count": 38
        },
        {
            "cell_type": "markdown",
            "source": [
                "## 7 - Which champion (championId) dies the most in a game on average?"
            ],
            "metadata": {
                "azdata_cell_guid": "acf26a62-48fb-4375-b4ac-e0884ca309a7"
            }
        },
        {
            "cell_type": "code",
            "source": [
                ""
            ],
            "metadata": {
                "azdata_cell_guid": "4b5a7b29-73a7-441c-9073-831db811b9db"
            },
            "outputs": [],
            "execution_count": null
        },
        {
            "cell_type": "markdown",
            "source": [
                "## 8 - Which champion (championId) gets the most assists in a game on average?"
            ],
            "metadata": {
                "azdata_cell_guid": "0f265d2d-ad2c-4c2d-bf05-ffc0375d929f"
            }
        },
        {
            "cell_type": "code",
            "source": [
                ""
            ],
            "metadata": {
                "azdata_cell_guid": "4f57a769-48f6-4589-9afa-e2ce2f7c85a3"
            },
            "outputs": [],
            "execution_count": null
        },
        {
            "cell_type": "markdown",
            "source": [
                "## 9 - Does the team that gets the Dragon Soul (4 dragon kills in a game) win considerably more often?"
            ],
            "metadata": {
                "azdata_cell_guid": "63c8653e-1f3f-4fd8-a8f8-3192809cf3e6"
            }
        },
        {
            "cell_type": "code",
            "source": [
                ""
            ],
            "metadata": {
                "azdata_cell_guid": "57ec8168-8e77-487d-b90b-4e99e7e03d26"
            },
            "outputs": [],
            "execution_count": null
        },
        {
            "cell_type": "markdown",
            "source": [
                "## 10 - Which champion (championId) gains the most gold per minute in a game on average?"
            ],
            "metadata": {
                "azdata_cell_guid": "3ef9990a-ab98-4979-b69f-1ed314863e07"
            }
        },
        {
            "cell_type": "code",
            "source": [
                ""
            ],
            "metadata": {
                "azdata_cell_guid": "e39f21a5-d237-4053-a18c-b88ee8cc1aa0"
            },
            "outputs": [],
            "execution_count": null
        },
        {
            "cell_type": "markdown",
            "source": [
                "# Indices"
            ],
            "metadata": {
                "azdata_cell_guid": "73c1a6a9-e5fd-4c33-a5be-bd452826e303"
            }
        }
    ]
}