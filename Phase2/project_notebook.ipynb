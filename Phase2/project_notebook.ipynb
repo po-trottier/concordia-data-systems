{
    "metadata": {
        "kernelspec": {
            "name": "SQL",
            "display_name": "SQL",
            "language": "sql"
        },
        "language_info": {
            "name": "sql",
            "version": ""
        }
    },
    "nbformat_minor": 2,
    "nbformat": 4,
    "cells": [
        {
            "cell_type": "markdown",
            "source": [
                "# SOEN363 Project"
            ],
            "metadata": {
                "azdata_cell_guid": "7ab61aee-16ab-45d8-8e39-d3c92c0c30fe"
            }
        },
        {
            "cell_type": "markdown",
            "source": [
                "## Drop the DB Indecies **(Only for Debugging Purposes)**"
            ],
            "metadata": {
                "azdata_cell_guid": "0c56553e-1854-479d-ad1c-38111412cee0"
            }
        },
        {
            "cell_type": "code",
            "source": [
                "-- DROP INDEX actors_index;"
            ],
            "metadata": {
                "azdata_cell_guid": "f9d10561-a849-4b20-9781-1cf61bd7df2d"
            },
            "outputs": [],
            "execution_count": null
        },
        {
            "cell_type": "markdown",
            "source": [
                "## Drop the DB Views **(Only for Debugging Purposes)**"
            ],
            "metadata": {
                "azdata_cell_guid": "4e3e0fb2-9340-4e31-8c04-fea08f2ba4af"
            }
        },
        {
            "cell_type": "code",
            "source": [
                "-- DROP VIEW high_ratings;\r\n",
                "-- DROP MATERIALIZED VIEW maximum_co_actors;"
            ],
            "metadata": {
                "azdata_cell_guid": "b76174de-3581-4b3d-ae01-217b06409440"
            },
            "outputs": [],
            "execution_count": null
        },
        {
            "cell_type": "markdown",
            "source": [
                "## Drop the DB tables **(Only for Debugging Purposes)**"
            ],
            "metadata": {
                "azdata_cell_guid": "c8445578-4997-4cd0-a0fc-771a4b723ab1"
            }
        },
        {
            "cell_type": "code",
            "source": [
                "DROP TABLE timelines;\r\n",
                "DROP TABLE stats cascade; \r\n",
                "DROP TABLE participants cascade;\r\n",
                "DROP TABLE bans cascade;\r\n",
                "DROP TABLE teams cascade;\r\n",
                "DROP TABLE games cascade;"
            ],
            "metadata": {
                "azdata_cell_guid": "39caf518-f5f8-46d3-8fdb-222357281cca",
                "tags": []
            },
            "outputs": [
                {
                    "output_type": "error",
                    "evalue": "cannot drop view winning_team because other objects depend on it",
                    "ename": "",
                    "traceback": []
                },
                {
                    "output_type": "display_data",
                    "data": {
                        "text/html": "Total execution time: 00:00:00.003"
                    },
                    "metadata": {}
                }
            ],
            "execution_count": 59
        },
        {
            "cell_type": "code",
            "source": [
                "DROP VIEW winning_team;\n",
                "DROP VIEW losing_team; \n",
                "DROP VIEW something_about_CC;\n",
                "DROP VIEW something_about_vision;"
            ],
            "metadata": {
                "azdata_cell_guid": "5b029b91-d169-4859-aada-6019aafa8ea7",
                "tags": []
            },
            "outputs": [],
            "execution_count": null
        },
        {
            "cell_type": "code",
            "source": [
                "CREATE INDEX game_id_index ON games(gameId);\n",
                "CREATE INDEX participant_id_index ON participants(participantId);\n",
                "CREATE INDEX gameType_index ON games(gameType);\n",
                "CREATE INDEX champion_id_index ON participants(championId);\n",
                "CREATE INDEX team_id_index ON participants(teamId);"
            ],
            "metadata": {
                "azdata_cell_guid": "23c32021-2804-42ac-a4de-482cfd192e8b",
                "tags": []
            },
            "outputs": [],
            "execution_count": null
        },
        {
            "cell_type": "markdown",
            "source": [
                "# Assignment Questions\n",
                "\n",
                "## Create tables and import data"
            ],
            "metadata": {
                "azdata_cell_guid": "1d9b61ee-dff7-49c5-8307-b5eba63d7fef"
            }
        },
        {
            "cell_type": "code",
            "source": [
                "CREATE TABLE games (\r\n",
                "    gameCreation    REAL,\r\n",
                "    gameDuration    REAL,\r\n",
                "    gameId          BIGINT NOT NULL,\r\n",
                "    gameMode        TEXT,\r\n",
                "    gameType        TEXT,\r\n",
                "    gameVersion     TEXT,\r\n",
                "    mapId           REAL,\r\n",
                "    platformId      CHAR(8),\r\n",
                "    queueId         REAL,\r\n",
                "    seasonId        REAL,\r\n",
                "    statusCode      REAL,\r\n",
                "    statusMessage   REAL,\r\n",
                "    PRIMARY KEY     (gameId)\r\n",
                ");\r\n",
                "\r\n",
                "CREATE TABLE teams (\r\n",
                "    teamId          INTEGER NOT NULL,\r\n",
                "    win             TEXT,\r\n",
                "    firstBlood      BOOLEAN,\r\n",
                "    firstTower      BOOLEAN,\r\n",
                "    firstInhibitor  BOOLEAN,\r\n",
                "    firstBaron      BOOLEAN,\r\n",
                "    firstDragon     BOOLEAN,\r\n",
                "    firstRiftHerald BOOLEAN,\r\n",
                "    towerKills      INTEGER,\r\n",
                "    inhibitorKills  INTEGER,\r\n",
                "    baronKills      INTEGER,\r\n",
                "    dragonKills     INTEGER,\r\n",
                "    vilemawKills    INTEGER,\r\n",
                "    riftHeraldKills INTEGER,\r\n",
                "    dominionVictoryScore INTEGER,\r\n",
                "    gameId          BIGINT,\r\n",
                "    PRIMARY KEY     (teamId, gameId),\r\n",
                "    FOREIGN KEY     (gameId) REFERENCES games(gameId)\r\n",
                ");\r\n",
                "\r\n",
                "CREATE TABLE bans (\r\n",
                "    championId      INTEGER,\r\n",
                "    pickTurn        INTEGER,\r\n",
                "    gameId          BIGINT,\r\n",
                "    teamId          INTEGER,\r\n",
                "    banId           INTEGER NOT NULL,\r\n",
                "    PRIMARY KEY     (banId, teamId, gameId),\r\n",
                "    FOREIGN KEY     (teamId, gameId) REFERENCES teams(teamId, gameId)\r\n",
                ");\r\n",
                "\r\n",
                "CREATE TABLE participants (\r\n",
                "    participantId   INTEGER NOT NULL,\r\n",
                "    teamId          INTEGER,\r\n",
                "    championId      INTEGER,\r\n",
                "    spell1Id        INTEGER,\r\n",
                "    spell2Id        INTEGER,\r\n",
                "    gameId          BIGINT,\r\n",
                "    PRIMARY KEY     (participantId, gameId),\r\n",
                "    FOREIGN KEY     (gameId) REFERENCES games(gameId)\r\n",
                ");\r\n",
                "\r\n",
                "CREATE TABLE stats (\r\n",
                "    participantId\t                INTEGER,\r\n",
                "    win\t                            BOOLEAN,\r\n",
                "    item0\t                        INTEGER,\r\n",
                "    item1\t                        INTEGER,\r\n",
                "    item2\t                        INTEGER,\r\n",
                "    item3\t                        INTEGER,\r\n",
                "    item4\t                        INTEGER,\r\n",
                "    item5\t                        INTEGER,\r\n",
                "    item6\t                        INTEGER,\r\n",
                "    kills\t                        INTEGER,\r\n",
                "    deaths\t                        INTEGER,\r\n",
                "    assists\t                        INTEGER,\r\n",
                "    largestKillingSpree             INTEGER,\t\r\n",
                "    largestMultiKill\t            INTEGER,\r\n",
                "    killingSprees\t                INTEGER,\r\n",
                "    longestTimeSpentLiving\t        INTEGER,\r\n",
                "    doubleKills\t                    INTEGER,\r\n",
                "    tripleKills\t                    INTEGER,\r\n",
                "    quadraKills\t                    INTEGER,\r\n",
                "    pentaKills\t                    INTEGER,\r\n",
                "    unrealKills\t                    INTEGER,\r\n",
                "    totalDamageDealt\t            INTEGER,\r\n",
                "    magicDamageDealt\t            INTEGER,\r\n",
                "    physicalDamageDealt\t            INTEGER,\r\n",
                "    trueDamageDealt\t                INTEGER,\r\n",
                "    largestCriticalStrike\t        INTEGER,\r\n",
                "    totalDamageDealtToChampions\t    INTEGER,\r\n",
                "    magicDamageDealtToChampions\t    INTEGER,\r\n",
                "    physicalDamageDealtToChampions\tINTEGER,\r\n",
                "    trueDamageDealtToChampions\t    INTEGER,\r\n",
                "    totalHeal\t                    INTEGER,\r\n",
                "    totalUnitsHealed\t            INTEGER,\r\n",
                "    damageSelfMitigated\t            INTEGER,\r\n",
                "    damageDealtToObjectives\t        INTEGER,\r\n",
                "    damageDealtToTurrets\t        INTEGER,\r\n",
                "    visionScore\t                    INTEGER,\r\n",
                "    timeCCingOthers\t                INTEGER,\r\n",
                "    totalDamageTaken\t            INTEGER,\r\n",
                "    magicalDamageTaken\t            INTEGER,\r\n",
                "    physicalDamageTaken\t            INTEGER,\r\n",
                "    trueDamageTaken\t                INTEGER,\r\n",
                "    goldEarned\t                    INTEGER,\r\n",
                "    goldSpent\t                    INTEGER,\r\n",
                "    turretKills\t                    INTEGER,\r\n",
                "    inhibitorKills\t                INTEGER,\r\n",
                "    totalMinionsKilled\t            INTEGER,\r\n",
                "    neutralMinionsKilled\t        INTEGER,\r\n",
                "    neutralMinionsKilledTeamJungle\tINTEGER,\r\n",
                "    neutralMinionsKilledEnemyJungle\tINTEGER,\r\n",
                "    totalTimeCrowdControlDealt\t    INTEGER,\r\n",
                "    champLevel\t                    INTEGER,\r\n",
                "    visionWardsBoughtInGame\t        INTEGER,\r\n",
                "    sightWardsBoughtInGame\t        INTEGER,\r\n",
                "    wardsPlaced\t                    INTEGER,\r\n",
                "    wardsKilled                     INTEGER,\r\n",
                "    firstBloodKill\t                BOOLEAN,\r\n",
                "    firstBloodAssist\t            BOOLEAN,\r\n",
                "    firstTowerKill\t                BOOLEAN,\r\n",
                "    firstTowerAssist\t            BOOLEAN,\r\n",
                "    firstInhibitorKill\t            BOOLEAN,\r\n",
                "    firstInhibitorAssist\t        BOOLEAN,\r\n",
                "    combatPlayerScore\t\t        INTEGER,\r\n",
                "    objectivePlayerScor             INTEGER,\r\n",
                "    totalPlayerScor    \t            INTEGER,\r\n",
                "    totalScoreRank\t\t            INTEGER,\r\n",
                "    playerScore0\t\t            INTEGER,\r\n",
                "    playerScore1\t\t            INTEGER,\r\n",
                "    playerScore2\t\t            INTEGER,\r\n",
                "    playerScore3\t\t            INTEGER,\r\n",
                "    playerScore4\t\t            INTEGER,\r\n",
                "    playerScore5\t\t            INTEGER,\r\n",
                "    playerScore6\t\t            INTEGER,\r\n",
                "    playerScore7\t\t            INTEGER,\r\n",
                "    playerScore8\t\t            INTEGER,\r\n",
                "    playerScore9\t\t            INTEGER,\r\n",
                "    perk0\t\t                    INTEGER,\r\n",
                "    perk0Var1\t\t                INTEGER,\r\n",
                "    perk0Var2\t\t                INTEGER,\r\n",
                "    perk0Var3\t\t                INTEGER,\r\n",
                "    perk1\t\t                    INTEGER,\r\n",
                "    perk1Var1\t\t                INTEGER,\r\n",
                "    perk1Var2\t\t                INTEGER,\r\n",
                "    perk1Var3\t\t                INTEGER,\r\n",
                "    perk2\t\t                    INTEGER,\r\n",
                "    perk2Var1\t\t                INTEGER,\r\n",
                "    perk2Var2\t\t                INTEGER,\r\n",
                "    perk2Var3\t\t                INTEGER,\r\n",
                "    perk3\t\t                    INTEGER,\r\n",
                "    perk3Var1\t\t                INTEGER,\r\n",
                "    perk3Var2\t\t                INTEGER,\r\n",
                "    perk3Var3\t\t                INTEGER,\r\n",
                "    perk4\t\t                    INTEGER,\r\n",
                "    perk4Var1\t\t                INTEGER,\r\n",
                "    perk4Var2\t\t                INTEGER,\r\n",
                "    perk4Var3\t\t                INTEGER,\r\n",
                "    perk5\t\t                    INTEGER,\r\n",
                "    perk5Var1\t\t                INTEGER,\r\n",
                "    perk5Var2\t\t                INTEGER,\r\n",
                "    perk5Var3\t\t                INTEGER,\r\n",
                "    perkPrimaryStyle\t\t        INTEGER,\r\n",
                "    perkSubStyle\t\t            INTEGER,\r\n",
                "    statPerk0\t\t                INTEGER,\r\n",
                "    statPerk1\t\t                INTEGER,\r\n",
                "    statPerk2\t                    INTEGER,\r\n",
                "    gameId                          BIGINT,\r\n",
                "    PRIMARY KEY         (participantId, gameId),\r\n",
                "    FOREIGN KEY         (participantId, gameId) REFERENCES participants(participantId, gameId)\r\n",
                "); \r\n",
                "\r\n",
                "CREATE TABLE timelines (\r\n",
                "    participantId       INTEGER,\r\n",
                "    creepsPerMinDeltas  TEXT,\r\n",
                "    xpPerMinDeltas      TEXT,\r\n",
                "    goldPerMinDeltas    TEXT,\r\n",
                "    damageTakenPerMinDeltas TEXT,\r\n",
                "    role                TEXT,\r\n",
                "    lane                TEXT,\r\n",
                "    gameId              BIGINT,\r\n",
                "    PRIMARY KEY         (participantId, gameId),\r\n",
                "    FOREIGN KEY         (participantId, gameId) REFERENCES participants(participantId, gameId)\r\n",
                ");\r\n",
                "\r\n",
                "COPY games FROM '/srv/soen363/phase2/games.csv' DELIMITER ',' CSV HEADER;\r\n",
                "COPY teams FROM '/srv/soen363/phase2/teams.csv' DELIMITER ',' CSV HEADER;\r\n",
                "COPY bans FROM '/srv/soen363/phase2/bans.csv' DELIMITER ',' CSV HEADER;\r\n",
                "COPY participants FROM '/srv/soen363/phase2/participants.csv' DELIMITER ',' CSV HEADER;\r\n",
                "COPY stats FROM '/srv/soen363/phase2/stats.csv' DELIMITER ',' CSV HEADER;\r\n",
                "COPY timelines FROM '/srv/soen363/phase2/timelines.csv' DELIMITER ',' CSV HEADER;"
            ],
            "metadata": {
                "azdata_cell_guid": "dbf4f54e-041e-4a34-99f9-5eca1dc15d8f",
                "tags": []
            },
            "outputs": [
                {
                    "output_type": "display_data",
                    "data": {
                        "text/html": "Commands completed successfully"
                    },
                    "metadata": {}
                },
                {
                    "output_type": "display_data",
                    "data": {
                        "text/html": "Commands completed successfully"
                    },
                    "metadata": {}
                },
                {
                    "output_type": "display_data",
                    "data": {
                        "text/html": "Commands completed successfully"
                    },
                    "metadata": {}
                },
                {
                    "output_type": "display_data",
                    "data": {
                        "text/html": "Commands completed successfully"
                    },
                    "metadata": {}
                },
                {
                    "output_type": "display_data",
                    "data": {
                        "text/html": "Commands completed successfully"
                    },
                    "metadata": {}
                },
                {
                    "output_type": "display_data",
                    "data": {
                        "text/html": "Commands completed successfully"
                    },
                    "metadata": {}
                },
                {
                    "output_type": "display_data",
                    "data": {
                        "text/html": "Commands completed successfully"
                    },
                    "metadata": {}
                },
                {
                    "output_type": "display_data",
                    "data": {
                        "text/html": "Commands completed successfully"
                    },
                    "metadata": {}
                },
                {
                    "output_type": "display_data",
                    "data": {
                        "text/html": "Commands completed successfully"
                    },
                    "metadata": {}
                },
                {
                    "output_type": "display_data",
                    "data": {
                        "text/html": "Commands completed successfully"
                    },
                    "metadata": {}
                },
                {
                    "output_type": "display_data",
                    "data": {
                        "text/html": "Commands completed successfully"
                    },
                    "metadata": {}
                },
                {
                    "output_type": "display_data",
                    "data": {
                        "text/html": "Commands completed successfully"
                    },
                    "metadata": {}
                },
                {
                    "output_type": "display_data",
                    "data": {
                        "text/html": "Total execution time: 00:00:00.890"
                    },
                    "metadata": {}
                }
            ],
            "execution_count": 52
        },
        {
            "cell_type": "markdown",
            "source": [
                "# Queries"
            ],
            "metadata": {
                "azdata_cell_guid": "5d542007-854e-4554-98a1-399a129e1298"
            }
        },
        {
            "cell_type": "code",
            "source": [
                "CREATE OR REPLACE VIEW bans_filtered AS\n",
                "SELECT b.* FROM bans AS b \n",
                "INNER JOIN games AS g ON b.gameId = g.gameId\n",
                "WHERE g.gameMode = 'CLASSIC';"
            ],
            "metadata": {
                "azdata_cell_guid": "6890f554-9809-4181-9d43-78f9e609f08d"
            },
            "outputs": [
                {
                    "output_type": "display_data",
                    "data": {
                        "text/html": "Commands completed successfully"
                    },
                    "metadata": {}
                },
                {
                    "output_type": "display_data",
                    "data": {
                        "text/html": "Total execution time: 00:00:00.005"
                    },
                    "metadata": {}
                }
            ],
            "execution_count": 261
        },
        {
            "cell_type": "code",
            "source": [
                "CREATE OR REPLACE VIEW games_filtered AS\n",
                "SELECT * FROM games\n",
                "WHERE games.gameMode = 'CLASSIC';"
            ],
            "metadata": {
                "azdata_cell_guid": "5cb121b1-9f40-4f01-97cf-798487629072"
            },
            "outputs": [
                {
                    "output_type": "display_data",
                    "data": {
                        "text/html": "Commands completed successfully"
                    },
                    "metadata": {}
                },
                {
                    "output_type": "display_data",
                    "data": {
                        "text/html": "Total execution time: 00:00:00.013"
                    },
                    "metadata": {}
                }
            ],
            "execution_count": 262
        },
        {
            "cell_type": "code",
            "source": [
                "CREATE OR REPLACE VIEW participants_filtered AS\n",
                "SELECT p.* FROM participants as p\n",
                "INNER JOIN games AS g ON p.gameId = g.gameId\n",
                "WHERE g.gameMode = 'CLASSIC';"
            ],
            "metadata": {
                "azdata_cell_guid": "9303a0d6-72bf-4cc9-a142-f84ae62da873"
            },
            "outputs": [
                {
                    "output_type": "display_data",
                    "data": {
                        "text/html": "Commands completed successfully"
                    },
                    "metadata": {}
                },
                {
                    "output_type": "display_data",
                    "data": {
                        "text/html": "Total execution time: 00:00:00.005"
                    },
                    "metadata": {}
                }
            ],
            "execution_count": 263
        },
        {
            "cell_type": "code",
            "source": [
                "CREATE OR REPLACE VIEW stats_filtered AS\n",
                "SELECT s.* FROM stats as s\n",
                "INNER JOIN games AS g ON s.gameId = g.gameId\n",
                "WHERE g.gameMode = 'CLASSIC';"
            ],
            "metadata": {
                "azdata_cell_guid": "8424a097-d2ba-4246-8e9e-c0e264c74cdf"
            },
            "outputs": [
                {
                    "output_type": "display_data",
                    "data": {
                        "text/html": "Commands completed successfully"
                    },
                    "metadata": {}
                },
                {
                    "output_type": "display_data",
                    "data": {
                        "text/html": "Total execution time: 00:00:00.009"
                    },
                    "metadata": {}
                }
            ],
            "execution_count": 283
        },
        {
            "cell_type": "code",
            "source": [
                "CREATE OR REPLACE VIEW teams_filtered AS\n",
                "SELECT t.* FROM teams as t\n",
                "INNER JOIN games AS g ON t.gameId = g.gameId\n",
                "WHERE g.gameMode = 'CLASSIC';"
            ],
            "metadata": {
                "azdata_cell_guid": "c74696b3-1510-4b28-9846-8e87c4f0b3e8"
            },
            "outputs": [
                {
                    "output_type": "display_data",
                    "data": {
                        "text/html": "Commands completed successfully"
                    },
                    "metadata": {}
                },
                {
                    "output_type": "display_data",
                    "data": {
                        "text/html": "Total execution time: 00:00:00.007"
                    },
                    "metadata": {}
                }
            ],
            "execution_count": 265
        },
        {
            "cell_type": "code",
            "source": [
                "CREATE OR REPLACE VIEW timelines_filterd AS\n",
                "SELECT time.* FROM timelines as time\n",
                "INNER JOIN games AS g ON time.gameId = g.gameId\n",
                "WHERE g.gameMode = 'CLASSIC';"
            ],
            "metadata": {
                "azdata_cell_guid": "bcdaafbb-7e3a-45c5-b021-2aad30ec3459"
            },
            "outputs": [
                {
                    "output_type": "display_data",
                    "data": {
                        "text/html": "Commands completed successfully"
                    },
                    "metadata": {}
                },
                {
                    "output_type": "display_data",
                    "data": {
                        "text/html": "Total execution time: 00:00:00.006"
                    },
                    "metadata": {}
                }
            ],
            "execution_count": 266
        },
        {
            "cell_type": "markdown",
            "source": [
                "## <span style=\"font-size: 13pt; font-family: Lato, sans-serif; color: rgb(255, 255, 255); background-color: transparent; font-variant-numeric: normal; font-variant-east-asian: normal; vertical-align: baseline; white-space: pre-wrap;\">1 - </span> 1 - What is the average tower kill per team?"
            ],
            "metadata": {
                "azdata_cell_guid": "e54b31e2-e5d0-4396-bafb-e312acdc826f"
            }
        },
        {
            "cell_type": "code",
            "source": [
                "CREATE OR REPLACE VIEW teams_100 AS\n",
                "SELECT teamId, gameId, AVG(towerKills) AS avg_100\n",
                "FROM teams_filtered\n",
                "WHERE teamId = 100\n",
                "GROUP BY teamId, gameId;"
            ],
            "metadata": {
                "azdata_cell_guid": "e08235ee-8311-48c9-b60e-5430adce2ef7"
            },
            "outputs": [
                {
                    "output_type": "display_data",
                    "data": {
                        "text/html": "Commands completed successfully"
                    },
                    "metadata": {}
                },
                {
                    "output_type": "display_data",
                    "data": {
                        "text/html": "Total execution time: 00:00:00.006"
                    },
                    "metadata": {}
                }
            ],
            "execution_count": 268
        },
        {
            "cell_type": "code",
            "source": [
                "CREATE OR REPLACE VIEW teams_200 AS\n",
                "SELECT teamId, gameId, AVG(towerKills) AS avg_200\n",
                "FROM teams_filtered\n",
                "WHERE teamId = 200\n",
                "GROUP BY teamId, gameId;"
            ],
            "metadata": {
                "azdata_cell_guid": "c74be551-6280-490b-9e9b-2c6eab56d70b",
                "tags": []
            },
            "outputs": [
                {
                    "output_type": "display_data",
                    "data": {
                        "text/html": "Commands completed successfully"
                    },
                    "metadata": {}
                },
                {
                    "output_type": "display_data",
                    "data": {
                        "text/html": "Total execution time: 00:00:00.006"
                    },
                    "metadata": {}
                }
            ],
            "execution_count": 269
        },
        {
            "cell_type": "code",
            "source": [
                "SELECT (AVG(avg_100) + AVG(avg_200)) / 2 AS average_tower_kills_per_team\n",
                "FROM teams_100, teams_200;\n",
                ""
            ],
            "metadata": {
                "azdata_cell_guid": "4cd49afb-22cb-4153-acfb-adc85e3ce870"
            },
            "outputs": [
                {
                    "output_type": "display_data",
                    "data": {
                        "text/html": "(1 row(s) affected)"
                    },
                    "metadata": {}
                },
                {
                    "output_type": "display_data",
                    "data": {
                        "text/html": "Total execution time: 00:00:00.188"
                    },
                    "metadata": {}
                },
                {
                    "output_type": "execute_result",
                    "metadata": {},
                    "execution_count": 270,
                    "data": {
                        "application/vnd.dataresource+json": {
                            "schema": {
                                "fields": [
                                    {
                                        "name": "average_tower_kills_per_team"
                                    }
                                ]
                            },
                            "data": [
                                {
                                    "0": "4.52731326644370122631"
                                }
                            ]
                        },
                        "text/html": [
                            "<table>",
                            "<tr><th>average_tower_kills_per_team</th></tr>",
                            "<tr><td>4.52731326644370122631</td></tr>",
                            "</table>"
                        ]
                    }
                }
            ],
            "execution_count": 270
        },
        {
            "cell_type": "markdown",
            "source": [
                "## <span style=\"font-size: 13pt; font-family: Lato, sans-serif; color: rgb(255, 255, 255); background-color: transparent; font-variant-numeric: normal; font-variant-east-asian: normal; vertical-align: baseline; white-space: pre-wrap;\">2 - </span> Does the team with the most time CCing others usually win the game?"
            ],
            "metadata": {
                "azdata_cell_guid": "cdbb37cf-1712-4dc9-a336-e52e0b38c98b"
            }
        },
        {
            "cell_type": "code",
            "source": [
                "CREATE OR REPLACE VIEW winning_team AS\n",
                "SELECT DISTINCT *\n",
                "FROM stats_filterd\n",
                "WHERE win = 'true';"
            ],
            "metadata": {
                "azdata_cell_guid": "c356f65d-a736-43d5-8103-36c63de890fa"
            },
            "outputs": [
                {
                    "output_type": "display_data",
                    "data": {
                        "text/html": "Commands completed successfully"
                    },
                    "metadata": {}
                },
                {
                    "output_type": "display_data",
                    "data": {
                        "text/html": "Total execution time: 00:00:00.008"
                    },
                    "metadata": {}
                }
            ],
            "execution_count": 271
        },
        {
            "cell_type": "code",
            "source": [
                "CREATE OR REPLACE VIEW losing_team AS\n",
                "SELECT DISTINCT *\n",
                "FROM stats_filterd\n",
                "WHERE win = 'false';"
            ],
            "metadata": {
                "azdata_cell_guid": "8fb4397c-bb8f-4ad4-9dff-b9b728324749"
            },
            "outputs": [
                {
                    "output_type": "display_data",
                    "data": {
                        "text/html": "Commands completed successfully"
                    },
                    "metadata": {}
                },
                {
                    "output_type": "display_data",
                    "data": {
                        "text/html": "Total execution time: 00:00:00.008"
                    },
                    "metadata": {}
                }
            ],
            "execution_count": 272
        },
        {
            "cell_type": "code",
            "source": [
                "\n",
                "CREATE OR REPLACE VIEW something_about_CC AS\n",
                "SELECT winning_team.gameId, SUM(winning_team.timeCCingOthers) AS \"CC_Winning_Team\", SUM(losing_team.timeCCingOthers) AS \"CC_Losing_Team\"\n",
                "FROM winning_team JOIN losing_team ON winning_team.gameId = losing_team.gameId\n",
                "GROUP BY winning_team.gameId;"
            ],
            "metadata": {
                "azdata_cell_guid": "9885a673-b425-4c00-b02b-1a8a75c271ac",
                "tags": []
            },
            "outputs": [
                {
                    "output_type": "display_data",
                    "data": {
                        "text/html": "Commands completed successfully"
                    },
                    "metadata": {}
                },
                {
                    "output_type": "display_data",
                    "data": {
                        "text/html": "Total execution time: 00:00:00.012"
                    },
                    "metadata": {}
                }
            ],
            "execution_count": 273
        },
        {
            "cell_type": "code",
            "source": [
                "SELECT AVG(\"CC_Winning_Team\") AS Winning_Team_Average, AVG(\"CC_Losing_Team\") AS Losing_Team_Average\n",
                "FROM something_about_CC"
            ],
            "metadata": {
                "azdata_cell_guid": "57b0c70a-2cea-46da-8ce1-1eb0f092a628",
                "tags": []
            },
            "outputs": [
                {
                    "output_type": "display_data",
                    "data": {
                        "text/html": "(1 row(s) affected)"
                    },
                    "metadata": {}
                },
                {
                    "output_type": "display_data",
                    "data": {
                        "text/html": "Total execution time: 00:00:00.085"
                    },
                    "metadata": {}
                },
                {
                    "output_type": "execute_result",
                    "metadata": {},
                    "execution_count": 274,
                    "data": {
                        "application/vnd.dataresource+json": {
                            "schema": {
                                "fields": [
                                    {
                                        "name": "winning_team_average"
                                    },
                                    {
                                        "name": "losing_team_average"
                                    }
                                ]
                            },
                            "data": [
                                {
                                    "0": "468.1382385730211817",
                                    "1": "441.2931995540691193"
                                }
                            ]
                        },
                        "text/html": [
                            "<table>",
                            "<tr><th>winning_team_average</th><th>losing_team_average</th></tr>",
                            "<tr><td>468.1382385730211817</td><td>441.2931995540691193</td></tr>",
                            "</table>"
                        ]
                    }
                }
            ],
            "execution_count": 274
        },
        {
            "cell_type": "markdown",
            "source": [
                "## <span style=\"font-size: 13pt; font-family: Lato, sans-serif; color: rgb(255, 255, 255); background-color: transparent; font-variant-numeric: normal; font-variant-east-asian: normal; vertical-align: baseline; white-space: pre-wrap;\">3 - </span> Does the team with the highest total vision score win more often?"
            ],
            "metadata": {
                "azdata_cell_guid": "33906b70-1e6a-45ce-8aaf-6ccee478957d"
            }
        },
        {
            "cell_type": "code",
            "source": [
                "CREATE OR REPLACE VIEW something_about_vision AS\n",
                "SELECT winning_team.gameId, SUM(winning_team.visionScore) AS \"Vision_Winning_Team\", SUM(losing_team.visionScore) AS \"Vision_Losing_Team\"\n",
                "FROM winning_team JOIN losing_team ON winning_team.gameId = losing_team.gameId\n",
                "GROUP BY winning_team.gameId;"
            ],
            "metadata": {
                "azdata_cell_guid": "62fdf41f-60cf-4c75-929d-4578780ca0ed",
                "tags": []
            },
            "outputs": [
                {
                    "output_type": "display_data",
                    "data": {
                        "text/html": "Commands completed successfully"
                    },
                    "metadata": {}
                },
                {
                    "output_type": "display_data",
                    "data": {
                        "text/html": "Total execution time: 00:00:00.006"
                    },
                    "metadata": {}
                }
            ],
            "execution_count": 275
        },
        {
            "cell_type": "code",
            "source": [
                "SELECT AVG(\"Vision_Winning_Team\") AS Winning_Team_Average, AVG(\"Vision_Losing_Team\") AS Losing_Team_Average\n",
                "FROM something_about_vision\n",
                ""
            ],
            "metadata": {
                "azdata_cell_guid": "78591aab-d9b4-49ee-ba79-331443155765"
            },
            "outputs": [
                {
                    "output_type": "display_data",
                    "data": {
                        "text/html": "(1 row(s) affected)"
                    },
                    "metadata": {}
                },
                {
                    "output_type": "display_data",
                    "data": {
                        "text/html": "Total execution time: 00:00:00.083"
                    },
                    "metadata": {}
                },
                {
                    "output_type": "execute_result",
                    "metadata": {},
                    "execution_count": 276,
                    "data": {
                        "application/vnd.dataresource+json": {
                            "schema": {
                                "fields": [
                                    {
                                        "name": "winning_team_average"
                                    },
                                    {
                                        "name": "losing_team_average"
                                    }
                                ]
                            },
                            "data": [
                                {
                                    "0": "822.5696767001114827",
                                    "1": "726.9453734671125975"
                                }
                            ]
                        },
                        "text/html": [
                            "<table>",
                            "<tr><th>winning_team_average</th><th>losing_team_average</th></tr>",
                            "<tr><td>822.5696767001114827</td><td>726.9453734671125975</td></tr>",
                            "</table>"
                        ]
                    }
                }
            ],
            "execution_count": 276
        },
        {
            "cell_type": "markdown",
            "source": [
                "## <span style=\"font-size: 13pt; font-family: Lato, sans-serif; color: rgb(255, 255, 255); background-color: transparent; font-variant-numeric: normal; font-variant-east-asian: normal; vertical-align: baseline; white-space: pre-wrap;\">4 - Does the team that kills the first Rift Herald win more often?</span>"
            ],
            "metadata": {
                "azdata_cell_guid": "f619cc85-e1ba-4d6e-9fa8-0c99588d73b4"
            }
        },
        {
            "cell_type": "code",
            "source": [
                "CREATE OR REPLACE VIEW rift_herald_win AS\n",
                "SELECT COUNT(gameId) as rift_winning_team \n",
                "FROM teams_filtered\n",
                "WHERE win = 'Win' AND firstRiftHerald = 'true';"
            ],
            "metadata": {
                "azdata_cell_guid": "0f830272-5c3b-49f0-b702-03872f352cdb",
                "tags": []
            },
            "outputs": [
                {
                    "output_type": "display_data",
                    "data": {
                        "text/html": "Commands completed successfully"
                    },
                    "metadata": {}
                },
                {
                    "output_type": "display_data",
                    "data": {
                        "text/html": "Total execution time: 00:00:00.004"
                    },
                    "metadata": {}
                }
            ],
            "execution_count": 277
        },
        {
            "cell_type": "code",
            "source": [
                "CREATE OR REPLACE VIEW rift_herald_loss AS \n",
                "SELECT COUNT(gameId) as rift_losing_team\n",
                "FROM teams_filtered\n",
                "WHERE win = 'Fail' AND firstRiftHerald = 'true';"
            ],
            "metadata": {
                "azdata_cell_guid": "089d6d8c-5d30-4aec-ab8e-3c9c4a75b7e1"
            },
            "outputs": [
                {
                    "output_type": "display_data",
                    "data": {
                        "text/html": "Commands completed successfully"
                    },
                    "metadata": {}
                },
                {
                    "output_type": "display_data",
                    "data": {
                        "text/html": "Total execution time: 00:00:00.005"
                    },
                    "metadata": {}
                }
            ],
            "execution_count": 278
        },
        {
            "cell_type": "code",
            "source": [
                "SELECT rift_winning_team, rift_losing_team\n",
                "FROM rift_herald_win, rift_herald_loss;"
            ],
            "metadata": {
                "azdata_cell_guid": "bdb87fd4-e8ca-416d-a450-1d9f3456025f"
            },
            "outputs": [
                {
                    "output_type": "display_data",
                    "data": {
                        "text/html": "(1 row(s) affected)"
                    },
                    "metadata": {}
                },
                {
                    "output_type": "display_data",
                    "data": {
                        "text/html": "Total execution time: 00:00:00.015"
                    },
                    "metadata": {}
                },
                {
                    "output_type": "execute_result",
                    "metadata": {},
                    "execution_count": 279,
                    "data": {
                        "application/vnd.dataresource+json": {
                            "schema": {
                                "fields": [
                                    {
                                        "name": "rift_winning_team"
                                    },
                                    {
                                        "name": "rift_losing_team"
                                    }
                                ]
                            },
                            "data": [
                                {
                                    "0": "550",
                                    "1": "320"
                                }
                            ]
                        },
                        "text/html": [
                            "<table>",
                            "<tr><th>rift_winning_team</th><th>rift_losing_team</th></tr>",
                            "<tr><td>550</td><td>320</td></tr>",
                            "</table>"
                        ]
                    }
                }
            ],
            "execution_count": 279
        },
        {
            "cell_type": "markdown",
            "source": [
                "## <span style=\"font-size: 13pt; font-family: Lato, sans-serif; color: rgb(255, 255, 255); background-color: transparent; font-variant-numeric: normal; font-variant-east-asian: normal; vertical-align: baseline; white-space: pre-wrap;\">5 - Which are the top 10 champions with the most multikills?</span>"
            ],
            "metadata": {
                "azdata_cell_guid": "9f152d6f-774b-4494-9e1e-a1db4d8dcf3b"
            }
        },
        {
            "cell_type": "code",
            "source": [
                "CREATE OR REPLACE VIEW multikill_champion AS\n",
                "SELECT championId, doubleKills, tripleKills, quadraKills, pentaKills, doubleKills+tripleKills+quadraKills+pentaKills as totalMultiKill\n",
                "FROM participants_filtered JOIN stats_filtered ON participants_filtered.gameId = stats_filtered.gameId;"
            ],
            "metadata": {
                "azdata_cell_guid": "823207a4-74a3-4533-80ea-8613897ba60e"
            },
            "outputs": [
                {
                    "output_type": "display_data",
                    "data": {
                        "text/html": "Commands completed successfully"
                    },
                    "metadata": {}
                },
                {
                    "output_type": "display_data",
                    "data": {
                        "text/html": "Total execution time: 00:00:00.004"
                    },
                    "metadata": {}
                }
            ],
            "execution_count": 285
        },
        {
            "cell_type": "code",
            "source": [
                "SELECT championId, MAX(totalMultiKill) AS multi_killz\n",
                "FROM multikill_champion\n",
                "GROUP BY championId \n",
                "ORDER BY multi_killz DESC\n",
                "LIMIT 10; "
            ],
            "metadata": {
                "azdata_cell_guid": "ba7c0526-8368-4674-b029-e932a0853843",
                "tags": []
            },
            "outputs": [
                {
                    "output_type": "display_data",
                    "data": {
                        "text/html": "(10 row(s) affected)"
                    },
                    "metadata": {}
                },
                {
                    "output_type": "display_data",
                    "data": {
                        "text/html": "Total execution time: 00:00:00.076"
                    },
                    "metadata": {}
                },
                {
                    "output_type": "execute_result",
                    "metadata": {},
                    "execution_count": 286,
                    "data": {
                        "application/vnd.dataresource+json": {
                            "schema": {
                                "fields": [
                                    {
                                        "name": "championid"
                                    },
                                    {
                                        "name": "multi_killz"
                                    }
                                ]
                            },
                            "data": [
                                {
                                    "0": "119",
                                    "1": "10"
                                },
                                {
                                    "0": "61",
                                    "1": "10"
                                },
                                {
                                    "0": "875",
                                    "1": "10"
                                },
                                {
                                    "0": "236",
                                    "1": "10"
                                },
                                {
                                    "0": "114",
                                    "1": "10"
                                },
                                {
                                    "0": "518",
                                    "1": "10"
                                },
                                {
                                    "0": "101",
                                    "1": "10"
                                },
                                {
                                    "0": "59",
                                    "1": "10"
                                },
                                {
                                    "0": "350",
                                    "1": "10"
                                },
                                {
                                    "0": "81",
                                    "1": "10"
                                }
                            ]
                        },
                        "text/html": [
                            "<table>",
                            "<tr><th>championid</th><th>multi_killz</th></tr>",
                            "<tr><td>119</td><td>10</td></tr>",
                            "<tr><td>61</td><td>10</td></tr>",
                            "<tr><td>875</td><td>10</td></tr>",
                            "<tr><td>236</td><td>10</td></tr>",
                            "<tr><td>114</td><td>10</td></tr>",
                            "<tr><td>518</td><td>10</td></tr>",
                            "<tr><td>101</td><td>10</td></tr>",
                            "<tr><td>59</td><td>10</td></tr>",
                            "<tr><td>350</td><td>10</td></tr>",
                            "<tr><td>81</td><td>10</td></tr>",
                            "</table>"
                        ]
                    }
                }
            ],
            "execution_count": 286
        },
        {
            "cell_type": "markdown",
            "source": [
                "## 6 - Which champion (championId) gets the most kills in a game on average?"
            ],
            "metadata": {
                "azdata_cell_guid": "b700cd4b-0230-4980-918b-22158565ccc3"
            }
        },
        {
            "cell_type": "code",
            "source": [
                "CREATE OR REPLACE VIEW killz AS\n",
                "SELECT championId, AVG(kills) AS kill_average\n",
                "FROM participants_filtered JOIN stats_filtered ON participants_filtered.gameId = stats_filtered.gameId AND participants_filtered.participantId = stats_filtered.participantId\n",
                "GROUP BY championId;"
            ],
            "metadata": {
                "azdata_cell_guid": "131871e9-0459-4f3f-ae44-435859599b21",
                "tags": []
            },
            "outputs": [
                {
                    "output_type": "display_data",
                    "data": {
                        "text/html": "Commands completed successfully"
                    },
                    "metadata": {}
                },
                {
                    "output_type": "display_data",
                    "data": {
                        "text/html": "Total execution time: 00:00:00.005"
                    },
                    "metadata": {}
                }
            ],
            "execution_count": 287
        },
        {
            "cell_type": "code",
            "source": [
                "SELECT * FROM killz\n",
                "ORDER BY kill_average DESC\n",
                "LIMIT 1;"
            ],
            "metadata": {
                "azdata_cell_guid": "7118466d-d6e8-4a17-a4cb-93c5a09a6ece"
            },
            "outputs": [
                {
                    "output_type": "display_data",
                    "data": {
                        "text/html": "(1 row(s) affected)"
                    },
                    "metadata": {}
                },
                {
                    "output_type": "display_data",
                    "data": {
                        "text/html": "Total execution time: 00:00:00.040"
                    },
                    "metadata": {}
                },
                {
                    "output_type": "execute_result",
                    "metadata": {},
                    "execution_count": 288,
                    "data": {
                        "application/vnd.dataresource+json": {
                            "schema": {
                                "fields": [
                                    {
                                        "name": "championid"
                                    },
                                    {
                                        "name": "kill_average"
                                    }
                                ]
                            },
                            "data": [
                                {
                                    "0": "254",
                                    "1": "8.5000000000000000"
                                }
                            ]
                        },
                        "text/html": [
                            "<table>",
                            "<tr><th>championid</th><th>kill_average</th></tr>",
                            "<tr><td>254</td><td>8.5000000000000000</td></tr>",
                            "</table>"
                        ]
                    }
                }
            ],
            "execution_count": 288
        },
        {
            "cell_type": "markdown",
            "source": [
                "## 7 - Which champion (championId) dies the most in a game on average?"
            ],
            "metadata": {
                "azdata_cell_guid": "acf26a62-48fb-4375-b4ac-e0884ca309a7"
            }
        },
        {
            "cell_type": "code",
            "source": [
                "CREATE OR REPLACE VIEW deathz AS\n",
                "SELECT championId, AVG(deaths) AS death_average\n",
                "FROM participants_filtered JOIN stats_filtered ON participants_filtered.gameId = stats_filtered.gameId AND participants_filtered.participantId = stats_filtered.participantId\n",
                "GROUP BY championId;"
            ],
            "metadata": {
                "azdata_cell_guid": "4b5a7b29-73a7-441c-9073-831db811b9db",
                "tags": []
            },
            "outputs": [
                {
                    "output_type": "display_data",
                    "data": {
                        "text/html": "Commands completed successfully"
                    },
                    "metadata": {}
                },
                {
                    "output_type": "display_data",
                    "data": {
                        "text/html": "Total execution time: 00:00:00.005"
                    },
                    "metadata": {}
                }
            ],
            "execution_count": 289
        },
        {
            "cell_type": "code",
            "source": [
                "SELECT * FROM deathz\n",
                "ORDER BY death_average DESC\n",
                "LIMIT 1;"
            ],
            "metadata": {
                "azdata_cell_guid": "a7daaaff-3f30-4139-9edc-109e9b7aec53"
            },
            "outputs": [
                {
                    "output_type": "display_data",
                    "data": {
                        "text/html": "(1 row(s) affected)"
                    },
                    "metadata": {}
                },
                {
                    "output_type": "display_data",
                    "data": {
                        "text/html": "Total execution time: 00:00:00.037"
                    },
                    "metadata": {}
                },
                {
                    "output_type": "execute_result",
                    "metadata": {},
                    "execution_count": 290,
                    "data": {
                        "application/vnd.dataresource+json": {
                            "schema": {
                                "fields": [
                                    {
                                        "name": "championid"
                                    },
                                    {
                                        "name": "death_average"
                                    }
                                ]
                            },
                            "data": [
                                {
                                    "0": "92",
                                    "1": "7.0000000000000000"
                                }
                            ]
                        },
                        "text/html": [
                            "<table>",
                            "<tr><th>championid</th><th>death_average</th></tr>",
                            "<tr><td>92</td><td>7.0000000000000000</td></tr>",
                            "</table>"
                        ]
                    }
                }
            ],
            "execution_count": 290
        },
        {
            "cell_type": "markdown",
            "source": [
                "## 8 - Which champion (championId) gets the most assists in a game on average?"
            ],
            "metadata": {
                "azdata_cell_guid": "0f265d2d-ad2c-4c2d-bf05-ffc0375d929f"
            }
        },
        {
            "cell_type": "code",
            "source": [
                "CREATE OR REPLACE VIEW assistz AS\n",
                "SELECT championId, AVG(assists) AS assist_average\n",
                "FROM participants_filtered JOIN stats_filtered ON participants_filtered.gameId = stats_filtered.gameId AND participants_filtered.participantId = stats_filtered.participantId\n",
                "GROUP BY championId;"
            ],
            "metadata": {
                "azdata_cell_guid": "4f57a769-48f6-4589-9afa-e2ce2f7c85a3"
            },
            "outputs": [
                {
                    "output_type": "display_data",
                    "data": {
                        "text/html": "Commands completed successfully"
                    },
                    "metadata": {}
                },
                {
                    "output_type": "display_data",
                    "data": {
                        "text/html": "Total execution time: 00:00:00.004"
                    },
                    "metadata": {}
                }
            ],
            "execution_count": 291
        },
        {
            "cell_type": "code",
            "source": [
                "SELECT * FROM assistz\n",
                "ORDER BY assist_average DESC\n",
                "LIMIT 1;"
            ],
            "metadata": {
                "azdata_cell_guid": "74138427-3a16-4839-acdd-71838bf6658f"
            },
            "outputs": [
                {
                    "output_type": "display_data",
                    "data": {
                        "text/html": "(1 row(s) affected)"
                    },
                    "metadata": {}
                },
                {
                    "output_type": "display_data",
                    "data": {
                        "text/html": "Total execution time: 00:00:00.040"
                    },
                    "metadata": {}
                },
                {
                    "output_type": "execute_result",
                    "metadata": {},
                    "execution_count": 292,
                    "data": {
                        "application/vnd.dataresource+json": {
                            "schema": {
                                "fields": [
                                    {
                                        "name": "championid"
                                    },
                                    {
                                        "name": "assist_average"
                                    }
                                ]
                            },
                            "data": [
                                {
                                    "0": "427",
                                    "1": "15.0000000000000000"
                                }
                            ]
                        },
                        "text/html": [
                            "<table>",
                            "<tr><th>championid</th><th>assist_average</th></tr>",
                            "<tr><td>427</td><td>15.0000000000000000</td></tr>",
                            "</table>"
                        ]
                    }
                }
            ],
            "execution_count": 292
        },
        {
            "cell_type": "markdown",
            "source": [
                "## 9 - Does the team that gets the Dragon Soul (4 dragon kills in a game) win considerably more often?"
            ],
            "metadata": {
                "azdata_cell_guid": "63c8653e-1f3f-4fd8-a8f8-3192809cf3e6"
            }
        },
        {
            "cell_type": "code",
            "source": [
                "CREATE OR REPLACE VIEW dragon_soul_win AS\n",
                "SELECT COUNT(gameId) as dragon_winning_team \n",
                "FROM teams_filtered\n",
                "WHERE win = 'Win'  AND dragonKills >= 4;"
            ],
            "metadata": {
                "azdata_cell_guid": "57ec8168-8e77-487d-b90b-4e99e7e03d26"
            },
            "outputs": [
                {
                    "output_type": "display_data",
                    "data": {
                        "text/html": "Commands completed successfully"
                    },
                    "metadata": {}
                },
                {
                    "output_type": "display_data",
                    "data": {
                        "text/html": "Total execution time: 00:00:00.005"
                    },
                    "metadata": {}
                }
            ],
            "execution_count": 293
        },
        {
            "cell_type": "code",
            "source": [
                "CREATE OR REPLACE VIEW dragon_soul_lose AS\n",
                "SELECT COUNT(gameId) as dragon_losing_team \n",
                "FROM teams_filtered\n",
                "WHERE win = 'Fail' AND dragonKills >= 4;   "
            ],
            "metadata": {
                "azdata_cell_guid": "352eabb7-8485-499a-a725-51160c1be8b3"
            },
            "outputs": [
                {
                    "output_type": "display_data",
                    "data": {
                        "text/html": "Commands completed successfully"
                    },
                    "metadata": {}
                },
                {
                    "output_type": "display_data",
                    "data": {
                        "text/html": "Total execution time: 00:00:00.004"
                    },
                    "metadata": {}
                }
            ],
            "execution_count": 294
        },
        {
            "cell_type": "code",
            "source": [
                "SELECT dragon_winning_team AS dragon_soul_winning_teams, dragon_losing_team AS dragon_soul_losing_teams\n",
                "FROM dragon_soul_lose, dragon_soul_win;"
            ],
            "metadata": {
                "azdata_cell_guid": "d003be4e-224b-49e1-984c-eae507a8fc78"
            },
            "outputs": [
                {
                    "output_type": "display_data",
                    "data": {
                        "text/html": "(1 row(s) affected)"
                    },
                    "metadata": {}
                },
                {
                    "output_type": "display_data",
                    "data": {
                        "text/html": "Total execution time: 00:00:00.013"
                    },
                    "metadata": {}
                },
                {
                    "output_type": "execute_result",
                    "metadata": {},
                    "execution_count": 296,
                    "data": {
                        "application/vnd.dataresource+json": {
                            "schema": {
                                "fields": [
                                    {
                                        "name": "dragon_soul_winning_teams"
                                    },
                                    {
                                        "name": "dragon_soul_losing_teams"
                                    }
                                ]
                            },
                            "data": [
                                {
                                    "0": "141",
                                    "1": "16"
                                }
                            ]
                        },
                        "text/html": [
                            "<table>",
                            "<tr><th>dragon_soul_winning_teams</th><th>dragon_soul_losing_teams</th></tr>",
                            "<tr><td>141</td><td>16</td></tr>",
                            "</table>"
                        ]
                    }
                }
            ],
            "execution_count": 296
        },
        {
            "cell_type": "markdown",
            "source": [
                "## 10 - Which champion (championId) gains the most gold per minute in a game on average?"
            ],
            "metadata": {
                "azdata_cell_guid": "3ef9990a-ab98-4979-b69f-1ed314863e07"
            }
        },
        {
            "cell_type": "code",
            "source": [
                "CREATE OR REPLACE VIEW gold_table AS\n",
                "SELECT DISTINCT p.gameId, p.participantId, championId, gameDuration / 60 AS game_duration_minutes, goldEarned\n",
                "FROM participants_filtered AS p \n",
                "INNER JOIN games AS g ON p.gameId = g.gameId\n",
                "INNER JOIN stats AS s ON p.gameId = s.gameId AND p.participantId = s.participantId;"
            ],
            "metadata": {
                "azdata_cell_guid": "e39f21a5-d237-4053-a18c-b88ee8cc1aa0"
            },
            "outputs": [
                {
                    "output_type": "display_data",
                    "data": {
                        "text/html": "Commands completed successfully"
                    },
                    "metadata": {}
                },
                {
                    "output_type": "display_data",
                    "data": {
                        "text/html": "Total execution time: 00:00:00.005"
                    },
                    "metadata": {}
                }
            ],
            "execution_count": 297
        },
        {
            "cell_type": "code",
            "source": [
                "SELECT championId, AVG(goldEarned / game_duration_minutes) AS gold_ratio\n",
                "FROM gold_table\n",
                "GROUP BY championId \n",
                "ORDER BY gold_ratio DESC \n",
                "LIMIT 1;"
            ],
            "metadata": {
                "azdata_cell_guid": "583fccc9-a683-41f9-9f9d-262b5abe55e0",
                "tags": []
            },
            "outputs": [
                {
                    "output_type": "display_data",
                    "data": {
                        "text/html": "(1 row(s) affected)"
                    },
                    "metadata": {}
                },
                {
                    "output_type": "display_data",
                    "data": {
                        "text/html": "Total execution time: 00:00:00.045"
                    },
                    "metadata": {}
                },
                {
                    "output_type": "execute_result",
                    "metadata": {},
                    "execution_count": 308,
                    "data": {
                        "application/vnd.dataresource+json": {
                            "schema": {
                                "fields": [
                                    {
                                        "name": "championid"
                                    },
                                    {
                                        "name": "gold_ratio"
                                    }
                                ]
                            },
                            "data": [
                                {
                                    "0": "6",
                                    "1": "477.7674418604651"
                                }
                            ]
                        },
                        "text/html": [
                            "<table>",
                            "<tr><th>championid</th><th>gold_ratio</th></tr>",
                            "<tr><td>6</td><td>477.7674418604651</td></tr>",
                            "</table>"
                        ]
                    }
                }
            ],
            "execution_count": 308
        },
        {
            "cell_type": "markdown",
            "source": [
                "# Indices"
            ],
            "metadata": {
                "azdata_cell_guid": "73c1a6a9-e5fd-4c33-a5be-bd452826e303"
            }
        }
    ]
}