{
    "metadata": {
        "kernelspec": {
            "name": "SQL",
            "display_name": "SQL",
            "language": "sql"
        },
        "language_info": {
            "name": "sql",
            "version": ""
        }
    },
    "nbformat_minor": 2,
    "nbformat": 4,
    "cells": [
        {
            "cell_type": "markdown",
            "source": [
                "# SOEN363 Project"
            ],
            "metadata": {
                "azdata_cell_guid": "7ab61aee-16ab-45d8-8e39-d3c92c0c30fe"
            }
        },
        {
            "cell_type": "markdown",
            "source": [
                "## Drop the DB Indecies **(Only for Debugging Purposes)**"
            ],
            "metadata": {
                "azdata_cell_guid": "0c56553e-1854-479d-ad1c-38111412cee0"
            }
        },
        {
            "cell_type": "code",
            "source": [
                "-- DROP INDEX actors_index;"
            ],
            "metadata": {
                "azdata_cell_guid": "f9d10561-a849-4b20-9781-1cf61bd7df2d"
            },
            "outputs": [],
            "execution_count": null
        },
        {
            "cell_type": "markdown",
            "source": [
                "## Drop the DB Views **(Only for Debugging Purposes)**"
            ],
            "metadata": {
                "azdata_cell_guid": "4e3e0fb2-9340-4e31-8c04-fea08f2ba4af"
            }
        },
        {
            "cell_type": "code",
            "source": [
                "-- DROP VIEW high_ratings;\r\n",
                "-- DROP MATERIALIZED VIEW maximum_co_actors;"
            ],
            "metadata": {
                "azdata_cell_guid": "b76174de-3581-4b3d-ae01-217b06409440"
            },
            "outputs": [],
            "execution_count": null
        },
        {
            "cell_type": "markdown",
            "source": [
                "## Drop the DB tables **(Only for Debugging Purposes)**"
            ],
            "metadata": {
                "azdata_cell_guid": "c8445578-4997-4cd0-a0fc-771a4b723ab1"
            }
        },
        {
            "cell_type": "code",
            "source": [
                "DROP TABLE bans;\n",
                "DROP TABLE teams;\r\n",
                "DROP TABLE games;"
            ],
            "metadata": {
                "azdata_cell_guid": "39caf518-f5f8-46d3-8fdb-222357281cca"
            },
            "outputs": [
{
    "output_type": "display_data",
    "data": {
        "text/html": "Commands completed successfully"
    },
    "metadata": {}
}, {
    "output_type": "display_data",
    "data": {
        "text/html": "Commands completed successfully"
    },
    "metadata": {}
}, {
    "output_type": "display_data",
    "data": {
        "text/html": "Commands completed successfully"
    },
    "metadata": {}
}, {
    "output_type": "display_data",
    "data": {
        "text/html": "Total execution time: 00:00:00.008"
    },
    "metadata": {}
}
],
            "execution_count": 61
        },
        {
            "cell_type": "markdown",
            "source": [
                "# Assignment Questions\n",
                "## 2a"
            ],
            "metadata": {
                "azdata_cell_guid": "1d9b61ee-dff7-49c5-8307-b5eba63d7fef"
            }
        },
        {
            "cell_type": "code",
            "source": [
                "CREATE TABLE games (\r\n",
                "    gameCreation    REAL,\r\n",
                "    gameDuration    REAL,\r\n",
                "    gameId          BIGINT NOT NULL,\r\n",
                "    gameMode        TEXT,\r\n",
                "    gameType        TEXT,\r\n",
                "    gameVersion     TEXT,\r\n",
                "    mapId           REAL,\r\n",
                "    platformId      CHAR(8),\r\n",
                "    queueId         REAL,\r\n",
                "    seasonId        REAL,\r\n",
                "    statusCode      REAL,\r\n",
                "    statusMessage   REAL,\r\n",
                "    PRIMARY KEY     (gameId)\r\n",
                ");\r\n",
                "\r\n",
                "CREATE TABLE teams (\r\n",
                "    teamId          INTEGER NOT NULL,\r\n",
                "    win             TEXT,\r\n",
                "    firstBlood      BOOLEAN,\r\n",
                "    firstTower      BOOLEAN,\r\n",
                "    firstInhibitor  BOOLEAN,\r\n",
                "    firstBaron      BOOLEAN,\r\n",
                "    firstDragon     BOOLEAN,\r\n",
                "    firstRiftHerald BOOLEAN,\r\n",
                "    towerKills      INTEGER,\r\n",
                "    inhibitorKills  INTEGER,\r\n",
                "    baronKills      INTEGER,\r\n",
                "    dragonKills     INTEGER,\r\n",
                "    vilemawKills    INTEGER,\r\n",
                "    riftHeraldKills INTEGER,\r\n",
                "    dominionVictoryScore INTEGER,\r\n",
                "    gameId          BIGINT,\n",
                "    PRIMARY KEY     (teamId, gameId),\r\n",
                "    FOREIGN KEY     (gameId) REFERENCES games(gameId)\r\n",
                ");\r\n",
                "\n",
                "CREATE TABLE bans (\n",
                "    championId      INTEGER,\n",
                "    pickTurn        INTEGER,\n",
                "    gameId          BIGINT,\n",
                "    teamId          INTEGER,\n",
                "    banId           INTEGER NOT NULL,\n",
                "    PRIMARY KEY     (banId, teamId, gameId),\n",
                "    FOREIGN KEY     (teamId, gameId) REFERENCES teams(teamId, gameId)\n",
                ");\n",
                "\n",
                "CREATE TABLE participants (\n",
                "    participantId   INTEGER NOT NULL,\n",
                "    teamId          INTEGER,\n",
                "    championId      INTEGER,\n",
                "    spell1Id        INTEGER,\n",
                "    spell2Id        INTEGER,\n",
                "    gameId          BIGINT,\n",
                "    PRIMARY KEY     (participantId, gameId),\n",
                "    FOREIGN KEY     (gameId) REFERENCES games(gameId)\n",
                ");\n",
                "\r\n",
                "COPY games FROM '/srv/soen363/phase2/games.csv' DELIMITER ',' CSV HEADER;\r\n",
                "COPY teams FROM '/srv/soen363/phase2/teams.csv' DELIMITER ',' CSV HEADER;\r\n",
                "COPY bans FROM '/srv/soen363/phase2/bans.csv' DELIMITER ',' CSV HEADER;\r\n",
                "COPY participants FROM '/srv/soen363/phase2/participants.csv' DELIMITER ',' CSV HEADER;\r\n",
                "-- COPY stats FROM '/srv/soen363/phase2/stats.csv' DELIMITER ',' CSV HEADER;\r\n",
                "-- COPY timelines FROM '/srv/soen363/phase2/timelines.csv' DELIMITER ',' CSV HEADER;"
            ],
            "metadata": {
                "azdata_cell_guid": "dbf4f54e-041e-4a34-99f9-5eca1dc15d8f",
                "tags": []
            },
            "outputs": [
{
    "output_type": "display_data",
    "data": {
        "text/html": "Commands completed successfully"
    },
    "metadata": {}
}, {
    "output_type": "display_data",
    "data": {
        "text/html": "Commands completed successfully"
    },
    "metadata": {}
}, {
    "output_type": "display_data",
    "data": {
        "text/html": "Commands completed successfully"
    },
    "metadata": {}
}, {
    "output_type": "display_data",
    "data": {
        "text/html": "Commands completed successfully"
    },
    "metadata": {}
}, {
    "output_type": "display_data",
    "data": {
        "text/html": "Commands completed successfully"
    },
    "metadata": {}
}, {
    "output_type": "display_data",
    "data": {
        "text/html": "Commands completed successfully"
    },
    "metadata": {}
}, {
    "output_type": "display_data",
    "data": {
        "text/html": "Commands completed successfully"
    },
    "metadata": {}
}, {
    "output_type": "display_data",
    "data": {
        "text/html": "Commands completed successfully"
    },
    "metadata": {}
}, {
    "output_type": "display_data",
    "data": {
        "text/html": "Total execution time: 00:00:00.070"
    },
    "metadata": {}
}
],
            "execution_count": 62
        }
    ]
}